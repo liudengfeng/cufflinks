{
 "cells": [
  {
   "cell_type": "markdown",
   "metadata": {},
   "source": [
    "## Cufflinks\n",
    "\n",
    "This library binds the power of [plotly](http://www.plot.ly) with the flexibility of [pandas](http://pandas.pydata.org/) for easy plotting.\n",
    "\n",
    "This library is available on https://github.com/santosjorge/cufflinks\n",
    "\n",
    "This tutorial assumes that the plotly user credentials have already been configured as stated on the [getting started](https://plot.ly/python/getting-started/) guide."
   ]
  },
  {
   "cell_type": "code",
   "execution_count": 1,
   "metadata": {},
   "outputs": [
    {
     "output_type": "display_data",
     "data": {
      "text/html": "        <script type=\"text/javascript\">\n        window.PlotlyConfig = {MathJaxConfig: 'local'};\n        if (window.MathJax) {MathJax.Hub.Config({SVG: {font: \"STIX-Web\"}});}\n        if (typeof require !== 'undefined') {\n        require.undef(\"plotly\");\n        requirejs.config({\n            paths: {\n                'plotly': ['https://cdn.plot.ly/plotly-latest.min']\n            }\n        });\n        require(['plotly'], function(Plotly) {\n            window._Plotly = Plotly;\n        });\n        }\n        </script>\n        "
     },
     "metadata": {}
    }
   ],
   "source": [
    "import pandas as pd\n",
    "import cufflinks as cf\n",
    "import numpy as np"
   ]
  },
  {
   "cell_type": "markdown",
   "metadata": {},
   "source": [
    "We make all charts public and set a global theme"
   ]
  },
  {
   "cell_type": "code",
   "execution_count": 2,
   "metadata": {},
   "outputs": [
    {
     "output_type": "display_data",
     "data": {
      "text/html": "        <script type=\"text/javascript\">\n        window.PlotlyConfig = {MathJaxConfig: 'local'};\n        if (window.MathJax) {MathJax.Hub.Config({SVG: {font: \"STIX-Web\"}});}\n        if (typeof require !== 'undefined') {\n        require.undef(\"plotly\");\n        requirejs.config({\n            paths: {\n                'plotly': ['https://cdn.plot.ly/plotly-latest.min']\n            }\n        });\n        require(['plotly'], function(Plotly) {\n            window._Plotly = Plotly;\n        });\n        }\n        </script>\n        "
     },
     "metadata": {}
    }
   ],
   "source": [
    "cf.set_config_file(sharing='public',theme='pearl',offline=True)"
   ]
  },
  {
   "cell_type": "markdown",
   "metadata": {},
   "source": [
    "We create a set of timeseries"
   ]
  },
  {
   "cell_type": "code",
   "execution_count": 3,
   "metadata": {
    "collapsed": true
   },
   "outputs": [],
   "source": [
    "df=pd.DataFrame(np.random.randn(100,5),index=pd.date_range('1/1/15',periods=100),\n",
    "                columns=['IBM','MSFT','GOOG','VERZ','APPL'])\n",
    "df=df.cumsum()"
   ]
  },
  {
   "cell_type": "markdown",
   "metadata": {},
   "source": [
    "**iplot** can be used on any DataFrame to plot on a plotly chart. \n",
    "If no filename is specified then a generic *Plotly Playground* file is created.\n",
    "\n",
    "All the charts are created as private by default. To make them public you can use **world_readable=True**\n",
    "\n",
    "Let's look at the avilable parameters"
   ]
  },
  {
   "cell_type": "code",
   "execution_count": 4,
   "metadata": {
    "tags": [
     "outputPrepend"
    ]
   },
   "outputs": [
    {
     "output_type": "stream",
     "name": "stdout",
     "text": "ata=None, layout=None, filename='', sharing=None, title='', xTitle='', yTitle='', zTitle='', theme=None, colors=None, colorscale=None, fill=False, width=None, dash='solid', mode='', interpolation='linear', symbol='circle', size=12, barmode='', sortbars=False, bargap=None, bargroupgap=None, bins=None, histnorm='', histfunc='count', orientation='v', boxpoints=False, annotations=None, keys=False, bestfit=False, bestfit_colors=None, mean=False, mean_colors=None, categories='', x='', y='', z='', text='', gridcolor=None, zerolinecolor=None, margin=None, labels=None, values=None, secondary_y='', secondary_y_title='', subplots=False, shape=None, error_x=None, error_y=None, error_type='data', locations=None, lon=None, lat=None, asFrame=False, asDates=False, asFigure=False, asImage=False, dimensions=None, asPlot=False, asUrl=False, online=None, **kwargs) method of pandas.core.frame.DataFrame instance\n       Returns a plotly chart either as inline chart, image of Figure object\n    \n       Parameters:\n       -----------\n           kind : string\n               Kind of chart\n                   scatter\n                   bar\n                   box\n                   spread\n                   ratio\n                   heatmap\n                   surface\n                   histogram\n                   bubble\n                   bubble3d\n                   scatter3d       \n                   scattergeo\n                   ohlc\n                   candle\n                   pie\n                   choroplet       \n           data : Data\n               Plotly Data Object.\n               If not entered then the Data object will be automatically\n               generated from the DataFrame.\n           layout : Layout\n               Plotly layout Object\n               If not entered then the Layout objet will be automatically\n               generated from the DataFrame.\n           filename : string\n               Filename to be saved as in plotly account\n           sharing : string\n               Sets the sharing level permission\n                   public - anyone can see this chart\n                   private - only you can see this chart\n                   secret - only people with the link can see the chart\n           title : string\n               Chart Title                         \n           xTitle : string\n               X Axis Title\n           yTitle : string\n               Y Axis Title\n                   zTitle : string\n           zTitle : string\n               Z Axis Title\n               Applicable only for 3d charts\n           theme : string\n               Layout Theme\n                   solar\n                   pearl\n                   white           \n               see cufflinks.getThemes() for all \n               available themes\n           colors : dict, list or string\n               {key:color} to specify the color for each column\n               [colors] to use the colors in the defined order\n           colorscale : string\n               Color scale name\n               If the color name is preceded by a minus (-) \n               then the scale is inversed\n               Only valid if 'colors' is null\n               See cufflinks.colors.scales() for available scales\n           fill : bool\n               Filled Traces               \n           width : dict, list or int\n                   int : applies to all traces\n                   list : applies to each trace in the order \n                           specified\n                   dict: {column:value} for each column in \n                           the dataframe\n               Line width  \n           dash : dict, list or string\n                   string : applies to all traces\n                   list : applies to each trace in the order \n                           specified\n                   dict: {column:value} for each column in \n                           the dataframe\n               Drawing style of lines\n                   solid\n                   dash\n                   dashdot\n                   dot\n           mode : dict, list or string\n                   string : applies to all traces\n                   list : applies to each trace in the order \n                           specified\n                   dict: {column:value} for each column in \n                           the dataframe\n               Plotting mode for scatter trace\n                   lines\n                   markers\n                   lines+markers\n                   lines+text\n                   markers+text\n                   lines+markers+text\n           interpolation : dict, list, or string\n                   string : applies to all traces\n                   list : applies to each trace in the order \n                           specified\n                   dict: {column:value} for each column in \n                           the dataframe\n               Positioning of the connecting lines\n                   linear\n                   spline\n                   vhv\n                   hvh\n                   vh\n                   hv              \n           symbol : dict, list or string\n                   string : applies to all traces\n                   list : applies to each trace in the order \n                           specified\n                   dict: {column:value} for each column in \n                           the dataframe\n               The symbol that is drawn on the plot for each marker\n               Valid only when mode includes markers\n                   circle\n                   circle-dot\n                   diamond\n                   square\n                   and many more...(see plotly.validators.scatter.marker.SymbolValidator.values)\n           size : string or int \n               Size of marker \n               Valid only if marker in mode\n           barmode : string\n               Mode when displaying bars\n                   group\n                   stack\n                   overlay\n               * Only valid when kind='bar'\n           sortbars : bool\n               Sort bars in descending order\n               * Only valid when kind='bar'\n           bargap : float\n               Sets the gap between bars\n                   [0,1)\n               * Only valid when kind is 'histogram' or 'bar'\n           bargroupgap : float\n               Set the gap between groups\n                   [0,1)\n               * Only valid when kind is 'histogram' or 'bar'              \n           bins : int or tuple \n               if int:\n                   Specifies the number of bins \n               if tuple:\n                   (start, end, size)\n                   start : starting value\n                   end: end value\n                   size: bin size\n               * Only valid when kind='histogram'\n    \n           histnorm : string\n                   '' (frequency)\n                   percent\n                   probability\n                   density\n                   probability density\n               Sets the type of normalization for an histogram trace. By default\n               the height of each bar displays the frequency of occurrence, i.e., \n               the number of times this value was found in the\n               corresponding bin. If set to 'percent', the height of each bar\n               displays the percentage of total occurrences found within the\n               corresponding bin. If set to 'probability', the height of each bar\n               displays the probability that an event will fall into the\n               corresponding bin. If set to 'density', the height of each bar is\n               equal to the number of occurrences in a bin divided by the size of\n               the bin interval such that summing the area of all bins will yield\n               the total number of occurrences. If set to 'probability density',\n               the height of each bar is equal to the number of probability that an\n               event will fall into the corresponding bin divided by the size of\n               the bin interval such that summing the area of all bins will yield\n               1.\n               * Only valid when kind='histogram'\n           histfunc : string\n                   count\n                   sum\n                   avg\n                   min\n                   max\n              Sets the binning function used for an histogram trace. \n               * Only valid when kind='histogram'           \n           orientation : string\n                   h \n                   v\n               Sets the orientation of the bars. If set to 'v', the length of each\n    |          bar will run vertically. If set to 'h', the length of each bar will\n    |          run horizontally\n               * Only valid when kind is 'histogram','bar' or 'box'\n           boxpoints : string\n               Displays data points in a box plot\n                   outliers\n                   all\n                   suspectedoutliers\n                   False\n           annotations : dictionary\n               Dictionary of annotations\n               {x_point : text}\n           keys : list of columns\n               List of columns to chart.\n               Also can be used for custom sorting.\n           bestfit : boolean or list\n               If True then a best fit line will be generated for\n               all columns.\n               If list then a best fit line will be generated for\n               each key on the list.\n           bestfit_colors : list or dict\n               {key:color} to specify the color for each column\n               [colors] to use the colors in the defined order     \n           categories : string\n               Name of the column that contains the categories\n           x : string\n               Name of the column that contains the x axis values          \n           y : string\n               Name of the column that contains the y axis values\n           z : string\n               Name of the column that contains the z axis values                                  \n           text : string\n               Name of the column that contains the text values    \n           gridcolor : string\n               Grid color  \n           zerolinecolor : string\n               Zero line color\n           margin : dict or tuple\n               Dictionary (l,r,b,t) or\n               Tuple containing the left,\n               right, bottom and top margins\n           labels : string\n               Name of the column that contains the labels.\n               * Only valid when kind='pie' \n           values : string\n               Name of the column that contains the values.\n               * Only valid when kind='pie'\n           secondary_y : string or list(string)\n               Name(s) of the column to be charted on the \n               right hand side axis\n           secondary_y_title : string\n               Title of the secondary axis\n           subplots : bool\n               If true then each trace is placed in \n               subplot layout\n           shape : (rows,cols)\n               Tuple indicating the size of rows and columns\n               If omitted then the layout is automatically set\n               * Only valid when subplots=True\n           error_x : int or float or [int or float]\n               error values for the x axis\n           error_y : int or float or [int or float]\n               error values for the y axis\n           error_type : string\n               type of error bars\n                   'data' \n                   'constant'\n                   'percent'\n                   'sqrt'\n                   'continuous'\n                   'continuous_percent'\n           asFrame : bool\n               If true then the data component of Figure will\n               be of Pandas form (Series) otherwise they will \n               be index values\n           asDates : bool\n               If true it truncates times from a DatetimeIndex\n           asFigure : bool\n               If True returns plotly Figure\n           asImage : bool\n               If True it returns an Image (png)\n               In ONLINE mode:\n                   Image file is saved in the working directory                            \n                       Accepts:\n                           filename\n                           dimensions\n                           scale\n                           display_image\n               In OFFLINE mode:\n                   Image file is downloaded (downloads folder) and a \n                   regular plotly chart is displayed in Jupyter\n                       Accepts:\n                           filename\n                           dimensions\n           dimensions : tuple(int,int)\n               Dimensions for image / chart\n                   (width,height)          \n           asPlot : bool\n               If True the chart opens in browser\n           asUrl : bool\n               If True the chart url/path is returned. No chart is displayed. \n                   If Online : the URL is returned\n                   If Offline : the local path is returned\n           online : bool\n               If True then the chart/image is rendered on the server \n               even when running in offline mode. \n    \n           Other Kwargs\n           ============\n           Line, Scatter\n               connectgaps : bool\n                   If True, empty values are connected \n           Pie charts\n               sort : bool\n                   If True it sorts the labels by value\n               pull : float [0-1]\n                   Pulls the slices from the centre \n               hole : float [0-1]\n                   Sets the size of the inner hole\n               linecolor : string\n                   Sets the color for the contour line of the slices\n               linewidth : string\n                   Sets the width for the contour line of the slices       \n               textcolor : string\n                   Sets the color for the text in the slices\n               textposition : string \n                   Sets the position of the legends for each slice\n                       outside\n                       inner\n               textinfo : string \n                   Sets the information to be displayed on \n                   the legends \n                       label\n                       percent\n                       value\n                       * or ony combination of the above using \n                         '+' between each item\n                         ie 'label+percent'\n    \n           Histogram\n               linecolor : string\n                   specifies the line color of the histogram\n    \n           Heatmap and Surface\n               center_scale : float\n                   Centers the colorscale at a specific value\n                   Automatically sets the (zmin,zmax) values\n               zmin : float\n                   Defines the minimum range for the z values. \n                   This affects the range for the colorscale\n               zmax : float\n                   Defines the maximum range for the z values. \n                   This affects the range for the colorscale\n    \n           Error Bars\n               error_trace : string\n                   Name of the column for which error should be \n                   plotted. If omitted then errors apply to all \n                   traces.\n               error_values_minus : int or float or [int or float]\n                   Values corresponding to the span of the error bars \n                   below the trace coordinates\n               error_color : string\n                   Color for error bars\n               error_thickness : float \n                   Sets the line thickness of the error bars\n               error_width :  float\n                   Sets the width (in pixels) of the cross-bar at both \n                   ends of the error bars\n               error_opacity : float [0,1]\n                   Opacity for the error bars\n    \n           Subplots\n               horizontal_spacing : float [0,1]\n                   Space between subplot columns.\n               vertical_spacing : float [0,1]\n                   Space between subplot rows.\n               subplot_titles : bool\n                   If True, chart titles are plotted\n                   at the top of each subplot\n               shared_xaxes : bool\n                   Assign shared x axes.\n                   If True, subplots in the same grid column have one common\n                   shared x-axis at the bottom of the grid.\n               shared_yaxes : bool\n                   Assign shared y axes.\n                   If True, subplots in the same grid row have one common\n                   shared y-axis on the left-hand side of the grid.\n    \n           Shapes\n               hline : float, list or dict\n                   Draws a horizontal line at the \n                   indicated y position(s)\n                   Extra parameters can be passed in\n                   the form of a dictionary (see shapes)\n               vline : float, list or dict\n                   Draws a vertical line at the \n                   indicated x position(s)\n                   Extra parameters can be passed in\n                   the form of a dictionary (see shapes)\n               hpsan : (y0,y1)\n                   Draws a horizontal rectangle at the \n                   indicated (y0,y1) positions.\n                   Extra parameters can be passed in\n                   the form of a dictionary (see shapes)\n               vspan : (x0,x1)\n                   Draws a vertical rectangle at the \n                   indicated (x0,x1) positions.\n                   Extra parameters can be passed in\n                   the form of a dictionary (see shapes)\n               shapes : dict or list(dict)\n                   List of dictionaries with the \n                   specifications of a given shape.\n                   See help(cufflinks.tools.get_shape)\n                   for more information\n    \n           Axis Ranges\n               xrange : [lower_bound,upper_bound]\n                   Sets the range for the x axis\n               yrange : [lower_bound,upper_bound]\n                   Sets the range for the y axis\n               zrange : [lower_bound,upper_bound]\n                   Sets the range for the z axis\n    \n           Explicit Layout Updates\n               layout_update : dict\n                   The layout will be modified with all \n                   the explicit values stated in the \n                   dictionary. \n                   It will not apply if layout is passed\n                   as parameter.\n    \n    \n           Range Selector\n               rangeselector : dict\n                   Defines a rangeselector object\n                   see help(cf.tools.get_range_selector) for more information\n                   Example:\n                       {'steps':['1y','2 months','5 weeks','ytd','2mtd'],\n                        'axis':'xaxis', 'bgcolor' : ('blue',.3),\n                        'x': 0.2 , 'y' : 0.9}\n    \n           Range Slider\n               rangeslider : bool or dict\n                   Defines if a rangeslider is displayed\n                   If bool: \n                       True : Makes it visible\n                   if dict:\n                       Rangeslider object\n                   Example:\n                       {'bgcolor':('blue',.3),'autorange':True}\n    \n           Annotations\n               fontcolor : str\n                   Text color for annotations\n               fontsize : int\n                   Text size for annotations\n               textangle : int\n                   Text angle \n               See https://plot.ly/python/reference/#layout-annotations \n               for a complete list of valid parameters.\n    \n           Exports\n               display_image : bool\n                   If True then the image if displayed after being saved\n                   ** only valid if asImage=True\n               scale : integer\n                   Increase the resolution of the image by `scale` amount\n                   Only valid when asImage=True\n\n"
    }
   ],
   "source": [
    "help(df.iplot)"
   ]
  },
  {
   "cell_type": "code",
   "execution_count": 5,
   "metadata": {},
   "outputs": [
    {
     "output_type": "display_data",
     "data": {
      "application/vnd.plotly.v1+json": {
       "config": {
        "linkText": "Export to plot.ly",
        "plotlyServerURL": "https://plot.ly",
        "showLink": true
       },
       "data": [
        {
         "line": {
          "color": "rgba(255, 153, 51, 1.0)",
          "dash": "solid",
          "shape": "linear",
          "width": 1.3
         },
         "mode": "lines",
         "name": "IBM",
         "text": "",
         "type": "scatter",
         "x": [
          "2015-01-01",
          "2015-01-02",
          "2015-01-03",
          "2015-01-04",
          "2015-01-05",
          "2015-01-06",
          "2015-01-07",
          "2015-01-08",
          "2015-01-09",
          "2015-01-10",
          "2015-01-11",
          "2015-01-12",
          "2015-01-13",
          "2015-01-14",
          "2015-01-15",
          "2015-01-16",
          "2015-01-17",
          "2015-01-18",
          "2015-01-19",
          "2015-01-20",
          "2015-01-21",
          "2015-01-22",
          "2015-01-23",
          "2015-01-24",
          "2015-01-25",
          "2015-01-26",
          "2015-01-27",
          "2015-01-28",
          "2015-01-29",
          "2015-01-30",
          "2015-01-31",
          "2015-02-01",
          "2015-02-02",
          "2015-02-03",
          "2015-02-04",
          "2015-02-05",
          "2015-02-06",
          "2015-02-07",
          "2015-02-08",
          "2015-02-09",
          "2015-02-10",
          "2015-02-11",
          "2015-02-12",
          "2015-02-13",
          "2015-02-14",
          "2015-02-15",
          "2015-02-16",
          "2015-02-17",
          "2015-02-18",
          "2015-02-19",
          "2015-02-20",
          "2015-02-21",
          "2015-02-22",
          "2015-02-23",
          "2015-02-24",
          "2015-02-25",
          "2015-02-26",
          "2015-02-27",
          "2015-02-28",
          "2015-03-01",
          "2015-03-02",
          "2015-03-03",
          "2015-03-04",
          "2015-03-05",
          "2015-03-06",
          "2015-03-07",
          "2015-03-08",
          "2015-03-09",
          "2015-03-10",
          "2015-03-11",
          "2015-03-12",
          "2015-03-13",
          "2015-03-14",
          "2015-03-15",
          "2015-03-16",
          "2015-03-17",
          "2015-03-18",
          "2015-03-19",
          "2015-03-20",
          "2015-03-21",
          "2015-03-22",
          "2015-03-23",
          "2015-03-24",
          "2015-03-25",
          "2015-03-26",
          "2015-03-27",
          "2015-03-28",
          "2015-03-29",
          "2015-03-30",
          "2015-03-31",
          "2015-04-01",
          "2015-04-02",
          "2015-04-03",
          "2015-04-04",
          "2015-04-05",
          "2015-04-06",
          "2015-04-07",
          "2015-04-08",
          "2015-04-09",
          "2015-04-10"
         ],
         "y": [
          1.204634807161707,
          0.9145006657511832,
          1.218380555193714,
          1.6040010922114574,
          1.8507033314358179,
          4.066880405623611,
          3.9518239112895603,
          3.343657322630591,
          2.6993826172728155,
          1.7937813998056815,
          3.3904206501079903,
          3.345034922314204,
          2.8517905735877718,
          2.8932554343515426,
          2.6287434615650396,
          3.679479655990322,
          4.944291988023277,
          2.9551589923384833,
          1.970315548397061,
          4.133925997771108,
          3.573572250821949,
          2.2801057441736505,
          2.796887744081139,
          3.932794382724473,
          4.684296090776566,
          2.8116890200753795,
          4.384379914695954,
          4.971081521334814,
          4.186258478209225,
          3.761632047985512,
          2.3170347129796856,
          2.1401733562384115,
          3.196995662718602,
          3.5409634047460994,
          2.821265452008573,
          2.723780481480727,
          4.4033201312379155,
          4.7153130149928,
          4.997103372287718,
          3.9065268548223937,
          3.9687873891992123,
          3.4634482916119396,
          4.375837100021135,
          4.818047771512238,
          4.1993376531312485,
          4.645450687143723,
          3.599444565065083,
          4.643770490966302,
          5.750552089295493,
          7.627080128570817,
          7.862509075905664,
          7.567351742017961,
          6.617686040286462,
          7.0447515896015735,
          5.6656921950987265,
          5.5417453482215295,
          5.300541310566457,
          6.197160360699273,
          6.973910554277696,
          6.614186238837551,
          5.70209439422732,
          5.787684024812829,
          4.967521027775211,
          3.016285683828192,
          2.993551445823966,
          1.458684884800412,
          1.9699409510984167,
          3.9649806008166273,
          2.179191362941848,
          1.2441913085533476,
          -0.12680808196925897,
          -1.2212833718971874,
          -0.012870929969344802,
          -0.8054526521075539,
          0.2854382558167422,
          2.1718688636009036,
          1.619714167525475,
          1.5986208166867795,
          1.043527737653303,
          0.5643284317133457,
          0.7087707869791047,
          -0.32026411470649707,
          -2.423211570673105,
          -3.299175701949043,
          -3.050376069362347,
          -4.116508254409561,
          -4.621563417035203,
          -4.049924836831571,
          -3.4946903347242353,
          -3.077705559917039,
          -3.098470907212177,
          -1.6145923365328922,
          -1.1547366322244565,
          -2.1873182602382837,
          -1.887737928204876,
          -0.6839643367947077,
          -0.31528962727014875,
          -1.0087476245153408,
          -2.5148423931404507,
          -1.5810877447705447
         ]
        },
        {
         "line": {
          "color": "rgba(55, 128, 191, 1.0)",
          "dash": "solid",
          "shape": "linear",
          "width": 1.3
         },
         "mode": "lines",
         "name": "MSFT",
         "text": "",
         "type": "scatter",
         "x": [
          "2015-01-01",
          "2015-01-02",
          "2015-01-03",
          "2015-01-04",
          "2015-01-05",
          "2015-01-06",
          "2015-01-07",
          "2015-01-08",
          "2015-01-09",
          "2015-01-10",
          "2015-01-11",
          "2015-01-12",
          "2015-01-13",
          "2015-01-14",
          "2015-01-15",
          "2015-01-16",
          "2015-01-17",
          "2015-01-18",
          "2015-01-19",
          "2015-01-20",
          "2015-01-21",
          "2015-01-22",
          "2015-01-23",
          "2015-01-24",
          "2015-01-25",
          "2015-01-26",
          "2015-01-27",
          "2015-01-28",
          "2015-01-29",
          "2015-01-30",
          "2015-01-31",
          "2015-02-01",
          "2015-02-02",
          "2015-02-03",
          "2015-02-04",
          "2015-02-05",
          "2015-02-06",
          "2015-02-07",
          "2015-02-08",
          "2015-02-09",
          "2015-02-10",
          "2015-02-11",
          "2015-02-12",
          "2015-02-13",
          "2015-02-14",
          "2015-02-15",
          "2015-02-16",
          "2015-02-17",
          "2015-02-18",
          "2015-02-19",
          "2015-02-20",
          "2015-02-21",
          "2015-02-22",
          "2015-02-23",
          "2015-02-24",
          "2015-02-25",
          "2015-02-26",
          "2015-02-27",
          "2015-02-28",
          "2015-03-01",
          "2015-03-02",
          "2015-03-03",
          "2015-03-04",
          "2015-03-05",
          "2015-03-06",
          "2015-03-07",
          "2015-03-08",
          "2015-03-09",
          "2015-03-10",
          "2015-03-11",
          "2015-03-12",
          "2015-03-13",
          "2015-03-14",
          "2015-03-15",
          "2015-03-16",
          "2015-03-17",
          "2015-03-18",
          "2015-03-19",
          "2015-03-20",
          "2015-03-21",
          "2015-03-22",
          "2015-03-23",
          "2015-03-24",
          "2015-03-25",
          "2015-03-26",
          "2015-03-27",
          "2015-03-28",
          "2015-03-29",
          "2015-03-30",
          "2015-03-31",
          "2015-04-01",
          "2015-04-02",
          "2015-04-03",
          "2015-04-04",
          "2015-04-05",
          "2015-04-06",
          "2015-04-07",
          "2015-04-08",
          "2015-04-09",
          "2015-04-10"
         ],
         "y": [
          -0.13485427742658052,
          2.4533882212029257,
          2.5866188388893145,
          3.6448420212650343,
          4.627951751750441,
          3.886226815958306,
          3.2578693279395723,
          3.4136532056183397,
          1.0562422305686878,
          2.3837720933676367,
          0.9975498226769888,
          1.1304334051861475,
          -1.7946943704416911,
          -1.2374367201402034,
          -0.3154205340345986,
          -0.7401238537592838,
          -0.32525970140343174,
          3.2683659162815424,
          4.378433594261496,
          2.5317792764719944,
          1.1198643928492862,
          0.49061424627823513,
          0.8883341641308649,
          0.832740131979093,
          1.4870797206086905,
          1.8820862527576259,
          2.5640248883437633,
          3.7949419388906485,
          2.704319715120783,
          2.7667954173925478,
          1.9066295026055375,
          1.4256908593620523,
          3.1337859933617045,
          2.1998203599150346,
          1.4259000951636729,
          0.5178973832157078,
          1.9979986575043243,
          2.620234329360236,
          2.3984898889288915,
          2.133075733518558,
          2.9135162466765965,
          2.729349082194042,
          3.950333550757815,
          3.8223457054395262,
          3.010770156987346,
          3.3424672080714526,
          3.908978923042271,
          2.6628767837422007,
          1.9770506749879257,
          1.2135136251378615,
          0.3192561309867882,
          1.8390860771691768,
          3.1989298611504937,
          3.6639553618739007,
          5.320020402521994,
          5.588196108625732,
          5.00680262486941,
          3.778319199389525,
          2.667196882285848,
          2.9805140310843163,
          3.003815184847288,
          3.209109231484667,
          3.2333440593561877,
          4.530676760329434,
          5.173117026576456,
          4.2251503557992685,
          5.912732470161208,
          5.51954115029074,
          4.424751160327413,
          3.986725700552799,
          4.320141649814506,
          3.710089327148561,
          3.909944446473572,
          4.801056752960521,
          4.663878576396333,
          5.714925311423528,
          6.851912419059642,
          5.382228557465856,
          4.797772779950918,
          4.597735429334732,
          6.372076404865782,
          6.642296843309585,
          5.612657811361704,
          6.18231141544473,
          6.161297192872845,
          7.271022123097529,
          6.2471421669683895,
          4.933677265419876,
          5.160999303997231,
          4.727003299127816,
          6.006718309763433,
          6.737144799901425,
          6.872139236297279,
          7.2701841548909005,
          7.192142726165852,
          7.187389275287803,
          6.402789460500397,
          5.605540825725594,
          4.015676761225024,
          4.690677468131136
         ]
        },
        {
         "line": {
          "color": "rgba(50, 171, 96, 1.0)",
          "dash": "solid",
          "shape": "linear",
          "width": 1.3
         },
         "mode": "lines",
         "name": "GOOG",
         "text": "",
         "type": "scatter",
         "x": [
          "2015-01-01",
          "2015-01-02",
          "2015-01-03",
          "2015-01-04",
          "2015-01-05",
          "2015-01-06",
          "2015-01-07",
          "2015-01-08",
          "2015-01-09",
          "2015-01-10",
          "2015-01-11",
          "2015-01-12",
          "2015-01-13",
          "2015-01-14",
          "2015-01-15",
          "2015-01-16",
          "2015-01-17",
          "2015-01-18",
          "2015-01-19",
          "2015-01-20",
          "2015-01-21",
          "2015-01-22",
          "2015-01-23",
          "2015-01-24",
          "2015-01-25",
          "2015-01-26",
          "2015-01-27",
          "2015-01-28",
          "2015-01-29",
          "2015-01-30",
          "2015-01-31",
          "2015-02-01",
          "2015-02-02",
          "2015-02-03",
          "2015-02-04",
          "2015-02-05",
          "2015-02-06",
          "2015-02-07",
          "2015-02-08",
          "2015-02-09",
          "2015-02-10",
          "2015-02-11",
          "2015-02-12",
          "2015-02-13",
          "2015-02-14",
          "2015-02-15",
          "2015-02-16",
          "2015-02-17",
          "2015-02-18",
          "2015-02-19",
          "2015-02-20",
          "2015-02-21",
          "2015-02-22",
          "2015-02-23",
          "2015-02-24",
          "2015-02-25",
          "2015-02-26",
          "2015-02-27",
          "2015-02-28",
          "2015-03-01",
          "2015-03-02",
          "2015-03-03",
          "2015-03-04",
          "2015-03-05",
          "2015-03-06",
          "2015-03-07",
          "2015-03-08",
          "2015-03-09",
          "2015-03-10",
          "2015-03-11",
          "2015-03-12",
          "2015-03-13",
          "2015-03-14",
          "2015-03-15",
          "2015-03-16",
          "2015-03-17",
          "2015-03-18",
          "2015-03-19",
          "2015-03-20",
          "2015-03-21",
          "2015-03-22",
          "2015-03-23",
          "2015-03-24",
          "2015-03-25",
          "2015-03-26",
          "2015-03-27",
          "2015-03-28",
          "2015-03-29",
          "2015-03-30",
          "2015-03-31",
          "2015-04-01",
          "2015-04-02",
          "2015-04-03",
          "2015-04-04",
          "2015-04-05",
          "2015-04-06",
          "2015-04-07",
          "2015-04-08",
          "2015-04-09",
          "2015-04-10"
         ],
         "y": [
          -0.12387924572510589,
          0.7966498730369406,
          1.0930453586576663,
          0.8338763647745995,
          2.162767373656787,
          3.6062479500754563,
          3.202448635829711,
          2.567768542871831,
          2.680965496534378,
          3.0771406663505374,
          3.1817142990051566,
          3.4747241965005253,
          1.786861595444297,
          1.2830933096354091,
          0.8149808081530232,
          1.638113505552203,
          1.319479223899768,
          0.9286020556627193,
          1.0749376964085826,
          0.7453726598777997,
          0.5351004398007938,
          1.7219980305414824,
          3.288062906283162,
          2.265715410599549,
          2.878792291909428,
          2.3658078488735605,
          1.5429717063115824,
          1.7131489093551935,
          0.8757153715278675,
          -0.050836507954122534,
          0.2734354284066933,
          -0.10384561697594463,
          0.6170179756526629,
          -2.146384173384452,
          -2.0183868572088537,
          -2.8188938819444975,
          -2.0162843681736495,
          -0.8352167035665634,
          -0.13014772668399532,
          -0.871615876465248,
          -0.5837974390826651,
          -2.9705123896372956,
          -3.197567871273736,
          -4.502872794857076,
          -4.525528837270438,
          -5.106122697850888,
          -6.23503695286984,
          -6.362975732262328,
          -5.449173916416164,
          -5.421419974488732,
          -5.056505806053844,
          -2.936029997224167,
          -1.6383310208514863,
          -2.936152885768644,
          -3.772770597284165,
          -3.5002867712377617,
          -4.1497437280826555,
          -3.45322162143892,
          -3.3803275101087755,
          -2.4394912253450647,
          -4.01680927318296,
          -2.696232307602342,
          -1.2539151074023323,
          1.5592928756927413,
          0.9594451971987746,
          0.2105984619987319,
          -0.7497386105484958,
          -1.030957270406392,
          -2.1734822858387766,
          -1.9270371687779182,
          -1.2476992683785164,
          -2.3846756567901206,
          -0.6421205097917579,
          0.44824301680512035,
          0.6682654935379814,
          1.695370736199374,
          2.3866034693565625,
          1.834912270049062,
          1.0180822540150134,
          0.8484255614423925,
          0.1799863918692055,
          1.8080574327213808,
          1.3944920136670351,
          1.7118024940155672,
          1.8756814678680513,
          0.1777891259967339,
          0.43579931757763607,
          -0.2648329380224224,
          -0.7664804894080612,
          -0.31845050463237334,
          -0.4486317737560189,
          1.7161003285705925,
          2.2582740061138797,
          1.3654619980796454,
          1.3494056338577864,
          0.5364421851499185,
          2.318095072680387,
          1.1205864275793826,
          1.2156619998330147,
          1.502352832575002
         ]
        },
        {
         "line": {
          "color": "rgba(128, 0, 128, 1.0)",
          "dash": "solid",
          "shape": "linear",
          "width": 1.3
         },
         "mode": "lines",
         "name": "VERZ",
         "text": "",
         "type": "scatter",
         "x": [
          "2015-01-01",
          "2015-01-02",
          "2015-01-03",
          "2015-01-04",
          "2015-01-05",
          "2015-01-06",
          "2015-01-07",
          "2015-01-08",
          "2015-01-09",
          "2015-01-10",
          "2015-01-11",
          "2015-01-12",
          "2015-01-13",
          "2015-01-14",
          "2015-01-15",
          "2015-01-16",
          "2015-01-17",
          "2015-01-18",
          "2015-01-19",
          "2015-01-20",
          "2015-01-21",
          "2015-01-22",
          "2015-01-23",
          "2015-01-24",
          "2015-01-25",
          "2015-01-26",
          "2015-01-27",
          "2015-01-28",
          "2015-01-29",
          "2015-01-30",
          "2015-01-31",
          "2015-02-01",
          "2015-02-02",
          "2015-02-03",
          "2015-02-04",
          "2015-02-05",
          "2015-02-06",
          "2015-02-07",
          "2015-02-08",
          "2015-02-09",
          "2015-02-10",
          "2015-02-11",
          "2015-02-12",
          "2015-02-13",
          "2015-02-14",
          "2015-02-15",
          "2015-02-16",
          "2015-02-17",
          "2015-02-18",
          "2015-02-19",
          "2015-02-20",
          "2015-02-21",
          "2015-02-22",
          "2015-02-23",
          "2015-02-24",
          "2015-02-25",
          "2015-02-26",
          "2015-02-27",
          "2015-02-28",
          "2015-03-01",
          "2015-03-02",
          "2015-03-03",
          "2015-03-04",
          "2015-03-05",
          "2015-03-06",
          "2015-03-07",
          "2015-03-08",
          "2015-03-09",
          "2015-03-10",
          "2015-03-11",
          "2015-03-12",
          "2015-03-13",
          "2015-03-14",
          "2015-03-15",
          "2015-03-16",
          "2015-03-17",
          "2015-03-18",
          "2015-03-19",
          "2015-03-20",
          "2015-03-21",
          "2015-03-22",
          "2015-03-23",
          "2015-03-24",
          "2015-03-25",
          "2015-03-26",
          "2015-03-27",
          "2015-03-28",
          "2015-03-29",
          "2015-03-30",
          "2015-03-31",
          "2015-04-01",
          "2015-04-02",
          "2015-04-03",
          "2015-04-04",
          "2015-04-05",
          "2015-04-06",
          "2015-04-07",
          "2015-04-08",
          "2015-04-09",
          "2015-04-10"
         ],
         "y": [
          -0.14798997143547915,
          -0.7425181638076277,
          -1.629112387980162,
          -1.1534696529044854,
          -1.6916336318363019,
          -2.1993395653892347,
          -2.5420785946771374,
          -3.249116056341389,
          -1.2596339737619773,
          -1.1431606521394526,
          -1.591803171812925,
          -0.2835944499728289,
          -0.7462854607485447,
          -0.21187646900463442,
          1.1332111485517466,
          -0.41140209681748763,
          -0.07764236418693948,
          0.3840523760865555,
          0.3806219878429994,
          0.4184229671916261,
          -0.9519937067082221,
          0.14408463639206925,
          0.26377743175971813,
          0.42678343645240235,
          -0.9424001163610074,
          -1.7604137942702862,
          -1.2907716439042218,
          1.0630981669304322,
          1.0902998744576748,
          2.524916666502402,
          3.384885588190943,
          5.036316160354567,
          4.767203934327283,
          4.858948011378686,
          4.510420682566213,
          5.792567762513112,
          4.703661698896927,
          3.823605711307492,
          3.8068604096761427,
          4.613704598588734,
          3.2228860410149407,
          3.1682138945339773,
          3.556497918312706,
          4.1563789470447485,
          6.178543778204498,
          6.193656777865214,
          4.516139346557444,
          5.6279628611295385,
          5.093092493583762,
          3.612856913279101,
          3.8702174842042387,
          5.39335992080307,
          6.439817670790796,
          7.533093530210259,
          6.582016553867401,
          4.921727440991564,
          5.568043760905853,
          8.285708786755254,
          8.364612432382978,
          7.883165005915357,
          6.672987596795707,
          6.590060655078807,
          8.56443044442024,
          8.452621619423141,
          8.231792039767997,
          8.06878543193988,
          6.650407145787599,
          6.322040091543126,
          7.3128934837617035,
          7.501145391479421,
          4.808823390778633,
          4.762035814722748,
          5.680327554796811,
          6.6410803503198474,
          6.173067765937346,
          5.714279697407312,
          7.173736382596482,
          5.262584850059834,
          6.354690181400844,
          5.424689717255171,
          3.348070717794639,
          4.194635627534584,
          3.7484208696640002,
          2.8974748414271505,
          3.2102163573648888,
          2.642360238692871,
          1.0223478845888063,
          0.5894718601443806,
          2.310612385325222,
          2.5287376463928646,
          3.982459441623575,
          3.742749447810474,
          3.0850362775278493,
          2.4032408097853932,
          1.897205058588498,
          4.650433498714276,
          3.4849138902296843,
          4.017518372219557,
          2.9204274054378057,
          2.3720445077861267
         ]
        },
        {
         "line": {
          "color": "rgba(219, 64, 82, 1.0)",
          "dash": "solid",
          "shape": "linear",
          "width": 1.3
         },
         "mode": "lines",
         "name": "APPL",
         "text": "",
         "type": "scatter",
         "x": [
          "2015-01-01",
          "2015-01-02",
          "2015-01-03",
          "2015-01-04",
          "2015-01-05",
          "2015-01-06",
          "2015-01-07",
          "2015-01-08",
          "2015-01-09",
          "2015-01-10",
          "2015-01-11",
          "2015-01-12",
          "2015-01-13",
          "2015-01-14",
          "2015-01-15",
          "2015-01-16",
          "2015-01-17",
          "2015-01-18",
          "2015-01-19",
          "2015-01-20",
          "2015-01-21",
          "2015-01-22",
          "2015-01-23",
          "2015-01-24",
          "2015-01-25",
          "2015-01-26",
          "2015-01-27",
          "2015-01-28",
          "2015-01-29",
          "2015-01-30",
          "2015-01-31",
          "2015-02-01",
          "2015-02-02",
          "2015-02-03",
          "2015-02-04",
          "2015-02-05",
          "2015-02-06",
          "2015-02-07",
          "2015-02-08",
          "2015-02-09",
          "2015-02-10",
          "2015-02-11",
          "2015-02-12",
          "2015-02-13",
          "2015-02-14",
          "2015-02-15",
          "2015-02-16",
          "2015-02-17",
          "2015-02-18",
          "2015-02-19",
          "2015-02-20",
          "2015-02-21",
          "2015-02-22",
          "2015-02-23",
          "2015-02-24",
          "2015-02-25",
          "2015-02-26",
          "2015-02-27",
          "2015-02-28",
          "2015-03-01",
          "2015-03-02",
          "2015-03-03",
          "2015-03-04",
          "2015-03-05",
          "2015-03-06",
          "2015-03-07",
          "2015-03-08",
          "2015-03-09",
          "2015-03-10",
          "2015-03-11",
          "2015-03-12",
          "2015-03-13",
          "2015-03-14",
          "2015-03-15",
          "2015-03-16",
          "2015-03-17",
          "2015-03-18",
          "2015-03-19",
          "2015-03-20",
          "2015-03-21",
          "2015-03-22",
          "2015-03-23",
          "2015-03-24",
          "2015-03-25",
          "2015-03-26",
          "2015-03-27",
          "2015-03-28",
          "2015-03-29",
          "2015-03-30",
          "2015-03-31",
          "2015-04-01",
          "2015-04-02",
          "2015-04-03",
          "2015-04-04",
          "2015-04-05",
          "2015-04-06",
          "2015-04-07",
          "2015-04-08",
          "2015-04-09",
          "2015-04-10"
         ],
         "y": [
          -0.8091304123445491,
          -0.7329208464625815,
          -0.6575082144050455,
          1.3815571912376952,
          1.8805686830595687,
          1.5297260792999725,
          1.4100132350213395,
          1.482655244407929,
          1.8986271894839015,
          0.7551462280199512,
          -1.2635586383299646,
          -1.1617282471557315,
          -0.18016902817091962,
          -2.0870846482101717,
          -1.3472919376425105,
          -2.0892003539609885,
          -3.255863774094439,
          -3.4823489131295795,
          -2.58657821115114,
          -3.329971408688671,
          -4.396850652693731,
          -4.5572366955919845,
          -4.976248583915539,
          -5.137769364408434,
          -3.986759168523533,
          -5.114106026212177,
          -5.05454565008468,
          -5.209908155149506,
          -3.704764236748535,
          -3.8335699358564383,
          -3.8284626251618104,
          -4.138337739750897,
          -2.760382292999953,
          -2.003802334787866,
          -1.6745988874391742,
          -1.6549155931837969,
          -0.40615769074592745,
          -1.031799377058858,
          0.778163809949983,
          0.4460343111891075,
          1.2237443866233204,
          0.7430041870203119,
          0.08689711978355097,
          0.2856354496267597,
          -1.5307847228217704,
          -3.141760851521326,
          -3.874596537007455,
          -5.008113127120248,
          -5.22679662513061,
          -3.0707428615364605,
          -3.0834156484059285,
          -2.4195457502976803,
          -3.4921371663300342,
          -2.5063783349351354,
          -3.5666507281076694,
          -3.823251676980955,
          -4.430548756385592,
          -2.992139404769264,
          -2.3067855839052798,
          -1.7911056989276541,
          -1.3167765969291252,
          -1.9331634642455717,
          -1.4756353066338894,
          -0.5498784419240511,
          -0.458098236707881,
          -0.9104666571324511,
          0.20670065102356916,
          0.0830155408369381,
          -0.6887550473882589,
          -0.15356150177269845,
          0.1898445896319369,
          1.5570245821540418,
          -0.48490609458580614,
          0.18169569818173226,
          2.564620602836628,
          1.8903740876444102,
          1.2461723664406477,
          2.6524424846113215,
          3.6750915612925934,
          3.6022080982429157,
          3.8951727542540078,
          3.3100675780288045,
          2.876908560004731,
          4.650094709068069,
          4.378147193250875,
          3.0110676527393068,
          3.6228596956180574,
          3.3031963329745904,
          3.332477440954584,
          3.562784909923561,
          1.8094105218229626,
          1.5791666368932349,
          2.465853435267052,
          2.442728788110828,
          1.8125526305242834,
          2.712627078318079,
          4.448405687322178,
          4.6873042365330555,
          4.459220282151244,
          3.8509390442755844
         ]
        }
       ],
       "layout": {
        "legend": {
         "bgcolor": "#F5F6F9",
         "font": {
          "color": "#4D5663"
         }
        },
        "paper_bgcolor": "#F5F6F9",
        "plot_bgcolor": "#F5F6F9",
        "template": {
         "data": {
          "bar": [
           {
            "error_x": {
             "color": "#2a3f5f"
            },
            "error_y": {
             "color": "#2a3f5f"
            },
            "marker": {
             "line": {
              "color": "#E5ECF6",
              "width": 0.5
             }
            },
            "type": "bar"
           }
          ],
          "barpolar": [
           {
            "marker": {
             "line": {
              "color": "#E5ECF6",
              "width": 0.5
             }
            },
            "type": "barpolar"
           }
          ],
          "carpet": [
           {
            "aaxis": {
             "endlinecolor": "#2a3f5f",
             "gridcolor": "white",
             "linecolor": "white",
             "minorgridcolor": "white",
             "startlinecolor": "#2a3f5f"
            },
            "baxis": {
             "endlinecolor": "#2a3f5f",
             "gridcolor": "white",
             "linecolor": "white",
             "minorgridcolor": "white",
             "startlinecolor": "#2a3f5f"
            },
            "type": "carpet"
           }
          ],
          "choropleth": [
           {
            "colorbar": {
             "outlinewidth": 0,
             "ticks": ""
            },
            "type": "choropleth"
           }
          ],
          "contour": [
           {
            "colorbar": {
             "outlinewidth": 0,
             "ticks": ""
            },
            "colorscale": [
             [
              0,
              "#0d0887"
             ],
             [
              0.1111111111111111,
              "#46039f"
             ],
             [
              0.2222222222222222,
              "#7201a8"
             ],
             [
              0.3333333333333333,
              "#9c179e"
             ],
             [
              0.4444444444444444,
              "#bd3786"
             ],
             [
              0.5555555555555556,
              "#d8576b"
             ],
             [
              0.6666666666666666,
              "#ed7953"
             ],
             [
              0.7777777777777778,
              "#fb9f3a"
             ],
             [
              0.8888888888888888,
              "#fdca26"
             ],
             [
              1,
              "#f0f921"
             ]
            ],
            "type": "contour"
           }
          ],
          "contourcarpet": [
           {
            "colorbar": {
             "outlinewidth": 0,
             "ticks": ""
            },
            "type": "contourcarpet"
           }
          ],
          "heatmap": [
           {
            "colorbar": {
             "outlinewidth": 0,
             "ticks": ""
            },
            "colorscale": [
             [
              0,
              "#0d0887"
             ],
             [
              0.1111111111111111,
              "#46039f"
             ],
             [
              0.2222222222222222,
              "#7201a8"
             ],
             [
              0.3333333333333333,
              "#9c179e"
             ],
             [
              0.4444444444444444,
              "#bd3786"
             ],
             [
              0.5555555555555556,
              "#d8576b"
             ],
             [
              0.6666666666666666,
              "#ed7953"
             ],
             [
              0.7777777777777778,
              "#fb9f3a"
             ],
             [
              0.8888888888888888,
              "#fdca26"
             ],
             [
              1,
              "#f0f921"
             ]
            ],
            "type": "heatmap"
           }
          ],
          "heatmapgl": [
           {
            "colorbar": {
             "outlinewidth": 0,
             "ticks": ""
            },
            "colorscale": [
             [
              0,
              "#0d0887"
             ],
             [
              0.1111111111111111,
              "#46039f"
             ],
             [
              0.2222222222222222,
              "#7201a8"
             ],
             [
              0.3333333333333333,
              "#9c179e"
             ],
             [
              0.4444444444444444,
              "#bd3786"
             ],
             [
              0.5555555555555556,
              "#d8576b"
             ],
             [
              0.6666666666666666,
              "#ed7953"
             ],
             [
              0.7777777777777778,
              "#fb9f3a"
             ],
             [
              0.8888888888888888,
              "#fdca26"
             ],
             [
              1,
              "#f0f921"
             ]
            ],
            "type": "heatmapgl"
           }
          ],
          "histogram": [
           {
            "marker": {
             "colorbar": {
              "outlinewidth": 0,
              "ticks": ""
             }
            },
            "type": "histogram"
           }
          ],
          "histogram2d": [
           {
            "colorbar": {
             "outlinewidth": 0,
             "ticks": ""
            },
            "colorscale": [
             [
              0,
              "#0d0887"
             ],
             [
              0.1111111111111111,
              "#46039f"
             ],
             [
              0.2222222222222222,
              "#7201a8"
             ],
             [
              0.3333333333333333,
              "#9c179e"
             ],
             [
              0.4444444444444444,
              "#bd3786"
             ],
             [
              0.5555555555555556,
              "#d8576b"
             ],
             [
              0.6666666666666666,
              "#ed7953"
             ],
             [
              0.7777777777777778,
              "#fb9f3a"
             ],
             [
              0.8888888888888888,
              "#fdca26"
             ],
             [
              1,
              "#f0f921"
             ]
            ],
            "type": "histogram2d"
           }
          ],
          "histogram2dcontour": [
           {
            "colorbar": {
             "outlinewidth": 0,
             "ticks": ""
            },
            "colorscale": [
             [
              0,
              "#0d0887"
             ],
             [
              0.1111111111111111,
              "#46039f"
             ],
             [
              0.2222222222222222,
              "#7201a8"
             ],
             [
              0.3333333333333333,
              "#9c179e"
             ],
             [
              0.4444444444444444,
              "#bd3786"
             ],
             [
              0.5555555555555556,
              "#d8576b"
             ],
             [
              0.6666666666666666,
              "#ed7953"
             ],
             [
              0.7777777777777778,
              "#fb9f3a"
             ],
             [
              0.8888888888888888,
              "#fdca26"
             ],
             [
              1,
              "#f0f921"
             ]
            ],
            "type": "histogram2dcontour"
           }
          ],
          "mesh3d": [
           {
            "colorbar": {
             "outlinewidth": 0,
             "ticks": ""
            },
            "type": "mesh3d"
           }
          ],
          "parcoords": [
           {
            "line": {
             "colorbar": {
              "outlinewidth": 0,
              "ticks": ""
             }
            },
            "type": "parcoords"
           }
          ],
          "pie": [
           {
            "automargin": true,
            "type": "pie"
           }
          ],
          "scatter": [
           {
            "marker": {
             "colorbar": {
              "outlinewidth": 0,
              "ticks": ""
             }
            },
            "type": "scatter"
           }
          ],
          "scatter3d": [
           {
            "line": {
             "colorbar": {
              "outlinewidth": 0,
              "ticks": ""
             }
            },
            "marker": {
             "colorbar": {
              "outlinewidth": 0,
              "ticks": ""
             }
            },
            "type": "scatter3d"
           }
          ],
          "scattercarpet": [
           {
            "marker": {
             "colorbar": {
              "outlinewidth": 0,
              "ticks": ""
             }
            },
            "type": "scattercarpet"
           }
          ],
          "scattergeo": [
           {
            "marker": {
             "colorbar": {
              "outlinewidth": 0,
              "ticks": ""
             }
            },
            "type": "scattergeo"
           }
          ],
          "scattergl": [
           {
            "marker": {
             "colorbar": {
              "outlinewidth": 0,
              "ticks": ""
             }
            },
            "type": "scattergl"
           }
          ],
          "scattermapbox": [
           {
            "marker": {
             "colorbar": {
              "outlinewidth": 0,
              "ticks": ""
             }
            },
            "type": "scattermapbox"
           }
          ],
          "scatterpolar": [
           {
            "marker": {
             "colorbar": {
              "outlinewidth": 0,
              "ticks": ""
             }
            },
            "type": "scatterpolar"
           }
          ],
          "scatterpolargl": [
           {
            "marker": {
             "colorbar": {
              "outlinewidth": 0,
              "ticks": ""
             }
            },
            "type": "scatterpolargl"
           }
          ],
          "scatterternary": [
           {
            "marker": {
             "colorbar": {
              "outlinewidth": 0,
              "ticks": ""
             }
            },
            "type": "scatterternary"
           }
          ],
          "surface": [
           {
            "colorbar": {
             "outlinewidth": 0,
             "ticks": ""
            },
            "colorscale": [
             [
              0,
              "#0d0887"
             ],
             [
              0.1111111111111111,
              "#46039f"
             ],
             [
              0.2222222222222222,
              "#7201a8"
             ],
             [
              0.3333333333333333,
              "#9c179e"
             ],
             [
              0.4444444444444444,
              "#bd3786"
             ],
             [
              0.5555555555555556,
              "#d8576b"
             ],
             [
              0.6666666666666666,
              "#ed7953"
             ],
             [
              0.7777777777777778,
              "#fb9f3a"
             ],
             [
              0.8888888888888888,
              "#fdca26"
             ],
             [
              1,
              "#f0f921"
             ]
            ],
            "type": "surface"
           }
          ],
          "table": [
           {
            "cells": {
             "fill": {
              "color": "#EBF0F8"
             },
             "line": {
              "color": "white"
             }
            },
            "header": {
             "fill": {
              "color": "#C8D4E3"
             },
             "line": {
              "color": "white"
             }
            },
            "type": "table"
           }
          ]
         },
         "layout": {
          "annotationdefaults": {
           "arrowcolor": "#2a3f5f",
           "arrowhead": 0,
           "arrowwidth": 1
          },
          "coloraxis": {
           "colorbar": {
            "outlinewidth": 0,
            "ticks": ""
           }
          },
          "colorscale": {
           "diverging": [
            [
             0,
             "#8e0152"
            ],
            [
             0.1,
             "#c51b7d"
            ],
            [
             0.2,
             "#de77ae"
            ],
            [
             0.3,
             "#f1b6da"
            ],
            [
             0.4,
             "#fde0ef"
            ],
            [
             0.5,
             "#f7f7f7"
            ],
            [
             0.6,
             "#e6f5d0"
            ],
            [
             0.7,
             "#b8e186"
            ],
            [
             0.8,
             "#7fbc41"
            ],
            [
             0.9,
             "#4d9221"
            ],
            [
             1,
             "#276419"
            ]
           ],
           "sequential": [
            [
             0,
             "#0d0887"
            ],
            [
             0.1111111111111111,
             "#46039f"
            ],
            [
             0.2222222222222222,
             "#7201a8"
            ],
            [
             0.3333333333333333,
             "#9c179e"
            ],
            [
             0.4444444444444444,
             "#bd3786"
            ],
            [
             0.5555555555555556,
             "#d8576b"
            ],
            [
             0.6666666666666666,
             "#ed7953"
            ],
            [
             0.7777777777777778,
             "#fb9f3a"
            ],
            [
             0.8888888888888888,
             "#fdca26"
            ],
            [
             1,
             "#f0f921"
            ]
           ],
           "sequentialminus": [
            [
             0,
             "#0d0887"
            ],
            [
             0.1111111111111111,
             "#46039f"
            ],
            [
             0.2222222222222222,
             "#7201a8"
            ],
            [
             0.3333333333333333,
             "#9c179e"
            ],
            [
             0.4444444444444444,
             "#bd3786"
            ],
            [
             0.5555555555555556,
             "#d8576b"
            ],
            [
             0.6666666666666666,
             "#ed7953"
            ],
            [
             0.7777777777777778,
             "#fb9f3a"
            ],
            [
             0.8888888888888888,
             "#fdca26"
            ],
            [
             1,
             "#f0f921"
            ]
           ]
          },
          "colorway": [
           "#636efa",
           "#EF553B",
           "#00cc96",
           "#ab63fa",
           "#FFA15A",
           "#19d3f3",
           "#FF6692",
           "#B6E880",
           "#FF97FF",
           "#FECB52"
          ],
          "font": {
           "color": "#2a3f5f"
          },
          "geo": {
           "bgcolor": "white",
           "lakecolor": "white",
           "landcolor": "#E5ECF6",
           "showlakes": true,
           "showland": true,
           "subunitcolor": "white"
          },
          "hoverlabel": {
           "align": "left"
          },
          "hovermode": "closest",
          "mapbox": {
           "style": "light"
          },
          "paper_bgcolor": "white",
          "plot_bgcolor": "#E5ECF6",
          "polar": {
           "angularaxis": {
            "gridcolor": "white",
            "linecolor": "white",
            "ticks": ""
           },
           "bgcolor": "#E5ECF6",
           "radialaxis": {
            "gridcolor": "white",
            "linecolor": "white",
            "ticks": ""
           }
          },
          "scene": {
           "xaxis": {
            "backgroundcolor": "#E5ECF6",
            "gridcolor": "white",
            "gridwidth": 2,
            "linecolor": "white",
            "showbackground": true,
            "ticks": "",
            "zerolinecolor": "white"
           },
           "yaxis": {
            "backgroundcolor": "#E5ECF6",
            "gridcolor": "white",
            "gridwidth": 2,
            "linecolor": "white",
            "showbackground": true,
            "ticks": "",
            "zerolinecolor": "white"
           },
           "zaxis": {
            "backgroundcolor": "#E5ECF6",
            "gridcolor": "white",
            "gridwidth": 2,
            "linecolor": "white",
            "showbackground": true,
            "ticks": "",
            "zerolinecolor": "white"
           }
          },
          "shapedefaults": {
           "line": {
            "color": "#2a3f5f"
           }
          },
          "ternary": {
           "aaxis": {
            "gridcolor": "white",
            "linecolor": "white",
            "ticks": ""
           },
           "baxis": {
            "gridcolor": "white",
            "linecolor": "white",
            "ticks": ""
           },
           "bgcolor": "#E5ECF6",
           "caxis": {
            "gridcolor": "white",
            "linecolor": "white",
            "ticks": ""
           }
          },
          "title": {
           "x": 0.05
          },
          "xaxis": {
           "automargin": true,
           "gridcolor": "white",
           "linecolor": "white",
           "ticks": "",
           "title": {
            "standoff": 15
           },
           "zerolinecolor": "white",
           "zerolinewidth": 2
          },
          "yaxis": {
           "automargin": true,
           "gridcolor": "white",
           "linecolor": "white",
           "ticks": "",
           "title": {
            "standoff": 15
           },
           "zerolinecolor": "white",
           "zerolinewidth": 2
          }
         }
        },
        "title": {
         "font": {
          "color": "#4D5663"
         },
         "x": 0.5
        },
        "xaxis": {
         "gridcolor": "#E1E5ED",
         "showgrid": true,
         "tickfont": {
          "color": "#4D5663"
         },
         "title": {
          "font": {
           "color": "#4D5663"
          },
          "text": ""
         },
         "zerolinecolor": "#E1E5ED"
        },
        "yaxis": {
         "gridcolor": "#E1E5ED",
         "showgrid": true,
         "tickfont": {
          "color": "#4D5663"
         },
         "title": {
          "font": {
           "color": "#4D5663"
          },
          "text": ""
         },
         "zerolinecolor": "#E1E5ED"
        }
       }
      },
      "text/html": "<div>\n        \n        \n            <div id=\"579b2d13-16d9-43e9-9e38-8c8441cdade0\" class=\"plotly-graph-div\" style=\"height:525px; width:100%;\"></div>\n            <script type=\"text/javascript\">\n                require([\"plotly\"], function(Plotly) {\n                    window.PLOTLYENV=window.PLOTLYENV || {};\n                    window.PLOTLYENV.BASE_URL='https://plot.ly';\n                    \n                if (document.getElementById(\"579b2d13-16d9-43e9-9e38-8c8441cdade0\")) {\n                    Plotly.newPlot(\n                        '579b2d13-16d9-43e9-9e38-8c8441cdade0',\n                        [{\"line\": {\"color\": \"rgba(255, 153, 51, 1.0)\", \"dash\": \"solid\", \"shape\": \"linear\", \"width\": 1.3}, \"mode\": \"lines\", \"name\": \"IBM\", \"text\": \"\", \"type\": \"scatter\", \"x\": [\"2015-01-01\", \"2015-01-02\", \"2015-01-03\", \"2015-01-04\", \"2015-01-05\", \"2015-01-06\", \"2015-01-07\", \"2015-01-08\", \"2015-01-09\", \"2015-01-10\", \"2015-01-11\", \"2015-01-12\", \"2015-01-13\", \"2015-01-14\", \"2015-01-15\", \"2015-01-16\", \"2015-01-17\", \"2015-01-18\", \"2015-01-19\", \"2015-01-20\", \"2015-01-21\", \"2015-01-22\", \"2015-01-23\", \"2015-01-24\", \"2015-01-25\", \"2015-01-26\", \"2015-01-27\", \"2015-01-28\", \"2015-01-29\", \"2015-01-30\", \"2015-01-31\", \"2015-02-01\", \"2015-02-02\", \"2015-02-03\", \"2015-02-04\", \"2015-02-05\", \"2015-02-06\", \"2015-02-07\", \"2015-02-08\", \"2015-02-09\", \"2015-02-10\", \"2015-02-11\", \"2015-02-12\", \"2015-02-13\", \"2015-02-14\", \"2015-02-15\", \"2015-02-16\", \"2015-02-17\", \"2015-02-18\", \"2015-02-19\", \"2015-02-20\", \"2015-02-21\", \"2015-02-22\", \"2015-02-23\", \"2015-02-24\", \"2015-02-25\", \"2015-02-26\", \"2015-02-27\", \"2015-02-28\", \"2015-03-01\", \"2015-03-02\", \"2015-03-03\", \"2015-03-04\", \"2015-03-05\", \"2015-03-06\", \"2015-03-07\", \"2015-03-08\", \"2015-03-09\", \"2015-03-10\", \"2015-03-11\", \"2015-03-12\", \"2015-03-13\", \"2015-03-14\", \"2015-03-15\", \"2015-03-16\", \"2015-03-17\", \"2015-03-18\", \"2015-03-19\", \"2015-03-20\", \"2015-03-21\", \"2015-03-22\", \"2015-03-23\", \"2015-03-24\", \"2015-03-25\", \"2015-03-26\", \"2015-03-27\", \"2015-03-28\", \"2015-03-29\", \"2015-03-30\", \"2015-03-31\", \"2015-04-01\", \"2015-04-02\", \"2015-04-03\", \"2015-04-04\", \"2015-04-05\", \"2015-04-06\", \"2015-04-07\", \"2015-04-08\", \"2015-04-09\", \"2015-04-10\"], \"y\": [1.204634807161707, 0.9145006657511832, 1.218380555193714, 1.6040010922114574, 1.8507033314358179, 4.066880405623611, 3.9518239112895603, 3.343657322630591, 2.6993826172728155, 1.7937813998056815, 3.3904206501079903, 3.345034922314204, 2.8517905735877718, 2.8932554343515426, 2.6287434615650396, 3.679479655990322, 4.944291988023277, 2.9551589923384833, 1.970315548397061, 4.133925997771108, 3.573572250821949, 2.2801057441736505, 2.796887744081139, 3.932794382724473, 4.684296090776566, 2.8116890200753795, 4.384379914695954, 4.971081521334814, 4.186258478209225, 3.761632047985512, 2.3170347129796856, 2.1401733562384115, 3.196995662718602, 3.5409634047460994, 2.821265452008573, 2.723780481480727, 4.4033201312379155, 4.7153130149928, 4.997103372287718, 3.9065268548223937, 3.9687873891992123, 3.4634482916119396, 4.375837100021135, 4.818047771512238, 4.1993376531312485, 4.645450687143723, 3.599444565065083, 4.643770490966302, 5.750552089295493, 7.627080128570817, 7.862509075905664, 7.567351742017961, 6.617686040286462, 7.0447515896015735, 5.6656921950987265, 5.5417453482215295, 5.300541310566457, 6.197160360699273, 6.973910554277696, 6.614186238837551, 5.70209439422732, 5.787684024812829, 4.967521027775211, 3.016285683828192, 2.993551445823966, 1.458684884800412, 1.9699409510984167, 3.9649806008166273, 2.179191362941848, 1.2441913085533476, -0.12680808196925897, -1.2212833718971874, -0.012870929969344802, -0.8054526521075539, 0.2854382558167422, 2.1718688636009036, 1.619714167525475, 1.5986208166867795, 1.043527737653303, 0.5643284317133457, 0.7087707869791047, -0.32026411470649707, -2.423211570673105, -3.299175701949043, -3.050376069362347, -4.116508254409561, -4.621563417035203, -4.049924836831571, -3.4946903347242353, -3.077705559917039, -3.098470907212177, -1.6145923365328922, -1.1547366322244565, -2.1873182602382837, -1.887737928204876, -0.6839643367947077, -0.31528962727014875, -1.0087476245153408, -2.5148423931404507, -1.5810877447705447]}, {\"line\": {\"color\": \"rgba(55, 128, 191, 1.0)\", \"dash\": \"solid\", \"shape\": \"linear\", \"width\": 1.3}, \"mode\": \"lines\", \"name\": \"MSFT\", \"text\": \"\", \"type\": \"scatter\", \"x\": [\"2015-01-01\", \"2015-01-02\", \"2015-01-03\", \"2015-01-04\", \"2015-01-05\", \"2015-01-06\", \"2015-01-07\", \"2015-01-08\", \"2015-01-09\", \"2015-01-10\", \"2015-01-11\", \"2015-01-12\", \"2015-01-13\", \"2015-01-14\", \"2015-01-15\", \"2015-01-16\", \"2015-01-17\", \"2015-01-18\", \"2015-01-19\", \"2015-01-20\", \"2015-01-21\", \"2015-01-22\", \"2015-01-23\", \"2015-01-24\", \"2015-01-25\", \"2015-01-26\", \"2015-01-27\", \"2015-01-28\", \"2015-01-29\", \"2015-01-30\", \"2015-01-31\", \"2015-02-01\", \"2015-02-02\", \"2015-02-03\", \"2015-02-04\", \"2015-02-05\", \"2015-02-06\", \"2015-02-07\", \"2015-02-08\", \"2015-02-09\", \"2015-02-10\", \"2015-02-11\", \"2015-02-12\", \"2015-02-13\", \"2015-02-14\", \"2015-02-15\", \"2015-02-16\", \"2015-02-17\", \"2015-02-18\", \"2015-02-19\", \"2015-02-20\", \"2015-02-21\", \"2015-02-22\", \"2015-02-23\", \"2015-02-24\", \"2015-02-25\", \"2015-02-26\", \"2015-02-27\", \"2015-02-28\", \"2015-03-01\", \"2015-03-02\", \"2015-03-03\", \"2015-03-04\", \"2015-03-05\", \"2015-03-06\", \"2015-03-07\", \"2015-03-08\", \"2015-03-09\", \"2015-03-10\", \"2015-03-11\", \"2015-03-12\", \"2015-03-13\", \"2015-03-14\", \"2015-03-15\", \"2015-03-16\", \"2015-03-17\", \"2015-03-18\", \"2015-03-19\", \"2015-03-20\", \"2015-03-21\", \"2015-03-22\", \"2015-03-23\", \"2015-03-24\", \"2015-03-25\", \"2015-03-26\", \"2015-03-27\", \"2015-03-28\", \"2015-03-29\", \"2015-03-30\", \"2015-03-31\", \"2015-04-01\", \"2015-04-02\", \"2015-04-03\", \"2015-04-04\", \"2015-04-05\", \"2015-04-06\", \"2015-04-07\", \"2015-04-08\", \"2015-04-09\", \"2015-04-10\"], \"y\": [-0.13485427742658052, 2.4533882212029257, 2.5866188388893145, 3.6448420212650343, 4.627951751750441, 3.886226815958306, 3.2578693279395723, 3.4136532056183397, 1.0562422305686878, 2.3837720933676367, 0.9975498226769888, 1.1304334051861475, -1.7946943704416911, -1.2374367201402034, -0.3154205340345986, -0.7401238537592838, -0.32525970140343174, 3.2683659162815424, 4.378433594261496, 2.5317792764719944, 1.1198643928492862, 0.49061424627823513, 0.8883341641308649, 0.832740131979093, 1.4870797206086905, 1.8820862527576259, 2.5640248883437633, 3.7949419388906485, 2.704319715120783, 2.7667954173925478, 1.9066295026055375, 1.4256908593620523, 3.1337859933617045, 2.1998203599150346, 1.4259000951636729, 0.5178973832157078, 1.9979986575043243, 2.620234329360236, 2.3984898889288915, 2.133075733518558, 2.9135162466765965, 2.729349082194042, 3.950333550757815, 3.8223457054395262, 3.010770156987346, 3.3424672080714526, 3.908978923042271, 2.6628767837422007, 1.9770506749879257, 1.2135136251378615, 0.3192561309867882, 1.8390860771691768, 3.1989298611504937, 3.6639553618739007, 5.320020402521994, 5.588196108625732, 5.00680262486941, 3.778319199389525, 2.667196882285848, 2.9805140310843163, 3.003815184847288, 3.209109231484667, 3.2333440593561877, 4.530676760329434, 5.173117026576456, 4.2251503557992685, 5.912732470161208, 5.51954115029074, 4.424751160327413, 3.986725700552799, 4.320141649814506, 3.710089327148561, 3.909944446473572, 4.801056752960521, 4.663878576396333, 5.714925311423528, 6.851912419059642, 5.382228557465856, 4.797772779950918, 4.597735429334732, 6.372076404865782, 6.642296843309585, 5.612657811361704, 6.18231141544473, 6.161297192872845, 7.271022123097529, 6.2471421669683895, 4.933677265419876, 5.160999303997231, 4.727003299127816, 6.006718309763433, 6.737144799901425, 6.872139236297279, 7.2701841548909005, 7.192142726165852, 7.187389275287803, 6.402789460500397, 5.605540825725594, 4.015676761225024, 4.690677468131136]}, {\"line\": {\"color\": \"rgba(50, 171, 96, 1.0)\", \"dash\": \"solid\", \"shape\": \"linear\", \"width\": 1.3}, \"mode\": \"lines\", \"name\": \"GOOG\", \"text\": \"\", \"type\": \"scatter\", \"x\": [\"2015-01-01\", \"2015-01-02\", \"2015-01-03\", \"2015-01-04\", \"2015-01-05\", \"2015-01-06\", \"2015-01-07\", \"2015-01-08\", \"2015-01-09\", \"2015-01-10\", \"2015-01-11\", \"2015-01-12\", \"2015-01-13\", \"2015-01-14\", \"2015-01-15\", \"2015-01-16\", \"2015-01-17\", \"2015-01-18\", \"2015-01-19\", \"2015-01-20\", \"2015-01-21\", \"2015-01-22\", \"2015-01-23\", \"2015-01-24\", \"2015-01-25\", \"2015-01-26\", \"2015-01-27\", \"2015-01-28\", \"2015-01-29\", \"2015-01-30\", \"2015-01-31\", \"2015-02-01\", \"2015-02-02\", \"2015-02-03\", \"2015-02-04\", \"2015-02-05\", \"2015-02-06\", \"2015-02-07\", \"2015-02-08\", \"2015-02-09\", \"2015-02-10\", \"2015-02-11\", \"2015-02-12\", \"2015-02-13\", \"2015-02-14\", \"2015-02-15\", \"2015-02-16\", \"2015-02-17\", \"2015-02-18\", \"2015-02-19\", \"2015-02-20\", \"2015-02-21\", \"2015-02-22\", \"2015-02-23\", \"2015-02-24\", \"2015-02-25\", \"2015-02-26\", \"2015-02-27\", \"2015-02-28\", \"2015-03-01\", \"2015-03-02\", \"2015-03-03\", \"2015-03-04\", \"2015-03-05\", \"2015-03-06\", \"2015-03-07\", \"2015-03-08\", \"2015-03-09\", \"2015-03-10\", \"2015-03-11\", \"2015-03-12\", \"2015-03-13\", \"2015-03-14\", \"2015-03-15\", \"2015-03-16\", \"2015-03-17\", \"2015-03-18\", \"2015-03-19\", \"2015-03-20\", \"2015-03-21\", \"2015-03-22\", \"2015-03-23\", \"2015-03-24\", \"2015-03-25\", \"2015-03-26\", \"2015-03-27\", \"2015-03-28\", \"2015-03-29\", \"2015-03-30\", \"2015-03-31\", \"2015-04-01\", \"2015-04-02\", \"2015-04-03\", \"2015-04-04\", \"2015-04-05\", \"2015-04-06\", \"2015-04-07\", \"2015-04-08\", \"2015-04-09\", \"2015-04-10\"], \"y\": [-0.12387924572510589, 0.7966498730369406, 1.0930453586576663, 0.8338763647745995, 2.162767373656787, 3.6062479500754563, 3.202448635829711, 2.567768542871831, 2.680965496534378, 3.0771406663505374, 3.1817142990051566, 3.4747241965005253, 1.786861595444297, 1.2830933096354091, 0.8149808081530232, 1.638113505552203, 1.319479223899768, 0.9286020556627193, 1.0749376964085826, 0.7453726598777997, 0.5351004398007938, 1.7219980305414824, 3.288062906283162, 2.265715410599549, 2.878792291909428, 2.3658078488735605, 1.5429717063115824, 1.7131489093551935, 0.8757153715278675, -0.050836507954122534, 0.2734354284066933, -0.10384561697594463, 0.6170179756526629, -2.146384173384452, -2.0183868572088537, -2.8188938819444975, -2.0162843681736495, -0.8352167035665634, -0.13014772668399532, -0.871615876465248, -0.5837974390826651, -2.9705123896372956, -3.197567871273736, -4.502872794857076, -4.525528837270438, -5.106122697850888, -6.23503695286984, -6.362975732262328, -5.449173916416164, -5.421419974488732, -5.056505806053844, -2.936029997224167, -1.6383310208514863, -2.936152885768644, -3.772770597284165, -3.5002867712377617, -4.1497437280826555, -3.45322162143892, -3.3803275101087755, -2.4394912253450647, -4.01680927318296, -2.696232307602342, -1.2539151074023323, 1.5592928756927413, 0.9594451971987746, 0.2105984619987319, -0.7497386105484958, -1.030957270406392, -2.1734822858387766, -1.9270371687779182, -1.2476992683785164, -2.3846756567901206, -0.6421205097917579, 0.44824301680512035, 0.6682654935379814, 1.695370736199374, 2.3866034693565625, 1.834912270049062, 1.0180822540150134, 0.8484255614423925, 0.1799863918692055, 1.8080574327213808, 1.3944920136670351, 1.7118024940155672, 1.8756814678680513, 0.1777891259967339, 0.43579931757763607, -0.2648329380224224, -0.7664804894080612, -0.31845050463237334, -0.4486317737560189, 1.7161003285705925, 2.2582740061138797, 1.3654619980796454, 1.3494056338577864, 0.5364421851499185, 2.318095072680387, 1.1205864275793826, 1.2156619998330147, 1.502352832575002]}, {\"line\": {\"color\": \"rgba(128, 0, 128, 1.0)\", \"dash\": \"solid\", \"shape\": \"linear\", \"width\": 1.3}, \"mode\": \"lines\", \"name\": \"VERZ\", \"text\": \"\", \"type\": \"scatter\", \"x\": [\"2015-01-01\", \"2015-01-02\", \"2015-01-03\", \"2015-01-04\", \"2015-01-05\", \"2015-01-06\", \"2015-01-07\", \"2015-01-08\", \"2015-01-09\", \"2015-01-10\", \"2015-01-11\", \"2015-01-12\", \"2015-01-13\", \"2015-01-14\", \"2015-01-15\", \"2015-01-16\", \"2015-01-17\", \"2015-01-18\", \"2015-01-19\", \"2015-01-20\", \"2015-01-21\", \"2015-01-22\", \"2015-01-23\", \"2015-01-24\", \"2015-01-25\", \"2015-01-26\", \"2015-01-27\", \"2015-01-28\", \"2015-01-29\", \"2015-01-30\", \"2015-01-31\", \"2015-02-01\", \"2015-02-02\", \"2015-02-03\", \"2015-02-04\", \"2015-02-05\", \"2015-02-06\", \"2015-02-07\", \"2015-02-08\", \"2015-02-09\", \"2015-02-10\", \"2015-02-11\", \"2015-02-12\", \"2015-02-13\", \"2015-02-14\", \"2015-02-15\", \"2015-02-16\", \"2015-02-17\", \"2015-02-18\", \"2015-02-19\", \"2015-02-20\", \"2015-02-21\", \"2015-02-22\", \"2015-02-23\", \"2015-02-24\", \"2015-02-25\", \"2015-02-26\", \"2015-02-27\", \"2015-02-28\", \"2015-03-01\", \"2015-03-02\", \"2015-03-03\", \"2015-03-04\", \"2015-03-05\", \"2015-03-06\", \"2015-03-07\", \"2015-03-08\", \"2015-03-09\", \"2015-03-10\", \"2015-03-11\", \"2015-03-12\", \"2015-03-13\", \"2015-03-14\", \"2015-03-15\", \"2015-03-16\", \"2015-03-17\", \"2015-03-18\", \"2015-03-19\", \"2015-03-20\", \"2015-03-21\", \"2015-03-22\", \"2015-03-23\", \"2015-03-24\", \"2015-03-25\", \"2015-03-26\", \"2015-03-27\", \"2015-03-28\", \"2015-03-29\", \"2015-03-30\", \"2015-03-31\", \"2015-04-01\", \"2015-04-02\", \"2015-04-03\", \"2015-04-04\", \"2015-04-05\", \"2015-04-06\", \"2015-04-07\", \"2015-04-08\", \"2015-04-09\", \"2015-04-10\"], \"y\": [-0.14798997143547915, -0.7425181638076277, -1.629112387980162, -1.1534696529044854, -1.6916336318363019, -2.1993395653892347, -2.5420785946771374, -3.249116056341389, -1.2596339737619773, -1.1431606521394526, -1.591803171812925, -0.2835944499728289, -0.7462854607485447, -0.21187646900463442, 1.1332111485517466, -0.41140209681748763, -0.07764236418693948, 0.3840523760865555, 0.3806219878429994, 0.4184229671916261, -0.9519937067082221, 0.14408463639206925, 0.26377743175971813, 0.42678343645240235, -0.9424001163610074, -1.7604137942702862, -1.2907716439042218, 1.0630981669304322, 1.0902998744576748, 2.524916666502402, 3.384885588190943, 5.036316160354567, 4.767203934327283, 4.858948011378686, 4.510420682566213, 5.792567762513112, 4.703661698896927, 3.823605711307492, 3.8068604096761427, 4.613704598588734, 3.2228860410149407, 3.1682138945339773, 3.556497918312706, 4.1563789470447485, 6.178543778204498, 6.193656777865214, 4.516139346557444, 5.6279628611295385, 5.093092493583762, 3.612856913279101, 3.8702174842042387, 5.39335992080307, 6.439817670790796, 7.533093530210259, 6.582016553867401, 4.921727440991564, 5.568043760905853, 8.285708786755254, 8.364612432382978, 7.883165005915357, 6.672987596795707, 6.590060655078807, 8.56443044442024, 8.452621619423141, 8.231792039767997, 8.06878543193988, 6.650407145787599, 6.322040091543126, 7.3128934837617035, 7.501145391479421, 4.808823390778633, 4.762035814722748, 5.680327554796811, 6.6410803503198474, 6.173067765937346, 5.714279697407312, 7.173736382596482, 5.262584850059834, 6.354690181400844, 5.424689717255171, 3.348070717794639, 4.194635627534584, 3.7484208696640002, 2.8974748414271505, 3.2102163573648888, 2.642360238692871, 1.0223478845888063, 0.5894718601443806, 2.310612385325222, 2.5287376463928646, 3.982459441623575, 3.742749447810474, 3.0850362775278493, 2.4032408097853932, 1.897205058588498, 4.650433498714276, 3.4849138902296843, 4.017518372219557, 2.9204274054378057, 2.3720445077861267]}, {\"line\": {\"color\": \"rgba(219, 64, 82, 1.0)\", \"dash\": \"solid\", \"shape\": \"linear\", \"width\": 1.3}, \"mode\": \"lines\", \"name\": \"APPL\", \"text\": \"\", \"type\": \"scatter\", \"x\": [\"2015-01-01\", \"2015-01-02\", \"2015-01-03\", \"2015-01-04\", \"2015-01-05\", \"2015-01-06\", \"2015-01-07\", \"2015-01-08\", \"2015-01-09\", \"2015-01-10\", \"2015-01-11\", \"2015-01-12\", \"2015-01-13\", \"2015-01-14\", \"2015-01-15\", \"2015-01-16\", \"2015-01-17\", \"2015-01-18\", \"2015-01-19\", \"2015-01-20\", \"2015-01-21\", \"2015-01-22\", \"2015-01-23\", \"2015-01-24\", \"2015-01-25\", \"2015-01-26\", \"2015-01-27\", \"2015-01-28\", \"2015-01-29\", \"2015-01-30\", \"2015-01-31\", \"2015-02-01\", \"2015-02-02\", \"2015-02-03\", \"2015-02-04\", \"2015-02-05\", \"2015-02-06\", \"2015-02-07\", \"2015-02-08\", \"2015-02-09\", \"2015-02-10\", \"2015-02-11\", \"2015-02-12\", \"2015-02-13\", \"2015-02-14\", \"2015-02-15\", \"2015-02-16\", \"2015-02-17\", \"2015-02-18\", \"2015-02-19\", \"2015-02-20\", \"2015-02-21\", \"2015-02-22\", \"2015-02-23\", \"2015-02-24\", \"2015-02-25\", \"2015-02-26\", \"2015-02-27\", \"2015-02-28\", \"2015-03-01\", \"2015-03-02\", \"2015-03-03\", \"2015-03-04\", \"2015-03-05\", \"2015-03-06\", \"2015-03-07\", \"2015-03-08\", \"2015-03-09\", \"2015-03-10\", \"2015-03-11\", \"2015-03-12\", \"2015-03-13\", \"2015-03-14\", \"2015-03-15\", \"2015-03-16\", \"2015-03-17\", \"2015-03-18\", \"2015-03-19\", \"2015-03-20\", \"2015-03-21\", \"2015-03-22\", \"2015-03-23\", \"2015-03-24\", \"2015-03-25\", \"2015-03-26\", \"2015-03-27\", \"2015-03-28\", \"2015-03-29\", \"2015-03-30\", \"2015-03-31\", \"2015-04-01\", \"2015-04-02\", \"2015-04-03\", \"2015-04-04\", \"2015-04-05\", \"2015-04-06\", \"2015-04-07\", \"2015-04-08\", \"2015-04-09\", \"2015-04-10\"], \"y\": [-0.8091304123445491, -0.7329208464625815, -0.6575082144050455, 1.3815571912376952, 1.8805686830595687, 1.5297260792999725, 1.4100132350213395, 1.482655244407929, 1.8986271894839015, 0.7551462280199512, -1.2635586383299646, -1.1617282471557315, -0.18016902817091962, -2.0870846482101717, -1.3472919376425105, -2.0892003539609885, -3.255863774094439, -3.4823489131295795, -2.58657821115114, -3.329971408688671, -4.396850652693731, -4.5572366955919845, -4.976248583915539, -5.137769364408434, -3.986759168523533, -5.114106026212177, -5.05454565008468, -5.209908155149506, -3.704764236748535, -3.8335699358564383, -3.8284626251618104, -4.138337739750897, -2.760382292999953, -2.003802334787866, -1.6745988874391742, -1.6549155931837969, -0.40615769074592745, -1.031799377058858, 0.778163809949983, 0.4460343111891075, 1.2237443866233204, 0.7430041870203119, 0.08689711978355097, 0.2856354496267597, -1.5307847228217704, -3.141760851521326, -3.874596537007455, -5.008113127120248, -5.22679662513061, -3.0707428615364605, -3.0834156484059285, -2.4195457502976803, -3.4921371663300342, -2.5063783349351354, -3.5666507281076694, -3.823251676980955, -4.430548756385592, -2.992139404769264, -2.3067855839052798, -1.7911056989276541, -1.3167765969291252, -1.9331634642455717, -1.4756353066338894, -0.5498784419240511, -0.458098236707881, -0.9104666571324511, 0.20670065102356916, 0.0830155408369381, -0.6887550473882589, -0.15356150177269845, 0.1898445896319369, 1.5570245821540418, -0.48490609458580614, 0.18169569818173226, 2.564620602836628, 1.8903740876444102, 1.2461723664406477, 2.6524424846113215, 3.6750915612925934, 3.6022080982429157, 3.8951727542540078, 3.3100675780288045, 2.876908560004731, 4.650094709068069, 4.378147193250875, 3.0110676527393068, 3.6228596956180574, 3.3031963329745904, 3.332477440954584, 3.562784909923561, 1.8094105218229626, 1.5791666368932349, 2.465853435267052, 2.442728788110828, 1.8125526305242834, 2.712627078318079, 4.448405687322178, 4.6873042365330555, 4.459220282151244, 3.8509390442755844]}],\n                        {\"legend\": {\"bgcolor\": \"#F5F6F9\", \"font\": {\"color\": \"#4D5663\"}}, \"paper_bgcolor\": \"#F5F6F9\", \"plot_bgcolor\": \"#F5F6F9\", \"template\": {\"data\": {\"bar\": [{\"error_x\": {\"color\": \"#2a3f5f\"}, \"error_y\": {\"color\": \"#2a3f5f\"}, \"marker\": {\"line\": {\"color\": \"#E5ECF6\", \"width\": 0.5}}, \"type\": \"bar\"}], \"barpolar\": [{\"marker\": {\"line\": {\"color\": \"#E5ECF6\", \"width\": 0.5}}, \"type\": \"barpolar\"}], \"carpet\": [{\"aaxis\": {\"endlinecolor\": \"#2a3f5f\", \"gridcolor\": \"white\", \"linecolor\": \"white\", \"minorgridcolor\": \"white\", \"startlinecolor\": \"#2a3f5f\"}, \"baxis\": {\"endlinecolor\": \"#2a3f5f\", \"gridcolor\": \"white\", \"linecolor\": \"white\", \"minorgridcolor\": \"white\", \"startlinecolor\": \"#2a3f5f\"}, \"type\": \"carpet\"}], \"choropleth\": [{\"colorbar\": {\"outlinewidth\": 0, \"ticks\": \"\"}, \"type\": \"choropleth\"}], \"contour\": [{\"colorbar\": {\"outlinewidth\": 0, \"ticks\": \"\"}, \"colorscale\": [[0.0, \"#0d0887\"], [0.1111111111111111, \"#46039f\"], [0.2222222222222222, \"#7201a8\"], [0.3333333333333333, \"#9c179e\"], [0.4444444444444444, \"#bd3786\"], [0.5555555555555556, \"#d8576b\"], [0.6666666666666666, \"#ed7953\"], [0.7777777777777778, \"#fb9f3a\"], [0.8888888888888888, \"#fdca26\"], [1.0, \"#f0f921\"]], \"type\": \"contour\"}], \"contourcarpet\": [{\"colorbar\": {\"outlinewidth\": 0, \"ticks\": \"\"}, \"type\": \"contourcarpet\"}], \"heatmap\": [{\"colorbar\": {\"outlinewidth\": 0, \"ticks\": \"\"}, \"colorscale\": [[0.0, \"#0d0887\"], [0.1111111111111111, \"#46039f\"], [0.2222222222222222, \"#7201a8\"], [0.3333333333333333, \"#9c179e\"], [0.4444444444444444, \"#bd3786\"], [0.5555555555555556, \"#d8576b\"], [0.6666666666666666, \"#ed7953\"], [0.7777777777777778, \"#fb9f3a\"], [0.8888888888888888, \"#fdca26\"], [1.0, \"#f0f921\"]], \"type\": \"heatmap\"}], \"heatmapgl\": [{\"colorbar\": {\"outlinewidth\": 0, \"ticks\": \"\"}, \"colorscale\": [[0.0, \"#0d0887\"], [0.1111111111111111, \"#46039f\"], [0.2222222222222222, \"#7201a8\"], [0.3333333333333333, \"#9c179e\"], [0.4444444444444444, \"#bd3786\"], [0.5555555555555556, \"#d8576b\"], [0.6666666666666666, \"#ed7953\"], [0.7777777777777778, \"#fb9f3a\"], [0.8888888888888888, \"#fdca26\"], [1.0, \"#f0f921\"]], \"type\": \"heatmapgl\"}], \"histogram\": [{\"marker\": {\"colorbar\": {\"outlinewidth\": 0, \"ticks\": \"\"}}, \"type\": \"histogram\"}], \"histogram2d\": [{\"colorbar\": {\"outlinewidth\": 0, \"ticks\": \"\"}, \"colorscale\": [[0.0, \"#0d0887\"], [0.1111111111111111, \"#46039f\"], [0.2222222222222222, \"#7201a8\"], [0.3333333333333333, \"#9c179e\"], [0.4444444444444444, \"#bd3786\"], [0.5555555555555556, \"#d8576b\"], [0.6666666666666666, \"#ed7953\"], [0.7777777777777778, \"#fb9f3a\"], [0.8888888888888888, \"#fdca26\"], [1.0, \"#f0f921\"]], \"type\": \"histogram2d\"}], \"histogram2dcontour\": [{\"colorbar\": {\"outlinewidth\": 0, \"ticks\": \"\"}, \"colorscale\": [[0.0, \"#0d0887\"], [0.1111111111111111, \"#46039f\"], [0.2222222222222222, \"#7201a8\"], [0.3333333333333333, \"#9c179e\"], [0.4444444444444444, \"#bd3786\"], [0.5555555555555556, \"#d8576b\"], [0.6666666666666666, \"#ed7953\"], [0.7777777777777778, \"#fb9f3a\"], [0.8888888888888888, \"#fdca26\"], [1.0, \"#f0f921\"]], \"type\": \"histogram2dcontour\"}], \"mesh3d\": [{\"colorbar\": {\"outlinewidth\": 0, \"ticks\": \"\"}, \"type\": \"mesh3d\"}], \"parcoords\": [{\"line\": {\"colorbar\": {\"outlinewidth\": 0, \"ticks\": \"\"}}, \"type\": \"parcoords\"}], \"pie\": [{\"automargin\": true, \"type\": \"pie\"}], \"scatter\": [{\"marker\": {\"colorbar\": {\"outlinewidth\": 0, \"ticks\": \"\"}}, \"type\": \"scatter\"}], \"scatter3d\": [{\"line\": {\"colorbar\": {\"outlinewidth\": 0, \"ticks\": \"\"}}, \"marker\": {\"colorbar\": {\"outlinewidth\": 0, \"ticks\": \"\"}}, \"type\": \"scatter3d\"}], \"scattercarpet\": [{\"marker\": {\"colorbar\": {\"outlinewidth\": 0, \"ticks\": \"\"}}, \"type\": \"scattercarpet\"}], \"scattergeo\": [{\"marker\": {\"colorbar\": {\"outlinewidth\": 0, \"ticks\": \"\"}}, \"type\": \"scattergeo\"}], \"scattergl\": [{\"marker\": {\"colorbar\": {\"outlinewidth\": 0, \"ticks\": \"\"}}, \"type\": \"scattergl\"}], \"scattermapbox\": [{\"marker\": {\"colorbar\": {\"outlinewidth\": 0, \"ticks\": \"\"}}, \"type\": \"scattermapbox\"}], \"scatterpolar\": [{\"marker\": {\"colorbar\": {\"outlinewidth\": 0, \"ticks\": \"\"}}, \"type\": \"scatterpolar\"}], \"scatterpolargl\": [{\"marker\": {\"colorbar\": {\"outlinewidth\": 0, \"ticks\": \"\"}}, \"type\": \"scatterpolargl\"}], \"scatterternary\": [{\"marker\": {\"colorbar\": {\"outlinewidth\": 0, \"ticks\": \"\"}}, \"type\": \"scatterternary\"}], \"surface\": [{\"colorbar\": {\"outlinewidth\": 0, \"ticks\": \"\"}, \"colorscale\": [[0.0, \"#0d0887\"], [0.1111111111111111, \"#46039f\"], [0.2222222222222222, \"#7201a8\"], [0.3333333333333333, \"#9c179e\"], [0.4444444444444444, \"#bd3786\"], [0.5555555555555556, \"#d8576b\"], [0.6666666666666666, \"#ed7953\"], [0.7777777777777778, \"#fb9f3a\"], [0.8888888888888888, \"#fdca26\"], [1.0, \"#f0f921\"]], \"type\": \"surface\"}], \"table\": [{\"cells\": {\"fill\": {\"color\": \"#EBF0F8\"}, \"line\": {\"color\": \"white\"}}, \"header\": {\"fill\": {\"color\": \"#C8D4E3\"}, \"line\": {\"color\": \"white\"}}, \"type\": \"table\"}]}, \"layout\": {\"annotationdefaults\": {\"arrowcolor\": \"#2a3f5f\", \"arrowhead\": 0, \"arrowwidth\": 1}, \"coloraxis\": {\"colorbar\": {\"outlinewidth\": 0, \"ticks\": \"\"}}, \"colorscale\": {\"diverging\": [[0, \"#8e0152\"], [0.1, \"#c51b7d\"], [0.2, \"#de77ae\"], [0.3, \"#f1b6da\"], [0.4, \"#fde0ef\"], [0.5, \"#f7f7f7\"], [0.6, \"#e6f5d0\"], [0.7, \"#b8e186\"], [0.8, \"#7fbc41\"], [0.9, \"#4d9221\"], [1, \"#276419\"]], \"sequential\": [[0.0, \"#0d0887\"], [0.1111111111111111, \"#46039f\"], [0.2222222222222222, \"#7201a8\"], [0.3333333333333333, \"#9c179e\"], [0.4444444444444444, \"#bd3786\"], [0.5555555555555556, \"#d8576b\"], [0.6666666666666666, \"#ed7953\"], [0.7777777777777778, \"#fb9f3a\"], [0.8888888888888888, \"#fdca26\"], [1.0, \"#f0f921\"]], \"sequentialminus\": [[0.0, \"#0d0887\"], [0.1111111111111111, \"#46039f\"], [0.2222222222222222, \"#7201a8\"], [0.3333333333333333, \"#9c179e\"], [0.4444444444444444, \"#bd3786\"], [0.5555555555555556, \"#d8576b\"], [0.6666666666666666, \"#ed7953\"], [0.7777777777777778, \"#fb9f3a\"], [0.8888888888888888, \"#fdca26\"], [1.0, \"#f0f921\"]]}, \"colorway\": [\"#636efa\", \"#EF553B\", \"#00cc96\", \"#ab63fa\", \"#FFA15A\", \"#19d3f3\", \"#FF6692\", \"#B6E880\", \"#FF97FF\", \"#FECB52\"], \"font\": {\"color\": \"#2a3f5f\"}, \"geo\": {\"bgcolor\": \"white\", \"lakecolor\": \"white\", \"landcolor\": \"#E5ECF6\", \"showlakes\": true, \"showland\": true, \"subunitcolor\": \"white\"}, \"hoverlabel\": {\"align\": \"left\"}, \"hovermode\": \"closest\", \"mapbox\": {\"style\": \"light\"}, \"paper_bgcolor\": \"white\", \"plot_bgcolor\": \"#E5ECF6\", \"polar\": {\"angularaxis\": {\"gridcolor\": \"white\", \"linecolor\": \"white\", \"ticks\": \"\"}, \"bgcolor\": \"#E5ECF6\", \"radialaxis\": {\"gridcolor\": \"white\", \"linecolor\": \"white\", \"ticks\": \"\"}}, \"scene\": {\"xaxis\": {\"backgroundcolor\": \"#E5ECF6\", \"gridcolor\": \"white\", \"gridwidth\": 2, \"linecolor\": \"white\", \"showbackground\": true, \"ticks\": \"\", \"zerolinecolor\": \"white\"}, \"yaxis\": {\"backgroundcolor\": \"#E5ECF6\", \"gridcolor\": \"white\", \"gridwidth\": 2, \"linecolor\": \"white\", \"showbackground\": true, \"ticks\": \"\", \"zerolinecolor\": \"white\"}, \"zaxis\": {\"backgroundcolor\": \"#E5ECF6\", \"gridcolor\": \"white\", \"gridwidth\": 2, \"linecolor\": \"white\", \"showbackground\": true, \"ticks\": \"\", \"zerolinecolor\": \"white\"}}, \"shapedefaults\": {\"line\": {\"color\": \"#2a3f5f\"}}, \"ternary\": {\"aaxis\": {\"gridcolor\": \"white\", \"linecolor\": \"white\", \"ticks\": \"\"}, \"baxis\": {\"gridcolor\": \"white\", \"linecolor\": \"white\", \"ticks\": \"\"}, \"bgcolor\": \"#E5ECF6\", \"caxis\": {\"gridcolor\": \"white\", \"linecolor\": \"white\", \"ticks\": \"\"}}, \"title\": {\"x\": 0.05}, \"xaxis\": {\"automargin\": true, \"gridcolor\": \"white\", \"linecolor\": \"white\", \"ticks\": \"\", \"title\": {\"standoff\": 15}, \"zerolinecolor\": \"white\", \"zerolinewidth\": 2}, \"yaxis\": {\"automargin\": true, \"gridcolor\": \"white\", \"linecolor\": \"white\", \"ticks\": \"\", \"title\": {\"standoff\": 15}, \"zerolinecolor\": \"white\", \"zerolinewidth\": 2}}}, \"title\": {\"font\": {\"color\": \"#4D5663\"}, \"x\": 0.5}, \"xaxis\": {\"gridcolor\": \"#E1E5ED\", \"showgrid\": true, \"tickfont\": {\"color\": \"#4D5663\"}, \"title\": {\"font\": {\"color\": \"#4D5663\"}, \"text\": \"\"}, \"zerolinecolor\": \"#E1E5ED\"}, \"yaxis\": {\"gridcolor\": \"#E1E5ED\", \"showgrid\": true, \"tickfont\": {\"color\": \"#4D5663\"}, \"title\": {\"font\": {\"color\": \"#4D5663\"}, \"text\": \"\"}, \"zerolinecolor\": \"#E1E5ED\"}},\n                        {\"showLink\": true, \"linkText\": \"Export to plot.ly\", \"plotlyServerURL\": \"https://plot.ly\", \"responsive\": true}\n                    ).then(function(){\n                            \nvar gd = document.getElementById('579b2d13-16d9-43e9-9e38-8c8441cdade0');\nvar x = new MutationObserver(function (mutations, observer) {{\n        var display = window.getComputedStyle(gd).display;\n        if (!display || display === 'none') {{\n            console.log([gd, 'removed!']);\n            Plotly.purge(gd);\n            observer.disconnect();\n        }}\n}});\n\n// Listen for the removal of the full notebook cells\nvar notebookContainer = gd.closest('#notebook-container');\nif (notebookContainer) {{\n    x.observe(notebookContainer, {childList: true});\n}}\n\n// Listen for the clearing of the current output cell\nvar outputEl = gd.closest('.output');\nif (outputEl) {{\n    x.observe(outputEl, {childList: true});\n}}\n\n                        })\n                };\n                });\n            </script>\n        </div>"
     },
     "metadata": {}
    }
   ],
   "source": [
    "df.iplot(filename='Tutorial 1')"
   ]
  },
  {
   "cell_type": "markdown",
   "metadata": {},
   "source": [
    "### Customizing Themes\n",
    "\n",
    "We can pass a **theme** to the **iplot** function. \n",
    "3 themes are available, but you can create your own\n",
    "* Solar\n",
    "* Pearl (Default)\n",
    "* White"
   ]
  },
  {
   "cell_type": "code",
   "execution_count": 6,
   "metadata": {},
   "outputs": [
    {
     "output_type": "display_data",
     "data": {
      "application/vnd.plotly.v1+json": {
       "config": {
        "linkText": "Export to plot.ly",
        "plotlyServerURL": "https://plot.ly",
        "showLink": true
       },
       "data": [
        {
         "line": {
          "color": "rgba(255, 153, 51, 1.0)",
          "dash": "solid",
          "shape": "linear",
          "width": 1.3
         },
         "mode": "lines",
         "name": "APPL",
         "text": "",
         "type": "scatter",
         "x": [
          "2015-01-01",
          "2015-01-02",
          "2015-01-03",
          "2015-01-04",
          "2015-01-05",
          "2015-01-06",
          "2015-01-07",
          "2015-01-08",
          "2015-01-09",
          "2015-01-10",
          "2015-01-11",
          "2015-01-12",
          "2015-01-13",
          "2015-01-14",
          "2015-01-15",
          "2015-01-16",
          "2015-01-17",
          "2015-01-18",
          "2015-01-19",
          "2015-01-20",
          "2015-01-21",
          "2015-01-22",
          "2015-01-23",
          "2015-01-24",
          "2015-01-25",
          "2015-01-26",
          "2015-01-27",
          "2015-01-28",
          "2015-01-29",
          "2015-01-30",
          "2015-01-31",
          "2015-02-01",
          "2015-02-02",
          "2015-02-03",
          "2015-02-04",
          "2015-02-05",
          "2015-02-06",
          "2015-02-07",
          "2015-02-08",
          "2015-02-09",
          "2015-02-10",
          "2015-02-11",
          "2015-02-12",
          "2015-02-13",
          "2015-02-14",
          "2015-02-15",
          "2015-02-16",
          "2015-02-17",
          "2015-02-18",
          "2015-02-19",
          "2015-02-20",
          "2015-02-21",
          "2015-02-22",
          "2015-02-23",
          "2015-02-24",
          "2015-02-25",
          "2015-02-26",
          "2015-02-27",
          "2015-02-28",
          "2015-03-01",
          "2015-03-02",
          "2015-03-03",
          "2015-03-04",
          "2015-03-05",
          "2015-03-06",
          "2015-03-07",
          "2015-03-08",
          "2015-03-09",
          "2015-03-10",
          "2015-03-11",
          "2015-03-12",
          "2015-03-13",
          "2015-03-14",
          "2015-03-15",
          "2015-03-16",
          "2015-03-17",
          "2015-03-18",
          "2015-03-19",
          "2015-03-20",
          "2015-03-21",
          "2015-03-22",
          "2015-03-23",
          "2015-03-24",
          "2015-03-25",
          "2015-03-26",
          "2015-03-27",
          "2015-03-28",
          "2015-03-29",
          "2015-03-30",
          "2015-03-31",
          "2015-04-01",
          "2015-04-02",
          "2015-04-03",
          "2015-04-04",
          "2015-04-05",
          "2015-04-06",
          "2015-04-07",
          "2015-04-08",
          "2015-04-09",
          "2015-04-10"
         ],
         "y": [
          -0.8091304123445491,
          -0.7329208464625815,
          -0.6575082144050455,
          1.3815571912376952,
          1.8805686830595687,
          1.5297260792999725,
          1.4100132350213395,
          1.482655244407929,
          1.8986271894839015,
          0.7551462280199512,
          -1.2635586383299646,
          -1.1617282471557315,
          -0.18016902817091962,
          -2.0870846482101717,
          -1.3472919376425105,
          -2.0892003539609885,
          -3.255863774094439,
          -3.4823489131295795,
          -2.58657821115114,
          -3.329971408688671,
          -4.396850652693731,
          -4.5572366955919845,
          -4.976248583915539,
          -5.137769364408434,
          -3.986759168523533,
          -5.114106026212177,
          -5.05454565008468,
          -5.209908155149506,
          -3.704764236748535,
          -3.8335699358564383,
          -3.8284626251618104,
          -4.138337739750897,
          -2.760382292999953,
          -2.003802334787866,
          -1.6745988874391742,
          -1.6549155931837969,
          -0.40615769074592745,
          -1.031799377058858,
          0.778163809949983,
          0.4460343111891075,
          1.2237443866233204,
          0.7430041870203119,
          0.08689711978355097,
          0.2856354496267597,
          -1.5307847228217704,
          -3.141760851521326,
          -3.874596537007455,
          -5.008113127120248,
          -5.22679662513061,
          -3.0707428615364605,
          -3.0834156484059285,
          -2.4195457502976803,
          -3.4921371663300342,
          -2.5063783349351354,
          -3.5666507281076694,
          -3.823251676980955,
          -4.430548756385592,
          -2.992139404769264,
          -2.3067855839052798,
          -1.7911056989276541,
          -1.3167765969291252,
          -1.9331634642455717,
          -1.4756353066338894,
          -0.5498784419240511,
          -0.458098236707881,
          -0.9104666571324511,
          0.20670065102356916,
          0.0830155408369381,
          -0.6887550473882589,
          -0.15356150177269845,
          0.1898445896319369,
          1.5570245821540418,
          -0.48490609458580614,
          0.18169569818173226,
          2.564620602836628,
          1.8903740876444102,
          1.2461723664406477,
          2.6524424846113215,
          3.6750915612925934,
          3.6022080982429157,
          3.8951727542540078,
          3.3100675780288045,
          2.876908560004731,
          4.650094709068069,
          4.378147193250875,
          3.0110676527393068,
          3.6228596956180574,
          3.3031963329745904,
          3.332477440954584,
          3.562784909923561,
          1.8094105218229626,
          1.5791666368932349,
          2.465853435267052,
          2.442728788110828,
          1.8125526305242834,
          2.712627078318079,
          4.448405687322178,
          4.6873042365330555,
          4.459220282151244,
          3.8509390442755844
         ]
        },
        {
         "line": {
          "color": "rgba(55, 128, 191, 1.0)",
          "dash": "solid",
          "shape": "linear",
          "width": 1.3
         },
         "mode": "lines",
         "name": "IBM",
         "text": "",
         "type": "scatter",
         "x": [
          "2015-01-01",
          "2015-01-02",
          "2015-01-03",
          "2015-01-04",
          "2015-01-05",
          "2015-01-06",
          "2015-01-07",
          "2015-01-08",
          "2015-01-09",
          "2015-01-10",
          "2015-01-11",
          "2015-01-12",
          "2015-01-13",
          "2015-01-14",
          "2015-01-15",
          "2015-01-16",
          "2015-01-17",
          "2015-01-18",
          "2015-01-19",
          "2015-01-20",
          "2015-01-21",
          "2015-01-22",
          "2015-01-23",
          "2015-01-24",
          "2015-01-25",
          "2015-01-26",
          "2015-01-27",
          "2015-01-28",
          "2015-01-29",
          "2015-01-30",
          "2015-01-31",
          "2015-02-01",
          "2015-02-02",
          "2015-02-03",
          "2015-02-04",
          "2015-02-05",
          "2015-02-06",
          "2015-02-07",
          "2015-02-08",
          "2015-02-09",
          "2015-02-10",
          "2015-02-11",
          "2015-02-12",
          "2015-02-13",
          "2015-02-14",
          "2015-02-15",
          "2015-02-16",
          "2015-02-17",
          "2015-02-18",
          "2015-02-19",
          "2015-02-20",
          "2015-02-21",
          "2015-02-22",
          "2015-02-23",
          "2015-02-24",
          "2015-02-25",
          "2015-02-26",
          "2015-02-27",
          "2015-02-28",
          "2015-03-01",
          "2015-03-02",
          "2015-03-03",
          "2015-03-04",
          "2015-03-05",
          "2015-03-06",
          "2015-03-07",
          "2015-03-08",
          "2015-03-09",
          "2015-03-10",
          "2015-03-11",
          "2015-03-12",
          "2015-03-13",
          "2015-03-14",
          "2015-03-15",
          "2015-03-16",
          "2015-03-17",
          "2015-03-18",
          "2015-03-19",
          "2015-03-20",
          "2015-03-21",
          "2015-03-22",
          "2015-03-23",
          "2015-03-24",
          "2015-03-25",
          "2015-03-26",
          "2015-03-27",
          "2015-03-28",
          "2015-03-29",
          "2015-03-30",
          "2015-03-31",
          "2015-04-01",
          "2015-04-02",
          "2015-04-03",
          "2015-04-04",
          "2015-04-05",
          "2015-04-06",
          "2015-04-07",
          "2015-04-08",
          "2015-04-09",
          "2015-04-10"
         ],
         "y": [
          1.204634807161707,
          0.9145006657511832,
          1.218380555193714,
          1.6040010922114574,
          1.8507033314358179,
          4.066880405623611,
          3.9518239112895603,
          3.343657322630591,
          2.6993826172728155,
          1.7937813998056815,
          3.3904206501079903,
          3.345034922314204,
          2.8517905735877718,
          2.8932554343515426,
          2.6287434615650396,
          3.679479655990322,
          4.944291988023277,
          2.9551589923384833,
          1.970315548397061,
          4.133925997771108,
          3.573572250821949,
          2.2801057441736505,
          2.796887744081139,
          3.932794382724473,
          4.684296090776566,
          2.8116890200753795,
          4.384379914695954,
          4.971081521334814,
          4.186258478209225,
          3.761632047985512,
          2.3170347129796856,
          2.1401733562384115,
          3.196995662718602,
          3.5409634047460994,
          2.821265452008573,
          2.723780481480727,
          4.4033201312379155,
          4.7153130149928,
          4.997103372287718,
          3.9065268548223937,
          3.9687873891992123,
          3.4634482916119396,
          4.375837100021135,
          4.818047771512238,
          4.1993376531312485,
          4.645450687143723,
          3.599444565065083,
          4.643770490966302,
          5.750552089295493,
          7.627080128570817,
          7.862509075905664,
          7.567351742017961,
          6.617686040286462,
          7.0447515896015735,
          5.6656921950987265,
          5.5417453482215295,
          5.300541310566457,
          6.197160360699273,
          6.973910554277696,
          6.614186238837551,
          5.70209439422732,
          5.787684024812829,
          4.967521027775211,
          3.016285683828192,
          2.993551445823966,
          1.458684884800412,
          1.9699409510984167,
          3.9649806008166273,
          2.179191362941848,
          1.2441913085533476,
          -0.12680808196925897,
          -1.2212833718971874,
          -0.012870929969344802,
          -0.8054526521075539,
          0.2854382558167422,
          2.1718688636009036,
          1.619714167525475,
          1.5986208166867795,
          1.043527737653303,
          0.5643284317133457,
          0.7087707869791047,
          -0.32026411470649707,
          -2.423211570673105,
          -3.299175701949043,
          -3.050376069362347,
          -4.116508254409561,
          -4.621563417035203,
          -4.049924836831571,
          -3.4946903347242353,
          -3.077705559917039,
          -3.098470907212177,
          -1.6145923365328922,
          -1.1547366322244565,
          -2.1873182602382837,
          -1.887737928204876,
          -0.6839643367947077,
          -0.31528962727014875,
          -1.0087476245153408,
          -2.5148423931404507,
          -1.5810877447705447
         ]
        },
        {
         "line": {
          "color": "rgba(50, 171, 96, 1.0)",
          "dash": "solid",
          "shape": "linear",
          "width": 1.3
         },
         "mode": "lines",
         "name": "VERZ",
         "text": "",
         "type": "scatter",
         "x": [
          "2015-01-01",
          "2015-01-02",
          "2015-01-03",
          "2015-01-04",
          "2015-01-05",
          "2015-01-06",
          "2015-01-07",
          "2015-01-08",
          "2015-01-09",
          "2015-01-10",
          "2015-01-11",
          "2015-01-12",
          "2015-01-13",
          "2015-01-14",
          "2015-01-15",
          "2015-01-16",
          "2015-01-17",
          "2015-01-18",
          "2015-01-19",
          "2015-01-20",
          "2015-01-21",
          "2015-01-22",
          "2015-01-23",
          "2015-01-24",
          "2015-01-25",
          "2015-01-26",
          "2015-01-27",
          "2015-01-28",
          "2015-01-29",
          "2015-01-30",
          "2015-01-31",
          "2015-02-01",
          "2015-02-02",
          "2015-02-03",
          "2015-02-04",
          "2015-02-05",
          "2015-02-06",
          "2015-02-07",
          "2015-02-08",
          "2015-02-09",
          "2015-02-10",
          "2015-02-11",
          "2015-02-12",
          "2015-02-13",
          "2015-02-14",
          "2015-02-15",
          "2015-02-16",
          "2015-02-17",
          "2015-02-18",
          "2015-02-19",
          "2015-02-20",
          "2015-02-21",
          "2015-02-22",
          "2015-02-23",
          "2015-02-24",
          "2015-02-25",
          "2015-02-26",
          "2015-02-27",
          "2015-02-28",
          "2015-03-01",
          "2015-03-02",
          "2015-03-03",
          "2015-03-04",
          "2015-03-05",
          "2015-03-06",
          "2015-03-07",
          "2015-03-08",
          "2015-03-09",
          "2015-03-10",
          "2015-03-11",
          "2015-03-12",
          "2015-03-13",
          "2015-03-14",
          "2015-03-15",
          "2015-03-16",
          "2015-03-17",
          "2015-03-18",
          "2015-03-19",
          "2015-03-20",
          "2015-03-21",
          "2015-03-22",
          "2015-03-23",
          "2015-03-24",
          "2015-03-25",
          "2015-03-26",
          "2015-03-27",
          "2015-03-28",
          "2015-03-29",
          "2015-03-30",
          "2015-03-31",
          "2015-04-01",
          "2015-04-02",
          "2015-04-03",
          "2015-04-04",
          "2015-04-05",
          "2015-04-06",
          "2015-04-07",
          "2015-04-08",
          "2015-04-09",
          "2015-04-10"
         ],
         "y": [
          -0.14798997143547915,
          -0.7425181638076277,
          -1.629112387980162,
          -1.1534696529044854,
          -1.6916336318363019,
          -2.1993395653892347,
          -2.5420785946771374,
          -3.249116056341389,
          -1.2596339737619773,
          -1.1431606521394526,
          -1.591803171812925,
          -0.2835944499728289,
          -0.7462854607485447,
          -0.21187646900463442,
          1.1332111485517466,
          -0.41140209681748763,
          -0.07764236418693948,
          0.3840523760865555,
          0.3806219878429994,
          0.4184229671916261,
          -0.9519937067082221,
          0.14408463639206925,
          0.26377743175971813,
          0.42678343645240235,
          -0.9424001163610074,
          -1.7604137942702862,
          -1.2907716439042218,
          1.0630981669304322,
          1.0902998744576748,
          2.524916666502402,
          3.384885588190943,
          5.036316160354567,
          4.767203934327283,
          4.858948011378686,
          4.510420682566213,
          5.792567762513112,
          4.703661698896927,
          3.823605711307492,
          3.8068604096761427,
          4.613704598588734,
          3.2228860410149407,
          3.1682138945339773,
          3.556497918312706,
          4.1563789470447485,
          6.178543778204498,
          6.193656777865214,
          4.516139346557444,
          5.6279628611295385,
          5.093092493583762,
          3.612856913279101,
          3.8702174842042387,
          5.39335992080307,
          6.439817670790796,
          7.533093530210259,
          6.582016553867401,
          4.921727440991564,
          5.568043760905853,
          8.285708786755254,
          8.364612432382978,
          7.883165005915357,
          6.672987596795707,
          6.590060655078807,
          8.56443044442024,
          8.452621619423141,
          8.231792039767997,
          8.06878543193988,
          6.650407145787599,
          6.322040091543126,
          7.3128934837617035,
          7.501145391479421,
          4.808823390778633,
          4.762035814722748,
          5.680327554796811,
          6.6410803503198474,
          6.173067765937346,
          5.714279697407312,
          7.173736382596482,
          5.262584850059834,
          6.354690181400844,
          5.424689717255171,
          3.348070717794639,
          4.194635627534584,
          3.7484208696640002,
          2.8974748414271505,
          3.2102163573648888,
          2.642360238692871,
          1.0223478845888063,
          0.5894718601443806,
          2.310612385325222,
          2.5287376463928646,
          3.982459441623575,
          3.742749447810474,
          3.0850362775278493,
          2.4032408097853932,
          1.897205058588498,
          4.650433498714276,
          3.4849138902296843,
          4.017518372219557,
          2.9204274054378057,
          2.3720445077861267
         ]
        }
       ],
       "layout": {
        "legend": {
         "bgcolor": "#FFFFFF",
         "font": {
          "color": "#4D5663"
         }
        },
        "paper_bgcolor": "#FFFFFF",
        "plot_bgcolor": "#FFFFFF",
        "template": {
         "data": {
          "bar": [
           {
            "error_x": {
             "color": "#2a3f5f"
            },
            "error_y": {
             "color": "#2a3f5f"
            },
            "marker": {
             "line": {
              "color": "#E5ECF6",
              "width": 0.5
             }
            },
            "type": "bar"
           }
          ],
          "barpolar": [
           {
            "marker": {
             "line": {
              "color": "#E5ECF6",
              "width": 0.5
             }
            },
            "type": "barpolar"
           }
          ],
          "carpet": [
           {
            "aaxis": {
             "endlinecolor": "#2a3f5f",
             "gridcolor": "white",
             "linecolor": "white",
             "minorgridcolor": "white",
             "startlinecolor": "#2a3f5f"
            },
            "baxis": {
             "endlinecolor": "#2a3f5f",
             "gridcolor": "white",
             "linecolor": "white",
             "minorgridcolor": "white",
             "startlinecolor": "#2a3f5f"
            },
            "type": "carpet"
           }
          ],
          "choropleth": [
           {
            "colorbar": {
             "outlinewidth": 0,
             "ticks": ""
            },
            "type": "choropleth"
           }
          ],
          "contour": [
           {
            "colorbar": {
             "outlinewidth": 0,
             "ticks": ""
            },
            "colorscale": [
             [
              0,
              "#0d0887"
             ],
             [
              0.1111111111111111,
              "#46039f"
             ],
             [
              0.2222222222222222,
              "#7201a8"
             ],
             [
              0.3333333333333333,
              "#9c179e"
             ],
             [
              0.4444444444444444,
              "#bd3786"
             ],
             [
              0.5555555555555556,
              "#d8576b"
             ],
             [
              0.6666666666666666,
              "#ed7953"
             ],
             [
              0.7777777777777778,
              "#fb9f3a"
             ],
             [
              0.8888888888888888,
              "#fdca26"
             ],
             [
              1,
              "#f0f921"
             ]
            ],
            "type": "contour"
           }
          ],
          "contourcarpet": [
           {
            "colorbar": {
             "outlinewidth": 0,
             "ticks": ""
            },
            "type": "contourcarpet"
           }
          ],
          "heatmap": [
           {
            "colorbar": {
             "outlinewidth": 0,
             "ticks": ""
            },
            "colorscale": [
             [
              0,
              "#0d0887"
             ],
             [
              0.1111111111111111,
              "#46039f"
             ],
             [
              0.2222222222222222,
              "#7201a8"
             ],
             [
              0.3333333333333333,
              "#9c179e"
             ],
             [
              0.4444444444444444,
              "#bd3786"
             ],
             [
              0.5555555555555556,
              "#d8576b"
             ],
             [
              0.6666666666666666,
              "#ed7953"
             ],
             [
              0.7777777777777778,
              "#fb9f3a"
             ],
             [
              0.8888888888888888,
              "#fdca26"
             ],
             [
              1,
              "#f0f921"
             ]
            ],
            "type": "heatmap"
           }
          ],
          "heatmapgl": [
           {
            "colorbar": {
             "outlinewidth": 0,
             "ticks": ""
            },
            "colorscale": [
             [
              0,
              "#0d0887"
             ],
             [
              0.1111111111111111,
              "#46039f"
             ],
             [
              0.2222222222222222,
              "#7201a8"
             ],
             [
              0.3333333333333333,
              "#9c179e"
             ],
             [
              0.4444444444444444,
              "#bd3786"
             ],
             [
              0.5555555555555556,
              "#d8576b"
             ],
             [
              0.6666666666666666,
              "#ed7953"
             ],
             [
              0.7777777777777778,
              "#fb9f3a"
             ],
             [
              0.8888888888888888,
              "#fdca26"
             ],
             [
              1,
              "#f0f921"
             ]
            ],
            "type": "heatmapgl"
           }
          ],
          "histogram": [
           {
            "marker": {
             "colorbar": {
              "outlinewidth": 0,
              "ticks": ""
             }
            },
            "type": "histogram"
           }
          ],
          "histogram2d": [
           {
            "colorbar": {
             "outlinewidth": 0,
             "ticks": ""
            },
            "colorscale": [
             [
              0,
              "#0d0887"
             ],
             [
              0.1111111111111111,
              "#46039f"
             ],
             [
              0.2222222222222222,
              "#7201a8"
             ],
             [
              0.3333333333333333,
              "#9c179e"
             ],
             [
              0.4444444444444444,
              "#bd3786"
             ],
             [
              0.5555555555555556,
              "#d8576b"
             ],
             [
              0.6666666666666666,
              "#ed7953"
             ],
             [
              0.7777777777777778,
              "#fb9f3a"
             ],
             [
              0.8888888888888888,
              "#fdca26"
             ],
             [
              1,
              "#f0f921"
             ]
            ],
            "type": "histogram2d"
           }
          ],
          "histogram2dcontour": [
           {
            "colorbar": {
             "outlinewidth": 0,
             "ticks": ""
            },
            "colorscale": [
             [
              0,
              "#0d0887"
             ],
             [
              0.1111111111111111,
              "#46039f"
             ],
             [
              0.2222222222222222,
              "#7201a8"
             ],
             [
              0.3333333333333333,
              "#9c179e"
             ],
             [
              0.4444444444444444,
              "#bd3786"
             ],
             [
              0.5555555555555556,
              "#d8576b"
             ],
             [
              0.6666666666666666,
              "#ed7953"
             ],
             [
              0.7777777777777778,
              "#fb9f3a"
             ],
             [
              0.8888888888888888,
              "#fdca26"
             ],
             [
              1,
              "#f0f921"
             ]
            ],
            "type": "histogram2dcontour"
           }
          ],
          "mesh3d": [
           {
            "colorbar": {
             "outlinewidth": 0,
             "ticks": ""
            },
            "type": "mesh3d"
           }
          ],
          "parcoords": [
           {
            "line": {
             "colorbar": {
              "outlinewidth": 0,
              "ticks": ""
             }
            },
            "type": "parcoords"
           }
          ],
          "pie": [
           {
            "automargin": true,
            "type": "pie"
           }
          ],
          "scatter": [
           {
            "marker": {
             "colorbar": {
              "outlinewidth": 0,
              "ticks": ""
             }
            },
            "type": "scatter"
           }
          ],
          "scatter3d": [
           {
            "line": {
             "colorbar": {
              "outlinewidth": 0,
              "ticks": ""
             }
            },
            "marker": {
             "colorbar": {
              "outlinewidth": 0,
              "ticks": ""
             }
            },
            "type": "scatter3d"
           }
          ],
          "scattercarpet": [
           {
            "marker": {
             "colorbar": {
              "outlinewidth": 0,
              "ticks": ""
             }
            },
            "type": "scattercarpet"
           }
          ],
          "scattergeo": [
           {
            "marker": {
             "colorbar": {
              "outlinewidth": 0,
              "ticks": ""
             }
            },
            "type": "scattergeo"
           }
          ],
          "scattergl": [
           {
            "marker": {
             "colorbar": {
              "outlinewidth": 0,
              "ticks": ""
             }
            },
            "type": "scattergl"
           }
          ],
          "scattermapbox": [
           {
            "marker": {
             "colorbar": {
              "outlinewidth": 0,
              "ticks": ""
             }
            },
            "type": "scattermapbox"
           }
          ],
          "scatterpolar": [
           {
            "marker": {
             "colorbar": {
              "outlinewidth": 0,
              "ticks": ""
             }
            },
            "type": "scatterpolar"
           }
          ],
          "scatterpolargl": [
           {
            "marker": {
             "colorbar": {
              "outlinewidth": 0,
              "ticks": ""
             }
            },
            "type": "scatterpolargl"
           }
          ],
          "scatterternary": [
           {
            "marker": {
             "colorbar": {
              "outlinewidth": 0,
              "ticks": ""
             }
            },
            "type": "scatterternary"
           }
          ],
          "surface": [
           {
            "colorbar": {
             "outlinewidth": 0,
             "ticks": ""
            },
            "colorscale": [
             [
              0,
              "#0d0887"
             ],
             [
              0.1111111111111111,
              "#46039f"
             ],
             [
              0.2222222222222222,
              "#7201a8"
             ],
             [
              0.3333333333333333,
              "#9c179e"
             ],
             [
              0.4444444444444444,
              "#bd3786"
             ],
             [
              0.5555555555555556,
              "#d8576b"
             ],
             [
              0.6666666666666666,
              "#ed7953"
             ],
             [
              0.7777777777777778,
              "#fb9f3a"
             ],
             [
              0.8888888888888888,
              "#fdca26"
             ],
             [
              1,
              "#f0f921"
             ]
            ],
            "type": "surface"
           }
          ],
          "table": [
           {
            "cells": {
             "fill": {
              "color": "#EBF0F8"
             },
             "line": {
              "color": "white"
             }
            },
            "header": {
             "fill": {
              "color": "#C8D4E3"
             },
             "line": {
              "color": "white"
             }
            },
            "type": "table"
           }
          ]
         },
         "layout": {
          "annotationdefaults": {
           "arrowcolor": "#2a3f5f",
           "arrowhead": 0,
           "arrowwidth": 1
          },
          "coloraxis": {
           "colorbar": {
            "outlinewidth": 0,
            "ticks": ""
           }
          },
          "colorscale": {
           "diverging": [
            [
             0,
             "#8e0152"
            ],
            [
             0.1,
             "#c51b7d"
            ],
            [
             0.2,
             "#de77ae"
            ],
            [
             0.3,
             "#f1b6da"
            ],
            [
             0.4,
             "#fde0ef"
            ],
            [
             0.5,
             "#f7f7f7"
            ],
            [
             0.6,
             "#e6f5d0"
            ],
            [
             0.7,
             "#b8e186"
            ],
            [
             0.8,
             "#7fbc41"
            ],
            [
             0.9,
             "#4d9221"
            ],
            [
             1,
             "#276419"
            ]
           ],
           "sequential": [
            [
             0,
             "#0d0887"
            ],
            [
             0.1111111111111111,
             "#46039f"
            ],
            [
             0.2222222222222222,
             "#7201a8"
            ],
            [
             0.3333333333333333,
             "#9c179e"
            ],
            [
             0.4444444444444444,
             "#bd3786"
            ],
            [
             0.5555555555555556,
             "#d8576b"
            ],
            [
             0.6666666666666666,
             "#ed7953"
            ],
            [
             0.7777777777777778,
             "#fb9f3a"
            ],
            [
             0.8888888888888888,
             "#fdca26"
            ],
            [
             1,
             "#f0f921"
            ]
           ],
           "sequentialminus": [
            [
             0,
             "#0d0887"
            ],
            [
             0.1111111111111111,
             "#46039f"
            ],
            [
             0.2222222222222222,
             "#7201a8"
            ],
            [
             0.3333333333333333,
             "#9c179e"
            ],
            [
             0.4444444444444444,
             "#bd3786"
            ],
            [
             0.5555555555555556,
             "#d8576b"
            ],
            [
             0.6666666666666666,
             "#ed7953"
            ],
            [
             0.7777777777777778,
             "#fb9f3a"
            ],
            [
             0.8888888888888888,
             "#fdca26"
            ],
            [
             1,
             "#f0f921"
            ]
           ]
          },
          "colorway": [
           "#636efa",
           "#EF553B",
           "#00cc96",
           "#ab63fa",
           "#FFA15A",
           "#19d3f3",
           "#FF6692",
           "#B6E880",
           "#FF97FF",
           "#FECB52"
          ],
          "font": {
           "color": "#2a3f5f"
          },
          "geo": {
           "bgcolor": "white",
           "lakecolor": "white",
           "landcolor": "#E5ECF6",
           "showlakes": true,
           "showland": true,
           "subunitcolor": "white"
          },
          "hoverlabel": {
           "align": "left"
          },
          "hovermode": "closest",
          "mapbox": {
           "style": "light"
          },
          "paper_bgcolor": "white",
          "plot_bgcolor": "#E5ECF6",
          "polar": {
           "angularaxis": {
            "gridcolor": "white",
            "linecolor": "white",
            "ticks": ""
           },
           "bgcolor": "#E5ECF6",
           "radialaxis": {
            "gridcolor": "white",
            "linecolor": "white",
            "ticks": ""
           }
          },
          "scene": {
           "xaxis": {
            "backgroundcolor": "#E5ECF6",
            "gridcolor": "white",
            "gridwidth": 2,
            "linecolor": "white",
            "showbackground": true,
            "ticks": "",
            "zerolinecolor": "white"
           },
           "yaxis": {
            "backgroundcolor": "#E5ECF6",
            "gridcolor": "white",
            "gridwidth": 2,
            "linecolor": "white",
            "showbackground": true,
            "ticks": "",
            "zerolinecolor": "white"
           },
           "zaxis": {
            "backgroundcolor": "#E5ECF6",
            "gridcolor": "white",
            "gridwidth": 2,
            "linecolor": "white",
            "showbackground": true,
            "ticks": "",
            "zerolinecolor": "white"
           }
          },
          "shapedefaults": {
           "line": {
            "color": "#2a3f5f"
           }
          },
          "ternary": {
           "aaxis": {
            "gridcolor": "white",
            "linecolor": "white",
            "ticks": ""
           },
           "baxis": {
            "gridcolor": "white",
            "linecolor": "white",
            "ticks": ""
           },
           "bgcolor": "#E5ECF6",
           "caxis": {
            "gridcolor": "white",
            "linecolor": "white",
            "ticks": ""
           }
          },
          "title": {
           "x": 0.05
          },
          "xaxis": {
           "automargin": true,
           "gridcolor": "white",
           "linecolor": "white",
           "ticks": "",
           "title": {
            "standoff": 15
           },
           "zerolinecolor": "white",
           "zerolinewidth": 2
          },
          "yaxis": {
           "automargin": true,
           "gridcolor": "white",
           "linecolor": "white",
           "ticks": "",
           "title": {
            "standoff": 15
           },
           "zerolinecolor": "white",
           "zerolinewidth": 2
          }
         }
        },
        "title": {
         "font": {
          "color": "#4D5663"
         },
         "x": 0.5
        },
        "xaxis": {
         "gridcolor": "#E1E5ED",
         "showgrid": true,
         "tickfont": {
          "color": "#4D5663"
         },
         "title": {
          "font": {
           "color": "#4D5663"
          },
          "text": ""
         },
         "zerolinecolor": "#E1E5ED"
        },
        "yaxis": {
         "gridcolor": "#E1E5ED",
         "showgrid": true,
         "tickfont": {
          "color": "#4D5663"
         },
         "title": {
          "font": {
           "color": "#4D5663"
          },
          "text": ""
         },
         "zerolinecolor": "#E1E5ED"
        }
       }
      },
      "text/html": "<div>\n        \n        \n            <div id=\"2f44e4c9-b08f-4b06-8ad2-ae815c437fdf\" class=\"plotly-graph-div\" style=\"height:525px; width:100%;\"></div>\n            <script type=\"text/javascript\">\n                require([\"plotly\"], function(Plotly) {\n                    window.PLOTLYENV=window.PLOTLYENV || {};\n                    window.PLOTLYENV.BASE_URL='https://plot.ly';\n                    \n                if (document.getElementById(\"2f44e4c9-b08f-4b06-8ad2-ae815c437fdf\")) {\n                    Plotly.newPlot(\n                        '2f44e4c9-b08f-4b06-8ad2-ae815c437fdf',\n                        [{\"line\": {\"color\": \"rgba(255, 153, 51, 1.0)\", \"dash\": \"solid\", \"shape\": \"linear\", \"width\": 1.3}, \"mode\": \"lines\", \"name\": \"APPL\", \"text\": \"\", \"type\": \"scatter\", \"x\": [\"2015-01-01\", \"2015-01-02\", \"2015-01-03\", \"2015-01-04\", \"2015-01-05\", \"2015-01-06\", \"2015-01-07\", \"2015-01-08\", \"2015-01-09\", \"2015-01-10\", \"2015-01-11\", \"2015-01-12\", \"2015-01-13\", \"2015-01-14\", \"2015-01-15\", \"2015-01-16\", \"2015-01-17\", \"2015-01-18\", \"2015-01-19\", \"2015-01-20\", \"2015-01-21\", \"2015-01-22\", \"2015-01-23\", \"2015-01-24\", \"2015-01-25\", \"2015-01-26\", \"2015-01-27\", \"2015-01-28\", \"2015-01-29\", \"2015-01-30\", \"2015-01-31\", \"2015-02-01\", \"2015-02-02\", \"2015-02-03\", \"2015-02-04\", \"2015-02-05\", \"2015-02-06\", \"2015-02-07\", \"2015-02-08\", \"2015-02-09\", \"2015-02-10\", \"2015-02-11\", \"2015-02-12\", \"2015-02-13\", \"2015-02-14\", \"2015-02-15\", \"2015-02-16\", \"2015-02-17\", \"2015-02-18\", \"2015-02-19\", \"2015-02-20\", \"2015-02-21\", \"2015-02-22\", \"2015-02-23\", \"2015-02-24\", \"2015-02-25\", \"2015-02-26\", \"2015-02-27\", \"2015-02-28\", \"2015-03-01\", \"2015-03-02\", \"2015-03-03\", \"2015-03-04\", \"2015-03-05\", \"2015-03-06\", \"2015-03-07\", \"2015-03-08\", \"2015-03-09\", \"2015-03-10\", \"2015-03-11\", \"2015-03-12\", \"2015-03-13\", \"2015-03-14\", \"2015-03-15\", \"2015-03-16\", \"2015-03-17\", \"2015-03-18\", \"2015-03-19\", \"2015-03-20\", \"2015-03-21\", \"2015-03-22\", \"2015-03-23\", \"2015-03-24\", \"2015-03-25\", \"2015-03-26\", \"2015-03-27\", \"2015-03-28\", \"2015-03-29\", \"2015-03-30\", \"2015-03-31\", \"2015-04-01\", \"2015-04-02\", \"2015-04-03\", \"2015-04-04\", \"2015-04-05\", \"2015-04-06\", \"2015-04-07\", \"2015-04-08\", \"2015-04-09\", \"2015-04-10\"], \"y\": [-0.8091304123445491, -0.7329208464625815, -0.6575082144050455, 1.3815571912376952, 1.8805686830595687, 1.5297260792999725, 1.4100132350213395, 1.482655244407929, 1.8986271894839015, 0.7551462280199512, -1.2635586383299646, -1.1617282471557315, -0.18016902817091962, -2.0870846482101717, -1.3472919376425105, -2.0892003539609885, -3.255863774094439, -3.4823489131295795, -2.58657821115114, -3.329971408688671, -4.396850652693731, -4.5572366955919845, -4.976248583915539, -5.137769364408434, -3.986759168523533, -5.114106026212177, -5.05454565008468, -5.209908155149506, -3.704764236748535, -3.8335699358564383, -3.8284626251618104, -4.138337739750897, -2.760382292999953, -2.003802334787866, -1.6745988874391742, -1.6549155931837969, -0.40615769074592745, -1.031799377058858, 0.778163809949983, 0.4460343111891075, 1.2237443866233204, 0.7430041870203119, 0.08689711978355097, 0.2856354496267597, -1.5307847228217704, -3.141760851521326, -3.874596537007455, -5.008113127120248, -5.22679662513061, -3.0707428615364605, -3.0834156484059285, -2.4195457502976803, -3.4921371663300342, -2.5063783349351354, -3.5666507281076694, -3.823251676980955, -4.430548756385592, -2.992139404769264, -2.3067855839052798, -1.7911056989276541, -1.3167765969291252, -1.9331634642455717, -1.4756353066338894, -0.5498784419240511, -0.458098236707881, -0.9104666571324511, 0.20670065102356916, 0.0830155408369381, -0.6887550473882589, -0.15356150177269845, 0.1898445896319369, 1.5570245821540418, -0.48490609458580614, 0.18169569818173226, 2.564620602836628, 1.8903740876444102, 1.2461723664406477, 2.6524424846113215, 3.6750915612925934, 3.6022080982429157, 3.8951727542540078, 3.3100675780288045, 2.876908560004731, 4.650094709068069, 4.378147193250875, 3.0110676527393068, 3.6228596956180574, 3.3031963329745904, 3.332477440954584, 3.562784909923561, 1.8094105218229626, 1.5791666368932349, 2.465853435267052, 2.442728788110828, 1.8125526305242834, 2.712627078318079, 4.448405687322178, 4.6873042365330555, 4.459220282151244, 3.8509390442755844]}, {\"line\": {\"color\": \"rgba(55, 128, 191, 1.0)\", \"dash\": \"solid\", \"shape\": \"linear\", \"width\": 1.3}, \"mode\": \"lines\", \"name\": \"IBM\", \"text\": \"\", \"type\": \"scatter\", \"x\": [\"2015-01-01\", \"2015-01-02\", \"2015-01-03\", \"2015-01-04\", \"2015-01-05\", \"2015-01-06\", \"2015-01-07\", \"2015-01-08\", \"2015-01-09\", \"2015-01-10\", \"2015-01-11\", \"2015-01-12\", \"2015-01-13\", \"2015-01-14\", \"2015-01-15\", \"2015-01-16\", \"2015-01-17\", \"2015-01-18\", \"2015-01-19\", \"2015-01-20\", \"2015-01-21\", \"2015-01-22\", \"2015-01-23\", \"2015-01-24\", \"2015-01-25\", \"2015-01-26\", \"2015-01-27\", \"2015-01-28\", \"2015-01-29\", \"2015-01-30\", \"2015-01-31\", \"2015-02-01\", \"2015-02-02\", \"2015-02-03\", \"2015-02-04\", \"2015-02-05\", \"2015-02-06\", \"2015-02-07\", \"2015-02-08\", \"2015-02-09\", \"2015-02-10\", \"2015-02-11\", \"2015-02-12\", \"2015-02-13\", \"2015-02-14\", \"2015-02-15\", \"2015-02-16\", \"2015-02-17\", \"2015-02-18\", \"2015-02-19\", \"2015-02-20\", \"2015-02-21\", \"2015-02-22\", \"2015-02-23\", \"2015-02-24\", \"2015-02-25\", \"2015-02-26\", \"2015-02-27\", \"2015-02-28\", \"2015-03-01\", \"2015-03-02\", \"2015-03-03\", \"2015-03-04\", \"2015-03-05\", \"2015-03-06\", \"2015-03-07\", \"2015-03-08\", \"2015-03-09\", \"2015-03-10\", \"2015-03-11\", \"2015-03-12\", \"2015-03-13\", \"2015-03-14\", \"2015-03-15\", \"2015-03-16\", \"2015-03-17\", \"2015-03-18\", \"2015-03-19\", \"2015-03-20\", \"2015-03-21\", \"2015-03-22\", \"2015-03-23\", \"2015-03-24\", \"2015-03-25\", \"2015-03-26\", \"2015-03-27\", \"2015-03-28\", \"2015-03-29\", \"2015-03-30\", \"2015-03-31\", \"2015-04-01\", \"2015-04-02\", \"2015-04-03\", \"2015-04-04\", \"2015-04-05\", \"2015-04-06\", \"2015-04-07\", \"2015-04-08\", \"2015-04-09\", \"2015-04-10\"], \"y\": [1.204634807161707, 0.9145006657511832, 1.218380555193714, 1.6040010922114574, 1.8507033314358179, 4.066880405623611, 3.9518239112895603, 3.343657322630591, 2.6993826172728155, 1.7937813998056815, 3.3904206501079903, 3.345034922314204, 2.8517905735877718, 2.8932554343515426, 2.6287434615650396, 3.679479655990322, 4.944291988023277, 2.9551589923384833, 1.970315548397061, 4.133925997771108, 3.573572250821949, 2.2801057441736505, 2.796887744081139, 3.932794382724473, 4.684296090776566, 2.8116890200753795, 4.384379914695954, 4.971081521334814, 4.186258478209225, 3.761632047985512, 2.3170347129796856, 2.1401733562384115, 3.196995662718602, 3.5409634047460994, 2.821265452008573, 2.723780481480727, 4.4033201312379155, 4.7153130149928, 4.997103372287718, 3.9065268548223937, 3.9687873891992123, 3.4634482916119396, 4.375837100021135, 4.818047771512238, 4.1993376531312485, 4.645450687143723, 3.599444565065083, 4.643770490966302, 5.750552089295493, 7.627080128570817, 7.862509075905664, 7.567351742017961, 6.617686040286462, 7.0447515896015735, 5.6656921950987265, 5.5417453482215295, 5.300541310566457, 6.197160360699273, 6.973910554277696, 6.614186238837551, 5.70209439422732, 5.787684024812829, 4.967521027775211, 3.016285683828192, 2.993551445823966, 1.458684884800412, 1.9699409510984167, 3.9649806008166273, 2.179191362941848, 1.2441913085533476, -0.12680808196925897, -1.2212833718971874, -0.012870929969344802, -0.8054526521075539, 0.2854382558167422, 2.1718688636009036, 1.619714167525475, 1.5986208166867795, 1.043527737653303, 0.5643284317133457, 0.7087707869791047, -0.32026411470649707, -2.423211570673105, -3.299175701949043, -3.050376069362347, -4.116508254409561, -4.621563417035203, -4.049924836831571, -3.4946903347242353, -3.077705559917039, -3.098470907212177, -1.6145923365328922, -1.1547366322244565, -2.1873182602382837, -1.887737928204876, -0.6839643367947077, -0.31528962727014875, -1.0087476245153408, -2.5148423931404507, -1.5810877447705447]}, {\"line\": {\"color\": \"rgba(50, 171, 96, 1.0)\", \"dash\": \"solid\", \"shape\": \"linear\", \"width\": 1.3}, \"mode\": \"lines\", \"name\": \"VERZ\", \"text\": \"\", \"type\": \"scatter\", \"x\": [\"2015-01-01\", \"2015-01-02\", \"2015-01-03\", \"2015-01-04\", \"2015-01-05\", \"2015-01-06\", \"2015-01-07\", \"2015-01-08\", \"2015-01-09\", \"2015-01-10\", \"2015-01-11\", \"2015-01-12\", \"2015-01-13\", \"2015-01-14\", \"2015-01-15\", \"2015-01-16\", \"2015-01-17\", \"2015-01-18\", \"2015-01-19\", \"2015-01-20\", \"2015-01-21\", \"2015-01-22\", \"2015-01-23\", \"2015-01-24\", \"2015-01-25\", \"2015-01-26\", \"2015-01-27\", \"2015-01-28\", \"2015-01-29\", \"2015-01-30\", \"2015-01-31\", \"2015-02-01\", \"2015-02-02\", \"2015-02-03\", \"2015-02-04\", \"2015-02-05\", \"2015-02-06\", \"2015-02-07\", \"2015-02-08\", \"2015-02-09\", \"2015-02-10\", \"2015-02-11\", \"2015-02-12\", \"2015-02-13\", \"2015-02-14\", \"2015-02-15\", \"2015-02-16\", \"2015-02-17\", \"2015-02-18\", \"2015-02-19\", \"2015-02-20\", \"2015-02-21\", \"2015-02-22\", \"2015-02-23\", \"2015-02-24\", \"2015-02-25\", \"2015-02-26\", \"2015-02-27\", \"2015-02-28\", \"2015-03-01\", \"2015-03-02\", \"2015-03-03\", \"2015-03-04\", \"2015-03-05\", \"2015-03-06\", \"2015-03-07\", \"2015-03-08\", \"2015-03-09\", \"2015-03-10\", \"2015-03-11\", \"2015-03-12\", \"2015-03-13\", \"2015-03-14\", \"2015-03-15\", \"2015-03-16\", \"2015-03-17\", \"2015-03-18\", \"2015-03-19\", \"2015-03-20\", \"2015-03-21\", \"2015-03-22\", \"2015-03-23\", \"2015-03-24\", \"2015-03-25\", \"2015-03-26\", \"2015-03-27\", \"2015-03-28\", \"2015-03-29\", \"2015-03-30\", \"2015-03-31\", \"2015-04-01\", \"2015-04-02\", \"2015-04-03\", \"2015-04-04\", \"2015-04-05\", \"2015-04-06\", \"2015-04-07\", \"2015-04-08\", \"2015-04-09\", \"2015-04-10\"], \"y\": [-0.14798997143547915, -0.7425181638076277, -1.629112387980162, -1.1534696529044854, -1.6916336318363019, -2.1993395653892347, -2.5420785946771374, -3.249116056341389, -1.2596339737619773, -1.1431606521394526, -1.591803171812925, -0.2835944499728289, -0.7462854607485447, -0.21187646900463442, 1.1332111485517466, -0.41140209681748763, -0.07764236418693948, 0.3840523760865555, 0.3806219878429994, 0.4184229671916261, -0.9519937067082221, 0.14408463639206925, 0.26377743175971813, 0.42678343645240235, -0.9424001163610074, -1.7604137942702862, -1.2907716439042218, 1.0630981669304322, 1.0902998744576748, 2.524916666502402, 3.384885588190943, 5.036316160354567, 4.767203934327283, 4.858948011378686, 4.510420682566213, 5.792567762513112, 4.703661698896927, 3.823605711307492, 3.8068604096761427, 4.613704598588734, 3.2228860410149407, 3.1682138945339773, 3.556497918312706, 4.1563789470447485, 6.178543778204498, 6.193656777865214, 4.516139346557444, 5.6279628611295385, 5.093092493583762, 3.612856913279101, 3.8702174842042387, 5.39335992080307, 6.439817670790796, 7.533093530210259, 6.582016553867401, 4.921727440991564, 5.568043760905853, 8.285708786755254, 8.364612432382978, 7.883165005915357, 6.672987596795707, 6.590060655078807, 8.56443044442024, 8.452621619423141, 8.231792039767997, 8.06878543193988, 6.650407145787599, 6.322040091543126, 7.3128934837617035, 7.501145391479421, 4.808823390778633, 4.762035814722748, 5.680327554796811, 6.6410803503198474, 6.173067765937346, 5.714279697407312, 7.173736382596482, 5.262584850059834, 6.354690181400844, 5.424689717255171, 3.348070717794639, 4.194635627534584, 3.7484208696640002, 2.8974748414271505, 3.2102163573648888, 2.642360238692871, 1.0223478845888063, 0.5894718601443806, 2.310612385325222, 2.5287376463928646, 3.982459441623575, 3.742749447810474, 3.0850362775278493, 2.4032408097853932, 1.897205058588498, 4.650433498714276, 3.4849138902296843, 4.017518372219557, 2.9204274054378057, 2.3720445077861267]}],\n                        {\"legend\": {\"bgcolor\": \"#FFFFFF\", \"font\": {\"color\": \"#4D5663\"}}, \"paper_bgcolor\": \"#FFFFFF\", \"plot_bgcolor\": \"#FFFFFF\", \"template\": {\"data\": {\"bar\": [{\"error_x\": {\"color\": \"#2a3f5f\"}, \"error_y\": {\"color\": \"#2a3f5f\"}, \"marker\": {\"line\": {\"color\": \"#E5ECF6\", \"width\": 0.5}}, \"type\": \"bar\"}], \"barpolar\": [{\"marker\": {\"line\": {\"color\": \"#E5ECF6\", \"width\": 0.5}}, \"type\": \"barpolar\"}], \"carpet\": [{\"aaxis\": {\"endlinecolor\": \"#2a3f5f\", \"gridcolor\": \"white\", \"linecolor\": \"white\", \"minorgridcolor\": \"white\", \"startlinecolor\": \"#2a3f5f\"}, \"baxis\": {\"endlinecolor\": \"#2a3f5f\", \"gridcolor\": \"white\", \"linecolor\": \"white\", \"minorgridcolor\": \"white\", \"startlinecolor\": \"#2a3f5f\"}, \"type\": \"carpet\"}], \"choropleth\": [{\"colorbar\": {\"outlinewidth\": 0, \"ticks\": \"\"}, \"type\": \"choropleth\"}], \"contour\": [{\"colorbar\": {\"outlinewidth\": 0, \"ticks\": \"\"}, \"colorscale\": [[0.0, \"#0d0887\"], [0.1111111111111111, \"#46039f\"], [0.2222222222222222, \"#7201a8\"], [0.3333333333333333, \"#9c179e\"], [0.4444444444444444, \"#bd3786\"], [0.5555555555555556, \"#d8576b\"], [0.6666666666666666, \"#ed7953\"], [0.7777777777777778, \"#fb9f3a\"], [0.8888888888888888, \"#fdca26\"], [1.0, \"#f0f921\"]], \"type\": \"contour\"}], \"contourcarpet\": [{\"colorbar\": {\"outlinewidth\": 0, \"ticks\": \"\"}, \"type\": \"contourcarpet\"}], \"heatmap\": [{\"colorbar\": {\"outlinewidth\": 0, \"ticks\": \"\"}, \"colorscale\": [[0.0, \"#0d0887\"], [0.1111111111111111, \"#46039f\"], [0.2222222222222222, \"#7201a8\"], [0.3333333333333333, \"#9c179e\"], [0.4444444444444444, \"#bd3786\"], [0.5555555555555556, \"#d8576b\"], [0.6666666666666666, \"#ed7953\"], [0.7777777777777778, \"#fb9f3a\"], [0.8888888888888888, \"#fdca26\"], [1.0, \"#f0f921\"]], \"type\": \"heatmap\"}], \"heatmapgl\": [{\"colorbar\": {\"outlinewidth\": 0, \"ticks\": \"\"}, \"colorscale\": [[0.0, \"#0d0887\"], [0.1111111111111111, \"#46039f\"], [0.2222222222222222, \"#7201a8\"], [0.3333333333333333, \"#9c179e\"], [0.4444444444444444, \"#bd3786\"], [0.5555555555555556, \"#d8576b\"], [0.6666666666666666, \"#ed7953\"], [0.7777777777777778, \"#fb9f3a\"], [0.8888888888888888, \"#fdca26\"], [1.0, \"#f0f921\"]], \"type\": \"heatmapgl\"}], \"histogram\": [{\"marker\": {\"colorbar\": {\"outlinewidth\": 0, \"ticks\": \"\"}}, \"type\": \"histogram\"}], \"histogram2d\": [{\"colorbar\": {\"outlinewidth\": 0, \"ticks\": \"\"}, \"colorscale\": [[0.0, \"#0d0887\"], [0.1111111111111111, \"#46039f\"], [0.2222222222222222, \"#7201a8\"], [0.3333333333333333, \"#9c179e\"], [0.4444444444444444, \"#bd3786\"], [0.5555555555555556, \"#d8576b\"], [0.6666666666666666, \"#ed7953\"], [0.7777777777777778, \"#fb9f3a\"], [0.8888888888888888, \"#fdca26\"], [1.0, \"#f0f921\"]], \"type\": \"histogram2d\"}], \"histogram2dcontour\": [{\"colorbar\": {\"outlinewidth\": 0, \"ticks\": \"\"}, \"colorscale\": [[0.0, \"#0d0887\"], [0.1111111111111111, \"#46039f\"], [0.2222222222222222, \"#7201a8\"], [0.3333333333333333, \"#9c179e\"], [0.4444444444444444, \"#bd3786\"], [0.5555555555555556, \"#d8576b\"], [0.6666666666666666, \"#ed7953\"], [0.7777777777777778, \"#fb9f3a\"], [0.8888888888888888, \"#fdca26\"], [1.0, \"#f0f921\"]], \"type\": \"histogram2dcontour\"}], \"mesh3d\": [{\"colorbar\": {\"outlinewidth\": 0, \"ticks\": \"\"}, \"type\": \"mesh3d\"}], \"parcoords\": [{\"line\": {\"colorbar\": {\"outlinewidth\": 0, \"ticks\": \"\"}}, \"type\": \"parcoords\"}], \"pie\": [{\"automargin\": true, \"type\": \"pie\"}], \"scatter\": [{\"marker\": {\"colorbar\": {\"outlinewidth\": 0, \"ticks\": \"\"}}, \"type\": \"scatter\"}], \"scatter3d\": [{\"line\": {\"colorbar\": {\"outlinewidth\": 0, \"ticks\": \"\"}}, \"marker\": {\"colorbar\": {\"outlinewidth\": 0, \"ticks\": \"\"}}, \"type\": \"scatter3d\"}], \"scattercarpet\": [{\"marker\": {\"colorbar\": {\"outlinewidth\": 0, \"ticks\": \"\"}}, \"type\": \"scattercarpet\"}], \"scattergeo\": [{\"marker\": {\"colorbar\": {\"outlinewidth\": 0, \"ticks\": \"\"}}, \"type\": \"scattergeo\"}], \"scattergl\": [{\"marker\": {\"colorbar\": {\"outlinewidth\": 0, \"ticks\": \"\"}}, \"type\": \"scattergl\"}], \"scattermapbox\": [{\"marker\": {\"colorbar\": {\"outlinewidth\": 0, \"ticks\": \"\"}}, \"type\": \"scattermapbox\"}], \"scatterpolar\": [{\"marker\": {\"colorbar\": {\"outlinewidth\": 0, \"ticks\": \"\"}}, \"type\": \"scatterpolar\"}], \"scatterpolargl\": [{\"marker\": {\"colorbar\": {\"outlinewidth\": 0, \"ticks\": \"\"}}, \"type\": \"scatterpolargl\"}], \"scatterternary\": [{\"marker\": {\"colorbar\": {\"outlinewidth\": 0, \"ticks\": \"\"}}, \"type\": \"scatterternary\"}], \"surface\": [{\"colorbar\": {\"outlinewidth\": 0, \"ticks\": \"\"}, \"colorscale\": [[0.0, \"#0d0887\"], [0.1111111111111111, \"#46039f\"], [0.2222222222222222, \"#7201a8\"], [0.3333333333333333, \"#9c179e\"], [0.4444444444444444, \"#bd3786\"], [0.5555555555555556, \"#d8576b\"], [0.6666666666666666, \"#ed7953\"], [0.7777777777777778, \"#fb9f3a\"], [0.8888888888888888, \"#fdca26\"], [1.0, \"#f0f921\"]], \"type\": \"surface\"}], \"table\": [{\"cells\": {\"fill\": {\"color\": \"#EBF0F8\"}, \"line\": {\"color\": \"white\"}}, \"header\": {\"fill\": {\"color\": \"#C8D4E3\"}, \"line\": {\"color\": \"white\"}}, \"type\": \"table\"}]}, \"layout\": {\"annotationdefaults\": {\"arrowcolor\": \"#2a3f5f\", \"arrowhead\": 0, \"arrowwidth\": 1}, \"coloraxis\": {\"colorbar\": {\"outlinewidth\": 0, \"ticks\": \"\"}}, \"colorscale\": {\"diverging\": [[0, \"#8e0152\"], [0.1, \"#c51b7d\"], [0.2, \"#de77ae\"], [0.3, \"#f1b6da\"], [0.4, \"#fde0ef\"], [0.5, \"#f7f7f7\"], [0.6, \"#e6f5d0\"], [0.7, \"#b8e186\"], [0.8, \"#7fbc41\"], [0.9, \"#4d9221\"], [1, \"#276419\"]], \"sequential\": [[0.0, \"#0d0887\"], [0.1111111111111111, \"#46039f\"], [0.2222222222222222, \"#7201a8\"], [0.3333333333333333, \"#9c179e\"], [0.4444444444444444, \"#bd3786\"], [0.5555555555555556, \"#d8576b\"], [0.6666666666666666, \"#ed7953\"], [0.7777777777777778, \"#fb9f3a\"], [0.8888888888888888, \"#fdca26\"], [1.0, \"#f0f921\"]], \"sequentialminus\": [[0.0, \"#0d0887\"], [0.1111111111111111, \"#46039f\"], [0.2222222222222222, \"#7201a8\"], [0.3333333333333333, \"#9c179e\"], [0.4444444444444444, \"#bd3786\"], [0.5555555555555556, \"#d8576b\"], [0.6666666666666666, \"#ed7953\"], [0.7777777777777778, \"#fb9f3a\"], [0.8888888888888888, \"#fdca26\"], [1.0, \"#f0f921\"]]}, \"colorway\": [\"#636efa\", \"#EF553B\", \"#00cc96\", \"#ab63fa\", \"#FFA15A\", \"#19d3f3\", \"#FF6692\", \"#B6E880\", \"#FF97FF\", \"#FECB52\"], \"font\": {\"color\": \"#2a3f5f\"}, \"geo\": {\"bgcolor\": \"white\", \"lakecolor\": \"white\", \"landcolor\": \"#E5ECF6\", \"showlakes\": true, \"showland\": true, \"subunitcolor\": \"white\"}, \"hoverlabel\": {\"align\": \"left\"}, \"hovermode\": \"closest\", \"mapbox\": {\"style\": \"light\"}, \"paper_bgcolor\": \"white\", \"plot_bgcolor\": \"#E5ECF6\", \"polar\": {\"angularaxis\": {\"gridcolor\": \"white\", \"linecolor\": \"white\", \"ticks\": \"\"}, \"bgcolor\": \"#E5ECF6\", \"radialaxis\": {\"gridcolor\": \"white\", \"linecolor\": \"white\", \"ticks\": \"\"}}, \"scene\": {\"xaxis\": {\"backgroundcolor\": \"#E5ECF6\", \"gridcolor\": \"white\", \"gridwidth\": 2, \"linecolor\": \"white\", \"showbackground\": true, \"ticks\": \"\", \"zerolinecolor\": \"white\"}, \"yaxis\": {\"backgroundcolor\": \"#E5ECF6\", \"gridcolor\": \"white\", \"gridwidth\": 2, \"linecolor\": \"white\", \"showbackground\": true, \"ticks\": \"\", \"zerolinecolor\": \"white\"}, \"zaxis\": {\"backgroundcolor\": \"#E5ECF6\", \"gridcolor\": \"white\", \"gridwidth\": 2, \"linecolor\": \"white\", \"showbackground\": true, \"ticks\": \"\", \"zerolinecolor\": \"white\"}}, \"shapedefaults\": {\"line\": {\"color\": \"#2a3f5f\"}}, \"ternary\": {\"aaxis\": {\"gridcolor\": \"white\", \"linecolor\": \"white\", \"ticks\": \"\"}, \"baxis\": {\"gridcolor\": \"white\", \"linecolor\": \"white\", \"ticks\": \"\"}, \"bgcolor\": \"#E5ECF6\", \"caxis\": {\"gridcolor\": \"white\", \"linecolor\": \"white\", \"ticks\": \"\"}}, \"title\": {\"x\": 0.05}, \"xaxis\": {\"automargin\": true, \"gridcolor\": \"white\", \"linecolor\": \"white\", \"ticks\": \"\", \"title\": {\"standoff\": 15}, \"zerolinecolor\": \"white\", \"zerolinewidth\": 2}, \"yaxis\": {\"automargin\": true, \"gridcolor\": \"white\", \"linecolor\": \"white\", \"ticks\": \"\", \"title\": {\"standoff\": 15}, \"zerolinecolor\": \"white\", \"zerolinewidth\": 2}}}, \"title\": {\"font\": {\"color\": \"#4D5663\"}, \"x\": 0.5}, \"xaxis\": {\"gridcolor\": \"#E1E5ED\", \"showgrid\": true, \"tickfont\": {\"color\": \"#4D5663\"}, \"title\": {\"font\": {\"color\": \"#4D5663\"}, \"text\": \"\"}, \"zerolinecolor\": \"#E1E5ED\"}, \"yaxis\": {\"gridcolor\": \"#E1E5ED\", \"showgrid\": true, \"tickfont\": {\"color\": \"#4D5663\"}, \"title\": {\"font\": {\"color\": \"#4D5663\"}, \"text\": \"\"}, \"zerolinecolor\": \"#E1E5ED\"}},\n                        {\"showLink\": true, \"linkText\": \"Export to plot.ly\", \"plotlyServerURL\": \"https://plot.ly\", \"responsive\": true}\n                    ).then(function(){\n                            \nvar gd = document.getElementById('2f44e4c9-b08f-4b06-8ad2-ae815c437fdf');\nvar x = new MutationObserver(function (mutations, observer) {{\n        var display = window.getComputedStyle(gd).display;\n        if (!display || display === 'none') {{\n            console.log([gd, 'removed!']);\n            Plotly.purge(gd);\n            observer.disconnect();\n        }}\n}});\n\n// Listen for the removal of the full notebook cells\nvar notebookContainer = gd.closest('#notebook-container');\nif (notebookContainer) {{\n    x.observe(notebookContainer, {childList: true});\n}}\n\n// Listen for the clearing of the current output cell\nvar outputEl = gd.closest('.output');\nif (outputEl) {{\n    x.observe(outputEl, {childList: true});\n}}\n\n                        })\n                };\n                });\n            </script>\n        </div>"
     },
     "metadata": {}
    }
   ],
   "source": [
    "df[['APPL','IBM','VERZ']].iplot(theme='white',filename='Tutorial White')"
   ]
  },
  {
   "cell_type": "markdown",
   "metadata": {},
   "source": [
    "We can also pass common metadata for the chart"
   ]
  },
  {
   "cell_type": "code",
   "execution_count": 7,
   "metadata": {},
   "outputs": [
    {
     "output_type": "display_data",
     "data": {
      "application/vnd.plotly.v1+json": {
       "config": {
        "linkText": "Export to plot.ly",
        "plotlyServerURL": "https://plot.ly",
        "showLink": true
       },
       "data": [
        {
         "line": {
          "color": "rgba(255, 153, 51, 1.0)",
          "dash": "solid",
          "shape": "linear",
          "width": 1.3
         },
         "mode": "lines",
         "name": "IBM",
         "text": "",
         "type": "scatter",
         "x": [
          "2015-01-01",
          "2015-01-02",
          "2015-01-03",
          "2015-01-04",
          "2015-01-05",
          "2015-01-06",
          "2015-01-07",
          "2015-01-08",
          "2015-01-09",
          "2015-01-10",
          "2015-01-11",
          "2015-01-12",
          "2015-01-13",
          "2015-01-14",
          "2015-01-15",
          "2015-01-16",
          "2015-01-17",
          "2015-01-18",
          "2015-01-19",
          "2015-01-20",
          "2015-01-21",
          "2015-01-22",
          "2015-01-23",
          "2015-01-24",
          "2015-01-25",
          "2015-01-26",
          "2015-01-27",
          "2015-01-28",
          "2015-01-29",
          "2015-01-30",
          "2015-01-31",
          "2015-02-01",
          "2015-02-02",
          "2015-02-03",
          "2015-02-04",
          "2015-02-05",
          "2015-02-06",
          "2015-02-07",
          "2015-02-08",
          "2015-02-09",
          "2015-02-10",
          "2015-02-11",
          "2015-02-12",
          "2015-02-13",
          "2015-02-14",
          "2015-02-15",
          "2015-02-16",
          "2015-02-17",
          "2015-02-18",
          "2015-02-19",
          "2015-02-20",
          "2015-02-21",
          "2015-02-22",
          "2015-02-23",
          "2015-02-24",
          "2015-02-25",
          "2015-02-26",
          "2015-02-27",
          "2015-02-28",
          "2015-03-01",
          "2015-03-02",
          "2015-03-03",
          "2015-03-04",
          "2015-03-05",
          "2015-03-06",
          "2015-03-07",
          "2015-03-08",
          "2015-03-09",
          "2015-03-10",
          "2015-03-11",
          "2015-03-12",
          "2015-03-13",
          "2015-03-14",
          "2015-03-15",
          "2015-03-16",
          "2015-03-17",
          "2015-03-18",
          "2015-03-19",
          "2015-03-20",
          "2015-03-21",
          "2015-03-22",
          "2015-03-23",
          "2015-03-24",
          "2015-03-25",
          "2015-03-26",
          "2015-03-27",
          "2015-03-28",
          "2015-03-29",
          "2015-03-30",
          "2015-03-31",
          "2015-04-01",
          "2015-04-02",
          "2015-04-03",
          "2015-04-04",
          "2015-04-05",
          "2015-04-06",
          "2015-04-07",
          "2015-04-08",
          "2015-04-09",
          "2015-04-10"
         ],
         "y": [
          1.204634807161707,
          0.9145006657511832,
          1.218380555193714,
          1.6040010922114574,
          1.8507033314358179,
          4.066880405623611,
          3.9518239112895603,
          3.343657322630591,
          2.6993826172728155,
          1.7937813998056815,
          3.3904206501079903,
          3.345034922314204,
          2.8517905735877718,
          2.8932554343515426,
          2.6287434615650396,
          3.679479655990322,
          4.944291988023277,
          2.9551589923384833,
          1.970315548397061,
          4.133925997771108,
          3.573572250821949,
          2.2801057441736505,
          2.796887744081139,
          3.932794382724473,
          4.684296090776566,
          2.8116890200753795,
          4.384379914695954,
          4.971081521334814,
          4.186258478209225,
          3.761632047985512,
          2.3170347129796856,
          2.1401733562384115,
          3.196995662718602,
          3.5409634047460994,
          2.821265452008573,
          2.723780481480727,
          4.4033201312379155,
          4.7153130149928,
          4.997103372287718,
          3.9065268548223937,
          3.9687873891992123,
          3.4634482916119396,
          4.375837100021135,
          4.818047771512238,
          4.1993376531312485,
          4.645450687143723,
          3.599444565065083,
          4.643770490966302,
          5.750552089295493,
          7.627080128570817,
          7.862509075905664,
          7.567351742017961,
          6.617686040286462,
          7.0447515896015735,
          5.6656921950987265,
          5.5417453482215295,
          5.300541310566457,
          6.197160360699273,
          6.973910554277696,
          6.614186238837551,
          5.70209439422732,
          5.787684024812829,
          4.967521027775211,
          3.016285683828192,
          2.993551445823966,
          1.458684884800412,
          1.9699409510984167,
          3.9649806008166273,
          2.179191362941848,
          1.2441913085533476,
          -0.12680808196925897,
          -1.2212833718971874,
          -0.012870929969344802,
          -0.8054526521075539,
          0.2854382558167422,
          2.1718688636009036,
          1.619714167525475,
          1.5986208166867795,
          1.043527737653303,
          0.5643284317133457,
          0.7087707869791047,
          -0.32026411470649707,
          -2.423211570673105,
          -3.299175701949043,
          -3.050376069362347,
          -4.116508254409561,
          -4.621563417035203,
          -4.049924836831571,
          -3.4946903347242353,
          -3.077705559917039,
          -3.098470907212177,
          -1.6145923365328922,
          -1.1547366322244565,
          -2.1873182602382837,
          -1.887737928204876,
          -0.6839643367947077,
          -0.31528962727014875,
          -1.0087476245153408,
          -2.5148423931404507,
          -1.5810877447705447
         ]
        },
        {
         "line": {
          "color": "rgba(55, 128, 191, 1.0)",
          "dash": "solid",
          "shape": "linear",
          "width": 1.3
         },
         "mode": "lines",
         "name": "MSFT",
         "text": "",
         "type": "scatter",
         "x": [
          "2015-01-01",
          "2015-01-02",
          "2015-01-03",
          "2015-01-04",
          "2015-01-05",
          "2015-01-06",
          "2015-01-07",
          "2015-01-08",
          "2015-01-09",
          "2015-01-10",
          "2015-01-11",
          "2015-01-12",
          "2015-01-13",
          "2015-01-14",
          "2015-01-15",
          "2015-01-16",
          "2015-01-17",
          "2015-01-18",
          "2015-01-19",
          "2015-01-20",
          "2015-01-21",
          "2015-01-22",
          "2015-01-23",
          "2015-01-24",
          "2015-01-25",
          "2015-01-26",
          "2015-01-27",
          "2015-01-28",
          "2015-01-29",
          "2015-01-30",
          "2015-01-31",
          "2015-02-01",
          "2015-02-02",
          "2015-02-03",
          "2015-02-04",
          "2015-02-05",
          "2015-02-06",
          "2015-02-07",
          "2015-02-08",
          "2015-02-09",
          "2015-02-10",
          "2015-02-11",
          "2015-02-12",
          "2015-02-13",
          "2015-02-14",
          "2015-02-15",
          "2015-02-16",
          "2015-02-17",
          "2015-02-18",
          "2015-02-19",
          "2015-02-20",
          "2015-02-21",
          "2015-02-22",
          "2015-02-23",
          "2015-02-24",
          "2015-02-25",
          "2015-02-26",
          "2015-02-27",
          "2015-02-28",
          "2015-03-01",
          "2015-03-02",
          "2015-03-03",
          "2015-03-04",
          "2015-03-05",
          "2015-03-06",
          "2015-03-07",
          "2015-03-08",
          "2015-03-09",
          "2015-03-10",
          "2015-03-11",
          "2015-03-12",
          "2015-03-13",
          "2015-03-14",
          "2015-03-15",
          "2015-03-16",
          "2015-03-17",
          "2015-03-18",
          "2015-03-19",
          "2015-03-20",
          "2015-03-21",
          "2015-03-22",
          "2015-03-23",
          "2015-03-24",
          "2015-03-25",
          "2015-03-26",
          "2015-03-27",
          "2015-03-28",
          "2015-03-29",
          "2015-03-30",
          "2015-03-31",
          "2015-04-01",
          "2015-04-02",
          "2015-04-03",
          "2015-04-04",
          "2015-04-05",
          "2015-04-06",
          "2015-04-07",
          "2015-04-08",
          "2015-04-09",
          "2015-04-10"
         ],
         "y": [
          -0.13485427742658052,
          2.4533882212029257,
          2.5866188388893145,
          3.6448420212650343,
          4.627951751750441,
          3.886226815958306,
          3.2578693279395723,
          3.4136532056183397,
          1.0562422305686878,
          2.3837720933676367,
          0.9975498226769888,
          1.1304334051861475,
          -1.7946943704416911,
          -1.2374367201402034,
          -0.3154205340345986,
          -0.7401238537592838,
          -0.32525970140343174,
          3.2683659162815424,
          4.378433594261496,
          2.5317792764719944,
          1.1198643928492862,
          0.49061424627823513,
          0.8883341641308649,
          0.832740131979093,
          1.4870797206086905,
          1.8820862527576259,
          2.5640248883437633,
          3.7949419388906485,
          2.704319715120783,
          2.7667954173925478,
          1.9066295026055375,
          1.4256908593620523,
          3.1337859933617045,
          2.1998203599150346,
          1.4259000951636729,
          0.5178973832157078,
          1.9979986575043243,
          2.620234329360236,
          2.3984898889288915,
          2.133075733518558,
          2.9135162466765965,
          2.729349082194042,
          3.950333550757815,
          3.8223457054395262,
          3.010770156987346,
          3.3424672080714526,
          3.908978923042271,
          2.6628767837422007,
          1.9770506749879257,
          1.2135136251378615,
          0.3192561309867882,
          1.8390860771691768,
          3.1989298611504937,
          3.6639553618739007,
          5.320020402521994,
          5.588196108625732,
          5.00680262486941,
          3.778319199389525,
          2.667196882285848,
          2.9805140310843163,
          3.003815184847288,
          3.209109231484667,
          3.2333440593561877,
          4.530676760329434,
          5.173117026576456,
          4.2251503557992685,
          5.912732470161208,
          5.51954115029074,
          4.424751160327413,
          3.986725700552799,
          4.320141649814506,
          3.710089327148561,
          3.909944446473572,
          4.801056752960521,
          4.663878576396333,
          5.714925311423528,
          6.851912419059642,
          5.382228557465856,
          4.797772779950918,
          4.597735429334732,
          6.372076404865782,
          6.642296843309585,
          5.612657811361704,
          6.18231141544473,
          6.161297192872845,
          7.271022123097529,
          6.2471421669683895,
          4.933677265419876,
          5.160999303997231,
          4.727003299127816,
          6.006718309763433,
          6.737144799901425,
          6.872139236297279,
          7.2701841548909005,
          7.192142726165852,
          7.187389275287803,
          6.402789460500397,
          5.605540825725594,
          4.015676761225024,
          4.690677468131136
         ]
        },
        {
         "line": {
          "color": "rgba(50, 171, 96, 1.0)",
          "dash": "solid",
          "shape": "linear",
          "width": 1.3
         },
         "mode": "lines",
         "name": "GOOG",
         "text": "",
         "type": "scatter",
         "x": [
          "2015-01-01",
          "2015-01-02",
          "2015-01-03",
          "2015-01-04",
          "2015-01-05",
          "2015-01-06",
          "2015-01-07",
          "2015-01-08",
          "2015-01-09",
          "2015-01-10",
          "2015-01-11",
          "2015-01-12",
          "2015-01-13",
          "2015-01-14",
          "2015-01-15",
          "2015-01-16",
          "2015-01-17",
          "2015-01-18",
          "2015-01-19",
          "2015-01-20",
          "2015-01-21",
          "2015-01-22",
          "2015-01-23",
          "2015-01-24",
          "2015-01-25",
          "2015-01-26",
          "2015-01-27",
          "2015-01-28",
          "2015-01-29",
          "2015-01-30",
          "2015-01-31",
          "2015-02-01",
          "2015-02-02",
          "2015-02-03",
          "2015-02-04",
          "2015-02-05",
          "2015-02-06",
          "2015-02-07",
          "2015-02-08",
          "2015-02-09",
          "2015-02-10",
          "2015-02-11",
          "2015-02-12",
          "2015-02-13",
          "2015-02-14",
          "2015-02-15",
          "2015-02-16",
          "2015-02-17",
          "2015-02-18",
          "2015-02-19",
          "2015-02-20",
          "2015-02-21",
          "2015-02-22",
          "2015-02-23",
          "2015-02-24",
          "2015-02-25",
          "2015-02-26",
          "2015-02-27",
          "2015-02-28",
          "2015-03-01",
          "2015-03-02",
          "2015-03-03",
          "2015-03-04",
          "2015-03-05",
          "2015-03-06",
          "2015-03-07",
          "2015-03-08",
          "2015-03-09",
          "2015-03-10",
          "2015-03-11",
          "2015-03-12",
          "2015-03-13",
          "2015-03-14",
          "2015-03-15",
          "2015-03-16",
          "2015-03-17",
          "2015-03-18",
          "2015-03-19",
          "2015-03-20",
          "2015-03-21",
          "2015-03-22",
          "2015-03-23",
          "2015-03-24",
          "2015-03-25",
          "2015-03-26",
          "2015-03-27",
          "2015-03-28",
          "2015-03-29",
          "2015-03-30",
          "2015-03-31",
          "2015-04-01",
          "2015-04-02",
          "2015-04-03",
          "2015-04-04",
          "2015-04-05",
          "2015-04-06",
          "2015-04-07",
          "2015-04-08",
          "2015-04-09",
          "2015-04-10"
         ],
         "y": [
          -0.12387924572510589,
          0.7966498730369406,
          1.0930453586576663,
          0.8338763647745995,
          2.162767373656787,
          3.6062479500754563,
          3.202448635829711,
          2.567768542871831,
          2.680965496534378,
          3.0771406663505374,
          3.1817142990051566,
          3.4747241965005253,
          1.786861595444297,
          1.2830933096354091,
          0.8149808081530232,
          1.638113505552203,
          1.319479223899768,
          0.9286020556627193,
          1.0749376964085826,
          0.7453726598777997,
          0.5351004398007938,
          1.7219980305414824,
          3.288062906283162,
          2.265715410599549,
          2.878792291909428,
          2.3658078488735605,
          1.5429717063115824,
          1.7131489093551935,
          0.8757153715278675,
          -0.050836507954122534,
          0.2734354284066933,
          -0.10384561697594463,
          0.6170179756526629,
          -2.146384173384452,
          -2.0183868572088537,
          -2.8188938819444975,
          -2.0162843681736495,
          -0.8352167035665634,
          -0.13014772668399532,
          -0.871615876465248,
          -0.5837974390826651,
          -2.9705123896372956,
          -3.197567871273736,
          -4.502872794857076,
          -4.525528837270438,
          -5.106122697850888,
          -6.23503695286984,
          -6.362975732262328,
          -5.449173916416164,
          -5.421419974488732,
          -5.056505806053844,
          -2.936029997224167,
          -1.6383310208514863,
          -2.936152885768644,
          -3.772770597284165,
          -3.5002867712377617,
          -4.1497437280826555,
          -3.45322162143892,
          -3.3803275101087755,
          -2.4394912253450647,
          -4.01680927318296,
          -2.696232307602342,
          -1.2539151074023323,
          1.5592928756927413,
          0.9594451971987746,
          0.2105984619987319,
          -0.7497386105484958,
          -1.030957270406392,
          -2.1734822858387766,
          -1.9270371687779182,
          -1.2476992683785164,
          -2.3846756567901206,
          -0.6421205097917579,
          0.44824301680512035,
          0.6682654935379814,
          1.695370736199374,
          2.3866034693565625,
          1.834912270049062,
          1.0180822540150134,
          0.8484255614423925,
          0.1799863918692055,
          1.8080574327213808,
          1.3944920136670351,
          1.7118024940155672,
          1.8756814678680513,
          0.1777891259967339,
          0.43579931757763607,
          -0.2648329380224224,
          -0.7664804894080612,
          -0.31845050463237334,
          -0.4486317737560189,
          1.7161003285705925,
          2.2582740061138797,
          1.3654619980796454,
          1.3494056338577864,
          0.5364421851499185,
          2.318095072680387,
          1.1205864275793826,
          1.2156619998330147,
          1.502352832575002
         ]
        },
        {
         "line": {
          "color": "rgba(128, 0, 128, 1.0)",
          "dash": "solid",
          "shape": "linear",
          "width": 1.3
         },
         "mode": "lines",
         "name": "VERZ",
         "text": "",
         "type": "scatter",
         "x": [
          "2015-01-01",
          "2015-01-02",
          "2015-01-03",
          "2015-01-04",
          "2015-01-05",
          "2015-01-06",
          "2015-01-07",
          "2015-01-08",
          "2015-01-09",
          "2015-01-10",
          "2015-01-11",
          "2015-01-12",
          "2015-01-13",
          "2015-01-14",
          "2015-01-15",
          "2015-01-16",
          "2015-01-17",
          "2015-01-18",
          "2015-01-19",
          "2015-01-20",
          "2015-01-21",
          "2015-01-22",
          "2015-01-23",
          "2015-01-24",
          "2015-01-25",
          "2015-01-26",
          "2015-01-27",
          "2015-01-28",
          "2015-01-29",
          "2015-01-30",
          "2015-01-31",
          "2015-02-01",
          "2015-02-02",
          "2015-02-03",
          "2015-02-04",
          "2015-02-05",
          "2015-02-06",
          "2015-02-07",
          "2015-02-08",
          "2015-02-09",
          "2015-02-10",
          "2015-02-11",
          "2015-02-12",
          "2015-02-13",
          "2015-02-14",
          "2015-02-15",
          "2015-02-16",
          "2015-02-17",
          "2015-02-18",
          "2015-02-19",
          "2015-02-20",
          "2015-02-21",
          "2015-02-22",
          "2015-02-23",
          "2015-02-24",
          "2015-02-25",
          "2015-02-26",
          "2015-02-27",
          "2015-02-28",
          "2015-03-01",
          "2015-03-02",
          "2015-03-03",
          "2015-03-04",
          "2015-03-05",
          "2015-03-06",
          "2015-03-07",
          "2015-03-08",
          "2015-03-09",
          "2015-03-10",
          "2015-03-11",
          "2015-03-12",
          "2015-03-13",
          "2015-03-14",
          "2015-03-15",
          "2015-03-16",
          "2015-03-17",
          "2015-03-18",
          "2015-03-19",
          "2015-03-20",
          "2015-03-21",
          "2015-03-22",
          "2015-03-23",
          "2015-03-24",
          "2015-03-25",
          "2015-03-26",
          "2015-03-27",
          "2015-03-28",
          "2015-03-29",
          "2015-03-30",
          "2015-03-31",
          "2015-04-01",
          "2015-04-02",
          "2015-04-03",
          "2015-04-04",
          "2015-04-05",
          "2015-04-06",
          "2015-04-07",
          "2015-04-08",
          "2015-04-09",
          "2015-04-10"
         ],
         "y": [
          -0.14798997143547915,
          -0.7425181638076277,
          -1.629112387980162,
          -1.1534696529044854,
          -1.6916336318363019,
          -2.1993395653892347,
          -2.5420785946771374,
          -3.249116056341389,
          -1.2596339737619773,
          -1.1431606521394526,
          -1.591803171812925,
          -0.2835944499728289,
          -0.7462854607485447,
          -0.21187646900463442,
          1.1332111485517466,
          -0.41140209681748763,
          -0.07764236418693948,
          0.3840523760865555,
          0.3806219878429994,
          0.4184229671916261,
          -0.9519937067082221,
          0.14408463639206925,
          0.26377743175971813,
          0.42678343645240235,
          -0.9424001163610074,
          -1.7604137942702862,
          -1.2907716439042218,
          1.0630981669304322,
          1.0902998744576748,
          2.524916666502402,
          3.384885588190943,
          5.036316160354567,
          4.767203934327283,
          4.858948011378686,
          4.510420682566213,
          5.792567762513112,
          4.703661698896927,
          3.823605711307492,
          3.8068604096761427,
          4.613704598588734,
          3.2228860410149407,
          3.1682138945339773,
          3.556497918312706,
          4.1563789470447485,
          6.178543778204498,
          6.193656777865214,
          4.516139346557444,
          5.6279628611295385,
          5.093092493583762,
          3.612856913279101,
          3.8702174842042387,
          5.39335992080307,
          6.439817670790796,
          7.533093530210259,
          6.582016553867401,
          4.921727440991564,
          5.568043760905853,
          8.285708786755254,
          8.364612432382978,
          7.883165005915357,
          6.672987596795707,
          6.590060655078807,
          8.56443044442024,
          8.452621619423141,
          8.231792039767997,
          8.06878543193988,
          6.650407145787599,
          6.322040091543126,
          7.3128934837617035,
          7.501145391479421,
          4.808823390778633,
          4.762035814722748,
          5.680327554796811,
          6.6410803503198474,
          6.173067765937346,
          5.714279697407312,
          7.173736382596482,
          5.262584850059834,
          6.354690181400844,
          5.424689717255171,
          3.348070717794639,
          4.194635627534584,
          3.7484208696640002,
          2.8974748414271505,
          3.2102163573648888,
          2.642360238692871,
          1.0223478845888063,
          0.5894718601443806,
          2.310612385325222,
          2.5287376463928646,
          3.982459441623575,
          3.742749447810474,
          3.0850362775278493,
          2.4032408097853932,
          1.897205058588498,
          4.650433498714276,
          3.4849138902296843,
          4.017518372219557,
          2.9204274054378057,
          2.3720445077861267
         ]
        },
        {
         "line": {
          "color": "rgba(219, 64, 82, 1.0)",
          "dash": "solid",
          "shape": "linear",
          "width": 1.3
         },
         "mode": "lines",
         "name": "APPL",
         "text": "",
         "type": "scatter",
         "x": [
          "2015-01-01",
          "2015-01-02",
          "2015-01-03",
          "2015-01-04",
          "2015-01-05",
          "2015-01-06",
          "2015-01-07",
          "2015-01-08",
          "2015-01-09",
          "2015-01-10",
          "2015-01-11",
          "2015-01-12",
          "2015-01-13",
          "2015-01-14",
          "2015-01-15",
          "2015-01-16",
          "2015-01-17",
          "2015-01-18",
          "2015-01-19",
          "2015-01-20",
          "2015-01-21",
          "2015-01-22",
          "2015-01-23",
          "2015-01-24",
          "2015-01-25",
          "2015-01-26",
          "2015-01-27",
          "2015-01-28",
          "2015-01-29",
          "2015-01-30",
          "2015-01-31",
          "2015-02-01",
          "2015-02-02",
          "2015-02-03",
          "2015-02-04",
          "2015-02-05",
          "2015-02-06",
          "2015-02-07",
          "2015-02-08",
          "2015-02-09",
          "2015-02-10",
          "2015-02-11",
          "2015-02-12",
          "2015-02-13",
          "2015-02-14",
          "2015-02-15",
          "2015-02-16",
          "2015-02-17",
          "2015-02-18",
          "2015-02-19",
          "2015-02-20",
          "2015-02-21",
          "2015-02-22",
          "2015-02-23",
          "2015-02-24",
          "2015-02-25",
          "2015-02-26",
          "2015-02-27",
          "2015-02-28",
          "2015-03-01",
          "2015-03-02",
          "2015-03-03",
          "2015-03-04",
          "2015-03-05",
          "2015-03-06",
          "2015-03-07",
          "2015-03-08",
          "2015-03-09",
          "2015-03-10",
          "2015-03-11",
          "2015-03-12",
          "2015-03-13",
          "2015-03-14",
          "2015-03-15",
          "2015-03-16",
          "2015-03-17",
          "2015-03-18",
          "2015-03-19",
          "2015-03-20",
          "2015-03-21",
          "2015-03-22",
          "2015-03-23",
          "2015-03-24",
          "2015-03-25",
          "2015-03-26",
          "2015-03-27",
          "2015-03-28",
          "2015-03-29",
          "2015-03-30",
          "2015-03-31",
          "2015-04-01",
          "2015-04-02",
          "2015-04-03",
          "2015-04-04",
          "2015-04-05",
          "2015-04-06",
          "2015-04-07",
          "2015-04-08",
          "2015-04-09",
          "2015-04-10"
         ],
         "y": [
          -0.8091304123445491,
          -0.7329208464625815,
          -0.6575082144050455,
          1.3815571912376952,
          1.8805686830595687,
          1.5297260792999725,
          1.4100132350213395,
          1.482655244407929,
          1.8986271894839015,
          0.7551462280199512,
          -1.2635586383299646,
          -1.1617282471557315,
          -0.18016902817091962,
          -2.0870846482101717,
          -1.3472919376425105,
          -2.0892003539609885,
          -3.255863774094439,
          -3.4823489131295795,
          -2.58657821115114,
          -3.329971408688671,
          -4.396850652693731,
          -4.5572366955919845,
          -4.976248583915539,
          -5.137769364408434,
          -3.986759168523533,
          -5.114106026212177,
          -5.05454565008468,
          -5.209908155149506,
          -3.704764236748535,
          -3.8335699358564383,
          -3.8284626251618104,
          -4.138337739750897,
          -2.760382292999953,
          -2.003802334787866,
          -1.6745988874391742,
          -1.6549155931837969,
          -0.40615769074592745,
          -1.031799377058858,
          0.778163809949983,
          0.4460343111891075,
          1.2237443866233204,
          0.7430041870203119,
          0.08689711978355097,
          0.2856354496267597,
          -1.5307847228217704,
          -3.141760851521326,
          -3.874596537007455,
          -5.008113127120248,
          -5.22679662513061,
          -3.0707428615364605,
          -3.0834156484059285,
          -2.4195457502976803,
          -3.4921371663300342,
          -2.5063783349351354,
          -3.5666507281076694,
          -3.823251676980955,
          -4.430548756385592,
          -2.992139404769264,
          -2.3067855839052798,
          -1.7911056989276541,
          -1.3167765969291252,
          -1.9331634642455717,
          -1.4756353066338894,
          -0.5498784419240511,
          -0.458098236707881,
          -0.9104666571324511,
          0.20670065102356916,
          0.0830155408369381,
          -0.6887550473882589,
          -0.15356150177269845,
          0.1898445896319369,
          1.5570245821540418,
          -0.48490609458580614,
          0.18169569818173226,
          2.564620602836628,
          1.8903740876444102,
          1.2461723664406477,
          2.6524424846113215,
          3.6750915612925934,
          3.6022080982429157,
          3.8951727542540078,
          3.3100675780288045,
          2.876908560004731,
          4.650094709068069,
          4.378147193250875,
          3.0110676527393068,
          3.6228596956180574,
          3.3031963329745904,
          3.332477440954584,
          3.562784909923561,
          1.8094105218229626,
          1.5791666368932349,
          2.465853435267052,
          2.442728788110828,
          1.8125526305242834,
          2.712627078318079,
          4.448405687322178,
          4.6873042365330555,
          4.459220282151244,
          3.8509390442755844
         ]
        }
       ],
       "layout": {
        "legend": {
         "bgcolor": "#F5F6F9",
         "font": {
          "color": "#4D5663"
         }
        },
        "paper_bgcolor": "#F5F6F9",
        "plot_bgcolor": "#F5F6F9",
        "template": {
         "data": {
          "bar": [
           {
            "error_x": {
             "color": "#2a3f5f"
            },
            "error_y": {
             "color": "#2a3f5f"
            },
            "marker": {
             "line": {
              "color": "#E5ECF6",
              "width": 0.5
             }
            },
            "type": "bar"
           }
          ],
          "barpolar": [
           {
            "marker": {
             "line": {
              "color": "#E5ECF6",
              "width": 0.5
             }
            },
            "type": "barpolar"
           }
          ],
          "carpet": [
           {
            "aaxis": {
             "endlinecolor": "#2a3f5f",
             "gridcolor": "white",
             "linecolor": "white",
             "minorgridcolor": "white",
             "startlinecolor": "#2a3f5f"
            },
            "baxis": {
             "endlinecolor": "#2a3f5f",
             "gridcolor": "white",
             "linecolor": "white",
             "minorgridcolor": "white",
             "startlinecolor": "#2a3f5f"
            },
            "type": "carpet"
           }
          ],
          "choropleth": [
           {
            "colorbar": {
             "outlinewidth": 0,
             "ticks": ""
            },
            "type": "choropleth"
           }
          ],
          "contour": [
           {
            "colorbar": {
             "outlinewidth": 0,
             "ticks": ""
            },
            "colorscale": [
             [
              0,
              "#0d0887"
             ],
             [
              0.1111111111111111,
              "#46039f"
             ],
             [
              0.2222222222222222,
              "#7201a8"
             ],
             [
              0.3333333333333333,
              "#9c179e"
             ],
             [
              0.4444444444444444,
              "#bd3786"
             ],
             [
              0.5555555555555556,
              "#d8576b"
             ],
             [
              0.6666666666666666,
              "#ed7953"
             ],
             [
              0.7777777777777778,
              "#fb9f3a"
             ],
             [
              0.8888888888888888,
              "#fdca26"
             ],
             [
              1,
              "#f0f921"
             ]
            ],
            "type": "contour"
           }
          ],
          "contourcarpet": [
           {
            "colorbar": {
             "outlinewidth": 0,
             "ticks": ""
            },
            "type": "contourcarpet"
           }
          ],
          "heatmap": [
           {
            "colorbar": {
             "outlinewidth": 0,
             "ticks": ""
            },
            "colorscale": [
             [
              0,
              "#0d0887"
             ],
             [
              0.1111111111111111,
              "#46039f"
             ],
             [
              0.2222222222222222,
              "#7201a8"
             ],
             [
              0.3333333333333333,
              "#9c179e"
             ],
             [
              0.4444444444444444,
              "#bd3786"
             ],
             [
              0.5555555555555556,
              "#d8576b"
             ],
             [
              0.6666666666666666,
              "#ed7953"
             ],
             [
              0.7777777777777778,
              "#fb9f3a"
             ],
             [
              0.8888888888888888,
              "#fdca26"
             ],
             [
              1,
              "#f0f921"
             ]
            ],
            "type": "heatmap"
           }
          ],
          "heatmapgl": [
           {
            "colorbar": {
             "outlinewidth": 0,
             "ticks": ""
            },
            "colorscale": [
             [
              0,
              "#0d0887"
             ],
             [
              0.1111111111111111,
              "#46039f"
             ],
             [
              0.2222222222222222,
              "#7201a8"
             ],
             [
              0.3333333333333333,
              "#9c179e"
             ],
             [
              0.4444444444444444,
              "#bd3786"
             ],
             [
              0.5555555555555556,
              "#d8576b"
             ],
             [
              0.6666666666666666,
              "#ed7953"
             ],
             [
              0.7777777777777778,
              "#fb9f3a"
             ],
             [
              0.8888888888888888,
              "#fdca26"
             ],
             [
              1,
              "#f0f921"
             ]
            ],
            "type": "heatmapgl"
           }
          ],
          "histogram": [
           {
            "marker": {
             "colorbar": {
              "outlinewidth": 0,
              "ticks": ""
             }
            },
            "type": "histogram"
           }
          ],
          "histogram2d": [
           {
            "colorbar": {
             "outlinewidth": 0,
             "ticks": ""
            },
            "colorscale": [
             [
              0,
              "#0d0887"
             ],
             [
              0.1111111111111111,
              "#46039f"
             ],
             [
              0.2222222222222222,
              "#7201a8"
             ],
             [
              0.3333333333333333,
              "#9c179e"
             ],
             [
              0.4444444444444444,
              "#bd3786"
             ],
             [
              0.5555555555555556,
              "#d8576b"
             ],
             [
              0.6666666666666666,
              "#ed7953"
             ],
             [
              0.7777777777777778,
              "#fb9f3a"
             ],
             [
              0.8888888888888888,
              "#fdca26"
             ],
             [
              1,
              "#f0f921"
             ]
            ],
            "type": "histogram2d"
           }
          ],
          "histogram2dcontour": [
           {
            "colorbar": {
             "outlinewidth": 0,
             "ticks": ""
            },
            "colorscale": [
             [
              0,
              "#0d0887"
             ],
             [
              0.1111111111111111,
              "#46039f"
             ],
             [
              0.2222222222222222,
              "#7201a8"
             ],
             [
              0.3333333333333333,
              "#9c179e"
             ],
             [
              0.4444444444444444,
              "#bd3786"
             ],
             [
              0.5555555555555556,
              "#d8576b"
             ],
             [
              0.6666666666666666,
              "#ed7953"
             ],
             [
              0.7777777777777778,
              "#fb9f3a"
             ],
             [
              0.8888888888888888,
              "#fdca26"
             ],
             [
              1,
              "#f0f921"
             ]
            ],
            "type": "histogram2dcontour"
           }
          ],
          "mesh3d": [
           {
            "colorbar": {
             "outlinewidth": 0,
             "ticks": ""
            },
            "type": "mesh3d"
           }
          ],
          "parcoords": [
           {
            "line": {
             "colorbar": {
              "outlinewidth": 0,
              "ticks": ""
             }
            },
            "type": "parcoords"
           }
          ],
          "pie": [
           {
            "automargin": true,
            "type": "pie"
           }
          ],
          "scatter": [
           {
            "marker": {
             "colorbar": {
              "outlinewidth": 0,
              "ticks": ""
             }
            },
            "type": "scatter"
           }
          ],
          "scatter3d": [
           {
            "line": {
             "colorbar": {
              "outlinewidth": 0,
              "ticks": ""
             }
            },
            "marker": {
             "colorbar": {
              "outlinewidth": 0,
              "ticks": ""
             }
            },
            "type": "scatter3d"
           }
          ],
          "scattercarpet": [
           {
            "marker": {
             "colorbar": {
              "outlinewidth": 0,
              "ticks": ""
             }
            },
            "type": "scattercarpet"
           }
          ],
          "scattergeo": [
           {
            "marker": {
             "colorbar": {
              "outlinewidth": 0,
              "ticks": ""
             }
            },
            "type": "scattergeo"
           }
          ],
          "scattergl": [
           {
            "marker": {
             "colorbar": {
              "outlinewidth": 0,
              "ticks": ""
             }
            },
            "type": "scattergl"
           }
          ],
          "scattermapbox": [
           {
            "marker": {
             "colorbar": {
              "outlinewidth": 0,
              "ticks": ""
             }
            },
            "type": "scattermapbox"
           }
          ],
          "scatterpolar": [
           {
            "marker": {
             "colorbar": {
              "outlinewidth": 0,
              "ticks": ""
             }
            },
            "type": "scatterpolar"
           }
          ],
          "scatterpolargl": [
           {
            "marker": {
             "colorbar": {
              "outlinewidth": 0,
              "ticks": ""
             }
            },
            "type": "scatterpolargl"
           }
          ],
          "scatterternary": [
           {
            "marker": {
             "colorbar": {
              "outlinewidth": 0,
              "ticks": ""
             }
            },
            "type": "scatterternary"
           }
          ],
          "surface": [
           {
            "colorbar": {
             "outlinewidth": 0,
             "ticks": ""
            },
            "colorscale": [
             [
              0,
              "#0d0887"
             ],
             [
              0.1111111111111111,
              "#46039f"
             ],
             [
              0.2222222222222222,
              "#7201a8"
             ],
             [
              0.3333333333333333,
              "#9c179e"
             ],
             [
              0.4444444444444444,
              "#bd3786"
             ],
             [
              0.5555555555555556,
              "#d8576b"
             ],
             [
              0.6666666666666666,
              "#ed7953"
             ],
             [
              0.7777777777777778,
              "#fb9f3a"
             ],
             [
              0.8888888888888888,
              "#fdca26"
             ],
             [
              1,
              "#f0f921"
             ]
            ],
            "type": "surface"
           }
          ],
          "table": [
           {
            "cells": {
             "fill": {
              "color": "#EBF0F8"
             },
             "line": {
              "color": "white"
             }
            },
            "header": {
             "fill": {
              "color": "#C8D4E3"
             },
             "line": {
              "color": "white"
             }
            },
            "type": "table"
           }
          ]
         },
         "layout": {
          "annotationdefaults": {
           "arrowcolor": "#2a3f5f",
           "arrowhead": 0,
           "arrowwidth": 1
          },
          "coloraxis": {
           "colorbar": {
            "outlinewidth": 0,
            "ticks": ""
           }
          },
          "colorscale": {
           "diverging": [
            [
             0,
             "#8e0152"
            ],
            [
             0.1,
             "#c51b7d"
            ],
            [
             0.2,
             "#de77ae"
            ],
            [
             0.3,
             "#f1b6da"
            ],
            [
             0.4,
             "#fde0ef"
            ],
            [
             0.5,
             "#f7f7f7"
            ],
            [
             0.6,
             "#e6f5d0"
            ],
            [
             0.7,
             "#b8e186"
            ],
            [
             0.8,
             "#7fbc41"
            ],
            [
             0.9,
             "#4d9221"
            ],
            [
             1,
             "#276419"
            ]
           ],
           "sequential": [
            [
             0,
             "#0d0887"
            ],
            [
             0.1111111111111111,
             "#46039f"
            ],
            [
             0.2222222222222222,
             "#7201a8"
            ],
            [
             0.3333333333333333,
             "#9c179e"
            ],
            [
             0.4444444444444444,
             "#bd3786"
            ],
            [
             0.5555555555555556,
             "#d8576b"
            ],
            [
             0.6666666666666666,
             "#ed7953"
            ],
            [
             0.7777777777777778,
             "#fb9f3a"
            ],
            [
             0.8888888888888888,
             "#fdca26"
            ],
            [
             1,
             "#f0f921"
            ]
           ],
           "sequentialminus": [
            [
             0,
             "#0d0887"
            ],
            [
             0.1111111111111111,
             "#46039f"
            ],
            [
             0.2222222222222222,
             "#7201a8"
            ],
            [
             0.3333333333333333,
             "#9c179e"
            ],
            [
             0.4444444444444444,
             "#bd3786"
            ],
            [
             0.5555555555555556,
             "#d8576b"
            ],
            [
             0.6666666666666666,
             "#ed7953"
            ],
            [
             0.7777777777777778,
             "#fb9f3a"
            ],
            [
             0.8888888888888888,
             "#fdca26"
            ],
            [
             1,
             "#f0f921"
            ]
           ]
          },
          "colorway": [
           "#636efa",
           "#EF553B",
           "#00cc96",
           "#ab63fa",
           "#FFA15A",
           "#19d3f3",
           "#FF6692",
           "#B6E880",
           "#FF97FF",
           "#FECB52"
          ],
          "font": {
           "color": "#2a3f5f"
          },
          "geo": {
           "bgcolor": "white",
           "lakecolor": "white",
           "landcolor": "#E5ECF6",
           "showlakes": true,
           "showland": true,
           "subunitcolor": "white"
          },
          "hoverlabel": {
           "align": "left"
          },
          "hovermode": "closest",
          "mapbox": {
           "style": "light"
          },
          "paper_bgcolor": "white",
          "plot_bgcolor": "#E5ECF6",
          "polar": {
           "angularaxis": {
            "gridcolor": "white",
            "linecolor": "white",
            "ticks": ""
           },
           "bgcolor": "#E5ECF6",
           "radialaxis": {
            "gridcolor": "white",
            "linecolor": "white",
            "ticks": ""
           }
          },
          "scene": {
           "xaxis": {
            "backgroundcolor": "#E5ECF6",
            "gridcolor": "white",
            "gridwidth": 2,
            "linecolor": "white",
            "showbackground": true,
            "ticks": "",
            "zerolinecolor": "white"
           },
           "yaxis": {
            "backgroundcolor": "#E5ECF6",
            "gridcolor": "white",
            "gridwidth": 2,
            "linecolor": "white",
            "showbackground": true,
            "ticks": "",
            "zerolinecolor": "white"
           },
           "zaxis": {
            "backgroundcolor": "#E5ECF6",
            "gridcolor": "white",
            "gridwidth": 2,
            "linecolor": "white",
            "showbackground": true,
            "ticks": "",
            "zerolinecolor": "white"
           }
          },
          "shapedefaults": {
           "line": {
            "color": "#2a3f5f"
           }
          },
          "ternary": {
           "aaxis": {
            "gridcolor": "white",
            "linecolor": "white",
            "ticks": ""
           },
           "baxis": {
            "gridcolor": "white",
            "linecolor": "white",
            "ticks": ""
           },
           "bgcolor": "#E5ECF6",
           "caxis": {
            "gridcolor": "white",
            "linecolor": "white",
            "ticks": ""
           }
          },
          "title": {
           "x": 0.05
          },
          "xaxis": {
           "automargin": true,
           "gridcolor": "white",
           "linecolor": "white",
           "ticks": "",
           "title": {
            "standoff": 15
           },
           "zerolinecolor": "white",
           "zerolinewidth": 2
          },
          "yaxis": {
           "automargin": true,
           "gridcolor": "white",
           "linecolor": "white",
           "ticks": "",
           "title": {
            "standoff": 15
           },
           "zerolinecolor": "white",
           "zerolinewidth": 2
          }
         }
        },
        "title": {
         "font": {
          "color": "#4D5663"
         },
         "text": "Stock Returns",
         "x": 0.5
        },
        "xaxis": {
         "gridcolor": "#E1E5ED",
         "showgrid": true,
         "tickfont": {
          "color": "#4D5663"
         },
         "title": {
          "font": {
           "color": "#4D5663"
          },
          "text": "Dates"
         },
         "zerolinecolor": "#E1E5ED"
        },
        "yaxis": {
         "gridcolor": "#E1E5ED",
         "showgrid": true,
         "tickfont": {
          "color": "#4D5663"
         },
         "title": {
          "font": {
           "color": "#4D5663"
          },
          "text": "Returns"
         },
         "zerolinecolor": "#E1E5ED"
        }
       }
      },
      "text/html": "<div>\n        \n        \n            <div id=\"1e4548aa-b0ec-4c1a-abd3-f42029ce7c69\" class=\"plotly-graph-div\" style=\"height:525px; width:100%;\"></div>\n            <script type=\"text/javascript\">\n                require([\"plotly\"], function(Plotly) {\n                    window.PLOTLYENV=window.PLOTLYENV || {};\n                    window.PLOTLYENV.BASE_URL='https://plot.ly';\n                    \n                if (document.getElementById(\"1e4548aa-b0ec-4c1a-abd3-f42029ce7c69\")) {\n                    Plotly.newPlot(\n                        '1e4548aa-b0ec-4c1a-abd3-f42029ce7c69',\n                        [{\"line\": {\"color\": \"rgba(255, 153, 51, 1.0)\", \"dash\": \"solid\", \"shape\": \"linear\", \"width\": 1.3}, \"mode\": \"lines\", \"name\": \"IBM\", \"text\": \"\", \"type\": \"scatter\", \"x\": [\"2015-01-01\", \"2015-01-02\", \"2015-01-03\", \"2015-01-04\", \"2015-01-05\", \"2015-01-06\", \"2015-01-07\", \"2015-01-08\", \"2015-01-09\", \"2015-01-10\", \"2015-01-11\", \"2015-01-12\", \"2015-01-13\", \"2015-01-14\", \"2015-01-15\", \"2015-01-16\", \"2015-01-17\", \"2015-01-18\", \"2015-01-19\", \"2015-01-20\", \"2015-01-21\", \"2015-01-22\", \"2015-01-23\", \"2015-01-24\", \"2015-01-25\", \"2015-01-26\", \"2015-01-27\", \"2015-01-28\", \"2015-01-29\", \"2015-01-30\", \"2015-01-31\", \"2015-02-01\", \"2015-02-02\", \"2015-02-03\", \"2015-02-04\", \"2015-02-05\", \"2015-02-06\", \"2015-02-07\", \"2015-02-08\", \"2015-02-09\", \"2015-02-10\", \"2015-02-11\", \"2015-02-12\", \"2015-02-13\", \"2015-02-14\", \"2015-02-15\", \"2015-02-16\", \"2015-02-17\", \"2015-02-18\", \"2015-02-19\", \"2015-02-20\", \"2015-02-21\", \"2015-02-22\", \"2015-02-23\", \"2015-02-24\", \"2015-02-25\", \"2015-02-26\", \"2015-02-27\", \"2015-02-28\", \"2015-03-01\", \"2015-03-02\", \"2015-03-03\", \"2015-03-04\", \"2015-03-05\", \"2015-03-06\", \"2015-03-07\", \"2015-03-08\", \"2015-03-09\", \"2015-03-10\", \"2015-03-11\", \"2015-03-12\", \"2015-03-13\", \"2015-03-14\", \"2015-03-15\", \"2015-03-16\", \"2015-03-17\", \"2015-03-18\", \"2015-03-19\", \"2015-03-20\", \"2015-03-21\", \"2015-03-22\", \"2015-03-23\", \"2015-03-24\", \"2015-03-25\", \"2015-03-26\", \"2015-03-27\", \"2015-03-28\", \"2015-03-29\", \"2015-03-30\", \"2015-03-31\", \"2015-04-01\", \"2015-04-02\", \"2015-04-03\", \"2015-04-04\", \"2015-04-05\", \"2015-04-06\", \"2015-04-07\", \"2015-04-08\", \"2015-04-09\", \"2015-04-10\"], \"y\": [1.204634807161707, 0.9145006657511832, 1.218380555193714, 1.6040010922114574, 1.8507033314358179, 4.066880405623611, 3.9518239112895603, 3.343657322630591, 2.6993826172728155, 1.7937813998056815, 3.3904206501079903, 3.345034922314204, 2.8517905735877718, 2.8932554343515426, 2.6287434615650396, 3.679479655990322, 4.944291988023277, 2.9551589923384833, 1.970315548397061, 4.133925997771108, 3.573572250821949, 2.2801057441736505, 2.796887744081139, 3.932794382724473, 4.684296090776566, 2.8116890200753795, 4.384379914695954, 4.971081521334814, 4.186258478209225, 3.761632047985512, 2.3170347129796856, 2.1401733562384115, 3.196995662718602, 3.5409634047460994, 2.821265452008573, 2.723780481480727, 4.4033201312379155, 4.7153130149928, 4.997103372287718, 3.9065268548223937, 3.9687873891992123, 3.4634482916119396, 4.375837100021135, 4.818047771512238, 4.1993376531312485, 4.645450687143723, 3.599444565065083, 4.643770490966302, 5.750552089295493, 7.627080128570817, 7.862509075905664, 7.567351742017961, 6.617686040286462, 7.0447515896015735, 5.6656921950987265, 5.5417453482215295, 5.300541310566457, 6.197160360699273, 6.973910554277696, 6.614186238837551, 5.70209439422732, 5.787684024812829, 4.967521027775211, 3.016285683828192, 2.993551445823966, 1.458684884800412, 1.9699409510984167, 3.9649806008166273, 2.179191362941848, 1.2441913085533476, -0.12680808196925897, -1.2212833718971874, -0.012870929969344802, -0.8054526521075539, 0.2854382558167422, 2.1718688636009036, 1.619714167525475, 1.5986208166867795, 1.043527737653303, 0.5643284317133457, 0.7087707869791047, -0.32026411470649707, -2.423211570673105, -3.299175701949043, -3.050376069362347, -4.116508254409561, -4.621563417035203, -4.049924836831571, -3.4946903347242353, -3.077705559917039, -3.098470907212177, -1.6145923365328922, -1.1547366322244565, -2.1873182602382837, -1.887737928204876, -0.6839643367947077, -0.31528962727014875, -1.0087476245153408, -2.5148423931404507, -1.5810877447705447]}, {\"line\": {\"color\": \"rgba(55, 128, 191, 1.0)\", \"dash\": \"solid\", \"shape\": \"linear\", \"width\": 1.3}, \"mode\": \"lines\", \"name\": \"MSFT\", \"text\": \"\", \"type\": \"scatter\", \"x\": [\"2015-01-01\", \"2015-01-02\", \"2015-01-03\", \"2015-01-04\", \"2015-01-05\", \"2015-01-06\", \"2015-01-07\", \"2015-01-08\", \"2015-01-09\", \"2015-01-10\", \"2015-01-11\", \"2015-01-12\", \"2015-01-13\", \"2015-01-14\", \"2015-01-15\", \"2015-01-16\", \"2015-01-17\", \"2015-01-18\", \"2015-01-19\", \"2015-01-20\", \"2015-01-21\", \"2015-01-22\", \"2015-01-23\", \"2015-01-24\", \"2015-01-25\", \"2015-01-26\", \"2015-01-27\", \"2015-01-28\", \"2015-01-29\", \"2015-01-30\", \"2015-01-31\", \"2015-02-01\", \"2015-02-02\", \"2015-02-03\", \"2015-02-04\", \"2015-02-05\", \"2015-02-06\", \"2015-02-07\", \"2015-02-08\", \"2015-02-09\", \"2015-02-10\", \"2015-02-11\", \"2015-02-12\", \"2015-02-13\", \"2015-02-14\", \"2015-02-15\", \"2015-02-16\", \"2015-02-17\", \"2015-02-18\", \"2015-02-19\", \"2015-02-20\", \"2015-02-21\", \"2015-02-22\", \"2015-02-23\", \"2015-02-24\", \"2015-02-25\", \"2015-02-26\", \"2015-02-27\", \"2015-02-28\", \"2015-03-01\", \"2015-03-02\", \"2015-03-03\", \"2015-03-04\", \"2015-03-05\", \"2015-03-06\", \"2015-03-07\", \"2015-03-08\", \"2015-03-09\", \"2015-03-10\", \"2015-03-11\", \"2015-03-12\", \"2015-03-13\", \"2015-03-14\", \"2015-03-15\", \"2015-03-16\", \"2015-03-17\", \"2015-03-18\", \"2015-03-19\", \"2015-03-20\", \"2015-03-21\", \"2015-03-22\", \"2015-03-23\", \"2015-03-24\", \"2015-03-25\", \"2015-03-26\", \"2015-03-27\", \"2015-03-28\", \"2015-03-29\", \"2015-03-30\", \"2015-03-31\", \"2015-04-01\", \"2015-04-02\", \"2015-04-03\", \"2015-04-04\", \"2015-04-05\", \"2015-04-06\", \"2015-04-07\", \"2015-04-08\", \"2015-04-09\", \"2015-04-10\"], \"y\": [-0.13485427742658052, 2.4533882212029257, 2.5866188388893145, 3.6448420212650343, 4.627951751750441, 3.886226815958306, 3.2578693279395723, 3.4136532056183397, 1.0562422305686878, 2.3837720933676367, 0.9975498226769888, 1.1304334051861475, -1.7946943704416911, -1.2374367201402034, -0.3154205340345986, -0.7401238537592838, -0.32525970140343174, 3.2683659162815424, 4.378433594261496, 2.5317792764719944, 1.1198643928492862, 0.49061424627823513, 0.8883341641308649, 0.832740131979093, 1.4870797206086905, 1.8820862527576259, 2.5640248883437633, 3.7949419388906485, 2.704319715120783, 2.7667954173925478, 1.9066295026055375, 1.4256908593620523, 3.1337859933617045, 2.1998203599150346, 1.4259000951636729, 0.5178973832157078, 1.9979986575043243, 2.620234329360236, 2.3984898889288915, 2.133075733518558, 2.9135162466765965, 2.729349082194042, 3.950333550757815, 3.8223457054395262, 3.010770156987346, 3.3424672080714526, 3.908978923042271, 2.6628767837422007, 1.9770506749879257, 1.2135136251378615, 0.3192561309867882, 1.8390860771691768, 3.1989298611504937, 3.6639553618739007, 5.320020402521994, 5.588196108625732, 5.00680262486941, 3.778319199389525, 2.667196882285848, 2.9805140310843163, 3.003815184847288, 3.209109231484667, 3.2333440593561877, 4.530676760329434, 5.173117026576456, 4.2251503557992685, 5.912732470161208, 5.51954115029074, 4.424751160327413, 3.986725700552799, 4.320141649814506, 3.710089327148561, 3.909944446473572, 4.801056752960521, 4.663878576396333, 5.714925311423528, 6.851912419059642, 5.382228557465856, 4.797772779950918, 4.597735429334732, 6.372076404865782, 6.642296843309585, 5.612657811361704, 6.18231141544473, 6.161297192872845, 7.271022123097529, 6.2471421669683895, 4.933677265419876, 5.160999303997231, 4.727003299127816, 6.006718309763433, 6.737144799901425, 6.872139236297279, 7.2701841548909005, 7.192142726165852, 7.187389275287803, 6.402789460500397, 5.605540825725594, 4.015676761225024, 4.690677468131136]}, {\"line\": {\"color\": \"rgba(50, 171, 96, 1.0)\", \"dash\": \"solid\", \"shape\": \"linear\", \"width\": 1.3}, \"mode\": \"lines\", \"name\": \"GOOG\", \"text\": \"\", \"type\": \"scatter\", \"x\": [\"2015-01-01\", \"2015-01-02\", \"2015-01-03\", \"2015-01-04\", \"2015-01-05\", \"2015-01-06\", \"2015-01-07\", \"2015-01-08\", \"2015-01-09\", \"2015-01-10\", \"2015-01-11\", \"2015-01-12\", \"2015-01-13\", \"2015-01-14\", \"2015-01-15\", \"2015-01-16\", \"2015-01-17\", \"2015-01-18\", \"2015-01-19\", \"2015-01-20\", \"2015-01-21\", \"2015-01-22\", \"2015-01-23\", \"2015-01-24\", \"2015-01-25\", \"2015-01-26\", \"2015-01-27\", \"2015-01-28\", \"2015-01-29\", \"2015-01-30\", \"2015-01-31\", \"2015-02-01\", \"2015-02-02\", \"2015-02-03\", \"2015-02-04\", \"2015-02-05\", \"2015-02-06\", \"2015-02-07\", \"2015-02-08\", \"2015-02-09\", \"2015-02-10\", \"2015-02-11\", \"2015-02-12\", \"2015-02-13\", \"2015-02-14\", \"2015-02-15\", \"2015-02-16\", \"2015-02-17\", \"2015-02-18\", \"2015-02-19\", \"2015-02-20\", \"2015-02-21\", \"2015-02-22\", \"2015-02-23\", \"2015-02-24\", \"2015-02-25\", \"2015-02-26\", \"2015-02-27\", \"2015-02-28\", \"2015-03-01\", \"2015-03-02\", \"2015-03-03\", \"2015-03-04\", \"2015-03-05\", \"2015-03-06\", \"2015-03-07\", \"2015-03-08\", \"2015-03-09\", \"2015-03-10\", \"2015-03-11\", \"2015-03-12\", \"2015-03-13\", \"2015-03-14\", \"2015-03-15\", \"2015-03-16\", \"2015-03-17\", \"2015-03-18\", \"2015-03-19\", \"2015-03-20\", \"2015-03-21\", \"2015-03-22\", \"2015-03-23\", \"2015-03-24\", \"2015-03-25\", \"2015-03-26\", \"2015-03-27\", \"2015-03-28\", \"2015-03-29\", \"2015-03-30\", \"2015-03-31\", \"2015-04-01\", \"2015-04-02\", \"2015-04-03\", \"2015-04-04\", \"2015-04-05\", \"2015-04-06\", \"2015-04-07\", \"2015-04-08\", \"2015-04-09\", \"2015-04-10\"], \"y\": [-0.12387924572510589, 0.7966498730369406, 1.0930453586576663, 0.8338763647745995, 2.162767373656787, 3.6062479500754563, 3.202448635829711, 2.567768542871831, 2.680965496534378, 3.0771406663505374, 3.1817142990051566, 3.4747241965005253, 1.786861595444297, 1.2830933096354091, 0.8149808081530232, 1.638113505552203, 1.319479223899768, 0.9286020556627193, 1.0749376964085826, 0.7453726598777997, 0.5351004398007938, 1.7219980305414824, 3.288062906283162, 2.265715410599549, 2.878792291909428, 2.3658078488735605, 1.5429717063115824, 1.7131489093551935, 0.8757153715278675, -0.050836507954122534, 0.2734354284066933, -0.10384561697594463, 0.6170179756526629, -2.146384173384452, -2.0183868572088537, -2.8188938819444975, -2.0162843681736495, -0.8352167035665634, -0.13014772668399532, -0.871615876465248, -0.5837974390826651, -2.9705123896372956, -3.197567871273736, -4.502872794857076, -4.525528837270438, -5.106122697850888, -6.23503695286984, -6.362975732262328, -5.449173916416164, -5.421419974488732, -5.056505806053844, -2.936029997224167, -1.6383310208514863, -2.936152885768644, -3.772770597284165, -3.5002867712377617, -4.1497437280826555, -3.45322162143892, -3.3803275101087755, -2.4394912253450647, -4.01680927318296, -2.696232307602342, -1.2539151074023323, 1.5592928756927413, 0.9594451971987746, 0.2105984619987319, -0.7497386105484958, -1.030957270406392, -2.1734822858387766, -1.9270371687779182, -1.2476992683785164, -2.3846756567901206, -0.6421205097917579, 0.44824301680512035, 0.6682654935379814, 1.695370736199374, 2.3866034693565625, 1.834912270049062, 1.0180822540150134, 0.8484255614423925, 0.1799863918692055, 1.8080574327213808, 1.3944920136670351, 1.7118024940155672, 1.8756814678680513, 0.1777891259967339, 0.43579931757763607, -0.2648329380224224, -0.7664804894080612, -0.31845050463237334, -0.4486317737560189, 1.7161003285705925, 2.2582740061138797, 1.3654619980796454, 1.3494056338577864, 0.5364421851499185, 2.318095072680387, 1.1205864275793826, 1.2156619998330147, 1.502352832575002]}, {\"line\": {\"color\": \"rgba(128, 0, 128, 1.0)\", \"dash\": \"solid\", \"shape\": \"linear\", \"width\": 1.3}, \"mode\": \"lines\", \"name\": \"VERZ\", \"text\": \"\", \"type\": \"scatter\", \"x\": [\"2015-01-01\", \"2015-01-02\", \"2015-01-03\", \"2015-01-04\", \"2015-01-05\", \"2015-01-06\", \"2015-01-07\", \"2015-01-08\", \"2015-01-09\", \"2015-01-10\", \"2015-01-11\", \"2015-01-12\", \"2015-01-13\", \"2015-01-14\", \"2015-01-15\", \"2015-01-16\", \"2015-01-17\", \"2015-01-18\", \"2015-01-19\", \"2015-01-20\", \"2015-01-21\", \"2015-01-22\", \"2015-01-23\", \"2015-01-24\", \"2015-01-25\", \"2015-01-26\", \"2015-01-27\", \"2015-01-28\", \"2015-01-29\", \"2015-01-30\", \"2015-01-31\", \"2015-02-01\", \"2015-02-02\", \"2015-02-03\", \"2015-02-04\", \"2015-02-05\", \"2015-02-06\", \"2015-02-07\", \"2015-02-08\", \"2015-02-09\", \"2015-02-10\", \"2015-02-11\", \"2015-02-12\", \"2015-02-13\", \"2015-02-14\", \"2015-02-15\", \"2015-02-16\", \"2015-02-17\", \"2015-02-18\", \"2015-02-19\", \"2015-02-20\", \"2015-02-21\", \"2015-02-22\", \"2015-02-23\", \"2015-02-24\", \"2015-02-25\", \"2015-02-26\", \"2015-02-27\", \"2015-02-28\", \"2015-03-01\", \"2015-03-02\", \"2015-03-03\", \"2015-03-04\", \"2015-03-05\", \"2015-03-06\", \"2015-03-07\", \"2015-03-08\", \"2015-03-09\", \"2015-03-10\", \"2015-03-11\", \"2015-03-12\", \"2015-03-13\", \"2015-03-14\", \"2015-03-15\", \"2015-03-16\", \"2015-03-17\", \"2015-03-18\", \"2015-03-19\", \"2015-03-20\", \"2015-03-21\", \"2015-03-22\", \"2015-03-23\", \"2015-03-24\", \"2015-03-25\", \"2015-03-26\", \"2015-03-27\", \"2015-03-28\", \"2015-03-29\", \"2015-03-30\", \"2015-03-31\", \"2015-04-01\", \"2015-04-02\", \"2015-04-03\", \"2015-04-04\", \"2015-04-05\", \"2015-04-06\", \"2015-04-07\", \"2015-04-08\", \"2015-04-09\", \"2015-04-10\"], \"y\": [-0.14798997143547915, -0.7425181638076277, -1.629112387980162, -1.1534696529044854, -1.6916336318363019, -2.1993395653892347, -2.5420785946771374, -3.249116056341389, -1.2596339737619773, -1.1431606521394526, -1.591803171812925, -0.2835944499728289, -0.7462854607485447, -0.21187646900463442, 1.1332111485517466, -0.41140209681748763, -0.07764236418693948, 0.3840523760865555, 0.3806219878429994, 0.4184229671916261, -0.9519937067082221, 0.14408463639206925, 0.26377743175971813, 0.42678343645240235, -0.9424001163610074, -1.7604137942702862, -1.2907716439042218, 1.0630981669304322, 1.0902998744576748, 2.524916666502402, 3.384885588190943, 5.036316160354567, 4.767203934327283, 4.858948011378686, 4.510420682566213, 5.792567762513112, 4.703661698896927, 3.823605711307492, 3.8068604096761427, 4.613704598588734, 3.2228860410149407, 3.1682138945339773, 3.556497918312706, 4.1563789470447485, 6.178543778204498, 6.193656777865214, 4.516139346557444, 5.6279628611295385, 5.093092493583762, 3.612856913279101, 3.8702174842042387, 5.39335992080307, 6.439817670790796, 7.533093530210259, 6.582016553867401, 4.921727440991564, 5.568043760905853, 8.285708786755254, 8.364612432382978, 7.883165005915357, 6.672987596795707, 6.590060655078807, 8.56443044442024, 8.452621619423141, 8.231792039767997, 8.06878543193988, 6.650407145787599, 6.322040091543126, 7.3128934837617035, 7.501145391479421, 4.808823390778633, 4.762035814722748, 5.680327554796811, 6.6410803503198474, 6.173067765937346, 5.714279697407312, 7.173736382596482, 5.262584850059834, 6.354690181400844, 5.424689717255171, 3.348070717794639, 4.194635627534584, 3.7484208696640002, 2.8974748414271505, 3.2102163573648888, 2.642360238692871, 1.0223478845888063, 0.5894718601443806, 2.310612385325222, 2.5287376463928646, 3.982459441623575, 3.742749447810474, 3.0850362775278493, 2.4032408097853932, 1.897205058588498, 4.650433498714276, 3.4849138902296843, 4.017518372219557, 2.9204274054378057, 2.3720445077861267]}, {\"line\": {\"color\": \"rgba(219, 64, 82, 1.0)\", \"dash\": \"solid\", \"shape\": \"linear\", \"width\": 1.3}, \"mode\": \"lines\", \"name\": \"APPL\", \"text\": \"\", \"type\": \"scatter\", \"x\": [\"2015-01-01\", \"2015-01-02\", \"2015-01-03\", \"2015-01-04\", \"2015-01-05\", \"2015-01-06\", \"2015-01-07\", \"2015-01-08\", \"2015-01-09\", \"2015-01-10\", \"2015-01-11\", \"2015-01-12\", \"2015-01-13\", \"2015-01-14\", \"2015-01-15\", \"2015-01-16\", \"2015-01-17\", \"2015-01-18\", \"2015-01-19\", \"2015-01-20\", \"2015-01-21\", \"2015-01-22\", \"2015-01-23\", \"2015-01-24\", \"2015-01-25\", \"2015-01-26\", \"2015-01-27\", \"2015-01-28\", \"2015-01-29\", \"2015-01-30\", \"2015-01-31\", \"2015-02-01\", \"2015-02-02\", \"2015-02-03\", \"2015-02-04\", \"2015-02-05\", \"2015-02-06\", \"2015-02-07\", \"2015-02-08\", \"2015-02-09\", \"2015-02-10\", \"2015-02-11\", \"2015-02-12\", \"2015-02-13\", \"2015-02-14\", \"2015-02-15\", \"2015-02-16\", \"2015-02-17\", \"2015-02-18\", \"2015-02-19\", \"2015-02-20\", \"2015-02-21\", \"2015-02-22\", \"2015-02-23\", \"2015-02-24\", \"2015-02-25\", \"2015-02-26\", \"2015-02-27\", \"2015-02-28\", \"2015-03-01\", \"2015-03-02\", \"2015-03-03\", \"2015-03-04\", \"2015-03-05\", \"2015-03-06\", \"2015-03-07\", \"2015-03-08\", \"2015-03-09\", \"2015-03-10\", \"2015-03-11\", \"2015-03-12\", \"2015-03-13\", \"2015-03-14\", \"2015-03-15\", \"2015-03-16\", \"2015-03-17\", \"2015-03-18\", \"2015-03-19\", \"2015-03-20\", \"2015-03-21\", \"2015-03-22\", \"2015-03-23\", \"2015-03-24\", \"2015-03-25\", \"2015-03-26\", \"2015-03-27\", \"2015-03-28\", \"2015-03-29\", \"2015-03-30\", \"2015-03-31\", \"2015-04-01\", \"2015-04-02\", \"2015-04-03\", \"2015-04-04\", \"2015-04-05\", \"2015-04-06\", \"2015-04-07\", \"2015-04-08\", \"2015-04-09\", \"2015-04-10\"], \"y\": [-0.8091304123445491, -0.7329208464625815, -0.6575082144050455, 1.3815571912376952, 1.8805686830595687, 1.5297260792999725, 1.4100132350213395, 1.482655244407929, 1.8986271894839015, 0.7551462280199512, -1.2635586383299646, -1.1617282471557315, -0.18016902817091962, -2.0870846482101717, -1.3472919376425105, -2.0892003539609885, -3.255863774094439, -3.4823489131295795, -2.58657821115114, -3.329971408688671, -4.396850652693731, -4.5572366955919845, -4.976248583915539, -5.137769364408434, -3.986759168523533, -5.114106026212177, -5.05454565008468, -5.209908155149506, -3.704764236748535, -3.8335699358564383, -3.8284626251618104, -4.138337739750897, -2.760382292999953, -2.003802334787866, -1.6745988874391742, -1.6549155931837969, -0.40615769074592745, -1.031799377058858, 0.778163809949983, 0.4460343111891075, 1.2237443866233204, 0.7430041870203119, 0.08689711978355097, 0.2856354496267597, -1.5307847228217704, -3.141760851521326, -3.874596537007455, -5.008113127120248, -5.22679662513061, -3.0707428615364605, -3.0834156484059285, -2.4195457502976803, -3.4921371663300342, -2.5063783349351354, -3.5666507281076694, -3.823251676980955, -4.430548756385592, -2.992139404769264, -2.3067855839052798, -1.7911056989276541, -1.3167765969291252, -1.9331634642455717, -1.4756353066338894, -0.5498784419240511, -0.458098236707881, -0.9104666571324511, 0.20670065102356916, 0.0830155408369381, -0.6887550473882589, -0.15356150177269845, 0.1898445896319369, 1.5570245821540418, -0.48490609458580614, 0.18169569818173226, 2.564620602836628, 1.8903740876444102, 1.2461723664406477, 2.6524424846113215, 3.6750915612925934, 3.6022080982429157, 3.8951727542540078, 3.3100675780288045, 2.876908560004731, 4.650094709068069, 4.378147193250875, 3.0110676527393068, 3.6228596956180574, 3.3031963329745904, 3.332477440954584, 3.562784909923561, 1.8094105218229626, 1.5791666368932349, 2.465853435267052, 2.442728788110828, 1.8125526305242834, 2.712627078318079, 4.448405687322178, 4.6873042365330555, 4.459220282151244, 3.8509390442755844]}],\n                        {\"legend\": {\"bgcolor\": \"#F5F6F9\", \"font\": {\"color\": \"#4D5663\"}}, \"paper_bgcolor\": \"#F5F6F9\", \"plot_bgcolor\": \"#F5F6F9\", \"template\": {\"data\": {\"bar\": [{\"error_x\": {\"color\": \"#2a3f5f\"}, \"error_y\": {\"color\": \"#2a3f5f\"}, \"marker\": {\"line\": {\"color\": \"#E5ECF6\", \"width\": 0.5}}, \"type\": \"bar\"}], \"barpolar\": [{\"marker\": {\"line\": {\"color\": \"#E5ECF6\", \"width\": 0.5}}, \"type\": \"barpolar\"}], \"carpet\": [{\"aaxis\": {\"endlinecolor\": \"#2a3f5f\", \"gridcolor\": \"white\", \"linecolor\": \"white\", \"minorgridcolor\": \"white\", \"startlinecolor\": \"#2a3f5f\"}, \"baxis\": {\"endlinecolor\": \"#2a3f5f\", \"gridcolor\": \"white\", \"linecolor\": \"white\", \"minorgridcolor\": \"white\", \"startlinecolor\": \"#2a3f5f\"}, \"type\": \"carpet\"}], \"choropleth\": [{\"colorbar\": {\"outlinewidth\": 0, \"ticks\": \"\"}, \"type\": \"choropleth\"}], \"contour\": [{\"colorbar\": {\"outlinewidth\": 0, \"ticks\": \"\"}, \"colorscale\": [[0.0, \"#0d0887\"], [0.1111111111111111, \"#46039f\"], [0.2222222222222222, \"#7201a8\"], [0.3333333333333333, \"#9c179e\"], [0.4444444444444444, \"#bd3786\"], [0.5555555555555556, \"#d8576b\"], [0.6666666666666666, \"#ed7953\"], [0.7777777777777778, \"#fb9f3a\"], [0.8888888888888888, \"#fdca26\"], [1.0, \"#f0f921\"]], \"type\": \"contour\"}], \"contourcarpet\": [{\"colorbar\": {\"outlinewidth\": 0, \"ticks\": \"\"}, \"type\": \"contourcarpet\"}], \"heatmap\": [{\"colorbar\": {\"outlinewidth\": 0, \"ticks\": \"\"}, \"colorscale\": [[0.0, \"#0d0887\"], [0.1111111111111111, \"#46039f\"], [0.2222222222222222, \"#7201a8\"], [0.3333333333333333, \"#9c179e\"], [0.4444444444444444, \"#bd3786\"], [0.5555555555555556, \"#d8576b\"], [0.6666666666666666, \"#ed7953\"], [0.7777777777777778, \"#fb9f3a\"], [0.8888888888888888, \"#fdca26\"], [1.0, \"#f0f921\"]], \"type\": \"heatmap\"}], \"heatmapgl\": [{\"colorbar\": {\"outlinewidth\": 0, \"ticks\": \"\"}, \"colorscale\": [[0.0, \"#0d0887\"], [0.1111111111111111, \"#46039f\"], [0.2222222222222222, \"#7201a8\"], [0.3333333333333333, \"#9c179e\"], [0.4444444444444444, \"#bd3786\"], [0.5555555555555556, \"#d8576b\"], [0.6666666666666666, \"#ed7953\"], [0.7777777777777778, \"#fb9f3a\"], [0.8888888888888888, \"#fdca26\"], [1.0, \"#f0f921\"]], \"type\": \"heatmapgl\"}], \"histogram\": [{\"marker\": {\"colorbar\": {\"outlinewidth\": 0, \"ticks\": \"\"}}, \"type\": \"histogram\"}], \"histogram2d\": [{\"colorbar\": {\"outlinewidth\": 0, \"ticks\": \"\"}, \"colorscale\": [[0.0, \"#0d0887\"], [0.1111111111111111, \"#46039f\"], [0.2222222222222222, \"#7201a8\"], [0.3333333333333333, \"#9c179e\"], [0.4444444444444444, \"#bd3786\"], [0.5555555555555556, \"#d8576b\"], [0.6666666666666666, \"#ed7953\"], [0.7777777777777778, \"#fb9f3a\"], [0.8888888888888888, \"#fdca26\"], [1.0, \"#f0f921\"]], \"type\": \"histogram2d\"}], \"histogram2dcontour\": [{\"colorbar\": {\"outlinewidth\": 0, \"ticks\": \"\"}, \"colorscale\": [[0.0, \"#0d0887\"], [0.1111111111111111, \"#46039f\"], [0.2222222222222222, \"#7201a8\"], [0.3333333333333333, \"#9c179e\"], [0.4444444444444444, \"#bd3786\"], [0.5555555555555556, \"#d8576b\"], [0.6666666666666666, \"#ed7953\"], [0.7777777777777778, \"#fb9f3a\"], [0.8888888888888888, \"#fdca26\"], [1.0, \"#f0f921\"]], \"type\": \"histogram2dcontour\"}], \"mesh3d\": [{\"colorbar\": {\"outlinewidth\": 0, \"ticks\": \"\"}, \"type\": \"mesh3d\"}], \"parcoords\": [{\"line\": {\"colorbar\": {\"outlinewidth\": 0, \"ticks\": \"\"}}, \"type\": \"parcoords\"}], \"pie\": [{\"automargin\": true, \"type\": \"pie\"}], \"scatter\": [{\"marker\": {\"colorbar\": {\"outlinewidth\": 0, \"ticks\": \"\"}}, \"type\": \"scatter\"}], \"scatter3d\": [{\"line\": {\"colorbar\": {\"outlinewidth\": 0, \"ticks\": \"\"}}, \"marker\": {\"colorbar\": {\"outlinewidth\": 0, \"ticks\": \"\"}}, \"type\": \"scatter3d\"}], \"scattercarpet\": [{\"marker\": {\"colorbar\": {\"outlinewidth\": 0, \"ticks\": \"\"}}, \"type\": \"scattercarpet\"}], \"scattergeo\": [{\"marker\": {\"colorbar\": {\"outlinewidth\": 0, \"ticks\": \"\"}}, \"type\": \"scattergeo\"}], \"scattergl\": [{\"marker\": {\"colorbar\": {\"outlinewidth\": 0, \"ticks\": \"\"}}, \"type\": \"scattergl\"}], \"scattermapbox\": [{\"marker\": {\"colorbar\": {\"outlinewidth\": 0, \"ticks\": \"\"}}, \"type\": \"scattermapbox\"}], \"scatterpolar\": [{\"marker\": {\"colorbar\": {\"outlinewidth\": 0, \"ticks\": \"\"}}, \"type\": \"scatterpolar\"}], \"scatterpolargl\": [{\"marker\": {\"colorbar\": {\"outlinewidth\": 0, \"ticks\": \"\"}}, \"type\": \"scatterpolargl\"}], \"scatterternary\": [{\"marker\": {\"colorbar\": {\"outlinewidth\": 0, \"ticks\": \"\"}}, \"type\": \"scatterternary\"}], \"surface\": [{\"colorbar\": {\"outlinewidth\": 0, \"ticks\": \"\"}, \"colorscale\": [[0.0, \"#0d0887\"], [0.1111111111111111, \"#46039f\"], [0.2222222222222222, \"#7201a8\"], [0.3333333333333333, \"#9c179e\"], [0.4444444444444444, \"#bd3786\"], [0.5555555555555556, \"#d8576b\"], [0.6666666666666666, \"#ed7953\"], [0.7777777777777778, \"#fb9f3a\"], [0.8888888888888888, \"#fdca26\"], [1.0, \"#f0f921\"]], \"type\": \"surface\"}], \"table\": [{\"cells\": {\"fill\": {\"color\": \"#EBF0F8\"}, \"line\": {\"color\": \"white\"}}, \"header\": {\"fill\": {\"color\": \"#C8D4E3\"}, \"line\": {\"color\": \"white\"}}, \"type\": \"table\"}]}, \"layout\": {\"annotationdefaults\": {\"arrowcolor\": \"#2a3f5f\", \"arrowhead\": 0, \"arrowwidth\": 1}, \"coloraxis\": {\"colorbar\": {\"outlinewidth\": 0, \"ticks\": \"\"}}, \"colorscale\": {\"diverging\": [[0, \"#8e0152\"], [0.1, \"#c51b7d\"], [0.2, \"#de77ae\"], [0.3, \"#f1b6da\"], [0.4, \"#fde0ef\"], [0.5, \"#f7f7f7\"], [0.6, \"#e6f5d0\"], [0.7, \"#b8e186\"], [0.8, \"#7fbc41\"], [0.9, \"#4d9221\"], [1, \"#276419\"]], \"sequential\": [[0.0, \"#0d0887\"], [0.1111111111111111, \"#46039f\"], [0.2222222222222222, \"#7201a8\"], [0.3333333333333333, \"#9c179e\"], [0.4444444444444444, \"#bd3786\"], [0.5555555555555556, \"#d8576b\"], [0.6666666666666666, \"#ed7953\"], [0.7777777777777778, \"#fb9f3a\"], [0.8888888888888888, \"#fdca26\"], [1.0, \"#f0f921\"]], \"sequentialminus\": [[0.0, \"#0d0887\"], [0.1111111111111111, \"#46039f\"], [0.2222222222222222, \"#7201a8\"], [0.3333333333333333, \"#9c179e\"], [0.4444444444444444, \"#bd3786\"], [0.5555555555555556, \"#d8576b\"], [0.6666666666666666, \"#ed7953\"], [0.7777777777777778, \"#fb9f3a\"], [0.8888888888888888, \"#fdca26\"], [1.0, \"#f0f921\"]]}, \"colorway\": [\"#636efa\", \"#EF553B\", \"#00cc96\", \"#ab63fa\", \"#FFA15A\", \"#19d3f3\", \"#FF6692\", \"#B6E880\", \"#FF97FF\", \"#FECB52\"], \"font\": {\"color\": \"#2a3f5f\"}, \"geo\": {\"bgcolor\": \"white\", \"lakecolor\": \"white\", \"landcolor\": \"#E5ECF6\", \"showlakes\": true, \"showland\": true, \"subunitcolor\": \"white\"}, \"hoverlabel\": {\"align\": \"left\"}, \"hovermode\": \"closest\", \"mapbox\": {\"style\": \"light\"}, \"paper_bgcolor\": \"white\", \"plot_bgcolor\": \"#E5ECF6\", \"polar\": {\"angularaxis\": {\"gridcolor\": \"white\", \"linecolor\": \"white\", \"ticks\": \"\"}, \"bgcolor\": \"#E5ECF6\", \"radialaxis\": {\"gridcolor\": \"white\", \"linecolor\": \"white\", \"ticks\": \"\"}}, \"scene\": {\"xaxis\": {\"backgroundcolor\": \"#E5ECF6\", \"gridcolor\": \"white\", \"gridwidth\": 2, \"linecolor\": \"white\", \"showbackground\": true, \"ticks\": \"\", \"zerolinecolor\": \"white\"}, \"yaxis\": {\"backgroundcolor\": \"#E5ECF6\", \"gridcolor\": \"white\", \"gridwidth\": 2, \"linecolor\": \"white\", \"showbackground\": true, \"ticks\": \"\", \"zerolinecolor\": \"white\"}, \"zaxis\": {\"backgroundcolor\": \"#E5ECF6\", \"gridcolor\": \"white\", \"gridwidth\": 2, \"linecolor\": \"white\", \"showbackground\": true, \"ticks\": \"\", \"zerolinecolor\": \"white\"}}, \"shapedefaults\": {\"line\": {\"color\": \"#2a3f5f\"}}, \"ternary\": {\"aaxis\": {\"gridcolor\": \"white\", \"linecolor\": \"white\", \"ticks\": \"\"}, \"baxis\": {\"gridcolor\": \"white\", \"linecolor\": \"white\", \"ticks\": \"\"}, \"bgcolor\": \"#E5ECF6\", \"caxis\": {\"gridcolor\": \"white\", \"linecolor\": \"white\", \"ticks\": \"\"}}, \"title\": {\"x\": 0.05}, \"xaxis\": {\"automargin\": true, \"gridcolor\": \"white\", \"linecolor\": \"white\", \"ticks\": \"\", \"title\": {\"standoff\": 15}, \"zerolinecolor\": \"white\", \"zerolinewidth\": 2}, \"yaxis\": {\"automargin\": true, \"gridcolor\": \"white\", \"linecolor\": \"white\", \"ticks\": \"\", \"title\": {\"standoff\": 15}, \"zerolinecolor\": \"white\", \"zerolinewidth\": 2}}}, \"title\": {\"font\": {\"color\": \"#4D5663\"}, \"text\": \"Stock Returns\", \"x\": 0.5}, \"xaxis\": {\"gridcolor\": \"#E1E5ED\", \"showgrid\": true, \"tickfont\": {\"color\": \"#4D5663\"}, \"title\": {\"font\": {\"color\": \"#4D5663\"}, \"text\": \"Dates\"}, \"zerolinecolor\": \"#E1E5ED\"}, \"yaxis\": {\"gridcolor\": \"#E1E5ED\", \"showgrid\": true, \"tickfont\": {\"color\": \"#4D5663\"}, \"title\": {\"font\": {\"color\": \"#4D5663\"}, \"text\": \"Returns\"}, \"zerolinecolor\": \"#E1E5ED\"}},\n                        {\"showLink\": true, \"linkText\": \"Export to plot.ly\", \"plotlyServerURL\": \"https://plot.ly\", \"responsive\": true}\n                    ).then(function(){\n                            \nvar gd = document.getElementById('1e4548aa-b0ec-4c1a-abd3-f42029ce7c69');\nvar x = new MutationObserver(function (mutations, observer) {{\n        var display = window.getComputedStyle(gd).display;\n        if (!display || display === 'none') {{\n            console.log([gd, 'removed!']);\n            Plotly.purge(gd);\n            observer.disconnect();\n        }}\n}});\n\n// Listen for the removal of the full notebook cells\nvar notebookContainer = gd.closest('#notebook-container');\nif (notebookContainer) {{\n    x.observe(notebookContainer, {childList: true});\n}}\n\n// Listen for the clearing of the current output cell\nvar outputEl = gd.closest('.output');\nif (outputEl) {{\n    x.observe(outputEl, {childList: true});\n}}\n\n                        })\n                };\n                });\n            </script>\n        </div>"
     },
     "metadata": {}
    }
   ],
   "source": [
    "df.iplot(theme='pearl',filename='Tutorial Metadata',title='Stock Returns',xTitle='Dates',yTitle='Returns')"
   ]
  },
  {
   "cell_type": "markdown",
   "metadata": {},
   "source": [
    "### Bestfit Lines\n",
    "\n",
    "We can easily add a bestfit line to any Series\n",
    "\n",
    "This will automatically add a best fit approximation and the equation as the legend."
   ]
  },
  {
   "cell_type": "code",
   "execution_count": 8,
   "metadata": {},
   "outputs": [
    {
     "output_type": "display_data",
     "data": {
      "application/vnd.plotly.v1+json": {
       "config": {
        "linkText": "Export to plot.ly",
        "plotlyServerURL": "https://plot.ly",
        "showLink": true
       },
       "data": [
        {
         "line": {
          "color": "rgba(255, 153, 51, 1.0)",
          "dash": "solid",
          "shape": "linear",
          "width": 1.3
         },
         "mode": "lines",
         "name": "IBM",
         "text": "",
         "type": "scatter",
         "x": [
          "2015-01-01",
          "2015-01-02",
          "2015-01-03",
          "2015-01-04",
          "2015-01-05",
          "2015-01-06",
          "2015-01-07",
          "2015-01-08",
          "2015-01-09",
          "2015-01-10",
          "2015-01-11",
          "2015-01-12",
          "2015-01-13",
          "2015-01-14",
          "2015-01-15",
          "2015-01-16",
          "2015-01-17",
          "2015-01-18",
          "2015-01-19",
          "2015-01-20",
          "2015-01-21",
          "2015-01-22",
          "2015-01-23",
          "2015-01-24",
          "2015-01-25",
          "2015-01-26",
          "2015-01-27",
          "2015-01-28",
          "2015-01-29",
          "2015-01-30",
          "2015-01-31",
          "2015-02-01",
          "2015-02-02",
          "2015-02-03",
          "2015-02-04",
          "2015-02-05",
          "2015-02-06",
          "2015-02-07",
          "2015-02-08",
          "2015-02-09",
          "2015-02-10",
          "2015-02-11",
          "2015-02-12",
          "2015-02-13",
          "2015-02-14",
          "2015-02-15",
          "2015-02-16",
          "2015-02-17",
          "2015-02-18",
          "2015-02-19",
          "2015-02-20",
          "2015-02-21",
          "2015-02-22",
          "2015-02-23",
          "2015-02-24",
          "2015-02-25",
          "2015-02-26",
          "2015-02-27",
          "2015-02-28",
          "2015-03-01",
          "2015-03-02",
          "2015-03-03",
          "2015-03-04",
          "2015-03-05",
          "2015-03-06",
          "2015-03-07",
          "2015-03-08",
          "2015-03-09",
          "2015-03-10",
          "2015-03-11",
          "2015-03-12",
          "2015-03-13",
          "2015-03-14",
          "2015-03-15",
          "2015-03-16",
          "2015-03-17",
          "2015-03-18",
          "2015-03-19",
          "2015-03-20",
          "2015-03-21",
          "2015-03-22",
          "2015-03-23",
          "2015-03-24",
          "2015-03-25",
          "2015-03-26",
          "2015-03-27",
          "2015-03-28",
          "2015-03-29",
          "2015-03-30",
          "2015-03-31",
          "2015-04-01",
          "2015-04-02",
          "2015-04-03",
          "2015-04-04",
          "2015-04-05",
          "2015-04-06",
          "2015-04-07",
          "2015-04-08",
          "2015-04-09",
          "2015-04-10"
         ],
         "y": [
          1.204634807161707,
          0.9145006657511832,
          1.218380555193714,
          1.6040010922114574,
          1.8507033314358179,
          4.066880405623611,
          3.9518239112895603,
          3.343657322630591,
          2.6993826172728155,
          1.7937813998056815,
          3.3904206501079903,
          3.345034922314204,
          2.8517905735877718,
          2.8932554343515426,
          2.6287434615650396,
          3.679479655990322,
          4.944291988023277,
          2.9551589923384833,
          1.970315548397061,
          4.133925997771108,
          3.573572250821949,
          2.2801057441736505,
          2.796887744081139,
          3.932794382724473,
          4.684296090776566,
          2.8116890200753795,
          4.384379914695954,
          4.971081521334814,
          4.186258478209225,
          3.761632047985512,
          2.3170347129796856,
          2.1401733562384115,
          3.196995662718602,
          3.5409634047460994,
          2.821265452008573,
          2.723780481480727,
          4.4033201312379155,
          4.7153130149928,
          4.997103372287718,
          3.9065268548223937,
          3.9687873891992123,
          3.4634482916119396,
          4.375837100021135,
          4.818047771512238,
          4.1993376531312485,
          4.645450687143723,
          3.599444565065083,
          4.643770490966302,
          5.750552089295493,
          7.627080128570817,
          7.862509075905664,
          7.567351742017961,
          6.617686040286462,
          7.0447515896015735,
          5.6656921950987265,
          5.5417453482215295,
          5.300541310566457,
          6.197160360699273,
          6.973910554277696,
          6.614186238837551,
          5.70209439422732,
          5.787684024812829,
          4.967521027775211,
          3.016285683828192,
          2.993551445823966,
          1.458684884800412,
          1.9699409510984167,
          3.9649806008166273,
          2.179191362941848,
          1.2441913085533476,
          -0.12680808196925897,
          -1.2212833718971874,
          -0.012870929969344802,
          -0.8054526521075539,
          0.2854382558167422,
          2.1718688636009036,
          1.619714167525475,
          1.5986208166867795,
          1.043527737653303,
          0.5643284317133457,
          0.7087707869791047,
          -0.32026411470649707,
          -2.423211570673105,
          -3.299175701949043,
          -3.050376069362347,
          -4.116508254409561,
          -4.621563417035203,
          -4.049924836831571,
          -3.4946903347242353,
          -3.077705559917039,
          -3.098470907212177,
          -1.6145923365328922,
          -1.1547366322244565,
          -2.1873182602382837,
          -1.887737928204876,
          -0.6839643367947077,
          -0.31528962727014875,
          -1.0087476245153408,
          -2.5148423931404507,
          -1.5810877447705447
         ]
        },
        {
         "line": {
          "color": "rgba(255, 153, 51, 0.6)",
          "dash": "dash",
          "shape": "linear",
          "width": 1
         },
         "mode": "lines",
         "name": "-0.05*x+5.12",
         "type": "scatter",
         "x": [
          "2015-01-01",
          "2015-01-02",
          "2015-01-03",
          "2015-01-04",
          "2015-01-05",
          "2015-01-06",
          "2015-01-07",
          "2015-01-08",
          "2015-01-09",
          "2015-01-10",
          "2015-01-11",
          "2015-01-12",
          "2015-01-13",
          "2015-01-14",
          "2015-01-15",
          "2015-01-16",
          "2015-01-17",
          "2015-01-18",
          "2015-01-19",
          "2015-01-20",
          "2015-01-21",
          "2015-01-22",
          "2015-01-23",
          "2015-01-24",
          "2015-01-25",
          "2015-01-26",
          "2015-01-27",
          "2015-01-28",
          "2015-01-29",
          "2015-01-30",
          "2015-01-31",
          "2015-02-01",
          "2015-02-02",
          "2015-02-03",
          "2015-02-04",
          "2015-02-05",
          "2015-02-06",
          "2015-02-07",
          "2015-02-08",
          "2015-02-09",
          "2015-02-10",
          "2015-02-11",
          "2015-02-12",
          "2015-02-13",
          "2015-02-14",
          "2015-02-15",
          "2015-02-16",
          "2015-02-17",
          "2015-02-18",
          "2015-02-19",
          "2015-02-20",
          "2015-02-21",
          "2015-02-22",
          "2015-02-23",
          "2015-02-24",
          "2015-02-25",
          "2015-02-26",
          "2015-02-27",
          "2015-02-28",
          "2015-03-01",
          "2015-03-02",
          "2015-03-03",
          "2015-03-04",
          "2015-03-05",
          "2015-03-06",
          "2015-03-07",
          "2015-03-08",
          "2015-03-09",
          "2015-03-10",
          "2015-03-11",
          "2015-03-12",
          "2015-03-13",
          "2015-03-14",
          "2015-03-15",
          "2015-03-16",
          "2015-03-17",
          "2015-03-18",
          "2015-03-19",
          "2015-03-20",
          "2015-03-21",
          "2015-03-22",
          "2015-03-23",
          "2015-03-24",
          "2015-03-25",
          "2015-03-26",
          "2015-03-27",
          "2015-03-28",
          "2015-03-29",
          "2015-03-30",
          "2015-03-31",
          "2015-04-01",
          "2015-04-02",
          "2015-04-03",
          "2015-04-04",
          "2015-04-05",
          "2015-04-06",
          "2015-04-07",
          "2015-04-08",
          "2015-04-09",
          "2015-04-10"
         ],
         "y": [
          5.064150714558613,
          5.009253205103175,
          4.954355695647737,
          4.899458186192299,
          4.844560676736861,
          4.7896631672814225,
          4.734765657825984,
          4.679868148370547,
          4.624970638915109,
          4.57007312945967,
          4.515175620004232,
          4.460278110548794,
          4.405380601093356,
          4.350483091637918,
          4.29558558218248,
          4.240688072727042,
          4.1857905632716035,
          4.130893053816165,
          4.075995544360728,
          4.02109803490529,
          3.9662005254498514,
          3.911303015994413,
          3.8564055065389753,
          3.801507997083537,
          3.746610487628099,
          3.691712978172661,
          3.6368154687172227,
          3.5819179592617845,
          3.5270204498063467,
          3.4721229403509084,
          3.4172254308954706,
          3.3623279214400323,
          3.307430411984594,
          3.2525329025291563,
          3.197635393073718,
          3.14273788361828,
          3.087840374162842,
          3.0329428647074037,
          2.978045355251966,
          2.9231478457965276,
          2.8682503363410894,
          2.8133528268856516,
          2.7584553174302133,
          2.703557807974775,
          2.6486602985193373,
          2.593762789063899,
          2.538865279608461,
          2.483967770153023,
          2.4290702606975847,
          2.374172751242147,
          2.3192752417867086,
          2.264377732331271,
          2.2094802228758326,
          2.1545827134203943,
          2.0996852039649565,
          2.0447876945095182,
          1.9898901850540802,
          1.9349926755986422,
          1.880095166143204,
          1.825197656687766,
          1.7703001472323279,
          1.7154026377768896,
          1.6605051283214516,
          1.6056076188660136,
          1.5507101094105755,
          1.4958125999551375,
          1.4409150904996992,
          1.3860175810442612,
          1.3311200715888232,
          1.276222562133385,
          1.2213250526779469,
          1.1664275432225089,
          1.1115300337670708,
          1.0566325243116328,
          1.0017350148561945,
          0.9468375054007565,
          0.8919399959453185,
          0.8370424864898803,
          0.7821449770344422,
          0.7272474675790042,
          0.6723499581235661,
          0.617452448668128,
          0.5625549392126898,
          0.5076574297572518,
          0.4527599203018137,
          0.39786241084637564,
          0.34296490139093755,
          0.28806739193549946,
          0.23316988248006137,
          0.1782723730246233,
          0.1233748635691852,
          0.06847735411374711,
          0.013579844658309026,
          -0.04131766479712906,
          -0.09621517425256715,
          -0.15111268370800524,
          -0.20601019316344332,
          -0.2609077026188814,
          -0.3158052120743195,
          -0.3707027215297576
         ]
        }
       ],
       "layout": {
        "legend": {
         "bgcolor": "#F5F6F9",
         "font": {
          "color": "#4D5663"
         }
        },
        "paper_bgcolor": "#F5F6F9",
        "plot_bgcolor": "#F5F6F9",
        "template": {
         "data": {
          "bar": [
           {
            "error_x": {
             "color": "#2a3f5f"
            },
            "error_y": {
             "color": "#2a3f5f"
            },
            "marker": {
             "line": {
              "color": "#E5ECF6",
              "width": 0.5
             }
            },
            "type": "bar"
           }
          ],
          "barpolar": [
           {
            "marker": {
             "line": {
              "color": "#E5ECF6",
              "width": 0.5
             }
            },
            "type": "barpolar"
           }
          ],
          "carpet": [
           {
            "aaxis": {
             "endlinecolor": "#2a3f5f",
             "gridcolor": "white",
             "linecolor": "white",
             "minorgridcolor": "white",
             "startlinecolor": "#2a3f5f"
            },
            "baxis": {
             "endlinecolor": "#2a3f5f",
             "gridcolor": "white",
             "linecolor": "white",
             "minorgridcolor": "white",
             "startlinecolor": "#2a3f5f"
            },
            "type": "carpet"
           }
          ],
          "choropleth": [
           {
            "colorbar": {
             "outlinewidth": 0,
             "ticks": ""
            },
            "type": "choropleth"
           }
          ],
          "contour": [
           {
            "colorbar": {
             "outlinewidth": 0,
             "ticks": ""
            },
            "colorscale": [
             [
              0,
              "#0d0887"
             ],
             [
              0.1111111111111111,
              "#46039f"
             ],
             [
              0.2222222222222222,
              "#7201a8"
             ],
             [
              0.3333333333333333,
              "#9c179e"
             ],
             [
              0.4444444444444444,
              "#bd3786"
             ],
             [
              0.5555555555555556,
              "#d8576b"
             ],
             [
              0.6666666666666666,
              "#ed7953"
             ],
             [
              0.7777777777777778,
              "#fb9f3a"
             ],
             [
              0.8888888888888888,
              "#fdca26"
             ],
             [
              1,
              "#f0f921"
             ]
            ],
            "type": "contour"
           }
          ],
          "contourcarpet": [
           {
            "colorbar": {
             "outlinewidth": 0,
             "ticks": ""
            },
            "type": "contourcarpet"
           }
          ],
          "heatmap": [
           {
            "colorbar": {
             "outlinewidth": 0,
             "ticks": ""
            },
            "colorscale": [
             [
              0,
              "#0d0887"
             ],
             [
              0.1111111111111111,
              "#46039f"
             ],
             [
              0.2222222222222222,
              "#7201a8"
             ],
             [
              0.3333333333333333,
              "#9c179e"
             ],
             [
              0.4444444444444444,
              "#bd3786"
             ],
             [
              0.5555555555555556,
              "#d8576b"
             ],
             [
              0.6666666666666666,
              "#ed7953"
             ],
             [
              0.7777777777777778,
              "#fb9f3a"
             ],
             [
              0.8888888888888888,
              "#fdca26"
             ],
             [
              1,
              "#f0f921"
             ]
            ],
            "type": "heatmap"
           }
          ],
          "heatmapgl": [
           {
            "colorbar": {
             "outlinewidth": 0,
             "ticks": ""
            },
            "colorscale": [
             [
              0,
              "#0d0887"
             ],
             [
              0.1111111111111111,
              "#46039f"
             ],
             [
              0.2222222222222222,
              "#7201a8"
             ],
             [
              0.3333333333333333,
              "#9c179e"
             ],
             [
              0.4444444444444444,
              "#bd3786"
             ],
             [
              0.5555555555555556,
              "#d8576b"
             ],
             [
              0.6666666666666666,
              "#ed7953"
             ],
             [
              0.7777777777777778,
              "#fb9f3a"
             ],
             [
              0.8888888888888888,
              "#fdca26"
             ],
             [
              1,
              "#f0f921"
             ]
            ],
            "type": "heatmapgl"
           }
          ],
          "histogram": [
           {
            "marker": {
             "colorbar": {
              "outlinewidth": 0,
              "ticks": ""
             }
            },
            "type": "histogram"
           }
          ],
          "histogram2d": [
           {
            "colorbar": {
             "outlinewidth": 0,
             "ticks": ""
            },
            "colorscale": [
             [
              0,
              "#0d0887"
             ],
             [
              0.1111111111111111,
              "#46039f"
             ],
             [
              0.2222222222222222,
              "#7201a8"
             ],
             [
              0.3333333333333333,
              "#9c179e"
             ],
             [
              0.4444444444444444,
              "#bd3786"
             ],
             [
              0.5555555555555556,
              "#d8576b"
             ],
             [
              0.6666666666666666,
              "#ed7953"
             ],
             [
              0.7777777777777778,
              "#fb9f3a"
             ],
             [
              0.8888888888888888,
              "#fdca26"
             ],
             [
              1,
              "#f0f921"
             ]
            ],
            "type": "histogram2d"
           }
          ],
          "histogram2dcontour": [
           {
            "colorbar": {
             "outlinewidth": 0,
             "ticks": ""
            },
            "colorscale": [
             [
              0,
              "#0d0887"
             ],
             [
              0.1111111111111111,
              "#46039f"
             ],
             [
              0.2222222222222222,
              "#7201a8"
             ],
             [
              0.3333333333333333,
              "#9c179e"
             ],
             [
              0.4444444444444444,
              "#bd3786"
             ],
             [
              0.5555555555555556,
              "#d8576b"
             ],
             [
              0.6666666666666666,
              "#ed7953"
             ],
             [
              0.7777777777777778,
              "#fb9f3a"
             ],
             [
              0.8888888888888888,
              "#fdca26"
             ],
             [
              1,
              "#f0f921"
             ]
            ],
            "type": "histogram2dcontour"
           }
          ],
          "mesh3d": [
           {
            "colorbar": {
             "outlinewidth": 0,
             "ticks": ""
            },
            "type": "mesh3d"
           }
          ],
          "parcoords": [
           {
            "line": {
             "colorbar": {
              "outlinewidth": 0,
              "ticks": ""
             }
            },
            "type": "parcoords"
           }
          ],
          "pie": [
           {
            "automargin": true,
            "type": "pie"
           }
          ],
          "scatter": [
           {
            "marker": {
             "colorbar": {
              "outlinewidth": 0,
              "ticks": ""
             }
            },
            "type": "scatter"
           }
          ],
          "scatter3d": [
           {
            "line": {
             "colorbar": {
              "outlinewidth": 0,
              "ticks": ""
             }
            },
            "marker": {
             "colorbar": {
              "outlinewidth": 0,
              "ticks": ""
             }
            },
            "type": "scatter3d"
           }
          ],
          "scattercarpet": [
           {
            "marker": {
             "colorbar": {
              "outlinewidth": 0,
              "ticks": ""
             }
            },
            "type": "scattercarpet"
           }
          ],
          "scattergeo": [
           {
            "marker": {
             "colorbar": {
              "outlinewidth": 0,
              "ticks": ""
             }
            },
            "type": "scattergeo"
           }
          ],
          "scattergl": [
           {
            "marker": {
             "colorbar": {
              "outlinewidth": 0,
              "ticks": ""
             }
            },
            "type": "scattergl"
           }
          ],
          "scattermapbox": [
           {
            "marker": {
             "colorbar": {
              "outlinewidth": 0,
              "ticks": ""
             }
            },
            "type": "scattermapbox"
           }
          ],
          "scatterpolar": [
           {
            "marker": {
             "colorbar": {
              "outlinewidth": 0,
              "ticks": ""
             }
            },
            "type": "scatterpolar"
           }
          ],
          "scatterpolargl": [
           {
            "marker": {
             "colorbar": {
              "outlinewidth": 0,
              "ticks": ""
             }
            },
            "type": "scatterpolargl"
           }
          ],
          "scatterternary": [
           {
            "marker": {
             "colorbar": {
              "outlinewidth": 0,
              "ticks": ""
             }
            },
            "type": "scatterternary"
           }
          ],
          "surface": [
           {
            "colorbar": {
             "outlinewidth": 0,
             "ticks": ""
            },
            "colorscale": [
             [
              0,
              "#0d0887"
             ],
             [
              0.1111111111111111,
              "#46039f"
             ],
             [
              0.2222222222222222,
              "#7201a8"
             ],
             [
              0.3333333333333333,
              "#9c179e"
             ],
             [
              0.4444444444444444,
              "#bd3786"
             ],
             [
              0.5555555555555556,
              "#d8576b"
             ],
             [
              0.6666666666666666,
              "#ed7953"
             ],
             [
              0.7777777777777778,
              "#fb9f3a"
             ],
             [
              0.8888888888888888,
              "#fdca26"
             ],
             [
              1,
              "#f0f921"
             ]
            ],
            "type": "surface"
           }
          ],
          "table": [
           {
            "cells": {
             "fill": {
              "color": "#EBF0F8"
             },
             "line": {
              "color": "white"
             }
            },
            "header": {
             "fill": {
              "color": "#C8D4E3"
             },
             "line": {
              "color": "white"
             }
            },
            "type": "table"
           }
          ]
         },
         "layout": {
          "annotationdefaults": {
           "arrowcolor": "#2a3f5f",
           "arrowhead": 0,
           "arrowwidth": 1
          },
          "coloraxis": {
           "colorbar": {
            "outlinewidth": 0,
            "ticks": ""
           }
          },
          "colorscale": {
           "diverging": [
            [
             0,
             "#8e0152"
            ],
            [
             0.1,
             "#c51b7d"
            ],
            [
             0.2,
             "#de77ae"
            ],
            [
             0.3,
             "#f1b6da"
            ],
            [
             0.4,
             "#fde0ef"
            ],
            [
             0.5,
             "#f7f7f7"
            ],
            [
             0.6,
             "#e6f5d0"
            ],
            [
             0.7,
             "#b8e186"
            ],
            [
             0.8,
             "#7fbc41"
            ],
            [
             0.9,
             "#4d9221"
            ],
            [
             1,
             "#276419"
            ]
           ],
           "sequential": [
            [
             0,
             "#0d0887"
            ],
            [
             0.1111111111111111,
             "#46039f"
            ],
            [
             0.2222222222222222,
             "#7201a8"
            ],
            [
             0.3333333333333333,
             "#9c179e"
            ],
            [
             0.4444444444444444,
             "#bd3786"
            ],
            [
             0.5555555555555556,
             "#d8576b"
            ],
            [
             0.6666666666666666,
             "#ed7953"
            ],
            [
             0.7777777777777778,
             "#fb9f3a"
            ],
            [
             0.8888888888888888,
             "#fdca26"
            ],
            [
             1,
             "#f0f921"
            ]
           ],
           "sequentialminus": [
            [
             0,
             "#0d0887"
            ],
            [
             0.1111111111111111,
             "#46039f"
            ],
            [
             0.2222222222222222,
             "#7201a8"
            ],
            [
             0.3333333333333333,
             "#9c179e"
            ],
            [
             0.4444444444444444,
             "#bd3786"
            ],
            [
             0.5555555555555556,
             "#d8576b"
            ],
            [
             0.6666666666666666,
             "#ed7953"
            ],
            [
             0.7777777777777778,
             "#fb9f3a"
            ],
            [
             0.8888888888888888,
             "#fdca26"
            ],
            [
             1,
             "#f0f921"
            ]
           ]
          },
          "colorway": [
           "#636efa",
           "#EF553B",
           "#00cc96",
           "#ab63fa",
           "#FFA15A",
           "#19d3f3",
           "#FF6692",
           "#B6E880",
           "#FF97FF",
           "#FECB52"
          ],
          "font": {
           "color": "#2a3f5f"
          },
          "geo": {
           "bgcolor": "white",
           "lakecolor": "white",
           "landcolor": "#E5ECF6",
           "showlakes": true,
           "showland": true,
           "subunitcolor": "white"
          },
          "hoverlabel": {
           "align": "left"
          },
          "hovermode": "closest",
          "mapbox": {
           "style": "light"
          },
          "paper_bgcolor": "white",
          "plot_bgcolor": "#E5ECF6",
          "polar": {
           "angularaxis": {
            "gridcolor": "white",
            "linecolor": "white",
            "ticks": ""
           },
           "bgcolor": "#E5ECF6",
           "radialaxis": {
            "gridcolor": "white",
            "linecolor": "white",
            "ticks": ""
           }
          },
          "scene": {
           "xaxis": {
            "backgroundcolor": "#E5ECF6",
            "gridcolor": "white",
            "gridwidth": 2,
            "linecolor": "white",
            "showbackground": true,
            "ticks": "",
            "zerolinecolor": "white"
           },
           "yaxis": {
            "backgroundcolor": "#E5ECF6",
            "gridcolor": "white",
            "gridwidth": 2,
            "linecolor": "white",
            "showbackground": true,
            "ticks": "",
            "zerolinecolor": "white"
           },
           "zaxis": {
            "backgroundcolor": "#E5ECF6",
            "gridcolor": "white",
            "gridwidth": 2,
            "linecolor": "white",
            "showbackground": true,
            "ticks": "",
            "zerolinecolor": "white"
           }
          },
          "shapedefaults": {
           "line": {
            "color": "#2a3f5f"
           }
          },
          "ternary": {
           "aaxis": {
            "gridcolor": "white",
            "linecolor": "white",
            "ticks": ""
           },
           "baxis": {
            "gridcolor": "white",
            "linecolor": "white",
            "ticks": ""
           },
           "bgcolor": "#E5ECF6",
           "caxis": {
            "gridcolor": "white",
            "linecolor": "white",
            "ticks": ""
           }
          },
          "title": {
           "x": 0.05
          },
          "xaxis": {
           "automargin": true,
           "gridcolor": "white",
           "linecolor": "white",
           "ticks": "",
           "title": {
            "standoff": 15
           },
           "zerolinecolor": "white",
           "zerolinewidth": 2
          },
          "yaxis": {
           "automargin": true,
           "gridcolor": "white",
           "linecolor": "white",
           "ticks": "",
           "title": {
            "standoff": 15
           },
           "zerolinecolor": "white",
           "zerolinewidth": 2
          }
         }
        },
        "title": {
         "font": {
          "color": "#4D5663"
         },
         "x": 0.5
        },
        "xaxis": {
         "gridcolor": "#E1E5ED",
         "showgrid": true,
         "tickfont": {
          "color": "#4D5663"
         },
         "title": {
          "font": {
           "color": "#4D5663"
          },
          "text": ""
         },
         "zerolinecolor": "#E1E5ED"
        },
        "yaxis": {
         "gridcolor": "#E1E5ED",
         "showgrid": true,
         "tickfont": {
          "color": "#4D5663"
         },
         "title": {
          "font": {
           "color": "#4D5663"
          },
          "text": ""
         },
         "zerolinecolor": "#E1E5ED"
        }
       }
      },
      "text/html": "<div>\n        \n        \n            <div id=\"46a9e3bf-bba6-4fcf-9c2c-976db0b5cefd\" class=\"plotly-graph-div\" style=\"height:525px; width:100%;\"></div>\n            <script type=\"text/javascript\">\n                require([\"plotly\"], function(Plotly) {\n                    window.PLOTLYENV=window.PLOTLYENV || {};\n                    window.PLOTLYENV.BASE_URL='https://plot.ly';\n                    \n                if (document.getElementById(\"46a9e3bf-bba6-4fcf-9c2c-976db0b5cefd\")) {\n                    Plotly.newPlot(\n                        '46a9e3bf-bba6-4fcf-9c2c-976db0b5cefd',\n                        [{\"line\": {\"color\": \"rgba(255, 153, 51, 1.0)\", \"dash\": \"solid\", \"shape\": \"linear\", \"width\": 1.3}, \"mode\": \"lines\", \"name\": \"IBM\", \"text\": \"\", \"type\": \"scatter\", \"x\": [\"2015-01-01\", \"2015-01-02\", \"2015-01-03\", \"2015-01-04\", \"2015-01-05\", \"2015-01-06\", \"2015-01-07\", \"2015-01-08\", \"2015-01-09\", \"2015-01-10\", \"2015-01-11\", \"2015-01-12\", \"2015-01-13\", \"2015-01-14\", \"2015-01-15\", \"2015-01-16\", \"2015-01-17\", \"2015-01-18\", \"2015-01-19\", \"2015-01-20\", \"2015-01-21\", \"2015-01-22\", \"2015-01-23\", \"2015-01-24\", \"2015-01-25\", \"2015-01-26\", \"2015-01-27\", \"2015-01-28\", \"2015-01-29\", \"2015-01-30\", \"2015-01-31\", \"2015-02-01\", \"2015-02-02\", \"2015-02-03\", \"2015-02-04\", \"2015-02-05\", \"2015-02-06\", \"2015-02-07\", \"2015-02-08\", \"2015-02-09\", \"2015-02-10\", \"2015-02-11\", \"2015-02-12\", \"2015-02-13\", \"2015-02-14\", \"2015-02-15\", \"2015-02-16\", \"2015-02-17\", \"2015-02-18\", \"2015-02-19\", \"2015-02-20\", \"2015-02-21\", \"2015-02-22\", \"2015-02-23\", \"2015-02-24\", \"2015-02-25\", \"2015-02-26\", \"2015-02-27\", \"2015-02-28\", \"2015-03-01\", \"2015-03-02\", \"2015-03-03\", \"2015-03-04\", \"2015-03-05\", \"2015-03-06\", \"2015-03-07\", \"2015-03-08\", \"2015-03-09\", \"2015-03-10\", \"2015-03-11\", \"2015-03-12\", \"2015-03-13\", \"2015-03-14\", \"2015-03-15\", \"2015-03-16\", \"2015-03-17\", \"2015-03-18\", \"2015-03-19\", \"2015-03-20\", \"2015-03-21\", \"2015-03-22\", \"2015-03-23\", \"2015-03-24\", \"2015-03-25\", \"2015-03-26\", \"2015-03-27\", \"2015-03-28\", \"2015-03-29\", \"2015-03-30\", \"2015-03-31\", \"2015-04-01\", \"2015-04-02\", \"2015-04-03\", \"2015-04-04\", \"2015-04-05\", \"2015-04-06\", \"2015-04-07\", \"2015-04-08\", \"2015-04-09\", \"2015-04-10\"], \"y\": [1.204634807161707, 0.9145006657511832, 1.218380555193714, 1.6040010922114574, 1.8507033314358179, 4.066880405623611, 3.9518239112895603, 3.343657322630591, 2.6993826172728155, 1.7937813998056815, 3.3904206501079903, 3.345034922314204, 2.8517905735877718, 2.8932554343515426, 2.6287434615650396, 3.679479655990322, 4.944291988023277, 2.9551589923384833, 1.970315548397061, 4.133925997771108, 3.573572250821949, 2.2801057441736505, 2.796887744081139, 3.932794382724473, 4.684296090776566, 2.8116890200753795, 4.384379914695954, 4.971081521334814, 4.186258478209225, 3.761632047985512, 2.3170347129796856, 2.1401733562384115, 3.196995662718602, 3.5409634047460994, 2.821265452008573, 2.723780481480727, 4.4033201312379155, 4.7153130149928, 4.997103372287718, 3.9065268548223937, 3.9687873891992123, 3.4634482916119396, 4.375837100021135, 4.818047771512238, 4.1993376531312485, 4.645450687143723, 3.599444565065083, 4.643770490966302, 5.750552089295493, 7.627080128570817, 7.862509075905664, 7.567351742017961, 6.617686040286462, 7.0447515896015735, 5.6656921950987265, 5.5417453482215295, 5.300541310566457, 6.197160360699273, 6.973910554277696, 6.614186238837551, 5.70209439422732, 5.787684024812829, 4.967521027775211, 3.016285683828192, 2.993551445823966, 1.458684884800412, 1.9699409510984167, 3.9649806008166273, 2.179191362941848, 1.2441913085533476, -0.12680808196925897, -1.2212833718971874, -0.012870929969344802, -0.8054526521075539, 0.2854382558167422, 2.1718688636009036, 1.619714167525475, 1.5986208166867795, 1.043527737653303, 0.5643284317133457, 0.7087707869791047, -0.32026411470649707, -2.423211570673105, -3.299175701949043, -3.050376069362347, -4.116508254409561, -4.621563417035203, -4.049924836831571, -3.4946903347242353, -3.077705559917039, -3.098470907212177, -1.6145923365328922, -1.1547366322244565, -2.1873182602382837, -1.887737928204876, -0.6839643367947077, -0.31528962727014875, -1.0087476245153408, -2.5148423931404507, -1.5810877447705447]}, {\"line\": {\"color\": \"rgba(255, 153, 51, 0.6)\", \"dash\": \"dash\", \"shape\": \"linear\", \"width\": 1}, \"mode\": \"lines\", \"name\": \"-0.05*x+5.12\", \"type\": \"scatter\", \"x\": [\"2015-01-01\", \"2015-01-02\", \"2015-01-03\", \"2015-01-04\", \"2015-01-05\", \"2015-01-06\", \"2015-01-07\", \"2015-01-08\", \"2015-01-09\", \"2015-01-10\", \"2015-01-11\", \"2015-01-12\", \"2015-01-13\", \"2015-01-14\", \"2015-01-15\", \"2015-01-16\", \"2015-01-17\", \"2015-01-18\", \"2015-01-19\", \"2015-01-20\", \"2015-01-21\", \"2015-01-22\", \"2015-01-23\", \"2015-01-24\", \"2015-01-25\", \"2015-01-26\", \"2015-01-27\", \"2015-01-28\", \"2015-01-29\", \"2015-01-30\", \"2015-01-31\", \"2015-02-01\", \"2015-02-02\", \"2015-02-03\", \"2015-02-04\", \"2015-02-05\", \"2015-02-06\", \"2015-02-07\", \"2015-02-08\", \"2015-02-09\", \"2015-02-10\", \"2015-02-11\", \"2015-02-12\", \"2015-02-13\", \"2015-02-14\", \"2015-02-15\", \"2015-02-16\", \"2015-02-17\", \"2015-02-18\", \"2015-02-19\", \"2015-02-20\", \"2015-02-21\", \"2015-02-22\", \"2015-02-23\", \"2015-02-24\", \"2015-02-25\", \"2015-02-26\", \"2015-02-27\", \"2015-02-28\", \"2015-03-01\", \"2015-03-02\", \"2015-03-03\", \"2015-03-04\", \"2015-03-05\", \"2015-03-06\", \"2015-03-07\", \"2015-03-08\", \"2015-03-09\", \"2015-03-10\", \"2015-03-11\", \"2015-03-12\", \"2015-03-13\", \"2015-03-14\", \"2015-03-15\", \"2015-03-16\", \"2015-03-17\", \"2015-03-18\", \"2015-03-19\", \"2015-03-20\", \"2015-03-21\", \"2015-03-22\", \"2015-03-23\", \"2015-03-24\", \"2015-03-25\", \"2015-03-26\", \"2015-03-27\", \"2015-03-28\", \"2015-03-29\", \"2015-03-30\", \"2015-03-31\", \"2015-04-01\", \"2015-04-02\", \"2015-04-03\", \"2015-04-04\", \"2015-04-05\", \"2015-04-06\", \"2015-04-07\", \"2015-04-08\", \"2015-04-09\", \"2015-04-10\"], \"y\": [5.064150714558613, 5.009253205103175, 4.954355695647737, 4.899458186192299, 4.844560676736861, 4.7896631672814225, 4.734765657825984, 4.679868148370547, 4.624970638915109, 4.57007312945967, 4.515175620004232, 4.460278110548794, 4.405380601093356, 4.350483091637918, 4.29558558218248, 4.240688072727042, 4.1857905632716035, 4.130893053816165, 4.075995544360728, 4.02109803490529, 3.9662005254498514, 3.911303015994413, 3.8564055065389753, 3.801507997083537, 3.746610487628099, 3.691712978172661, 3.6368154687172227, 3.5819179592617845, 3.5270204498063467, 3.4721229403509084, 3.4172254308954706, 3.3623279214400323, 3.307430411984594, 3.2525329025291563, 3.197635393073718, 3.14273788361828, 3.087840374162842, 3.0329428647074037, 2.978045355251966, 2.9231478457965276, 2.8682503363410894, 2.8133528268856516, 2.7584553174302133, 2.703557807974775, 2.6486602985193373, 2.593762789063899, 2.538865279608461, 2.483967770153023, 2.4290702606975847, 2.374172751242147, 2.3192752417867086, 2.264377732331271, 2.2094802228758326, 2.1545827134203943, 2.0996852039649565, 2.0447876945095182, 1.9898901850540802, 1.9349926755986422, 1.880095166143204, 1.825197656687766, 1.7703001472323279, 1.7154026377768896, 1.6605051283214516, 1.6056076188660136, 1.5507101094105755, 1.4958125999551375, 1.4409150904996992, 1.3860175810442612, 1.3311200715888232, 1.276222562133385, 1.2213250526779469, 1.1664275432225089, 1.1115300337670708, 1.0566325243116328, 1.0017350148561945, 0.9468375054007565, 0.8919399959453185, 0.8370424864898803, 0.7821449770344422, 0.7272474675790042, 0.6723499581235661, 0.617452448668128, 0.5625549392126898, 0.5076574297572518, 0.4527599203018137, 0.39786241084637564, 0.34296490139093755, 0.28806739193549946, 0.23316988248006137, 0.1782723730246233, 0.1233748635691852, 0.06847735411374711, 0.013579844658309026, -0.04131766479712906, -0.09621517425256715, -0.15111268370800524, -0.20601019316344332, -0.2609077026188814, -0.3158052120743195, -0.3707027215297576]}],\n                        {\"legend\": {\"bgcolor\": \"#F5F6F9\", \"font\": {\"color\": \"#4D5663\"}}, \"paper_bgcolor\": \"#F5F6F9\", \"plot_bgcolor\": \"#F5F6F9\", \"template\": {\"data\": {\"bar\": [{\"error_x\": {\"color\": \"#2a3f5f\"}, \"error_y\": {\"color\": \"#2a3f5f\"}, \"marker\": {\"line\": {\"color\": \"#E5ECF6\", \"width\": 0.5}}, \"type\": \"bar\"}], \"barpolar\": [{\"marker\": {\"line\": {\"color\": \"#E5ECF6\", \"width\": 0.5}}, \"type\": \"barpolar\"}], \"carpet\": [{\"aaxis\": {\"endlinecolor\": \"#2a3f5f\", \"gridcolor\": \"white\", \"linecolor\": \"white\", \"minorgridcolor\": \"white\", \"startlinecolor\": \"#2a3f5f\"}, \"baxis\": {\"endlinecolor\": \"#2a3f5f\", \"gridcolor\": \"white\", \"linecolor\": \"white\", \"minorgridcolor\": \"white\", \"startlinecolor\": \"#2a3f5f\"}, \"type\": \"carpet\"}], \"choropleth\": [{\"colorbar\": {\"outlinewidth\": 0, \"ticks\": \"\"}, \"type\": \"choropleth\"}], \"contour\": [{\"colorbar\": {\"outlinewidth\": 0, \"ticks\": \"\"}, \"colorscale\": [[0.0, \"#0d0887\"], [0.1111111111111111, \"#46039f\"], [0.2222222222222222, \"#7201a8\"], [0.3333333333333333, \"#9c179e\"], [0.4444444444444444, \"#bd3786\"], [0.5555555555555556, \"#d8576b\"], [0.6666666666666666, \"#ed7953\"], [0.7777777777777778, \"#fb9f3a\"], [0.8888888888888888, \"#fdca26\"], [1.0, \"#f0f921\"]], \"type\": \"contour\"}], \"contourcarpet\": [{\"colorbar\": {\"outlinewidth\": 0, \"ticks\": \"\"}, \"type\": \"contourcarpet\"}], \"heatmap\": [{\"colorbar\": {\"outlinewidth\": 0, \"ticks\": \"\"}, \"colorscale\": [[0.0, \"#0d0887\"], [0.1111111111111111, \"#46039f\"], [0.2222222222222222, \"#7201a8\"], [0.3333333333333333, \"#9c179e\"], [0.4444444444444444, \"#bd3786\"], [0.5555555555555556, \"#d8576b\"], [0.6666666666666666, \"#ed7953\"], [0.7777777777777778, \"#fb9f3a\"], [0.8888888888888888, \"#fdca26\"], [1.0, \"#f0f921\"]], \"type\": \"heatmap\"}], \"heatmapgl\": [{\"colorbar\": {\"outlinewidth\": 0, \"ticks\": \"\"}, \"colorscale\": [[0.0, \"#0d0887\"], [0.1111111111111111, \"#46039f\"], [0.2222222222222222, \"#7201a8\"], [0.3333333333333333, \"#9c179e\"], [0.4444444444444444, \"#bd3786\"], [0.5555555555555556, \"#d8576b\"], [0.6666666666666666, \"#ed7953\"], [0.7777777777777778, \"#fb9f3a\"], [0.8888888888888888, \"#fdca26\"], [1.0, \"#f0f921\"]], \"type\": \"heatmapgl\"}], \"histogram\": [{\"marker\": {\"colorbar\": {\"outlinewidth\": 0, \"ticks\": \"\"}}, \"type\": \"histogram\"}], \"histogram2d\": [{\"colorbar\": {\"outlinewidth\": 0, \"ticks\": \"\"}, \"colorscale\": [[0.0, \"#0d0887\"], [0.1111111111111111, \"#46039f\"], [0.2222222222222222, \"#7201a8\"], [0.3333333333333333, \"#9c179e\"], [0.4444444444444444, \"#bd3786\"], [0.5555555555555556, \"#d8576b\"], [0.6666666666666666, \"#ed7953\"], [0.7777777777777778, \"#fb9f3a\"], [0.8888888888888888, \"#fdca26\"], [1.0, \"#f0f921\"]], \"type\": \"histogram2d\"}], \"histogram2dcontour\": [{\"colorbar\": {\"outlinewidth\": 0, \"ticks\": \"\"}, \"colorscale\": [[0.0, \"#0d0887\"], [0.1111111111111111, \"#46039f\"], [0.2222222222222222, \"#7201a8\"], [0.3333333333333333, \"#9c179e\"], [0.4444444444444444, \"#bd3786\"], [0.5555555555555556, \"#d8576b\"], [0.6666666666666666, \"#ed7953\"], [0.7777777777777778, \"#fb9f3a\"], [0.8888888888888888, \"#fdca26\"], [1.0, \"#f0f921\"]], \"type\": \"histogram2dcontour\"}], \"mesh3d\": [{\"colorbar\": {\"outlinewidth\": 0, \"ticks\": \"\"}, \"type\": \"mesh3d\"}], \"parcoords\": [{\"line\": {\"colorbar\": {\"outlinewidth\": 0, \"ticks\": \"\"}}, \"type\": \"parcoords\"}], \"pie\": [{\"automargin\": true, \"type\": \"pie\"}], \"scatter\": [{\"marker\": {\"colorbar\": {\"outlinewidth\": 0, \"ticks\": \"\"}}, \"type\": \"scatter\"}], \"scatter3d\": [{\"line\": {\"colorbar\": {\"outlinewidth\": 0, \"ticks\": \"\"}}, \"marker\": {\"colorbar\": {\"outlinewidth\": 0, \"ticks\": \"\"}}, \"type\": \"scatter3d\"}], \"scattercarpet\": [{\"marker\": {\"colorbar\": {\"outlinewidth\": 0, \"ticks\": \"\"}}, \"type\": \"scattercarpet\"}], \"scattergeo\": [{\"marker\": {\"colorbar\": {\"outlinewidth\": 0, \"ticks\": \"\"}}, \"type\": \"scattergeo\"}], \"scattergl\": [{\"marker\": {\"colorbar\": {\"outlinewidth\": 0, \"ticks\": \"\"}}, \"type\": \"scattergl\"}], \"scattermapbox\": [{\"marker\": {\"colorbar\": {\"outlinewidth\": 0, \"ticks\": \"\"}}, \"type\": \"scattermapbox\"}], \"scatterpolar\": [{\"marker\": {\"colorbar\": {\"outlinewidth\": 0, \"ticks\": \"\"}}, \"type\": \"scatterpolar\"}], \"scatterpolargl\": [{\"marker\": {\"colorbar\": {\"outlinewidth\": 0, \"ticks\": \"\"}}, \"type\": \"scatterpolargl\"}], \"scatterternary\": [{\"marker\": {\"colorbar\": {\"outlinewidth\": 0, \"ticks\": \"\"}}, \"type\": \"scatterternary\"}], \"surface\": [{\"colorbar\": {\"outlinewidth\": 0, \"ticks\": \"\"}, \"colorscale\": [[0.0, \"#0d0887\"], [0.1111111111111111, \"#46039f\"], [0.2222222222222222, \"#7201a8\"], [0.3333333333333333, \"#9c179e\"], [0.4444444444444444, \"#bd3786\"], [0.5555555555555556, \"#d8576b\"], [0.6666666666666666, \"#ed7953\"], [0.7777777777777778, \"#fb9f3a\"], [0.8888888888888888, \"#fdca26\"], [1.0, \"#f0f921\"]], \"type\": \"surface\"}], \"table\": [{\"cells\": {\"fill\": {\"color\": \"#EBF0F8\"}, \"line\": {\"color\": \"white\"}}, \"header\": {\"fill\": {\"color\": \"#C8D4E3\"}, \"line\": {\"color\": \"white\"}}, \"type\": \"table\"}]}, \"layout\": {\"annotationdefaults\": {\"arrowcolor\": \"#2a3f5f\", \"arrowhead\": 0, \"arrowwidth\": 1}, \"coloraxis\": {\"colorbar\": {\"outlinewidth\": 0, \"ticks\": \"\"}}, \"colorscale\": {\"diverging\": [[0, \"#8e0152\"], [0.1, \"#c51b7d\"], [0.2, \"#de77ae\"], [0.3, \"#f1b6da\"], [0.4, \"#fde0ef\"], [0.5, \"#f7f7f7\"], [0.6, \"#e6f5d0\"], [0.7, \"#b8e186\"], [0.8, \"#7fbc41\"], [0.9, \"#4d9221\"], [1, \"#276419\"]], \"sequential\": [[0.0, \"#0d0887\"], [0.1111111111111111, \"#46039f\"], [0.2222222222222222, \"#7201a8\"], [0.3333333333333333, \"#9c179e\"], [0.4444444444444444, \"#bd3786\"], [0.5555555555555556, \"#d8576b\"], [0.6666666666666666, \"#ed7953\"], [0.7777777777777778, \"#fb9f3a\"], [0.8888888888888888, \"#fdca26\"], [1.0, \"#f0f921\"]], \"sequentialminus\": [[0.0, \"#0d0887\"], [0.1111111111111111, \"#46039f\"], [0.2222222222222222, \"#7201a8\"], [0.3333333333333333, \"#9c179e\"], [0.4444444444444444, \"#bd3786\"], [0.5555555555555556, \"#d8576b\"], [0.6666666666666666, \"#ed7953\"], [0.7777777777777778, \"#fb9f3a\"], [0.8888888888888888, \"#fdca26\"], [1.0, \"#f0f921\"]]}, \"colorway\": [\"#636efa\", \"#EF553B\", \"#00cc96\", \"#ab63fa\", \"#FFA15A\", \"#19d3f3\", \"#FF6692\", \"#B6E880\", \"#FF97FF\", \"#FECB52\"], \"font\": {\"color\": \"#2a3f5f\"}, \"geo\": {\"bgcolor\": \"white\", \"lakecolor\": \"white\", \"landcolor\": \"#E5ECF6\", \"showlakes\": true, \"showland\": true, \"subunitcolor\": \"white\"}, \"hoverlabel\": {\"align\": \"left\"}, \"hovermode\": \"closest\", \"mapbox\": {\"style\": \"light\"}, \"paper_bgcolor\": \"white\", \"plot_bgcolor\": \"#E5ECF6\", \"polar\": {\"angularaxis\": {\"gridcolor\": \"white\", \"linecolor\": \"white\", \"ticks\": \"\"}, \"bgcolor\": \"#E5ECF6\", \"radialaxis\": {\"gridcolor\": \"white\", \"linecolor\": \"white\", \"ticks\": \"\"}}, \"scene\": {\"xaxis\": {\"backgroundcolor\": \"#E5ECF6\", \"gridcolor\": \"white\", \"gridwidth\": 2, \"linecolor\": \"white\", \"showbackground\": true, \"ticks\": \"\", \"zerolinecolor\": \"white\"}, \"yaxis\": {\"backgroundcolor\": \"#E5ECF6\", \"gridcolor\": \"white\", \"gridwidth\": 2, \"linecolor\": \"white\", \"showbackground\": true, \"ticks\": \"\", \"zerolinecolor\": \"white\"}, \"zaxis\": {\"backgroundcolor\": \"#E5ECF6\", \"gridcolor\": \"white\", \"gridwidth\": 2, \"linecolor\": \"white\", \"showbackground\": true, \"ticks\": \"\", \"zerolinecolor\": \"white\"}}, \"shapedefaults\": {\"line\": {\"color\": \"#2a3f5f\"}}, \"ternary\": {\"aaxis\": {\"gridcolor\": \"white\", \"linecolor\": \"white\", \"ticks\": \"\"}, \"baxis\": {\"gridcolor\": \"white\", \"linecolor\": \"white\", \"ticks\": \"\"}, \"bgcolor\": \"#E5ECF6\", \"caxis\": {\"gridcolor\": \"white\", \"linecolor\": \"white\", \"ticks\": \"\"}}, \"title\": {\"x\": 0.05}, \"xaxis\": {\"automargin\": true, \"gridcolor\": \"white\", \"linecolor\": \"white\", \"ticks\": \"\", \"title\": {\"standoff\": 15}, \"zerolinecolor\": \"white\", \"zerolinewidth\": 2}, \"yaxis\": {\"automargin\": true, \"gridcolor\": \"white\", \"linecolor\": \"white\", \"ticks\": \"\", \"title\": {\"standoff\": 15}, \"zerolinecolor\": \"white\", \"zerolinewidth\": 2}}}, \"title\": {\"font\": {\"color\": \"#4D5663\"}, \"x\": 0.5}, \"xaxis\": {\"gridcolor\": \"#E1E5ED\", \"showgrid\": true, \"tickfont\": {\"color\": \"#4D5663\"}, \"title\": {\"font\": {\"color\": \"#4D5663\"}, \"text\": \"\"}, \"zerolinecolor\": \"#E1E5ED\"}, \"yaxis\": {\"gridcolor\": \"#E1E5ED\", \"showgrid\": true, \"tickfont\": {\"color\": \"#4D5663\"}, \"title\": {\"font\": {\"color\": \"#4D5663\"}, \"text\": \"\"}, \"zerolinecolor\": \"#E1E5ED\"}},\n                        {\"showLink\": true, \"linkText\": \"Export to plot.ly\", \"plotlyServerURL\": \"https://plot.ly\", \"responsive\": true}\n                    ).then(function(){\n                            \nvar gd = document.getElementById('46a9e3bf-bba6-4fcf-9c2c-976db0b5cefd');\nvar x = new MutationObserver(function (mutations, observer) {{\n        var display = window.getComputedStyle(gd).display;\n        if (!display || display === 'none') {{\n            console.log([gd, 'removed!']);\n            Plotly.purge(gd);\n            observer.disconnect();\n        }}\n}});\n\n// Listen for the removal of the full notebook cells\nvar notebookContainer = gd.closest('#notebook-container');\nif (notebookContainer) {{\n    x.observe(notebookContainer, {childList: true});\n}}\n\n// Listen for the clearing of the current output cell\nvar outputEl = gd.closest('.output');\nif (outputEl) {{\n    x.observe(outputEl, {childList: true});\n}}\n\n                        })\n                };\n                });\n            </script>\n        </div>"
     },
     "metadata": {}
    }
   ],
   "source": [
    "df['IBM'].iplot(filename='IBM Returns',bestfit=True)"
   ]
  },
  {
   "cell_type": "markdown",
   "metadata": {},
   "source": [
    "### Customizing Colors\n",
    "\n",
    "We can pass any color (either by Hex, RGB or Text *)  \n",
    "\n",
    "*Text values are specified in the cufflinks.colors modules"
   ]
  },
  {
   "cell_type": "code",
   "execution_count": 9,
   "metadata": {},
   "outputs": [
    {
     "output_type": "display_data",
     "data": {
      "application/vnd.plotly.v1+json": {
       "config": {
        "linkText": "Export to plot.ly",
        "plotlyServerURL": "https://plot.ly",
        "showLink": true
       },
       "data": [
        {
         "line": {
          "color": "rgba(255, 0, 136, 1.0)",
          "dash": "solid",
          "shape": "linear",
          "width": 1.3
         },
         "mode": "lines",
         "name": "IBM",
         "text": "",
         "type": "scatter",
         "x": [
          "2015-01-01",
          "2015-01-02",
          "2015-01-03",
          "2015-01-04",
          "2015-01-05",
          "2015-01-06",
          "2015-01-07",
          "2015-01-08",
          "2015-01-09",
          "2015-01-10",
          "2015-01-11",
          "2015-01-12",
          "2015-01-13",
          "2015-01-14",
          "2015-01-15",
          "2015-01-16",
          "2015-01-17",
          "2015-01-18",
          "2015-01-19",
          "2015-01-20",
          "2015-01-21",
          "2015-01-22",
          "2015-01-23",
          "2015-01-24",
          "2015-01-25",
          "2015-01-26",
          "2015-01-27",
          "2015-01-28",
          "2015-01-29",
          "2015-01-30",
          "2015-01-31",
          "2015-02-01",
          "2015-02-02",
          "2015-02-03",
          "2015-02-04",
          "2015-02-05",
          "2015-02-06",
          "2015-02-07",
          "2015-02-08",
          "2015-02-09",
          "2015-02-10",
          "2015-02-11",
          "2015-02-12",
          "2015-02-13",
          "2015-02-14",
          "2015-02-15",
          "2015-02-16",
          "2015-02-17",
          "2015-02-18",
          "2015-02-19",
          "2015-02-20",
          "2015-02-21",
          "2015-02-22",
          "2015-02-23",
          "2015-02-24",
          "2015-02-25",
          "2015-02-26",
          "2015-02-27",
          "2015-02-28",
          "2015-03-01",
          "2015-03-02",
          "2015-03-03",
          "2015-03-04",
          "2015-03-05",
          "2015-03-06",
          "2015-03-07",
          "2015-03-08",
          "2015-03-09",
          "2015-03-10",
          "2015-03-11",
          "2015-03-12",
          "2015-03-13",
          "2015-03-14",
          "2015-03-15",
          "2015-03-16",
          "2015-03-17",
          "2015-03-18",
          "2015-03-19",
          "2015-03-20",
          "2015-03-21",
          "2015-03-22",
          "2015-03-23",
          "2015-03-24",
          "2015-03-25",
          "2015-03-26",
          "2015-03-27",
          "2015-03-28",
          "2015-03-29",
          "2015-03-30",
          "2015-03-31",
          "2015-04-01",
          "2015-04-02",
          "2015-04-03",
          "2015-04-04",
          "2015-04-05",
          "2015-04-06",
          "2015-04-07",
          "2015-04-08",
          "2015-04-09",
          "2015-04-10"
         ],
         "y": [
          1.204634807161707,
          0.9145006657511832,
          1.218380555193714,
          1.6040010922114574,
          1.8507033314358179,
          4.066880405623611,
          3.9518239112895603,
          3.343657322630591,
          2.6993826172728155,
          1.7937813998056815,
          3.3904206501079903,
          3.345034922314204,
          2.8517905735877718,
          2.8932554343515426,
          2.6287434615650396,
          3.679479655990322,
          4.944291988023277,
          2.9551589923384833,
          1.970315548397061,
          4.133925997771108,
          3.573572250821949,
          2.2801057441736505,
          2.796887744081139,
          3.932794382724473,
          4.684296090776566,
          2.8116890200753795,
          4.384379914695954,
          4.971081521334814,
          4.186258478209225,
          3.761632047985512,
          2.3170347129796856,
          2.1401733562384115,
          3.196995662718602,
          3.5409634047460994,
          2.821265452008573,
          2.723780481480727,
          4.4033201312379155,
          4.7153130149928,
          4.997103372287718,
          3.9065268548223937,
          3.9687873891992123,
          3.4634482916119396,
          4.375837100021135,
          4.818047771512238,
          4.1993376531312485,
          4.645450687143723,
          3.599444565065083,
          4.643770490966302,
          5.750552089295493,
          7.627080128570817,
          7.862509075905664,
          7.567351742017961,
          6.617686040286462,
          7.0447515896015735,
          5.6656921950987265,
          5.5417453482215295,
          5.300541310566457,
          6.197160360699273,
          6.973910554277696,
          6.614186238837551,
          5.70209439422732,
          5.787684024812829,
          4.967521027775211,
          3.016285683828192,
          2.993551445823966,
          1.458684884800412,
          1.9699409510984167,
          3.9649806008166273,
          2.179191362941848,
          1.2441913085533476,
          -0.12680808196925897,
          -1.2212833718971874,
          -0.012870929969344802,
          -0.8054526521075539,
          0.2854382558167422,
          2.1718688636009036,
          1.619714167525475,
          1.5986208166867795,
          1.043527737653303,
          0.5643284317133457,
          0.7087707869791047,
          -0.32026411470649707,
          -2.423211570673105,
          -3.299175701949043,
          -3.050376069362347,
          -4.116508254409561,
          -4.621563417035203,
          -4.049924836831571,
          -3.4946903347242353,
          -3.077705559917039,
          -3.098470907212177,
          -1.6145923365328922,
          -1.1547366322244565,
          -2.1873182602382837,
          -1.887737928204876,
          -0.6839643367947077,
          -0.31528962727014875,
          -1.0087476245153408,
          -2.5148423931404507,
          -1.5810877447705447
         ]
        },
        {
         "line": {
          "color": "rgba(55, 128, 191, 1.0)",
          "dash": "dash",
          "shape": "linear",
          "width": 1
         },
         "mode": "lines",
         "name": "-0.05*x+5.12",
         "type": "scatter",
         "x": [
          "2015-01-01",
          "2015-01-02",
          "2015-01-03",
          "2015-01-04",
          "2015-01-05",
          "2015-01-06",
          "2015-01-07",
          "2015-01-08",
          "2015-01-09",
          "2015-01-10",
          "2015-01-11",
          "2015-01-12",
          "2015-01-13",
          "2015-01-14",
          "2015-01-15",
          "2015-01-16",
          "2015-01-17",
          "2015-01-18",
          "2015-01-19",
          "2015-01-20",
          "2015-01-21",
          "2015-01-22",
          "2015-01-23",
          "2015-01-24",
          "2015-01-25",
          "2015-01-26",
          "2015-01-27",
          "2015-01-28",
          "2015-01-29",
          "2015-01-30",
          "2015-01-31",
          "2015-02-01",
          "2015-02-02",
          "2015-02-03",
          "2015-02-04",
          "2015-02-05",
          "2015-02-06",
          "2015-02-07",
          "2015-02-08",
          "2015-02-09",
          "2015-02-10",
          "2015-02-11",
          "2015-02-12",
          "2015-02-13",
          "2015-02-14",
          "2015-02-15",
          "2015-02-16",
          "2015-02-17",
          "2015-02-18",
          "2015-02-19",
          "2015-02-20",
          "2015-02-21",
          "2015-02-22",
          "2015-02-23",
          "2015-02-24",
          "2015-02-25",
          "2015-02-26",
          "2015-02-27",
          "2015-02-28",
          "2015-03-01",
          "2015-03-02",
          "2015-03-03",
          "2015-03-04",
          "2015-03-05",
          "2015-03-06",
          "2015-03-07",
          "2015-03-08",
          "2015-03-09",
          "2015-03-10",
          "2015-03-11",
          "2015-03-12",
          "2015-03-13",
          "2015-03-14",
          "2015-03-15",
          "2015-03-16",
          "2015-03-17",
          "2015-03-18",
          "2015-03-19",
          "2015-03-20",
          "2015-03-21",
          "2015-03-22",
          "2015-03-23",
          "2015-03-24",
          "2015-03-25",
          "2015-03-26",
          "2015-03-27",
          "2015-03-28",
          "2015-03-29",
          "2015-03-30",
          "2015-03-31",
          "2015-04-01",
          "2015-04-02",
          "2015-04-03",
          "2015-04-04",
          "2015-04-05",
          "2015-04-06",
          "2015-04-07",
          "2015-04-08",
          "2015-04-09",
          "2015-04-10"
         ],
         "y": [
          5.064150714558613,
          5.009253205103175,
          4.954355695647737,
          4.899458186192299,
          4.844560676736861,
          4.7896631672814225,
          4.734765657825984,
          4.679868148370547,
          4.624970638915109,
          4.57007312945967,
          4.515175620004232,
          4.460278110548794,
          4.405380601093356,
          4.350483091637918,
          4.29558558218248,
          4.240688072727042,
          4.1857905632716035,
          4.130893053816165,
          4.075995544360728,
          4.02109803490529,
          3.9662005254498514,
          3.911303015994413,
          3.8564055065389753,
          3.801507997083537,
          3.746610487628099,
          3.691712978172661,
          3.6368154687172227,
          3.5819179592617845,
          3.5270204498063467,
          3.4721229403509084,
          3.4172254308954706,
          3.3623279214400323,
          3.307430411984594,
          3.2525329025291563,
          3.197635393073718,
          3.14273788361828,
          3.087840374162842,
          3.0329428647074037,
          2.978045355251966,
          2.9231478457965276,
          2.8682503363410894,
          2.8133528268856516,
          2.7584553174302133,
          2.703557807974775,
          2.6486602985193373,
          2.593762789063899,
          2.538865279608461,
          2.483967770153023,
          2.4290702606975847,
          2.374172751242147,
          2.3192752417867086,
          2.264377732331271,
          2.2094802228758326,
          2.1545827134203943,
          2.0996852039649565,
          2.0447876945095182,
          1.9898901850540802,
          1.9349926755986422,
          1.880095166143204,
          1.825197656687766,
          1.7703001472323279,
          1.7154026377768896,
          1.6605051283214516,
          1.6056076188660136,
          1.5507101094105755,
          1.4958125999551375,
          1.4409150904996992,
          1.3860175810442612,
          1.3311200715888232,
          1.276222562133385,
          1.2213250526779469,
          1.1664275432225089,
          1.1115300337670708,
          1.0566325243116328,
          1.0017350148561945,
          0.9468375054007565,
          0.8919399959453185,
          0.8370424864898803,
          0.7821449770344422,
          0.7272474675790042,
          0.6723499581235661,
          0.617452448668128,
          0.5625549392126898,
          0.5076574297572518,
          0.4527599203018137,
          0.39786241084637564,
          0.34296490139093755,
          0.28806739193549946,
          0.23316988248006137,
          0.1782723730246233,
          0.1233748635691852,
          0.06847735411374711,
          0.013579844658309026,
          -0.04131766479712906,
          -0.09621517425256715,
          -0.15111268370800524,
          -0.20601019316344332,
          -0.2609077026188814,
          -0.3158052120743195,
          -0.3707027215297576
         ]
        }
       ],
       "layout": {
        "legend": {
         "bgcolor": "#F5F6F9",
         "font": {
          "color": "#4D5663"
         }
        },
        "paper_bgcolor": "#F5F6F9",
        "plot_bgcolor": "#F5F6F9",
        "template": {
         "data": {
          "bar": [
           {
            "error_x": {
             "color": "#2a3f5f"
            },
            "error_y": {
             "color": "#2a3f5f"
            },
            "marker": {
             "line": {
              "color": "#E5ECF6",
              "width": 0.5
             }
            },
            "type": "bar"
           }
          ],
          "barpolar": [
           {
            "marker": {
             "line": {
              "color": "#E5ECF6",
              "width": 0.5
             }
            },
            "type": "barpolar"
           }
          ],
          "carpet": [
           {
            "aaxis": {
             "endlinecolor": "#2a3f5f",
             "gridcolor": "white",
             "linecolor": "white",
             "minorgridcolor": "white",
             "startlinecolor": "#2a3f5f"
            },
            "baxis": {
             "endlinecolor": "#2a3f5f",
             "gridcolor": "white",
             "linecolor": "white",
             "minorgridcolor": "white",
             "startlinecolor": "#2a3f5f"
            },
            "type": "carpet"
           }
          ],
          "choropleth": [
           {
            "colorbar": {
             "outlinewidth": 0,
             "ticks": ""
            },
            "type": "choropleth"
           }
          ],
          "contour": [
           {
            "colorbar": {
             "outlinewidth": 0,
             "ticks": ""
            },
            "colorscale": [
             [
              0,
              "#0d0887"
             ],
             [
              0.1111111111111111,
              "#46039f"
             ],
             [
              0.2222222222222222,
              "#7201a8"
             ],
             [
              0.3333333333333333,
              "#9c179e"
             ],
             [
              0.4444444444444444,
              "#bd3786"
             ],
             [
              0.5555555555555556,
              "#d8576b"
             ],
             [
              0.6666666666666666,
              "#ed7953"
             ],
             [
              0.7777777777777778,
              "#fb9f3a"
             ],
             [
              0.8888888888888888,
              "#fdca26"
             ],
             [
              1,
              "#f0f921"
             ]
            ],
            "type": "contour"
           }
          ],
          "contourcarpet": [
           {
            "colorbar": {
             "outlinewidth": 0,
             "ticks": ""
            },
            "type": "contourcarpet"
           }
          ],
          "heatmap": [
           {
            "colorbar": {
             "outlinewidth": 0,
             "ticks": ""
            },
            "colorscale": [
             [
              0,
              "#0d0887"
             ],
             [
              0.1111111111111111,
              "#46039f"
             ],
             [
              0.2222222222222222,
              "#7201a8"
             ],
             [
              0.3333333333333333,
              "#9c179e"
             ],
             [
              0.4444444444444444,
              "#bd3786"
             ],
             [
              0.5555555555555556,
              "#d8576b"
             ],
             [
              0.6666666666666666,
              "#ed7953"
             ],
             [
              0.7777777777777778,
              "#fb9f3a"
             ],
             [
              0.8888888888888888,
              "#fdca26"
             ],
             [
              1,
              "#f0f921"
             ]
            ],
            "type": "heatmap"
           }
          ],
          "heatmapgl": [
           {
            "colorbar": {
             "outlinewidth": 0,
             "ticks": ""
            },
            "colorscale": [
             [
              0,
              "#0d0887"
             ],
             [
              0.1111111111111111,
              "#46039f"
             ],
             [
              0.2222222222222222,
              "#7201a8"
             ],
             [
              0.3333333333333333,
              "#9c179e"
             ],
             [
              0.4444444444444444,
              "#bd3786"
             ],
             [
              0.5555555555555556,
              "#d8576b"
             ],
             [
              0.6666666666666666,
              "#ed7953"
             ],
             [
              0.7777777777777778,
              "#fb9f3a"
             ],
             [
              0.8888888888888888,
              "#fdca26"
             ],
             [
              1,
              "#f0f921"
             ]
            ],
            "type": "heatmapgl"
           }
          ],
          "histogram": [
           {
            "marker": {
             "colorbar": {
              "outlinewidth": 0,
              "ticks": ""
             }
            },
            "type": "histogram"
           }
          ],
          "histogram2d": [
           {
            "colorbar": {
             "outlinewidth": 0,
             "ticks": ""
            },
            "colorscale": [
             [
              0,
              "#0d0887"
             ],
             [
              0.1111111111111111,
              "#46039f"
             ],
             [
              0.2222222222222222,
              "#7201a8"
             ],
             [
              0.3333333333333333,
              "#9c179e"
             ],
             [
              0.4444444444444444,
              "#bd3786"
             ],
             [
              0.5555555555555556,
              "#d8576b"
             ],
             [
              0.6666666666666666,
              "#ed7953"
             ],
             [
              0.7777777777777778,
              "#fb9f3a"
             ],
             [
              0.8888888888888888,
              "#fdca26"
             ],
             [
              1,
              "#f0f921"
             ]
            ],
            "type": "histogram2d"
           }
          ],
          "histogram2dcontour": [
           {
            "colorbar": {
             "outlinewidth": 0,
             "ticks": ""
            },
            "colorscale": [
             [
              0,
              "#0d0887"
             ],
             [
              0.1111111111111111,
              "#46039f"
             ],
             [
              0.2222222222222222,
              "#7201a8"
             ],
             [
              0.3333333333333333,
              "#9c179e"
             ],
             [
              0.4444444444444444,
              "#bd3786"
             ],
             [
              0.5555555555555556,
              "#d8576b"
             ],
             [
              0.6666666666666666,
              "#ed7953"
             ],
             [
              0.7777777777777778,
              "#fb9f3a"
             ],
             [
              0.8888888888888888,
              "#fdca26"
             ],
             [
              1,
              "#f0f921"
             ]
            ],
            "type": "histogram2dcontour"
           }
          ],
          "mesh3d": [
           {
            "colorbar": {
             "outlinewidth": 0,
             "ticks": ""
            },
            "type": "mesh3d"
           }
          ],
          "parcoords": [
           {
            "line": {
             "colorbar": {
              "outlinewidth": 0,
              "ticks": ""
             }
            },
            "type": "parcoords"
           }
          ],
          "pie": [
           {
            "automargin": true,
            "type": "pie"
           }
          ],
          "scatter": [
           {
            "marker": {
             "colorbar": {
              "outlinewidth": 0,
              "ticks": ""
             }
            },
            "type": "scatter"
           }
          ],
          "scatter3d": [
           {
            "line": {
             "colorbar": {
              "outlinewidth": 0,
              "ticks": ""
             }
            },
            "marker": {
             "colorbar": {
              "outlinewidth": 0,
              "ticks": ""
             }
            },
            "type": "scatter3d"
           }
          ],
          "scattercarpet": [
           {
            "marker": {
             "colorbar": {
              "outlinewidth": 0,
              "ticks": ""
             }
            },
            "type": "scattercarpet"
           }
          ],
          "scattergeo": [
           {
            "marker": {
             "colorbar": {
              "outlinewidth": 0,
              "ticks": ""
             }
            },
            "type": "scattergeo"
           }
          ],
          "scattergl": [
           {
            "marker": {
             "colorbar": {
              "outlinewidth": 0,
              "ticks": ""
             }
            },
            "type": "scattergl"
           }
          ],
          "scattermapbox": [
           {
            "marker": {
             "colorbar": {
              "outlinewidth": 0,
              "ticks": ""
             }
            },
            "type": "scattermapbox"
           }
          ],
          "scatterpolar": [
           {
            "marker": {
             "colorbar": {
              "outlinewidth": 0,
              "ticks": ""
             }
            },
            "type": "scatterpolar"
           }
          ],
          "scatterpolargl": [
           {
            "marker": {
             "colorbar": {
              "outlinewidth": 0,
              "ticks": ""
             }
            },
            "type": "scatterpolargl"
           }
          ],
          "scatterternary": [
           {
            "marker": {
             "colorbar": {
              "outlinewidth": 0,
              "ticks": ""
             }
            },
            "type": "scatterternary"
           }
          ],
          "surface": [
           {
            "colorbar": {
             "outlinewidth": 0,
             "ticks": ""
            },
            "colorscale": [
             [
              0,
              "#0d0887"
             ],
             [
              0.1111111111111111,
              "#46039f"
             ],
             [
              0.2222222222222222,
              "#7201a8"
             ],
             [
              0.3333333333333333,
              "#9c179e"
             ],
             [
              0.4444444444444444,
              "#bd3786"
             ],
             [
              0.5555555555555556,
              "#d8576b"
             ],
             [
              0.6666666666666666,
              "#ed7953"
             ],
             [
              0.7777777777777778,
              "#fb9f3a"
             ],
             [
              0.8888888888888888,
              "#fdca26"
             ],
             [
              1,
              "#f0f921"
             ]
            ],
            "type": "surface"
           }
          ],
          "table": [
           {
            "cells": {
             "fill": {
              "color": "#EBF0F8"
             },
             "line": {
              "color": "white"
             }
            },
            "header": {
             "fill": {
              "color": "#C8D4E3"
             },
             "line": {
              "color": "white"
             }
            },
            "type": "table"
           }
          ]
         },
         "layout": {
          "annotationdefaults": {
           "arrowcolor": "#2a3f5f",
           "arrowhead": 0,
           "arrowwidth": 1
          },
          "coloraxis": {
           "colorbar": {
            "outlinewidth": 0,
            "ticks": ""
           }
          },
          "colorscale": {
           "diverging": [
            [
             0,
             "#8e0152"
            ],
            [
             0.1,
             "#c51b7d"
            ],
            [
             0.2,
             "#de77ae"
            ],
            [
             0.3,
             "#f1b6da"
            ],
            [
             0.4,
             "#fde0ef"
            ],
            [
             0.5,
             "#f7f7f7"
            ],
            [
             0.6,
             "#e6f5d0"
            ],
            [
             0.7,
             "#b8e186"
            ],
            [
             0.8,
             "#7fbc41"
            ],
            [
             0.9,
             "#4d9221"
            ],
            [
             1,
             "#276419"
            ]
           ],
           "sequential": [
            [
             0,
             "#0d0887"
            ],
            [
             0.1111111111111111,
             "#46039f"
            ],
            [
             0.2222222222222222,
             "#7201a8"
            ],
            [
             0.3333333333333333,
             "#9c179e"
            ],
            [
             0.4444444444444444,
             "#bd3786"
            ],
            [
             0.5555555555555556,
             "#d8576b"
            ],
            [
             0.6666666666666666,
             "#ed7953"
            ],
            [
             0.7777777777777778,
             "#fb9f3a"
            ],
            [
             0.8888888888888888,
             "#fdca26"
            ],
            [
             1,
             "#f0f921"
            ]
           ],
           "sequentialminus": [
            [
             0,
             "#0d0887"
            ],
            [
             0.1111111111111111,
             "#46039f"
            ],
            [
             0.2222222222222222,
             "#7201a8"
            ],
            [
             0.3333333333333333,
             "#9c179e"
            ],
            [
             0.4444444444444444,
             "#bd3786"
            ],
            [
             0.5555555555555556,
             "#d8576b"
            ],
            [
             0.6666666666666666,
             "#ed7953"
            ],
            [
             0.7777777777777778,
             "#fb9f3a"
            ],
            [
             0.8888888888888888,
             "#fdca26"
            ],
            [
             1,
             "#f0f921"
            ]
           ]
          },
          "colorway": [
           "#636efa",
           "#EF553B",
           "#00cc96",
           "#ab63fa",
           "#FFA15A",
           "#19d3f3",
           "#FF6692",
           "#B6E880",
           "#FF97FF",
           "#FECB52"
          ],
          "font": {
           "color": "#2a3f5f"
          },
          "geo": {
           "bgcolor": "white",
           "lakecolor": "white",
           "landcolor": "#E5ECF6",
           "showlakes": true,
           "showland": true,
           "subunitcolor": "white"
          },
          "hoverlabel": {
           "align": "left"
          },
          "hovermode": "closest",
          "mapbox": {
           "style": "light"
          },
          "paper_bgcolor": "white",
          "plot_bgcolor": "#E5ECF6",
          "polar": {
           "angularaxis": {
            "gridcolor": "white",
            "linecolor": "white",
            "ticks": ""
           },
           "bgcolor": "#E5ECF6",
           "radialaxis": {
            "gridcolor": "white",
            "linecolor": "white",
            "ticks": ""
           }
          },
          "scene": {
           "xaxis": {
            "backgroundcolor": "#E5ECF6",
            "gridcolor": "white",
            "gridwidth": 2,
            "linecolor": "white",
            "showbackground": true,
            "ticks": "",
            "zerolinecolor": "white"
           },
           "yaxis": {
            "backgroundcolor": "#E5ECF6",
            "gridcolor": "white",
            "gridwidth": 2,
            "linecolor": "white",
            "showbackground": true,
            "ticks": "",
            "zerolinecolor": "white"
           },
           "zaxis": {
            "backgroundcolor": "#E5ECF6",
            "gridcolor": "white",
            "gridwidth": 2,
            "linecolor": "white",
            "showbackground": true,
            "ticks": "",
            "zerolinecolor": "white"
           }
          },
          "shapedefaults": {
           "line": {
            "color": "#2a3f5f"
           }
          },
          "ternary": {
           "aaxis": {
            "gridcolor": "white",
            "linecolor": "white",
            "ticks": ""
           },
           "baxis": {
            "gridcolor": "white",
            "linecolor": "white",
            "ticks": ""
           },
           "bgcolor": "#E5ECF6",
           "caxis": {
            "gridcolor": "white",
            "linecolor": "white",
            "ticks": ""
           }
          },
          "title": {
           "x": 0.05
          },
          "xaxis": {
           "automargin": true,
           "gridcolor": "white",
           "linecolor": "white",
           "ticks": "",
           "title": {
            "standoff": 15
           },
           "zerolinecolor": "white",
           "zerolinewidth": 2
          },
          "yaxis": {
           "automargin": true,
           "gridcolor": "white",
           "linecolor": "white",
           "ticks": "",
           "title": {
            "standoff": 15
           },
           "zerolinecolor": "white",
           "zerolinewidth": 2
          }
         }
        },
        "title": {
         "font": {
          "color": "#4D5663"
         },
         "x": 0.5
        },
        "xaxis": {
         "gridcolor": "#E1E5ED",
         "showgrid": true,
         "tickfont": {
          "color": "#4D5663"
         },
         "title": {
          "font": {
           "color": "#4D5663"
          },
          "text": ""
         },
         "zerolinecolor": "#E1E5ED"
        },
        "yaxis": {
         "gridcolor": "#E1E5ED",
         "showgrid": true,
         "tickfont": {
          "color": "#4D5663"
         },
         "title": {
          "font": {
           "color": "#4D5663"
          },
          "text": ""
         },
         "zerolinecolor": "#E1E5ED"
        }
       }
      },
      "text/html": "<div>\n        \n        \n            <div id=\"a1fca56f-941f-4947-9654-3847fba07cd4\" class=\"plotly-graph-div\" style=\"height:525px; width:100%;\"></div>\n            <script type=\"text/javascript\">\n                require([\"plotly\"], function(Plotly) {\n                    window.PLOTLYENV=window.PLOTLYENV || {};\n                    window.PLOTLYENV.BASE_URL='https://plot.ly';\n                    \n                if (document.getElementById(\"a1fca56f-941f-4947-9654-3847fba07cd4\")) {\n                    Plotly.newPlot(\n                        'a1fca56f-941f-4947-9654-3847fba07cd4',\n                        [{\"line\": {\"color\": \"rgba(255, 0, 136, 1.0)\", \"dash\": \"solid\", \"shape\": \"linear\", \"width\": 1.3}, \"mode\": \"lines\", \"name\": \"IBM\", \"text\": \"\", \"type\": \"scatter\", \"x\": [\"2015-01-01\", \"2015-01-02\", \"2015-01-03\", \"2015-01-04\", \"2015-01-05\", \"2015-01-06\", \"2015-01-07\", \"2015-01-08\", \"2015-01-09\", \"2015-01-10\", \"2015-01-11\", \"2015-01-12\", \"2015-01-13\", \"2015-01-14\", \"2015-01-15\", \"2015-01-16\", \"2015-01-17\", \"2015-01-18\", \"2015-01-19\", \"2015-01-20\", \"2015-01-21\", \"2015-01-22\", \"2015-01-23\", \"2015-01-24\", \"2015-01-25\", \"2015-01-26\", \"2015-01-27\", \"2015-01-28\", \"2015-01-29\", \"2015-01-30\", \"2015-01-31\", \"2015-02-01\", \"2015-02-02\", \"2015-02-03\", \"2015-02-04\", \"2015-02-05\", \"2015-02-06\", \"2015-02-07\", \"2015-02-08\", \"2015-02-09\", \"2015-02-10\", \"2015-02-11\", \"2015-02-12\", \"2015-02-13\", \"2015-02-14\", \"2015-02-15\", \"2015-02-16\", \"2015-02-17\", \"2015-02-18\", \"2015-02-19\", \"2015-02-20\", \"2015-02-21\", \"2015-02-22\", \"2015-02-23\", \"2015-02-24\", \"2015-02-25\", \"2015-02-26\", \"2015-02-27\", \"2015-02-28\", \"2015-03-01\", \"2015-03-02\", \"2015-03-03\", \"2015-03-04\", \"2015-03-05\", \"2015-03-06\", \"2015-03-07\", \"2015-03-08\", \"2015-03-09\", \"2015-03-10\", \"2015-03-11\", \"2015-03-12\", \"2015-03-13\", \"2015-03-14\", \"2015-03-15\", \"2015-03-16\", \"2015-03-17\", \"2015-03-18\", \"2015-03-19\", \"2015-03-20\", \"2015-03-21\", \"2015-03-22\", \"2015-03-23\", \"2015-03-24\", \"2015-03-25\", \"2015-03-26\", \"2015-03-27\", \"2015-03-28\", \"2015-03-29\", \"2015-03-30\", \"2015-03-31\", \"2015-04-01\", \"2015-04-02\", \"2015-04-03\", \"2015-04-04\", \"2015-04-05\", \"2015-04-06\", \"2015-04-07\", \"2015-04-08\", \"2015-04-09\", \"2015-04-10\"], \"y\": [1.204634807161707, 0.9145006657511832, 1.218380555193714, 1.6040010922114574, 1.8507033314358179, 4.066880405623611, 3.9518239112895603, 3.343657322630591, 2.6993826172728155, 1.7937813998056815, 3.3904206501079903, 3.345034922314204, 2.8517905735877718, 2.8932554343515426, 2.6287434615650396, 3.679479655990322, 4.944291988023277, 2.9551589923384833, 1.970315548397061, 4.133925997771108, 3.573572250821949, 2.2801057441736505, 2.796887744081139, 3.932794382724473, 4.684296090776566, 2.8116890200753795, 4.384379914695954, 4.971081521334814, 4.186258478209225, 3.761632047985512, 2.3170347129796856, 2.1401733562384115, 3.196995662718602, 3.5409634047460994, 2.821265452008573, 2.723780481480727, 4.4033201312379155, 4.7153130149928, 4.997103372287718, 3.9065268548223937, 3.9687873891992123, 3.4634482916119396, 4.375837100021135, 4.818047771512238, 4.1993376531312485, 4.645450687143723, 3.599444565065083, 4.643770490966302, 5.750552089295493, 7.627080128570817, 7.862509075905664, 7.567351742017961, 6.617686040286462, 7.0447515896015735, 5.6656921950987265, 5.5417453482215295, 5.300541310566457, 6.197160360699273, 6.973910554277696, 6.614186238837551, 5.70209439422732, 5.787684024812829, 4.967521027775211, 3.016285683828192, 2.993551445823966, 1.458684884800412, 1.9699409510984167, 3.9649806008166273, 2.179191362941848, 1.2441913085533476, -0.12680808196925897, -1.2212833718971874, -0.012870929969344802, -0.8054526521075539, 0.2854382558167422, 2.1718688636009036, 1.619714167525475, 1.5986208166867795, 1.043527737653303, 0.5643284317133457, 0.7087707869791047, -0.32026411470649707, -2.423211570673105, -3.299175701949043, -3.050376069362347, -4.116508254409561, -4.621563417035203, -4.049924836831571, -3.4946903347242353, -3.077705559917039, -3.098470907212177, -1.6145923365328922, -1.1547366322244565, -2.1873182602382837, -1.887737928204876, -0.6839643367947077, -0.31528962727014875, -1.0087476245153408, -2.5148423931404507, -1.5810877447705447]}, {\"line\": {\"color\": \"rgba(55, 128, 191, 1.0)\", \"dash\": \"dash\", \"shape\": \"linear\", \"width\": 1}, \"mode\": \"lines\", \"name\": \"-0.05*x+5.12\", \"type\": \"scatter\", \"x\": [\"2015-01-01\", \"2015-01-02\", \"2015-01-03\", \"2015-01-04\", \"2015-01-05\", \"2015-01-06\", \"2015-01-07\", \"2015-01-08\", \"2015-01-09\", \"2015-01-10\", \"2015-01-11\", \"2015-01-12\", \"2015-01-13\", \"2015-01-14\", \"2015-01-15\", \"2015-01-16\", \"2015-01-17\", \"2015-01-18\", \"2015-01-19\", \"2015-01-20\", \"2015-01-21\", \"2015-01-22\", \"2015-01-23\", \"2015-01-24\", \"2015-01-25\", \"2015-01-26\", \"2015-01-27\", \"2015-01-28\", \"2015-01-29\", \"2015-01-30\", \"2015-01-31\", \"2015-02-01\", \"2015-02-02\", \"2015-02-03\", \"2015-02-04\", \"2015-02-05\", \"2015-02-06\", \"2015-02-07\", \"2015-02-08\", \"2015-02-09\", \"2015-02-10\", \"2015-02-11\", \"2015-02-12\", \"2015-02-13\", \"2015-02-14\", \"2015-02-15\", \"2015-02-16\", \"2015-02-17\", \"2015-02-18\", \"2015-02-19\", \"2015-02-20\", \"2015-02-21\", \"2015-02-22\", \"2015-02-23\", \"2015-02-24\", \"2015-02-25\", \"2015-02-26\", \"2015-02-27\", \"2015-02-28\", \"2015-03-01\", \"2015-03-02\", \"2015-03-03\", \"2015-03-04\", \"2015-03-05\", \"2015-03-06\", \"2015-03-07\", \"2015-03-08\", \"2015-03-09\", \"2015-03-10\", \"2015-03-11\", \"2015-03-12\", \"2015-03-13\", \"2015-03-14\", \"2015-03-15\", \"2015-03-16\", \"2015-03-17\", \"2015-03-18\", \"2015-03-19\", \"2015-03-20\", \"2015-03-21\", \"2015-03-22\", \"2015-03-23\", \"2015-03-24\", \"2015-03-25\", \"2015-03-26\", \"2015-03-27\", \"2015-03-28\", \"2015-03-29\", \"2015-03-30\", \"2015-03-31\", \"2015-04-01\", \"2015-04-02\", \"2015-04-03\", \"2015-04-04\", \"2015-04-05\", \"2015-04-06\", \"2015-04-07\", \"2015-04-08\", \"2015-04-09\", \"2015-04-10\"], \"y\": [5.064150714558613, 5.009253205103175, 4.954355695647737, 4.899458186192299, 4.844560676736861, 4.7896631672814225, 4.734765657825984, 4.679868148370547, 4.624970638915109, 4.57007312945967, 4.515175620004232, 4.460278110548794, 4.405380601093356, 4.350483091637918, 4.29558558218248, 4.240688072727042, 4.1857905632716035, 4.130893053816165, 4.075995544360728, 4.02109803490529, 3.9662005254498514, 3.911303015994413, 3.8564055065389753, 3.801507997083537, 3.746610487628099, 3.691712978172661, 3.6368154687172227, 3.5819179592617845, 3.5270204498063467, 3.4721229403509084, 3.4172254308954706, 3.3623279214400323, 3.307430411984594, 3.2525329025291563, 3.197635393073718, 3.14273788361828, 3.087840374162842, 3.0329428647074037, 2.978045355251966, 2.9231478457965276, 2.8682503363410894, 2.8133528268856516, 2.7584553174302133, 2.703557807974775, 2.6486602985193373, 2.593762789063899, 2.538865279608461, 2.483967770153023, 2.4290702606975847, 2.374172751242147, 2.3192752417867086, 2.264377732331271, 2.2094802228758326, 2.1545827134203943, 2.0996852039649565, 2.0447876945095182, 1.9898901850540802, 1.9349926755986422, 1.880095166143204, 1.825197656687766, 1.7703001472323279, 1.7154026377768896, 1.6605051283214516, 1.6056076188660136, 1.5507101094105755, 1.4958125999551375, 1.4409150904996992, 1.3860175810442612, 1.3311200715888232, 1.276222562133385, 1.2213250526779469, 1.1664275432225089, 1.1115300337670708, 1.0566325243116328, 1.0017350148561945, 0.9468375054007565, 0.8919399959453185, 0.8370424864898803, 0.7821449770344422, 0.7272474675790042, 0.6723499581235661, 0.617452448668128, 0.5625549392126898, 0.5076574297572518, 0.4527599203018137, 0.39786241084637564, 0.34296490139093755, 0.28806739193549946, 0.23316988248006137, 0.1782723730246233, 0.1233748635691852, 0.06847735411374711, 0.013579844658309026, -0.04131766479712906, -0.09621517425256715, -0.15111268370800524, -0.20601019316344332, -0.2609077026188814, -0.3158052120743195, -0.3707027215297576]}],\n                        {\"legend\": {\"bgcolor\": \"#F5F6F9\", \"font\": {\"color\": \"#4D5663\"}}, \"paper_bgcolor\": \"#F5F6F9\", \"plot_bgcolor\": \"#F5F6F9\", \"template\": {\"data\": {\"bar\": [{\"error_x\": {\"color\": \"#2a3f5f\"}, \"error_y\": {\"color\": \"#2a3f5f\"}, \"marker\": {\"line\": {\"color\": \"#E5ECF6\", \"width\": 0.5}}, \"type\": \"bar\"}], \"barpolar\": [{\"marker\": {\"line\": {\"color\": \"#E5ECF6\", \"width\": 0.5}}, \"type\": \"barpolar\"}], \"carpet\": [{\"aaxis\": {\"endlinecolor\": \"#2a3f5f\", \"gridcolor\": \"white\", \"linecolor\": \"white\", \"minorgridcolor\": \"white\", \"startlinecolor\": \"#2a3f5f\"}, \"baxis\": {\"endlinecolor\": \"#2a3f5f\", \"gridcolor\": \"white\", \"linecolor\": \"white\", \"minorgridcolor\": \"white\", \"startlinecolor\": \"#2a3f5f\"}, \"type\": \"carpet\"}], \"choropleth\": [{\"colorbar\": {\"outlinewidth\": 0, \"ticks\": \"\"}, \"type\": \"choropleth\"}], \"contour\": [{\"colorbar\": {\"outlinewidth\": 0, \"ticks\": \"\"}, \"colorscale\": [[0.0, \"#0d0887\"], [0.1111111111111111, \"#46039f\"], [0.2222222222222222, \"#7201a8\"], [0.3333333333333333, \"#9c179e\"], [0.4444444444444444, \"#bd3786\"], [0.5555555555555556, \"#d8576b\"], [0.6666666666666666, \"#ed7953\"], [0.7777777777777778, \"#fb9f3a\"], [0.8888888888888888, \"#fdca26\"], [1.0, \"#f0f921\"]], \"type\": \"contour\"}], \"contourcarpet\": [{\"colorbar\": {\"outlinewidth\": 0, \"ticks\": \"\"}, \"type\": \"contourcarpet\"}], \"heatmap\": [{\"colorbar\": {\"outlinewidth\": 0, \"ticks\": \"\"}, \"colorscale\": [[0.0, \"#0d0887\"], [0.1111111111111111, \"#46039f\"], [0.2222222222222222, \"#7201a8\"], [0.3333333333333333, \"#9c179e\"], [0.4444444444444444, \"#bd3786\"], [0.5555555555555556, \"#d8576b\"], [0.6666666666666666, \"#ed7953\"], [0.7777777777777778, \"#fb9f3a\"], [0.8888888888888888, \"#fdca26\"], [1.0, \"#f0f921\"]], \"type\": \"heatmap\"}], \"heatmapgl\": [{\"colorbar\": {\"outlinewidth\": 0, \"ticks\": \"\"}, \"colorscale\": [[0.0, \"#0d0887\"], [0.1111111111111111, \"#46039f\"], [0.2222222222222222, \"#7201a8\"], [0.3333333333333333, \"#9c179e\"], [0.4444444444444444, \"#bd3786\"], [0.5555555555555556, \"#d8576b\"], [0.6666666666666666, \"#ed7953\"], [0.7777777777777778, \"#fb9f3a\"], [0.8888888888888888, \"#fdca26\"], [1.0, \"#f0f921\"]], \"type\": \"heatmapgl\"}], \"histogram\": [{\"marker\": {\"colorbar\": {\"outlinewidth\": 0, \"ticks\": \"\"}}, \"type\": \"histogram\"}], \"histogram2d\": [{\"colorbar\": {\"outlinewidth\": 0, \"ticks\": \"\"}, \"colorscale\": [[0.0, \"#0d0887\"], [0.1111111111111111, \"#46039f\"], [0.2222222222222222, \"#7201a8\"], [0.3333333333333333, \"#9c179e\"], [0.4444444444444444, \"#bd3786\"], [0.5555555555555556, \"#d8576b\"], [0.6666666666666666, \"#ed7953\"], [0.7777777777777778, \"#fb9f3a\"], [0.8888888888888888, \"#fdca26\"], [1.0, \"#f0f921\"]], \"type\": \"histogram2d\"}], \"histogram2dcontour\": [{\"colorbar\": {\"outlinewidth\": 0, \"ticks\": \"\"}, \"colorscale\": [[0.0, \"#0d0887\"], [0.1111111111111111, \"#46039f\"], [0.2222222222222222, \"#7201a8\"], [0.3333333333333333, \"#9c179e\"], [0.4444444444444444, \"#bd3786\"], [0.5555555555555556, \"#d8576b\"], [0.6666666666666666, \"#ed7953\"], [0.7777777777777778, \"#fb9f3a\"], [0.8888888888888888, \"#fdca26\"], [1.0, \"#f0f921\"]], \"type\": \"histogram2dcontour\"}], \"mesh3d\": [{\"colorbar\": {\"outlinewidth\": 0, \"ticks\": \"\"}, \"type\": \"mesh3d\"}], \"parcoords\": [{\"line\": {\"colorbar\": {\"outlinewidth\": 0, \"ticks\": \"\"}}, \"type\": \"parcoords\"}], \"pie\": [{\"automargin\": true, \"type\": \"pie\"}], \"scatter\": [{\"marker\": {\"colorbar\": {\"outlinewidth\": 0, \"ticks\": \"\"}}, \"type\": \"scatter\"}], \"scatter3d\": [{\"line\": {\"colorbar\": {\"outlinewidth\": 0, \"ticks\": \"\"}}, \"marker\": {\"colorbar\": {\"outlinewidth\": 0, \"ticks\": \"\"}}, \"type\": \"scatter3d\"}], \"scattercarpet\": [{\"marker\": {\"colorbar\": {\"outlinewidth\": 0, \"ticks\": \"\"}}, \"type\": \"scattercarpet\"}], \"scattergeo\": [{\"marker\": {\"colorbar\": {\"outlinewidth\": 0, \"ticks\": \"\"}}, \"type\": \"scattergeo\"}], \"scattergl\": [{\"marker\": {\"colorbar\": {\"outlinewidth\": 0, \"ticks\": \"\"}}, \"type\": \"scattergl\"}], \"scattermapbox\": [{\"marker\": {\"colorbar\": {\"outlinewidth\": 0, \"ticks\": \"\"}}, \"type\": \"scattermapbox\"}], \"scatterpolar\": [{\"marker\": {\"colorbar\": {\"outlinewidth\": 0, \"ticks\": \"\"}}, \"type\": \"scatterpolar\"}], \"scatterpolargl\": [{\"marker\": {\"colorbar\": {\"outlinewidth\": 0, \"ticks\": \"\"}}, \"type\": \"scatterpolargl\"}], \"scatterternary\": [{\"marker\": {\"colorbar\": {\"outlinewidth\": 0, \"ticks\": \"\"}}, \"type\": \"scatterternary\"}], \"surface\": [{\"colorbar\": {\"outlinewidth\": 0, \"ticks\": \"\"}, \"colorscale\": [[0.0, \"#0d0887\"], [0.1111111111111111, \"#46039f\"], [0.2222222222222222, \"#7201a8\"], [0.3333333333333333, \"#9c179e\"], [0.4444444444444444, \"#bd3786\"], [0.5555555555555556, \"#d8576b\"], [0.6666666666666666, \"#ed7953\"], [0.7777777777777778, \"#fb9f3a\"], [0.8888888888888888, \"#fdca26\"], [1.0, \"#f0f921\"]], \"type\": \"surface\"}], \"table\": [{\"cells\": {\"fill\": {\"color\": \"#EBF0F8\"}, \"line\": {\"color\": \"white\"}}, \"header\": {\"fill\": {\"color\": \"#C8D4E3\"}, \"line\": {\"color\": \"white\"}}, \"type\": \"table\"}]}, \"layout\": {\"annotationdefaults\": {\"arrowcolor\": \"#2a3f5f\", \"arrowhead\": 0, \"arrowwidth\": 1}, \"coloraxis\": {\"colorbar\": {\"outlinewidth\": 0, \"ticks\": \"\"}}, \"colorscale\": {\"diverging\": [[0, \"#8e0152\"], [0.1, \"#c51b7d\"], [0.2, \"#de77ae\"], [0.3, \"#f1b6da\"], [0.4, \"#fde0ef\"], [0.5, \"#f7f7f7\"], [0.6, \"#e6f5d0\"], [0.7, \"#b8e186\"], [0.8, \"#7fbc41\"], [0.9, \"#4d9221\"], [1, \"#276419\"]], \"sequential\": [[0.0, \"#0d0887\"], [0.1111111111111111, \"#46039f\"], [0.2222222222222222, \"#7201a8\"], [0.3333333333333333, \"#9c179e\"], [0.4444444444444444, \"#bd3786\"], [0.5555555555555556, \"#d8576b\"], [0.6666666666666666, \"#ed7953\"], [0.7777777777777778, \"#fb9f3a\"], [0.8888888888888888, \"#fdca26\"], [1.0, \"#f0f921\"]], \"sequentialminus\": [[0.0, \"#0d0887\"], [0.1111111111111111, \"#46039f\"], [0.2222222222222222, \"#7201a8\"], [0.3333333333333333, \"#9c179e\"], [0.4444444444444444, \"#bd3786\"], [0.5555555555555556, \"#d8576b\"], [0.6666666666666666, \"#ed7953\"], [0.7777777777777778, \"#fb9f3a\"], [0.8888888888888888, \"#fdca26\"], [1.0, \"#f0f921\"]]}, \"colorway\": [\"#636efa\", \"#EF553B\", \"#00cc96\", \"#ab63fa\", \"#FFA15A\", \"#19d3f3\", \"#FF6692\", \"#B6E880\", \"#FF97FF\", \"#FECB52\"], \"font\": {\"color\": \"#2a3f5f\"}, \"geo\": {\"bgcolor\": \"white\", \"lakecolor\": \"white\", \"landcolor\": \"#E5ECF6\", \"showlakes\": true, \"showland\": true, \"subunitcolor\": \"white\"}, \"hoverlabel\": {\"align\": \"left\"}, \"hovermode\": \"closest\", \"mapbox\": {\"style\": \"light\"}, \"paper_bgcolor\": \"white\", \"plot_bgcolor\": \"#E5ECF6\", \"polar\": {\"angularaxis\": {\"gridcolor\": \"white\", \"linecolor\": \"white\", \"ticks\": \"\"}, \"bgcolor\": \"#E5ECF6\", \"radialaxis\": {\"gridcolor\": \"white\", \"linecolor\": \"white\", \"ticks\": \"\"}}, \"scene\": {\"xaxis\": {\"backgroundcolor\": \"#E5ECF6\", \"gridcolor\": \"white\", \"gridwidth\": 2, \"linecolor\": \"white\", \"showbackground\": true, \"ticks\": \"\", \"zerolinecolor\": \"white\"}, \"yaxis\": {\"backgroundcolor\": \"#E5ECF6\", \"gridcolor\": \"white\", \"gridwidth\": 2, \"linecolor\": \"white\", \"showbackground\": true, \"ticks\": \"\", \"zerolinecolor\": \"white\"}, \"zaxis\": {\"backgroundcolor\": \"#E5ECF6\", \"gridcolor\": \"white\", \"gridwidth\": 2, \"linecolor\": \"white\", \"showbackground\": true, \"ticks\": \"\", \"zerolinecolor\": \"white\"}}, \"shapedefaults\": {\"line\": {\"color\": \"#2a3f5f\"}}, \"ternary\": {\"aaxis\": {\"gridcolor\": \"white\", \"linecolor\": \"white\", \"ticks\": \"\"}, \"baxis\": {\"gridcolor\": \"white\", \"linecolor\": \"white\", \"ticks\": \"\"}, \"bgcolor\": \"#E5ECF6\", \"caxis\": {\"gridcolor\": \"white\", \"linecolor\": \"white\", \"ticks\": \"\"}}, \"title\": {\"x\": 0.05}, \"xaxis\": {\"automargin\": true, \"gridcolor\": \"white\", \"linecolor\": \"white\", \"ticks\": \"\", \"title\": {\"standoff\": 15}, \"zerolinecolor\": \"white\", \"zerolinewidth\": 2}, \"yaxis\": {\"automargin\": true, \"gridcolor\": \"white\", \"linecolor\": \"white\", \"ticks\": \"\", \"title\": {\"standoff\": 15}, \"zerolinecolor\": \"white\", \"zerolinewidth\": 2}}}, \"title\": {\"font\": {\"color\": \"#4D5663\"}, \"x\": 0.5}, \"xaxis\": {\"gridcolor\": \"#E1E5ED\", \"showgrid\": true, \"tickfont\": {\"color\": \"#4D5663\"}, \"title\": {\"font\": {\"color\": \"#4D5663\"}, \"text\": \"\"}, \"zerolinecolor\": \"#E1E5ED\"}, \"yaxis\": {\"gridcolor\": \"#E1E5ED\", \"showgrid\": true, \"tickfont\": {\"color\": \"#4D5663\"}, \"title\": {\"font\": {\"color\": \"#4D5663\"}, \"text\": \"\"}, \"zerolinecolor\": \"#E1E5ED\"}},\n                        {\"showLink\": true, \"linkText\": \"Export to plot.ly\", \"plotlyServerURL\": \"https://plot.ly\", \"responsive\": true}\n                    ).then(function(){\n                            \nvar gd = document.getElementById('a1fca56f-941f-4947-9654-3847fba07cd4');\nvar x = new MutationObserver(function (mutations, observer) {{\n        var display = window.getComputedStyle(gd).display;\n        if (!display || display === 'none') {{\n            console.log([gd, 'removed!']);\n            Plotly.purge(gd);\n            observer.disconnect();\n        }}\n}});\n\n// Listen for the removal of the full notebook cells\nvar notebookContainer = gd.closest('#notebook-container');\nif (notebookContainer) {{\n    x.observe(notebookContainer, {childList: true});\n}}\n\n// Listen for the clearing of the current output cell\nvar outputEl = gd.closest('.output');\nif (outputEl) {{\n    x.observe(outputEl, {childList: true});\n}}\n\n                        })\n                };\n                });\n            </script>\n        </div>"
     },
     "metadata": {}
    }
   ],
   "source": [
    "df['IBM'].iplot(filename='IBM Returns - colors',bestfit=True,colors=['pink'],bestfit_colors=['blue'])"
   ]
  },
  {
   "cell_type": "markdown",
   "metadata": {},
   "source": [
    "### Filled Traces\n",
    "\n",
    "We can add a fill to a trace with **fill=True**"
   ]
  },
  {
   "cell_type": "code",
   "execution_count": 10,
   "metadata": {},
   "outputs": [
    {
     "output_type": "display_data",
     "data": {
      "application/vnd.plotly.v1+json": {
       "config": {
        "linkText": "Export to plot.ly",
        "plotlyServerURL": "https://plot.ly",
        "showLink": true
       },
       "data": [
        {
         "fill": "tozeroy",
         "fillcolor": "rgba(0, 128, 0, 0.3)",
         "line": {
          "color": "rgba(0, 128, 0, 1.0)",
          "dash": "solid",
          "shape": "linear",
          "width": 1.3
         },
         "mode": "lines",
         "name": "IBM",
         "text": "",
         "type": "scatter",
         "x": [
          "2015-01-01",
          "2015-01-02",
          "2015-01-03",
          "2015-01-04",
          "2015-01-05",
          "2015-01-06",
          "2015-01-07",
          "2015-01-08",
          "2015-01-09",
          "2015-01-10",
          "2015-01-11",
          "2015-01-12",
          "2015-01-13",
          "2015-01-14",
          "2015-01-15",
          "2015-01-16",
          "2015-01-17",
          "2015-01-18",
          "2015-01-19",
          "2015-01-20",
          "2015-01-21",
          "2015-01-22",
          "2015-01-23",
          "2015-01-24",
          "2015-01-25",
          "2015-01-26",
          "2015-01-27",
          "2015-01-28",
          "2015-01-29",
          "2015-01-30",
          "2015-01-31",
          "2015-02-01",
          "2015-02-02",
          "2015-02-03",
          "2015-02-04",
          "2015-02-05",
          "2015-02-06",
          "2015-02-07",
          "2015-02-08",
          "2015-02-09",
          "2015-02-10",
          "2015-02-11",
          "2015-02-12",
          "2015-02-13",
          "2015-02-14",
          "2015-02-15",
          "2015-02-16",
          "2015-02-17",
          "2015-02-18",
          "2015-02-19",
          "2015-02-20",
          "2015-02-21",
          "2015-02-22",
          "2015-02-23",
          "2015-02-24",
          "2015-02-25",
          "2015-02-26",
          "2015-02-27",
          "2015-02-28",
          "2015-03-01",
          "2015-03-02",
          "2015-03-03",
          "2015-03-04",
          "2015-03-05",
          "2015-03-06",
          "2015-03-07",
          "2015-03-08",
          "2015-03-09",
          "2015-03-10",
          "2015-03-11",
          "2015-03-12",
          "2015-03-13",
          "2015-03-14",
          "2015-03-15",
          "2015-03-16",
          "2015-03-17",
          "2015-03-18",
          "2015-03-19",
          "2015-03-20",
          "2015-03-21",
          "2015-03-22",
          "2015-03-23",
          "2015-03-24",
          "2015-03-25",
          "2015-03-26",
          "2015-03-27",
          "2015-03-28",
          "2015-03-29",
          "2015-03-30",
          "2015-03-31",
          "2015-04-01",
          "2015-04-02",
          "2015-04-03",
          "2015-04-04",
          "2015-04-05",
          "2015-04-06",
          "2015-04-07",
          "2015-04-08",
          "2015-04-09",
          "2015-04-10"
         ],
         "y": [
          1.204634807161707,
          0.9145006657511832,
          1.218380555193714,
          1.6040010922114574,
          1.8507033314358179,
          4.066880405623611,
          3.9518239112895603,
          3.343657322630591,
          2.6993826172728155,
          1.7937813998056815,
          3.3904206501079903,
          3.345034922314204,
          2.8517905735877718,
          2.8932554343515426,
          2.6287434615650396,
          3.679479655990322,
          4.944291988023277,
          2.9551589923384833,
          1.970315548397061,
          4.133925997771108,
          3.573572250821949,
          2.2801057441736505,
          2.796887744081139,
          3.932794382724473,
          4.684296090776566,
          2.8116890200753795,
          4.384379914695954,
          4.971081521334814,
          4.186258478209225,
          3.761632047985512,
          2.3170347129796856,
          2.1401733562384115,
          3.196995662718602,
          3.5409634047460994,
          2.821265452008573,
          2.723780481480727,
          4.4033201312379155,
          4.7153130149928,
          4.997103372287718,
          3.9065268548223937,
          3.9687873891992123,
          3.4634482916119396,
          4.375837100021135,
          4.818047771512238,
          4.1993376531312485,
          4.645450687143723,
          3.599444565065083,
          4.643770490966302,
          5.750552089295493,
          7.627080128570817,
          7.862509075905664,
          7.567351742017961,
          6.617686040286462,
          7.0447515896015735,
          5.6656921950987265,
          5.5417453482215295,
          5.300541310566457,
          6.197160360699273,
          6.973910554277696,
          6.614186238837551,
          5.70209439422732,
          5.787684024812829,
          4.967521027775211,
          3.016285683828192,
          2.993551445823966,
          1.458684884800412,
          1.9699409510984167,
          3.9649806008166273,
          2.179191362941848,
          1.2441913085533476,
          -0.12680808196925897,
          -1.2212833718971874,
          -0.012870929969344802,
          -0.8054526521075539,
          0.2854382558167422,
          2.1718688636009036,
          1.619714167525475,
          1.5986208166867795,
          1.043527737653303,
          0.5643284317133457,
          0.7087707869791047,
          -0.32026411470649707,
          -2.423211570673105,
          -3.299175701949043,
          -3.050376069362347,
          -4.116508254409561,
          -4.621563417035203,
          -4.049924836831571,
          -3.4946903347242353,
          -3.077705559917039,
          -3.098470907212177,
          -1.6145923365328922,
          -1.1547366322244565,
          -2.1873182602382837,
          -1.887737928204876,
          -0.6839643367947077,
          -0.31528962727014875,
          -1.0087476245153408,
          -2.5148423931404507,
          -1.5810877447705447
         ]
        }
       ],
       "layout": {
        "legend": {
         "bgcolor": "#F5F6F9",
         "font": {
          "color": "#4D5663"
         }
        },
        "paper_bgcolor": "#F5F6F9",
        "plot_bgcolor": "#F5F6F9",
        "template": {
         "data": {
          "bar": [
           {
            "error_x": {
             "color": "#2a3f5f"
            },
            "error_y": {
             "color": "#2a3f5f"
            },
            "marker": {
             "line": {
              "color": "#E5ECF6",
              "width": 0.5
             }
            },
            "type": "bar"
           }
          ],
          "barpolar": [
           {
            "marker": {
             "line": {
              "color": "#E5ECF6",
              "width": 0.5
             }
            },
            "type": "barpolar"
           }
          ],
          "carpet": [
           {
            "aaxis": {
             "endlinecolor": "#2a3f5f",
             "gridcolor": "white",
             "linecolor": "white",
             "minorgridcolor": "white",
             "startlinecolor": "#2a3f5f"
            },
            "baxis": {
             "endlinecolor": "#2a3f5f",
             "gridcolor": "white",
             "linecolor": "white",
             "minorgridcolor": "white",
             "startlinecolor": "#2a3f5f"
            },
            "type": "carpet"
           }
          ],
          "choropleth": [
           {
            "colorbar": {
             "outlinewidth": 0,
             "ticks": ""
            },
            "type": "choropleth"
           }
          ],
          "contour": [
           {
            "colorbar": {
             "outlinewidth": 0,
             "ticks": ""
            },
            "colorscale": [
             [
              0,
              "#0d0887"
             ],
             [
              0.1111111111111111,
              "#46039f"
             ],
             [
              0.2222222222222222,
              "#7201a8"
             ],
             [
              0.3333333333333333,
              "#9c179e"
             ],
             [
              0.4444444444444444,
              "#bd3786"
             ],
             [
              0.5555555555555556,
              "#d8576b"
             ],
             [
              0.6666666666666666,
              "#ed7953"
             ],
             [
              0.7777777777777778,
              "#fb9f3a"
             ],
             [
              0.8888888888888888,
              "#fdca26"
             ],
             [
              1,
              "#f0f921"
             ]
            ],
            "type": "contour"
           }
          ],
          "contourcarpet": [
           {
            "colorbar": {
             "outlinewidth": 0,
             "ticks": ""
            },
            "type": "contourcarpet"
           }
          ],
          "heatmap": [
           {
            "colorbar": {
             "outlinewidth": 0,
             "ticks": ""
            },
            "colorscale": [
             [
              0,
              "#0d0887"
             ],
             [
              0.1111111111111111,
              "#46039f"
             ],
             [
              0.2222222222222222,
              "#7201a8"
             ],
             [
              0.3333333333333333,
              "#9c179e"
             ],
             [
              0.4444444444444444,
              "#bd3786"
             ],
             [
              0.5555555555555556,
              "#d8576b"
             ],
             [
              0.6666666666666666,
              "#ed7953"
             ],
             [
              0.7777777777777778,
              "#fb9f3a"
             ],
             [
              0.8888888888888888,
              "#fdca26"
             ],
             [
              1,
              "#f0f921"
             ]
            ],
            "type": "heatmap"
           }
          ],
          "heatmapgl": [
           {
            "colorbar": {
             "outlinewidth": 0,
             "ticks": ""
            },
            "colorscale": [
             [
              0,
              "#0d0887"
             ],
             [
              0.1111111111111111,
              "#46039f"
             ],
             [
              0.2222222222222222,
              "#7201a8"
             ],
             [
              0.3333333333333333,
              "#9c179e"
             ],
             [
              0.4444444444444444,
              "#bd3786"
             ],
             [
              0.5555555555555556,
              "#d8576b"
             ],
             [
              0.6666666666666666,
              "#ed7953"
             ],
             [
              0.7777777777777778,
              "#fb9f3a"
             ],
             [
              0.8888888888888888,
              "#fdca26"
             ],
             [
              1,
              "#f0f921"
             ]
            ],
            "type": "heatmapgl"
           }
          ],
          "histogram": [
           {
            "marker": {
             "colorbar": {
              "outlinewidth": 0,
              "ticks": ""
             }
            },
            "type": "histogram"
           }
          ],
          "histogram2d": [
           {
            "colorbar": {
             "outlinewidth": 0,
             "ticks": ""
            },
            "colorscale": [
             [
              0,
              "#0d0887"
             ],
             [
              0.1111111111111111,
              "#46039f"
             ],
             [
              0.2222222222222222,
              "#7201a8"
             ],
             [
              0.3333333333333333,
              "#9c179e"
             ],
             [
              0.4444444444444444,
              "#bd3786"
             ],
             [
              0.5555555555555556,
              "#d8576b"
             ],
             [
              0.6666666666666666,
              "#ed7953"
             ],
             [
              0.7777777777777778,
              "#fb9f3a"
             ],
             [
              0.8888888888888888,
              "#fdca26"
             ],
             [
              1,
              "#f0f921"
             ]
            ],
            "type": "histogram2d"
           }
          ],
          "histogram2dcontour": [
           {
            "colorbar": {
             "outlinewidth": 0,
             "ticks": ""
            },
            "colorscale": [
             [
              0,
              "#0d0887"
             ],
             [
              0.1111111111111111,
              "#46039f"
             ],
             [
              0.2222222222222222,
              "#7201a8"
             ],
             [
              0.3333333333333333,
              "#9c179e"
             ],
             [
              0.4444444444444444,
              "#bd3786"
             ],
             [
              0.5555555555555556,
              "#d8576b"
             ],
             [
              0.6666666666666666,
              "#ed7953"
             ],
             [
              0.7777777777777778,
              "#fb9f3a"
             ],
             [
              0.8888888888888888,
              "#fdca26"
             ],
             [
              1,
              "#f0f921"
             ]
            ],
            "type": "histogram2dcontour"
           }
          ],
          "mesh3d": [
           {
            "colorbar": {
             "outlinewidth": 0,
             "ticks": ""
            },
            "type": "mesh3d"
           }
          ],
          "parcoords": [
           {
            "line": {
             "colorbar": {
              "outlinewidth": 0,
              "ticks": ""
             }
            },
            "type": "parcoords"
           }
          ],
          "pie": [
           {
            "automargin": true,
            "type": "pie"
           }
          ],
          "scatter": [
           {
            "marker": {
             "colorbar": {
              "outlinewidth": 0,
              "ticks": ""
             }
            },
            "type": "scatter"
           }
          ],
          "scatter3d": [
           {
            "line": {
             "colorbar": {
              "outlinewidth": 0,
              "ticks": ""
             }
            },
            "marker": {
             "colorbar": {
              "outlinewidth": 0,
              "ticks": ""
             }
            },
            "type": "scatter3d"
           }
          ],
          "scattercarpet": [
           {
            "marker": {
             "colorbar": {
              "outlinewidth": 0,
              "ticks": ""
             }
            },
            "type": "scattercarpet"
           }
          ],
          "scattergeo": [
           {
            "marker": {
             "colorbar": {
              "outlinewidth": 0,
              "ticks": ""
             }
            },
            "type": "scattergeo"
           }
          ],
          "scattergl": [
           {
            "marker": {
             "colorbar": {
              "outlinewidth": 0,
              "ticks": ""
             }
            },
            "type": "scattergl"
           }
          ],
          "scattermapbox": [
           {
            "marker": {
             "colorbar": {
              "outlinewidth": 0,
              "ticks": ""
             }
            },
            "type": "scattermapbox"
           }
          ],
          "scatterpolar": [
           {
            "marker": {
             "colorbar": {
              "outlinewidth": 0,
              "ticks": ""
             }
            },
            "type": "scatterpolar"
           }
          ],
          "scatterpolargl": [
           {
            "marker": {
             "colorbar": {
              "outlinewidth": 0,
              "ticks": ""
             }
            },
            "type": "scatterpolargl"
           }
          ],
          "scatterternary": [
           {
            "marker": {
             "colorbar": {
              "outlinewidth": 0,
              "ticks": ""
             }
            },
            "type": "scatterternary"
           }
          ],
          "surface": [
           {
            "colorbar": {
             "outlinewidth": 0,
             "ticks": ""
            },
            "colorscale": [
             [
              0,
              "#0d0887"
             ],
             [
              0.1111111111111111,
              "#46039f"
             ],
             [
              0.2222222222222222,
              "#7201a8"
             ],
             [
              0.3333333333333333,
              "#9c179e"
             ],
             [
              0.4444444444444444,
              "#bd3786"
             ],
             [
              0.5555555555555556,
              "#d8576b"
             ],
             [
              0.6666666666666666,
              "#ed7953"
             ],
             [
              0.7777777777777778,
              "#fb9f3a"
             ],
             [
              0.8888888888888888,
              "#fdca26"
             ],
             [
              1,
              "#f0f921"
             ]
            ],
            "type": "surface"
           }
          ],
          "table": [
           {
            "cells": {
             "fill": {
              "color": "#EBF0F8"
             },
             "line": {
              "color": "white"
             }
            },
            "header": {
             "fill": {
              "color": "#C8D4E3"
             },
             "line": {
              "color": "white"
             }
            },
            "type": "table"
           }
          ]
         },
         "layout": {
          "annotationdefaults": {
           "arrowcolor": "#2a3f5f",
           "arrowhead": 0,
           "arrowwidth": 1
          },
          "coloraxis": {
           "colorbar": {
            "outlinewidth": 0,
            "ticks": ""
           }
          },
          "colorscale": {
           "diverging": [
            [
             0,
             "#8e0152"
            ],
            [
             0.1,
             "#c51b7d"
            ],
            [
             0.2,
             "#de77ae"
            ],
            [
             0.3,
             "#f1b6da"
            ],
            [
             0.4,
             "#fde0ef"
            ],
            [
             0.5,
             "#f7f7f7"
            ],
            [
             0.6,
             "#e6f5d0"
            ],
            [
             0.7,
             "#b8e186"
            ],
            [
             0.8,
             "#7fbc41"
            ],
            [
             0.9,
             "#4d9221"
            ],
            [
             1,
             "#276419"
            ]
           ],
           "sequential": [
            [
             0,
             "#0d0887"
            ],
            [
             0.1111111111111111,
             "#46039f"
            ],
            [
             0.2222222222222222,
             "#7201a8"
            ],
            [
             0.3333333333333333,
             "#9c179e"
            ],
            [
             0.4444444444444444,
             "#bd3786"
            ],
            [
             0.5555555555555556,
             "#d8576b"
            ],
            [
             0.6666666666666666,
             "#ed7953"
            ],
            [
             0.7777777777777778,
             "#fb9f3a"
            ],
            [
             0.8888888888888888,
             "#fdca26"
            ],
            [
             1,
             "#f0f921"
            ]
           ],
           "sequentialminus": [
            [
             0,
             "#0d0887"
            ],
            [
             0.1111111111111111,
             "#46039f"
            ],
            [
             0.2222222222222222,
             "#7201a8"
            ],
            [
             0.3333333333333333,
             "#9c179e"
            ],
            [
             0.4444444444444444,
             "#bd3786"
            ],
            [
             0.5555555555555556,
             "#d8576b"
            ],
            [
             0.6666666666666666,
             "#ed7953"
            ],
            [
             0.7777777777777778,
             "#fb9f3a"
            ],
            [
             0.8888888888888888,
             "#fdca26"
            ],
            [
             1,
             "#f0f921"
            ]
           ]
          },
          "colorway": [
           "#636efa",
           "#EF553B",
           "#00cc96",
           "#ab63fa",
           "#FFA15A",
           "#19d3f3",
           "#FF6692",
           "#B6E880",
           "#FF97FF",
           "#FECB52"
          ],
          "font": {
           "color": "#2a3f5f"
          },
          "geo": {
           "bgcolor": "white",
           "lakecolor": "white",
           "landcolor": "#E5ECF6",
           "showlakes": true,
           "showland": true,
           "subunitcolor": "white"
          },
          "hoverlabel": {
           "align": "left"
          },
          "hovermode": "closest",
          "mapbox": {
           "style": "light"
          },
          "paper_bgcolor": "white",
          "plot_bgcolor": "#E5ECF6",
          "polar": {
           "angularaxis": {
            "gridcolor": "white",
            "linecolor": "white",
            "ticks": ""
           },
           "bgcolor": "#E5ECF6",
           "radialaxis": {
            "gridcolor": "white",
            "linecolor": "white",
            "ticks": ""
           }
          },
          "scene": {
           "xaxis": {
            "backgroundcolor": "#E5ECF6",
            "gridcolor": "white",
            "gridwidth": 2,
            "linecolor": "white",
            "showbackground": true,
            "ticks": "",
            "zerolinecolor": "white"
           },
           "yaxis": {
            "backgroundcolor": "#E5ECF6",
            "gridcolor": "white",
            "gridwidth": 2,
            "linecolor": "white",
            "showbackground": true,
            "ticks": "",
            "zerolinecolor": "white"
           },
           "zaxis": {
            "backgroundcolor": "#E5ECF6",
            "gridcolor": "white",
            "gridwidth": 2,
            "linecolor": "white",
            "showbackground": true,
            "ticks": "",
            "zerolinecolor": "white"
           }
          },
          "shapedefaults": {
           "line": {
            "color": "#2a3f5f"
           }
          },
          "ternary": {
           "aaxis": {
            "gridcolor": "white",
            "linecolor": "white",
            "ticks": ""
           },
           "baxis": {
            "gridcolor": "white",
            "linecolor": "white",
            "ticks": ""
           },
           "bgcolor": "#E5ECF6",
           "caxis": {
            "gridcolor": "white",
            "linecolor": "white",
            "ticks": ""
           }
          },
          "title": {
           "x": 0.05
          },
          "xaxis": {
           "automargin": true,
           "gridcolor": "white",
           "linecolor": "white",
           "ticks": "",
           "title": {
            "standoff": 15
           },
           "zerolinecolor": "white",
           "zerolinewidth": 2
          },
          "yaxis": {
           "automargin": true,
           "gridcolor": "white",
           "linecolor": "white",
           "ticks": "",
           "title": {
            "standoff": 15
           },
           "zerolinecolor": "white",
           "zerolinewidth": 2
          }
         }
        },
        "title": {
         "font": {
          "color": "#4D5663"
         },
         "x": 0.5
        },
        "xaxis": {
         "gridcolor": "#E1E5ED",
         "showgrid": true,
         "tickfont": {
          "color": "#4D5663"
         },
         "title": {
          "font": {
           "color": "#4D5663"
          },
          "text": ""
         },
         "zerolinecolor": "#E1E5ED"
        },
        "yaxis": {
         "gridcolor": "#E1E5ED",
         "showgrid": true,
         "tickfont": {
          "color": "#4D5663"
         },
         "title": {
          "font": {
           "color": "#4D5663"
          },
          "text": ""
         },
         "zerolinecolor": "#E1E5ED"
        }
       }
      },
      "text/html": "<div>\n        \n        \n            <div id=\"f17ba49b-eea0-42a1-82b7-306dd3883502\" class=\"plotly-graph-div\" style=\"height:525px; width:100%;\"></div>\n            <script type=\"text/javascript\">\n                require([\"plotly\"], function(Plotly) {\n                    window.PLOTLYENV=window.PLOTLYENV || {};\n                    window.PLOTLYENV.BASE_URL='https://plot.ly';\n                    \n                if (document.getElementById(\"f17ba49b-eea0-42a1-82b7-306dd3883502\")) {\n                    Plotly.newPlot(\n                        'f17ba49b-eea0-42a1-82b7-306dd3883502',\n                        [{\"fill\": \"tozeroy\", \"fillcolor\": \"rgba(0, 128, 0, 0.3)\", \"line\": {\"color\": \"rgba(0, 128, 0, 1.0)\", \"dash\": \"solid\", \"shape\": \"linear\", \"width\": 1.3}, \"mode\": \"lines\", \"name\": \"IBM\", \"text\": \"\", \"type\": \"scatter\", \"x\": [\"2015-01-01\", \"2015-01-02\", \"2015-01-03\", \"2015-01-04\", \"2015-01-05\", \"2015-01-06\", \"2015-01-07\", \"2015-01-08\", \"2015-01-09\", \"2015-01-10\", \"2015-01-11\", \"2015-01-12\", \"2015-01-13\", \"2015-01-14\", \"2015-01-15\", \"2015-01-16\", \"2015-01-17\", \"2015-01-18\", \"2015-01-19\", \"2015-01-20\", \"2015-01-21\", \"2015-01-22\", \"2015-01-23\", \"2015-01-24\", \"2015-01-25\", \"2015-01-26\", \"2015-01-27\", \"2015-01-28\", \"2015-01-29\", \"2015-01-30\", \"2015-01-31\", \"2015-02-01\", \"2015-02-02\", \"2015-02-03\", \"2015-02-04\", \"2015-02-05\", \"2015-02-06\", \"2015-02-07\", \"2015-02-08\", \"2015-02-09\", \"2015-02-10\", \"2015-02-11\", \"2015-02-12\", \"2015-02-13\", \"2015-02-14\", \"2015-02-15\", \"2015-02-16\", \"2015-02-17\", \"2015-02-18\", \"2015-02-19\", \"2015-02-20\", \"2015-02-21\", \"2015-02-22\", \"2015-02-23\", \"2015-02-24\", \"2015-02-25\", \"2015-02-26\", \"2015-02-27\", \"2015-02-28\", \"2015-03-01\", \"2015-03-02\", \"2015-03-03\", \"2015-03-04\", \"2015-03-05\", \"2015-03-06\", \"2015-03-07\", \"2015-03-08\", \"2015-03-09\", \"2015-03-10\", \"2015-03-11\", \"2015-03-12\", \"2015-03-13\", \"2015-03-14\", \"2015-03-15\", \"2015-03-16\", \"2015-03-17\", \"2015-03-18\", \"2015-03-19\", \"2015-03-20\", \"2015-03-21\", \"2015-03-22\", \"2015-03-23\", \"2015-03-24\", \"2015-03-25\", \"2015-03-26\", \"2015-03-27\", \"2015-03-28\", \"2015-03-29\", \"2015-03-30\", \"2015-03-31\", \"2015-04-01\", \"2015-04-02\", \"2015-04-03\", \"2015-04-04\", \"2015-04-05\", \"2015-04-06\", \"2015-04-07\", \"2015-04-08\", \"2015-04-09\", \"2015-04-10\"], \"y\": [1.204634807161707, 0.9145006657511832, 1.218380555193714, 1.6040010922114574, 1.8507033314358179, 4.066880405623611, 3.9518239112895603, 3.343657322630591, 2.6993826172728155, 1.7937813998056815, 3.3904206501079903, 3.345034922314204, 2.8517905735877718, 2.8932554343515426, 2.6287434615650396, 3.679479655990322, 4.944291988023277, 2.9551589923384833, 1.970315548397061, 4.133925997771108, 3.573572250821949, 2.2801057441736505, 2.796887744081139, 3.932794382724473, 4.684296090776566, 2.8116890200753795, 4.384379914695954, 4.971081521334814, 4.186258478209225, 3.761632047985512, 2.3170347129796856, 2.1401733562384115, 3.196995662718602, 3.5409634047460994, 2.821265452008573, 2.723780481480727, 4.4033201312379155, 4.7153130149928, 4.997103372287718, 3.9065268548223937, 3.9687873891992123, 3.4634482916119396, 4.375837100021135, 4.818047771512238, 4.1993376531312485, 4.645450687143723, 3.599444565065083, 4.643770490966302, 5.750552089295493, 7.627080128570817, 7.862509075905664, 7.567351742017961, 6.617686040286462, 7.0447515896015735, 5.6656921950987265, 5.5417453482215295, 5.300541310566457, 6.197160360699273, 6.973910554277696, 6.614186238837551, 5.70209439422732, 5.787684024812829, 4.967521027775211, 3.016285683828192, 2.993551445823966, 1.458684884800412, 1.9699409510984167, 3.9649806008166273, 2.179191362941848, 1.2441913085533476, -0.12680808196925897, -1.2212833718971874, -0.012870929969344802, -0.8054526521075539, 0.2854382558167422, 2.1718688636009036, 1.619714167525475, 1.5986208166867795, 1.043527737653303, 0.5643284317133457, 0.7087707869791047, -0.32026411470649707, -2.423211570673105, -3.299175701949043, -3.050376069362347, -4.116508254409561, -4.621563417035203, -4.049924836831571, -3.4946903347242353, -3.077705559917039, -3.098470907212177, -1.6145923365328922, -1.1547366322244565, -2.1873182602382837, -1.887737928204876, -0.6839643367947077, -0.31528962727014875, -1.0087476245153408, -2.5148423931404507, -1.5810877447705447]}],\n                        {\"legend\": {\"bgcolor\": \"#F5F6F9\", \"font\": {\"color\": \"#4D5663\"}}, \"paper_bgcolor\": \"#F5F6F9\", \"plot_bgcolor\": \"#F5F6F9\", \"template\": {\"data\": {\"bar\": [{\"error_x\": {\"color\": \"#2a3f5f\"}, \"error_y\": {\"color\": \"#2a3f5f\"}, \"marker\": {\"line\": {\"color\": \"#E5ECF6\", \"width\": 0.5}}, \"type\": \"bar\"}], \"barpolar\": [{\"marker\": {\"line\": {\"color\": \"#E5ECF6\", \"width\": 0.5}}, \"type\": \"barpolar\"}], \"carpet\": [{\"aaxis\": {\"endlinecolor\": \"#2a3f5f\", \"gridcolor\": \"white\", \"linecolor\": \"white\", \"minorgridcolor\": \"white\", \"startlinecolor\": \"#2a3f5f\"}, \"baxis\": {\"endlinecolor\": \"#2a3f5f\", \"gridcolor\": \"white\", \"linecolor\": \"white\", \"minorgridcolor\": \"white\", \"startlinecolor\": \"#2a3f5f\"}, \"type\": \"carpet\"}], \"choropleth\": [{\"colorbar\": {\"outlinewidth\": 0, \"ticks\": \"\"}, \"type\": \"choropleth\"}], \"contour\": [{\"colorbar\": {\"outlinewidth\": 0, \"ticks\": \"\"}, \"colorscale\": [[0.0, \"#0d0887\"], [0.1111111111111111, \"#46039f\"], [0.2222222222222222, \"#7201a8\"], [0.3333333333333333, \"#9c179e\"], [0.4444444444444444, \"#bd3786\"], [0.5555555555555556, \"#d8576b\"], [0.6666666666666666, \"#ed7953\"], [0.7777777777777778, \"#fb9f3a\"], [0.8888888888888888, \"#fdca26\"], [1.0, \"#f0f921\"]], \"type\": \"contour\"}], \"contourcarpet\": [{\"colorbar\": {\"outlinewidth\": 0, \"ticks\": \"\"}, \"type\": \"contourcarpet\"}], \"heatmap\": [{\"colorbar\": {\"outlinewidth\": 0, \"ticks\": \"\"}, \"colorscale\": [[0.0, \"#0d0887\"], [0.1111111111111111, \"#46039f\"], [0.2222222222222222, \"#7201a8\"], [0.3333333333333333, \"#9c179e\"], [0.4444444444444444, \"#bd3786\"], [0.5555555555555556, \"#d8576b\"], [0.6666666666666666, \"#ed7953\"], [0.7777777777777778, \"#fb9f3a\"], [0.8888888888888888, \"#fdca26\"], [1.0, \"#f0f921\"]], \"type\": \"heatmap\"}], \"heatmapgl\": [{\"colorbar\": {\"outlinewidth\": 0, \"ticks\": \"\"}, \"colorscale\": [[0.0, \"#0d0887\"], [0.1111111111111111, \"#46039f\"], [0.2222222222222222, \"#7201a8\"], [0.3333333333333333, \"#9c179e\"], [0.4444444444444444, \"#bd3786\"], [0.5555555555555556, \"#d8576b\"], [0.6666666666666666, \"#ed7953\"], [0.7777777777777778, \"#fb9f3a\"], [0.8888888888888888, \"#fdca26\"], [1.0, \"#f0f921\"]], \"type\": \"heatmapgl\"}], \"histogram\": [{\"marker\": {\"colorbar\": {\"outlinewidth\": 0, \"ticks\": \"\"}}, \"type\": \"histogram\"}], \"histogram2d\": [{\"colorbar\": {\"outlinewidth\": 0, \"ticks\": \"\"}, \"colorscale\": [[0.0, \"#0d0887\"], [0.1111111111111111, \"#46039f\"], [0.2222222222222222, \"#7201a8\"], [0.3333333333333333, \"#9c179e\"], [0.4444444444444444, \"#bd3786\"], [0.5555555555555556, \"#d8576b\"], [0.6666666666666666, \"#ed7953\"], [0.7777777777777778, \"#fb9f3a\"], [0.8888888888888888, \"#fdca26\"], [1.0, \"#f0f921\"]], \"type\": \"histogram2d\"}], \"histogram2dcontour\": [{\"colorbar\": {\"outlinewidth\": 0, \"ticks\": \"\"}, \"colorscale\": [[0.0, \"#0d0887\"], [0.1111111111111111, \"#46039f\"], [0.2222222222222222, \"#7201a8\"], [0.3333333333333333, \"#9c179e\"], [0.4444444444444444, \"#bd3786\"], [0.5555555555555556, \"#d8576b\"], [0.6666666666666666, \"#ed7953\"], [0.7777777777777778, \"#fb9f3a\"], [0.8888888888888888, \"#fdca26\"], [1.0, \"#f0f921\"]], \"type\": \"histogram2dcontour\"}], \"mesh3d\": [{\"colorbar\": {\"outlinewidth\": 0, \"ticks\": \"\"}, \"type\": \"mesh3d\"}], \"parcoords\": [{\"line\": {\"colorbar\": {\"outlinewidth\": 0, \"ticks\": \"\"}}, \"type\": \"parcoords\"}], \"pie\": [{\"automargin\": true, \"type\": \"pie\"}], \"scatter\": [{\"marker\": {\"colorbar\": {\"outlinewidth\": 0, \"ticks\": \"\"}}, \"type\": \"scatter\"}], \"scatter3d\": [{\"line\": {\"colorbar\": {\"outlinewidth\": 0, \"ticks\": \"\"}}, \"marker\": {\"colorbar\": {\"outlinewidth\": 0, \"ticks\": \"\"}}, \"type\": \"scatter3d\"}], \"scattercarpet\": [{\"marker\": {\"colorbar\": {\"outlinewidth\": 0, \"ticks\": \"\"}}, \"type\": \"scattercarpet\"}], \"scattergeo\": [{\"marker\": {\"colorbar\": {\"outlinewidth\": 0, \"ticks\": \"\"}}, \"type\": \"scattergeo\"}], \"scattergl\": [{\"marker\": {\"colorbar\": {\"outlinewidth\": 0, \"ticks\": \"\"}}, \"type\": \"scattergl\"}], \"scattermapbox\": [{\"marker\": {\"colorbar\": {\"outlinewidth\": 0, \"ticks\": \"\"}}, \"type\": \"scattermapbox\"}], \"scatterpolar\": [{\"marker\": {\"colorbar\": {\"outlinewidth\": 0, \"ticks\": \"\"}}, \"type\": \"scatterpolar\"}], \"scatterpolargl\": [{\"marker\": {\"colorbar\": {\"outlinewidth\": 0, \"ticks\": \"\"}}, \"type\": \"scatterpolargl\"}], \"scatterternary\": [{\"marker\": {\"colorbar\": {\"outlinewidth\": 0, \"ticks\": \"\"}}, \"type\": \"scatterternary\"}], \"surface\": [{\"colorbar\": {\"outlinewidth\": 0, \"ticks\": \"\"}, \"colorscale\": [[0.0, \"#0d0887\"], [0.1111111111111111, \"#46039f\"], [0.2222222222222222, \"#7201a8\"], [0.3333333333333333, \"#9c179e\"], [0.4444444444444444, \"#bd3786\"], [0.5555555555555556, \"#d8576b\"], [0.6666666666666666, \"#ed7953\"], [0.7777777777777778, \"#fb9f3a\"], [0.8888888888888888, \"#fdca26\"], [1.0, \"#f0f921\"]], \"type\": \"surface\"}], \"table\": [{\"cells\": {\"fill\": {\"color\": \"#EBF0F8\"}, \"line\": {\"color\": \"white\"}}, \"header\": {\"fill\": {\"color\": \"#C8D4E3\"}, \"line\": {\"color\": \"white\"}}, \"type\": \"table\"}]}, \"layout\": {\"annotationdefaults\": {\"arrowcolor\": \"#2a3f5f\", \"arrowhead\": 0, \"arrowwidth\": 1}, \"coloraxis\": {\"colorbar\": {\"outlinewidth\": 0, \"ticks\": \"\"}}, \"colorscale\": {\"diverging\": [[0, \"#8e0152\"], [0.1, \"#c51b7d\"], [0.2, \"#de77ae\"], [0.3, \"#f1b6da\"], [0.4, \"#fde0ef\"], [0.5, \"#f7f7f7\"], [0.6, \"#e6f5d0\"], [0.7, \"#b8e186\"], [0.8, \"#7fbc41\"], [0.9, \"#4d9221\"], [1, \"#276419\"]], \"sequential\": [[0.0, \"#0d0887\"], [0.1111111111111111, \"#46039f\"], [0.2222222222222222, \"#7201a8\"], [0.3333333333333333, \"#9c179e\"], [0.4444444444444444, \"#bd3786\"], [0.5555555555555556, \"#d8576b\"], [0.6666666666666666, \"#ed7953\"], [0.7777777777777778, \"#fb9f3a\"], [0.8888888888888888, \"#fdca26\"], [1.0, \"#f0f921\"]], \"sequentialminus\": [[0.0, \"#0d0887\"], [0.1111111111111111, \"#46039f\"], [0.2222222222222222, \"#7201a8\"], [0.3333333333333333, \"#9c179e\"], [0.4444444444444444, \"#bd3786\"], [0.5555555555555556, \"#d8576b\"], [0.6666666666666666, \"#ed7953\"], [0.7777777777777778, \"#fb9f3a\"], [0.8888888888888888, \"#fdca26\"], [1.0, \"#f0f921\"]]}, \"colorway\": [\"#636efa\", \"#EF553B\", \"#00cc96\", \"#ab63fa\", \"#FFA15A\", \"#19d3f3\", \"#FF6692\", \"#B6E880\", \"#FF97FF\", \"#FECB52\"], \"font\": {\"color\": \"#2a3f5f\"}, \"geo\": {\"bgcolor\": \"white\", \"lakecolor\": \"white\", \"landcolor\": \"#E5ECF6\", \"showlakes\": true, \"showland\": true, \"subunitcolor\": \"white\"}, \"hoverlabel\": {\"align\": \"left\"}, \"hovermode\": \"closest\", \"mapbox\": {\"style\": \"light\"}, \"paper_bgcolor\": \"white\", \"plot_bgcolor\": \"#E5ECF6\", \"polar\": {\"angularaxis\": {\"gridcolor\": \"white\", \"linecolor\": \"white\", \"ticks\": \"\"}, \"bgcolor\": \"#E5ECF6\", \"radialaxis\": {\"gridcolor\": \"white\", \"linecolor\": \"white\", \"ticks\": \"\"}}, \"scene\": {\"xaxis\": {\"backgroundcolor\": \"#E5ECF6\", \"gridcolor\": \"white\", \"gridwidth\": 2, \"linecolor\": \"white\", \"showbackground\": true, \"ticks\": \"\", \"zerolinecolor\": \"white\"}, \"yaxis\": {\"backgroundcolor\": \"#E5ECF6\", \"gridcolor\": \"white\", \"gridwidth\": 2, \"linecolor\": \"white\", \"showbackground\": true, \"ticks\": \"\", \"zerolinecolor\": \"white\"}, \"zaxis\": {\"backgroundcolor\": \"#E5ECF6\", \"gridcolor\": \"white\", \"gridwidth\": 2, \"linecolor\": \"white\", \"showbackground\": true, \"ticks\": \"\", \"zerolinecolor\": \"white\"}}, \"shapedefaults\": {\"line\": {\"color\": \"#2a3f5f\"}}, \"ternary\": {\"aaxis\": {\"gridcolor\": \"white\", \"linecolor\": \"white\", \"ticks\": \"\"}, \"baxis\": {\"gridcolor\": \"white\", \"linecolor\": \"white\", \"ticks\": \"\"}, \"bgcolor\": \"#E5ECF6\", \"caxis\": {\"gridcolor\": \"white\", \"linecolor\": \"white\", \"ticks\": \"\"}}, \"title\": {\"x\": 0.05}, \"xaxis\": {\"automargin\": true, \"gridcolor\": \"white\", \"linecolor\": \"white\", \"ticks\": \"\", \"title\": {\"standoff\": 15}, \"zerolinecolor\": \"white\", \"zerolinewidth\": 2}, \"yaxis\": {\"automargin\": true, \"gridcolor\": \"white\", \"linecolor\": \"white\", \"ticks\": \"\", \"title\": {\"standoff\": 15}, \"zerolinecolor\": \"white\", \"zerolinewidth\": 2}}}, \"title\": {\"font\": {\"color\": \"#4D5663\"}, \"x\": 0.5}, \"xaxis\": {\"gridcolor\": \"#E1E5ED\", \"showgrid\": true, \"tickfont\": {\"color\": \"#4D5663\"}, \"title\": {\"font\": {\"color\": \"#4D5663\"}, \"text\": \"\"}, \"zerolinecolor\": \"#E1E5ED\"}, \"yaxis\": {\"gridcolor\": \"#E1E5ED\", \"showgrid\": true, \"tickfont\": {\"color\": \"#4D5663\"}, \"title\": {\"font\": {\"color\": \"#4D5663\"}, \"text\": \"\"}, \"zerolinecolor\": \"#E1E5ED\"}},\n                        {\"showLink\": true, \"linkText\": \"Export to plot.ly\", \"plotlyServerURL\": \"https://plot.ly\", \"responsive\": true}\n                    ).then(function(){\n                            \nvar gd = document.getElementById('f17ba49b-eea0-42a1-82b7-306dd3883502');\nvar x = new MutationObserver(function (mutations, observer) {{\n        var display = window.getComputedStyle(gd).display;\n        if (!display || display === 'none') {{\n            console.log([gd, 'removed!']);\n            Plotly.purge(gd);\n            observer.disconnect();\n        }}\n}});\n\n// Listen for the removal of the full notebook cells\nvar notebookContainer = gd.closest('#notebook-container');\nif (notebookContainer) {{\n    x.observe(notebookContainer, {childList: true});\n}}\n\n// Listen for the clearing of the current output cell\nvar outputEl = gd.closest('.output');\nif (outputEl) {{\n    x.observe(outputEl, {childList: true});\n}}\n\n                        })\n                };\n                });\n            </script>\n        </div>"
     },
     "metadata": {}
    }
   ],
   "source": [
    "df['IBM'].iplot(filename='Tutorial Microsoft',fill=True,colors=['green'])"
   ]
  },
  {
   "cell_type": "markdown",
   "metadata": {},
   "source": [
    "### Bar Charts\n",
    "\n",
    "We can easily create a bar chart with the parameter **kind**"
   ]
  },
  {
   "cell_type": "code",
   "execution_count": 11,
   "metadata": {},
   "outputs": [
    {
     "output_type": "display_data",
     "data": {
      "application/vnd.plotly.v1+json": {
       "config": {
        "linkText": "Export to plot.ly",
        "plotlyServerURL": "https://plot.ly",
        "showLink": true
       },
       "data": [
        {
         "marker": {
          "color": "rgba(255, 153, 51, 0.6)",
          "line": {
           "color": "rgba(255, 153, 51, 1.0)",
           "width": 1
          }
         },
         "name": "None",
         "orientation": "v",
         "text": "",
         "type": "bar",
         "x": [
          "IBM",
          "MSFT",
          "GOOG",
          "VERZ",
          "APPL"
         ],
         "y": [
          234.67239965144265,
          350.51267456662214,
          -21.712639896385244,
          330.6800556281854,
          -48.72761591990668
         ]
        }
       ],
       "layout": {
        "legend": {
         "bgcolor": "#F5F6F9",
         "font": {
          "color": "#4D5663"
         }
        },
        "paper_bgcolor": "#F5F6F9",
        "plot_bgcolor": "#F5F6F9",
        "template": {
         "data": {
          "bar": [
           {
            "error_x": {
             "color": "#2a3f5f"
            },
            "error_y": {
             "color": "#2a3f5f"
            },
            "marker": {
             "line": {
              "color": "#E5ECF6",
              "width": 0.5
             }
            },
            "type": "bar"
           }
          ],
          "barpolar": [
           {
            "marker": {
             "line": {
              "color": "#E5ECF6",
              "width": 0.5
             }
            },
            "type": "barpolar"
           }
          ],
          "carpet": [
           {
            "aaxis": {
             "endlinecolor": "#2a3f5f",
             "gridcolor": "white",
             "linecolor": "white",
             "minorgridcolor": "white",
             "startlinecolor": "#2a3f5f"
            },
            "baxis": {
             "endlinecolor": "#2a3f5f",
             "gridcolor": "white",
             "linecolor": "white",
             "minorgridcolor": "white",
             "startlinecolor": "#2a3f5f"
            },
            "type": "carpet"
           }
          ],
          "choropleth": [
           {
            "colorbar": {
             "outlinewidth": 0,
             "ticks": ""
            },
            "type": "choropleth"
           }
          ],
          "contour": [
           {
            "colorbar": {
             "outlinewidth": 0,
             "ticks": ""
            },
            "colorscale": [
             [
              0,
              "#0d0887"
             ],
             [
              0.1111111111111111,
              "#46039f"
             ],
             [
              0.2222222222222222,
              "#7201a8"
             ],
             [
              0.3333333333333333,
              "#9c179e"
             ],
             [
              0.4444444444444444,
              "#bd3786"
             ],
             [
              0.5555555555555556,
              "#d8576b"
             ],
             [
              0.6666666666666666,
              "#ed7953"
             ],
             [
              0.7777777777777778,
              "#fb9f3a"
             ],
             [
              0.8888888888888888,
              "#fdca26"
             ],
             [
              1,
              "#f0f921"
             ]
            ],
            "type": "contour"
           }
          ],
          "contourcarpet": [
           {
            "colorbar": {
             "outlinewidth": 0,
             "ticks": ""
            },
            "type": "contourcarpet"
           }
          ],
          "heatmap": [
           {
            "colorbar": {
             "outlinewidth": 0,
             "ticks": ""
            },
            "colorscale": [
             [
              0,
              "#0d0887"
             ],
             [
              0.1111111111111111,
              "#46039f"
             ],
             [
              0.2222222222222222,
              "#7201a8"
             ],
             [
              0.3333333333333333,
              "#9c179e"
             ],
             [
              0.4444444444444444,
              "#bd3786"
             ],
             [
              0.5555555555555556,
              "#d8576b"
             ],
             [
              0.6666666666666666,
              "#ed7953"
             ],
             [
              0.7777777777777778,
              "#fb9f3a"
             ],
             [
              0.8888888888888888,
              "#fdca26"
             ],
             [
              1,
              "#f0f921"
             ]
            ],
            "type": "heatmap"
           }
          ],
          "heatmapgl": [
           {
            "colorbar": {
             "outlinewidth": 0,
             "ticks": ""
            },
            "colorscale": [
             [
              0,
              "#0d0887"
             ],
             [
              0.1111111111111111,
              "#46039f"
             ],
             [
              0.2222222222222222,
              "#7201a8"
             ],
             [
              0.3333333333333333,
              "#9c179e"
             ],
             [
              0.4444444444444444,
              "#bd3786"
             ],
             [
              0.5555555555555556,
              "#d8576b"
             ],
             [
              0.6666666666666666,
              "#ed7953"
             ],
             [
              0.7777777777777778,
              "#fb9f3a"
             ],
             [
              0.8888888888888888,
              "#fdca26"
             ],
             [
              1,
              "#f0f921"
             ]
            ],
            "type": "heatmapgl"
           }
          ],
          "histogram": [
           {
            "marker": {
             "colorbar": {
              "outlinewidth": 0,
              "ticks": ""
             }
            },
            "type": "histogram"
           }
          ],
          "histogram2d": [
           {
            "colorbar": {
             "outlinewidth": 0,
             "ticks": ""
            },
            "colorscale": [
             [
              0,
              "#0d0887"
             ],
             [
              0.1111111111111111,
              "#46039f"
             ],
             [
              0.2222222222222222,
              "#7201a8"
             ],
             [
              0.3333333333333333,
              "#9c179e"
             ],
             [
              0.4444444444444444,
              "#bd3786"
             ],
             [
              0.5555555555555556,
              "#d8576b"
             ],
             [
              0.6666666666666666,
              "#ed7953"
             ],
             [
              0.7777777777777778,
              "#fb9f3a"
             ],
             [
              0.8888888888888888,
              "#fdca26"
             ],
             [
              1,
              "#f0f921"
             ]
            ],
            "type": "histogram2d"
           }
          ],
          "histogram2dcontour": [
           {
            "colorbar": {
             "outlinewidth": 0,
             "ticks": ""
            },
            "colorscale": [
             [
              0,
              "#0d0887"
             ],
             [
              0.1111111111111111,
              "#46039f"
             ],
             [
              0.2222222222222222,
              "#7201a8"
             ],
             [
              0.3333333333333333,
              "#9c179e"
             ],
             [
              0.4444444444444444,
              "#bd3786"
             ],
             [
              0.5555555555555556,
              "#d8576b"
             ],
             [
              0.6666666666666666,
              "#ed7953"
             ],
             [
              0.7777777777777778,
              "#fb9f3a"
             ],
             [
              0.8888888888888888,
              "#fdca26"
             ],
             [
              1,
              "#f0f921"
             ]
            ],
            "type": "histogram2dcontour"
           }
          ],
          "mesh3d": [
           {
            "colorbar": {
             "outlinewidth": 0,
             "ticks": ""
            },
            "type": "mesh3d"
           }
          ],
          "parcoords": [
           {
            "line": {
             "colorbar": {
              "outlinewidth": 0,
              "ticks": ""
             }
            },
            "type": "parcoords"
           }
          ],
          "pie": [
           {
            "automargin": true,
            "type": "pie"
           }
          ],
          "scatter": [
           {
            "marker": {
             "colorbar": {
              "outlinewidth": 0,
              "ticks": ""
             }
            },
            "type": "scatter"
           }
          ],
          "scatter3d": [
           {
            "line": {
             "colorbar": {
              "outlinewidth": 0,
              "ticks": ""
             }
            },
            "marker": {
             "colorbar": {
              "outlinewidth": 0,
              "ticks": ""
             }
            },
            "type": "scatter3d"
           }
          ],
          "scattercarpet": [
           {
            "marker": {
             "colorbar": {
              "outlinewidth": 0,
              "ticks": ""
             }
            },
            "type": "scattercarpet"
           }
          ],
          "scattergeo": [
           {
            "marker": {
             "colorbar": {
              "outlinewidth": 0,
              "ticks": ""
             }
            },
            "type": "scattergeo"
           }
          ],
          "scattergl": [
           {
            "marker": {
             "colorbar": {
              "outlinewidth": 0,
              "ticks": ""
             }
            },
            "type": "scattergl"
           }
          ],
          "scattermapbox": [
           {
            "marker": {
             "colorbar": {
              "outlinewidth": 0,
              "ticks": ""
             }
            },
            "type": "scattermapbox"
           }
          ],
          "scatterpolar": [
           {
            "marker": {
             "colorbar": {
              "outlinewidth": 0,
              "ticks": ""
             }
            },
            "type": "scatterpolar"
           }
          ],
          "scatterpolargl": [
           {
            "marker": {
             "colorbar": {
              "outlinewidth": 0,
              "ticks": ""
             }
            },
            "type": "scatterpolargl"
           }
          ],
          "scatterternary": [
           {
            "marker": {
             "colorbar": {
              "outlinewidth": 0,
              "ticks": ""
             }
            },
            "type": "scatterternary"
           }
          ],
          "surface": [
           {
            "colorbar": {
             "outlinewidth": 0,
             "ticks": ""
            },
            "colorscale": [
             [
              0,
              "#0d0887"
             ],
             [
              0.1111111111111111,
              "#46039f"
             ],
             [
              0.2222222222222222,
              "#7201a8"
             ],
             [
              0.3333333333333333,
              "#9c179e"
             ],
             [
              0.4444444444444444,
              "#bd3786"
             ],
             [
              0.5555555555555556,
              "#d8576b"
             ],
             [
              0.6666666666666666,
              "#ed7953"
             ],
             [
              0.7777777777777778,
              "#fb9f3a"
             ],
             [
              0.8888888888888888,
              "#fdca26"
             ],
             [
              1,
              "#f0f921"
             ]
            ],
            "type": "surface"
           }
          ],
          "table": [
           {
            "cells": {
             "fill": {
              "color": "#EBF0F8"
             },
             "line": {
              "color": "white"
             }
            },
            "header": {
             "fill": {
              "color": "#C8D4E3"
             },
             "line": {
              "color": "white"
             }
            },
            "type": "table"
           }
          ]
         },
         "layout": {
          "annotationdefaults": {
           "arrowcolor": "#2a3f5f",
           "arrowhead": 0,
           "arrowwidth": 1
          },
          "coloraxis": {
           "colorbar": {
            "outlinewidth": 0,
            "ticks": ""
           }
          },
          "colorscale": {
           "diverging": [
            [
             0,
             "#8e0152"
            ],
            [
             0.1,
             "#c51b7d"
            ],
            [
             0.2,
             "#de77ae"
            ],
            [
             0.3,
             "#f1b6da"
            ],
            [
             0.4,
             "#fde0ef"
            ],
            [
             0.5,
             "#f7f7f7"
            ],
            [
             0.6,
             "#e6f5d0"
            ],
            [
             0.7,
             "#b8e186"
            ],
            [
             0.8,
             "#7fbc41"
            ],
            [
             0.9,
             "#4d9221"
            ],
            [
             1,
             "#276419"
            ]
           ],
           "sequential": [
            [
             0,
             "#0d0887"
            ],
            [
             0.1111111111111111,
             "#46039f"
            ],
            [
             0.2222222222222222,
             "#7201a8"
            ],
            [
             0.3333333333333333,
             "#9c179e"
            ],
            [
             0.4444444444444444,
             "#bd3786"
            ],
            [
             0.5555555555555556,
             "#d8576b"
            ],
            [
             0.6666666666666666,
             "#ed7953"
            ],
            [
             0.7777777777777778,
             "#fb9f3a"
            ],
            [
             0.8888888888888888,
             "#fdca26"
            ],
            [
             1,
             "#f0f921"
            ]
           ],
           "sequentialminus": [
            [
             0,
             "#0d0887"
            ],
            [
             0.1111111111111111,
             "#46039f"
            ],
            [
             0.2222222222222222,
             "#7201a8"
            ],
            [
             0.3333333333333333,
             "#9c179e"
            ],
            [
             0.4444444444444444,
             "#bd3786"
            ],
            [
             0.5555555555555556,
             "#d8576b"
            ],
            [
             0.6666666666666666,
             "#ed7953"
            ],
            [
             0.7777777777777778,
             "#fb9f3a"
            ],
            [
             0.8888888888888888,
             "#fdca26"
            ],
            [
             1,
             "#f0f921"
            ]
           ]
          },
          "colorway": [
           "#636efa",
           "#EF553B",
           "#00cc96",
           "#ab63fa",
           "#FFA15A",
           "#19d3f3",
           "#FF6692",
           "#B6E880",
           "#FF97FF",
           "#FECB52"
          ],
          "font": {
           "color": "#2a3f5f"
          },
          "geo": {
           "bgcolor": "white",
           "lakecolor": "white",
           "landcolor": "#E5ECF6",
           "showlakes": true,
           "showland": true,
           "subunitcolor": "white"
          },
          "hoverlabel": {
           "align": "left"
          },
          "hovermode": "closest",
          "mapbox": {
           "style": "light"
          },
          "paper_bgcolor": "white",
          "plot_bgcolor": "#E5ECF6",
          "polar": {
           "angularaxis": {
            "gridcolor": "white",
            "linecolor": "white",
            "ticks": ""
           },
           "bgcolor": "#E5ECF6",
           "radialaxis": {
            "gridcolor": "white",
            "linecolor": "white",
            "ticks": ""
           }
          },
          "scene": {
           "xaxis": {
            "backgroundcolor": "#E5ECF6",
            "gridcolor": "white",
            "gridwidth": 2,
            "linecolor": "white",
            "showbackground": true,
            "ticks": "",
            "zerolinecolor": "white"
           },
           "yaxis": {
            "backgroundcolor": "#E5ECF6",
            "gridcolor": "white",
            "gridwidth": 2,
            "linecolor": "white",
            "showbackground": true,
            "ticks": "",
            "zerolinecolor": "white"
           },
           "zaxis": {
            "backgroundcolor": "#E5ECF6",
            "gridcolor": "white",
            "gridwidth": 2,
            "linecolor": "white",
            "showbackground": true,
            "ticks": "",
            "zerolinecolor": "white"
           }
          },
          "shapedefaults": {
           "line": {
            "color": "#2a3f5f"
           }
          },
          "ternary": {
           "aaxis": {
            "gridcolor": "white",
            "linecolor": "white",
            "ticks": ""
           },
           "baxis": {
            "gridcolor": "white",
            "linecolor": "white",
            "ticks": ""
           },
           "bgcolor": "#E5ECF6",
           "caxis": {
            "gridcolor": "white",
            "linecolor": "white",
            "ticks": ""
           }
          },
          "title": {
           "x": 0.05
          },
          "xaxis": {
           "automargin": true,
           "gridcolor": "white",
           "linecolor": "white",
           "ticks": "",
           "title": {
            "standoff": 15
           },
           "zerolinecolor": "white",
           "zerolinewidth": 2
          },
          "yaxis": {
           "automargin": true,
           "gridcolor": "white",
           "linecolor": "white",
           "ticks": "",
           "title": {
            "standoff": 15
           },
           "zerolinecolor": "white",
           "zerolinewidth": 2
          }
         }
        },
        "title": {
         "font": {
          "color": "#4D5663"
         },
         "x": 0.5
        },
        "xaxis": {
         "gridcolor": "#E1E5ED",
         "showgrid": true,
         "tickfont": {
          "color": "#4D5663"
         },
         "title": {
          "font": {
           "color": "#4D5663"
          },
          "text": ""
         },
         "zerolinecolor": "#E1E5ED"
        },
        "yaxis": {
         "gridcolor": "#E1E5ED",
         "showgrid": true,
         "tickfont": {
          "color": "#4D5663"
         },
         "title": {
          "font": {
           "color": "#4D5663"
          },
          "text": ""
         },
         "zerolinecolor": "#E1E5ED"
        }
       }
      },
      "text/html": "<div>\n        \n        \n            <div id=\"20c54226-f56e-4332-93f5-fcf1fc8ed480\" class=\"plotly-graph-div\" style=\"height:525px; width:100%;\"></div>\n            <script type=\"text/javascript\">\n                require([\"plotly\"], function(Plotly) {\n                    window.PLOTLYENV=window.PLOTLYENV || {};\n                    window.PLOTLYENV.BASE_URL='https://plot.ly';\n                    \n                if (document.getElementById(\"20c54226-f56e-4332-93f5-fcf1fc8ed480\")) {\n                    Plotly.newPlot(\n                        '20c54226-f56e-4332-93f5-fcf1fc8ed480',\n                        [{\"marker\": {\"color\": \"rgba(255, 153, 51, 0.6)\", \"line\": {\"color\": \"rgba(255, 153, 51, 1.0)\", \"width\": 1}}, \"name\": \"None\", \"orientation\": \"v\", \"text\": \"\", \"type\": \"bar\", \"x\": [\"IBM\", \"MSFT\", \"GOOG\", \"VERZ\", \"APPL\"], \"y\": [234.67239965144265, 350.51267456662214, -21.712639896385244, 330.6800556281854, -48.72761591990668]}],\n                        {\"legend\": {\"bgcolor\": \"#F5F6F9\", \"font\": {\"color\": \"#4D5663\"}}, \"paper_bgcolor\": \"#F5F6F9\", \"plot_bgcolor\": \"#F5F6F9\", \"template\": {\"data\": {\"bar\": [{\"error_x\": {\"color\": \"#2a3f5f\"}, \"error_y\": {\"color\": \"#2a3f5f\"}, \"marker\": {\"line\": {\"color\": \"#E5ECF6\", \"width\": 0.5}}, \"type\": \"bar\"}], \"barpolar\": [{\"marker\": {\"line\": {\"color\": \"#E5ECF6\", \"width\": 0.5}}, \"type\": \"barpolar\"}], \"carpet\": [{\"aaxis\": {\"endlinecolor\": \"#2a3f5f\", \"gridcolor\": \"white\", \"linecolor\": \"white\", \"minorgridcolor\": \"white\", \"startlinecolor\": \"#2a3f5f\"}, \"baxis\": {\"endlinecolor\": \"#2a3f5f\", \"gridcolor\": \"white\", \"linecolor\": \"white\", \"minorgridcolor\": \"white\", \"startlinecolor\": \"#2a3f5f\"}, \"type\": \"carpet\"}], \"choropleth\": [{\"colorbar\": {\"outlinewidth\": 0, \"ticks\": \"\"}, \"type\": \"choropleth\"}], \"contour\": [{\"colorbar\": {\"outlinewidth\": 0, \"ticks\": \"\"}, \"colorscale\": [[0.0, \"#0d0887\"], [0.1111111111111111, \"#46039f\"], [0.2222222222222222, \"#7201a8\"], [0.3333333333333333, \"#9c179e\"], [0.4444444444444444, \"#bd3786\"], [0.5555555555555556, \"#d8576b\"], [0.6666666666666666, \"#ed7953\"], [0.7777777777777778, \"#fb9f3a\"], [0.8888888888888888, \"#fdca26\"], [1.0, \"#f0f921\"]], \"type\": \"contour\"}], \"contourcarpet\": [{\"colorbar\": {\"outlinewidth\": 0, \"ticks\": \"\"}, \"type\": \"contourcarpet\"}], \"heatmap\": [{\"colorbar\": {\"outlinewidth\": 0, \"ticks\": \"\"}, \"colorscale\": [[0.0, \"#0d0887\"], [0.1111111111111111, \"#46039f\"], [0.2222222222222222, \"#7201a8\"], [0.3333333333333333, \"#9c179e\"], [0.4444444444444444, \"#bd3786\"], [0.5555555555555556, \"#d8576b\"], [0.6666666666666666, \"#ed7953\"], [0.7777777777777778, \"#fb9f3a\"], [0.8888888888888888, \"#fdca26\"], [1.0, \"#f0f921\"]], \"type\": \"heatmap\"}], \"heatmapgl\": [{\"colorbar\": {\"outlinewidth\": 0, \"ticks\": \"\"}, \"colorscale\": [[0.0, \"#0d0887\"], [0.1111111111111111, \"#46039f\"], [0.2222222222222222, \"#7201a8\"], [0.3333333333333333, \"#9c179e\"], [0.4444444444444444, \"#bd3786\"], [0.5555555555555556, \"#d8576b\"], [0.6666666666666666, \"#ed7953\"], [0.7777777777777778, \"#fb9f3a\"], [0.8888888888888888, \"#fdca26\"], [1.0, \"#f0f921\"]], \"type\": \"heatmapgl\"}], \"histogram\": [{\"marker\": {\"colorbar\": {\"outlinewidth\": 0, \"ticks\": \"\"}}, \"type\": \"histogram\"}], \"histogram2d\": [{\"colorbar\": {\"outlinewidth\": 0, \"ticks\": \"\"}, \"colorscale\": [[0.0, \"#0d0887\"], [0.1111111111111111, \"#46039f\"], [0.2222222222222222, \"#7201a8\"], [0.3333333333333333, \"#9c179e\"], [0.4444444444444444, \"#bd3786\"], [0.5555555555555556, \"#d8576b\"], [0.6666666666666666, \"#ed7953\"], [0.7777777777777778, \"#fb9f3a\"], [0.8888888888888888, \"#fdca26\"], [1.0, \"#f0f921\"]], \"type\": \"histogram2d\"}], \"histogram2dcontour\": [{\"colorbar\": {\"outlinewidth\": 0, \"ticks\": \"\"}, \"colorscale\": [[0.0, \"#0d0887\"], [0.1111111111111111, \"#46039f\"], [0.2222222222222222, \"#7201a8\"], [0.3333333333333333, \"#9c179e\"], [0.4444444444444444, \"#bd3786\"], [0.5555555555555556, \"#d8576b\"], [0.6666666666666666, \"#ed7953\"], [0.7777777777777778, \"#fb9f3a\"], [0.8888888888888888, \"#fdca26\"], [1.0, \"#f0f921\"]], \"type\": \"histogram2dcontour\"}], \"mesh3d\": [{\"colorbar\": {\"outlinewidth\": 0, \"ticks\": \"\"}, \"type\": \"mesh3d\"}], \"parcoords\": [{\"line\": {\"colorbar\": {\"outlinewidth\": 0, \"ticks\": \"\"}}, \"type\": \"parcoords\"}], \"pie\": [{\"automargin\": true, \"type\": \"pie\"}], \"scatter\": [{\"marker\": {\"colorbar\": {\"outlinewidth\": 0, \"ticks\": \"\"}}, \"type\": \"scatter\"}], \"scatter3d\": [{\"line\": {\"colorbar\": {\"outlinewidth\": 0, \"ticks\": \"\"}}, \"marker\": {\"colorbar\": {\"outlinewidth\": 0, \"ticks\": \"\"}}, \"type\": \"scatter3d\"}], \"scattercarpet\": [{\"marker\": {\"colorbar\": {\"outlinewidth\": 0, \"ticks\": \"\"}}, \"type\": \"scattercarpet\"}], \"scattergeo\": [{\"marker\": {\"colorbar\": {\"outlinewidth\": 0, \"ticks\": \"\"}}, \"type\": \"scattergeo\"}], \"scattergl\": [{\"marker\": {\"colorbar\": {\"outlinewidth\": 0, \"ticks\": \"\"}}, \"type\": \"scattergl\"}], \"scattermapbox\": [{\"marker\": {\"colorbar\": {\"outlinewidth\": 0, \"ticks\": \"\"}}, \"type\": \"scattermapbox\"}], \"scatterpolar\": [{\"marker\": {\"colorbar\": {\"outlinewidth\": 0, \"ticks\": \"\"}}, \"type\": \"scatterpolar\"}], \"scatterpolargl\": [{\"marker\": {\"colorbar\": {\"outlinewidth\": 0, \"ticks\": \"\"}}, \"type\": \"scatterpolargl\"}], \"scatterternary\": [{\"marker\": {\"colorbar\": {\"outlinewidth\": 0, \"ticks\": \"\"}}, \"type\": \"scatterternary\"}], \"surface\": [{\"colorbar\": {\"outlinewidth\": 0, \"ticks\": \"\"}, \"colorscale\": [[0.0, \"#0d0887\"], [0.1111111111111111, \"#46039f\"], [0.2222222222222222, \"#7201a8\"], [0.3333333333333333, \"#9c179e\"], [0.4444444444444444, \"#bd3786\"], [0.5555555555555556, \"#d8576b\"], [0.6666666666666666, \"#ed7953\"], [0.7777777777777778, \"#fb9f3a\"], [0.8888888888888888, \"#fdca26\"], [1.0, \"#f0f921\"]], \"type\": \"surface\"}], \"table\": [{\"cells\": {\"fill\": {\"color\": \"#EBF0F8\"}, \"line\": {\"color\": \"white\"}}, \"header\": {\"fill\": {\"color\": \"#C8D4E3\"}, \"line\": {\"color\": \"white\"}}, \"type\": \"table\"}]}, \"layout\": {\"annotationdefaults\": {\"arrowcolor\": \"#2a3f5f\", \"arrowhead\": 0, \"arrowwidth\": 1}, \"coloraxis\": {\"colorbar\": {\"outlinewidth\": 0, \"ticks\": \"\"}}, \"colorscale\": {\"diverging\": [[0, \"#8e0152\"], [0.1, \"#c51b7d\"], [0.2, \"#de77ae\"], [0.3, \"#f1b6da\"], [0.4, \"#fde0ef\"], [0.5, \"#f7f7f7\"], [0.6, \"#e6f5d0\"], [0.7, \"#b8e186\"], [0.8, \"#7fbc41\"], [0.9, \"#4d9221\"], [1, \"#276419\"]], \"sequential\": [[0.0, \"#0d0887\"], [0.1111111111111111, \"#46039f\"], [0.2222222222222222, \"#7201a8\"], [0.3333333333333333, \"#9c179e\"], [0.4444444444444444, \"#bd3786\"], [0.5555555555555556, \"#d8576b\"], [0.6666666666666666, \"#ed7953\"], [0.7777777777777778, \"#fb9f3a\"], [0.8888888888888888, \"#fdca26\"], [1.0, \"#f0f921\"]], \"sequentialminus\": [[0.0, \"#0d0887\"], [0.1111111111111111, \"#46039f\"], [0.2222222222222222, \"#7201a8\"], [0.3333333333333333, \"#9c179e\"], [0.4444444444444444, \"#bd3786\"], [0.5555555555555556, \"#d8576b\"], [0.6666666666666666, \"#ed7953\"], [0.7777777777777778, \"#fb9f3a\"], [0.8888888888888888, \"#fdca26\"], [1.0, \"#f0f921\"]]}, \"colorway\": [\"#636efa\", \"#EF553B\", \"#00cc96\", \"#ab63fa\", \"#FFA15A\", \"#19d3f3\", \"#FF6692\", \"#B6E880\", \"#FF97FF\", \"#FECB52\"], \"font\": {\"color\": \"#2a3f5f\"}, \"geo\": {\"bgcolor\": \"white\", \"lakecolor\": \"white\", \"landcolor\": \"#E5ECF6\", \"showlakes\": true, \"showland\": true, \"subunitcolor\": \"white\"}, \"hoverlabel\": {\"align\": \"left\"}, \"hovermode\": \"closest\", \"mapbox\": {\"style\": \"light\"}, \"paper_bgcolor\": \"white\", \"plot_bgcolor\": \"#E5ECF6\", \"polar\": {\"angularaxis\": {\"gridcolor\": \"white\", \"linecolor\": \"white\", \"ticks\": \"\"}, \"bgcolor\": \"#E5ECF6\", \"radialaxis\": {\"gridcolor\": \"white\", \"linecolor\": \"white\", \"ticks\": \"\"}}, \"scene\": {\"xaxis\": {\"backgroundcolor\": \"#E5ECF6\", \"gridcolor\": \"white\", \"gridwidth\": 2, \"linecolor\": \"white\", \"showbackground\": true, \"ticks\": \"\", \"zerolinecolor\": \"white\"}, \"yaxis\": {\"backgroundcolor\": \"#E5ECF6\", \"gridcolor\": \"white\", \"gridwidth\": 2, \"linecolor\": \"white\", \"showbackground\": true, \"ticks\": \"\", \"zerolinecolor\": \"white\"}, \"zaxis\": {\"backgroundcolor\": \"#E5ECF6\", \"gridcolor\": \"white\", \"gridwidth\": 2, \"linecolor\": \"white\", \"showbackground\": true, \"ticks\": \"\", \"zerolinecolor\": \"white\"}}, \"shapedefaults\": {\"line\": {\"color\": \"#2a3f5f\"}}, \"ternary\": {\"aaxis\": {\"gridcolor\": \"white\", \"linecolor\": \"white\", \"ticks\": \"\"}, \"baxis\": {\"gridcolor\": \"white\", \"linecolor\": \"white\", \"ticks\": \"\"}, \"bgcolor\": \"#E5ECF6\", \"caxis\": {\"gridcolor\": \"white\", \"linecolor\": \"white\", \"ticks\": \"\"}}, \"title\": {\"x\": 0.05}, \"xaxis\": {\"automargin\": true, \"gridcolor\": \"white\", \"linecolor\": \"white\", \"ticks\": \"\", \"title\": {\"standoff\": 15}, \"zerolinecolor\": \"white\", \"zerolinewidth\": 2}, \"yaxis\": {\"automargin\": true, \"gridcolor\": \"white\", \"linecolor\": \"white\", \"ticks\": \"\", \"title\": {\"standoff\": 15}, \"zerolinecolor\": \"white\", \"zerolinewidth\": 2}}}, \"title\": {\"font\": {\"color\": \"#4D5663\"}, \"x\": 0.5}, \"xaxis\": {\"gridcolor\": \"#E1E5ED\", \"showgrid\": true, \"tickfont\": {\"color\": \"#4D5663\"}, \"title\": {\"font\": {\"color\": \"#4D5663\"}, \"text\": \"\"}, \"zerolinecolor\": \"#E1E5ED\"}, \"yaxis\": {\"gridcolor\": \"#E1E5ED\", \"showgrid\": true, \"tickfont\": {\"color\": \"#4D5663\"}, \"title\": {\"font\": {\"color\": \"#4D5663\"}, \"text\": \"\"}, \"zerolinecolor\": \"#E1E5ED\"}},\n                        {\"showLink\": true, \"linkText\": \"Export to plot.ly\", \"plotlyServerURL\": \"https://plot.ly\", \"responsive\": true}\n                    ).then(function(){\n                            \nvar gd = document.getElementById('20c54226-f56e-4332-93f5-fcf1fc8ed480');\nvar x = new MutationObserver(function (mutations, observer) {{\n        var display = window.getComputedStyle(gd).display;\n        if (!display || display === 'none') {{\n            console.log([gd, 'removed!']);\n            Plotly.purge(gd);\n            observer.disconnect();\n        }}\n}});\n\n// Listen for the removal of the full notebook cells\nvar notebookContainer = gd.closest('#notebook-container');\nif (notebookContainer) {{\n    x.observe(notebookContainer, {childList: true});\n}}\n\n// Listen for the clearing of the current output cell\nvar outputEl = gd.closest('.output');\nif (outputEl) {{\n    x.observe(outputEl, {childList: true});\n}}\n\n                        })\n                };\n                });\n            </script>\n        </div>"
     },
     "metadata": {}
    }
   ],
   "source": [
    "df.sum().iplot(kind='bar',filename='Tutorial Barchart')"
   ]
  },
  {
   "cell_type": "markdown",
   "metadata": {},
   "source": [
    "Bars can also be stacked by a given dimension"
   ]
  },
  {
   "cell_type": "code",
   "execution_count": 12,
   "metadata": {},
   "outputs": [
    {
     "output_type": "display_data",
     "data": {
      "application/vnd.plotly.v1+json": {
       "config": {
        "linkText": "Export to plot.ly",
        "plotlyServerURL": "https://plot.ly",
        "showLink": true
       },
       "data": [
        {
         "marker": {
          "color": "rgba(255, 153, 51, 0.6)",
          "line": {
           "color": "rgba(255, 153, 51, 1.0)",
           "width": 1
          }
         },
         "name": "IBM",
         "orientation": "v",
         "text": "",
         "type": "bar",
         "x": [
          "2015-01-31",
          "2015-02-28",
          "2015-03-31",
          "2015-04-30"
         ],
         "y": [
          3.0690288787316544,
          4.939590932633064,
          0.5571208415464336,
          -1.6046787790903878
         ]
        },
        {
         "marker": {
          "color": "rgba(55, 128, 191, 0.6)",
          "line": {
           "color": "rgba(55, 128, 191, 1.0)",
           "width": 1
          }
         },
         "name": "MSFT",
         "orientation": "v",
         "text": "",
         "type": "bar",
         "x": [
          "2015-01-31",
          "2015-02-28",
          "2015-03-31",
          "2015-04-30"
         ],
         "y": [
          1.7905408850061204,
          2.8130663537942895,
          4.9761176195904335,
          6.198040301788885
         ]
        },
        {
         "marker": {
          "color": "rgba(50, 171, 96, 0.6)",
          "line": {
           "color": "rgba(50, 171, 96, 1.0)",
           "width": 1
          }
         },
         "name": "GOOG",
         "orientation": "v",
         "text": "",
         "type": "bar",
         "x": [
          "2015-01-31",
          "2015-02-28",
          "2015-03-31",
          "2015-04-30"
         ],
         "y": [
          1.7275749097373376,
          -3.05364770617179,
          -0.08706693664890885,
          1.2933748710683592
         ]
        },
        {
         "marker": {
          "color": "rgba(128, 0, 128, 0.6)",
          "line": {
           "color": "rgba(128, 0, 128, 1.0)",
           "width": 1
          }
         },
         "name": "VERZ",
         "orientation": "v",
         "text": "",
         "type": "bar",
         "x": [
          "2015-01-31",
          "2015-02-28",
          "2015-03-31",
          "2015-04-30"
         ],
         "y": [
          -0.413292956248444,
          5.149932697215946,
          5.378644936777981,
          3.255602870972324
         ]
        },
        {
         "marker": {
          "color": "rgba(219, 64, 82, 0.6)",
          "line": {
           "color": "rgba(219, 64, 82, 1.0)",
           "width": 1
          }
         },
         "name": "APPL",
         "orientation": "v",
         "text": "",
         "type": "bar",
         "x": [
          "2015-01-31",
          "2015-02-28",
          "2015-03-31",
          "2015-04-30"
         ],
         "y": [
          -2.0143639315342683,
          -2.1635772295367444,
          1.4203103239827723,
          3.02682083412185
         ]
        }
       ],
       "layout": {
        "barmode": "stack",
        "legend": {
         "bgcolor": "#F5F6F9",
         "font": {
          "color": "#4D5663"
         },
         "traceorder": "normal"
        },
        "paper_bgcolor": "#F5F6F9",
        "plot_bgcolor": "#F5F6F9",
        "template": {
         "data": {
          "bar": [
           {
            "error_x": {
             "color": "#2a3f5f"
            },
            "error_y": {
             "color": "#2a3f5f"
            },
            "marker": {
             "line": {
              "color": "#E5ECF6",
              "width": 0.5
             }
            },
            "type": "bar"
           }
          ],
          "barpolar": [
           {
            "marker": {
             "line": {
              "color": "#E5ECF6",
              "width": 0.5
             }
            },
            "type": "barpolar"
           }
          ],
          "carpet": [
           {
            "aaxis": {
             "endlinecolor": "#2a3f5f",
             "gridcolor": "white",
             "linecolor": "white",
             "minorgridcolor": "white",
             "startlinecolor": "#2a3f5f"
            },
            "baxis": {
             "endlinecolor": "#2a3f5f",
             "gridcolor": "white",
             "linecolor": "white",
             "minorgridcolor": "white",
             "startlinecolor": "#2a3f5f"
            },
            "type": "carpet"
           }
          ],
          "choropleth": [
           {
            "colorbar": {
             "outlinewidth": 0,
             "ticks": ""
            },
            "type": "choropleth"
           }
          ],
          "contour": [
           {
            "colorbar": {
             "outlinewidth": 0,
             "ticks": ""
            },
            "colorscale": [
             [
              0,
              "#0d0887"
             ],
             [
              0.1111111111111111,
              "#46039f"
             ],
             [
              0.2222222222222222,
              "#7201a8"
             ],
             [
              0.3333333333333333,
              "#9c179e"
             ],
             [
              0.4444444444444444,
              "#bd3786"
             ],
             [
              0.5555555555555556,
              "#d8576b"
             ],
             [
              0.6666666666666666,
              "#ed7953"
             ],
             [
              0.7777777777777778,
              "#fb9f3a"
             ],
             [
              0.8888888888888888,
              "#fdca26"
             ],
             [
              1,
              "#f0f921"
             ]
            ],
            "type": "contour"
           }
          ],
          "contourcarpet": [
           {
            "colorbar": {
             "outlinewidth": 0,
             "ticks": ""
            },
            "type": "contourcarpet"
           }
          ],
          "heatmap": [
           {
            "colorbar": {
             "outlinewidth": 0,
             "ticks": ""
            },
            "colorscale": [
             [
              0,
              "#0d0887"
             ],
             [
              0.1111111111111111,
              "#46039f"
             ],
             [
              0.2222222222222222,
              "#7201a8"
             ],
             [
              0.3333333333333333,
              "#9c179e"
             ],
             [
              0.4444444444444444,
              "#bd3786"
             ],
             [
              0.5555555555555556,
              "#d8576b"
             ],
             [
              0.6666666666666666,
              "#ed7953"
             ],
             [
              0.7777777777777778,
              "#fb9f3a"
             ],
             [
              0.8888888888888888,
              "#fdca26"
             ],
             [
              1,
              "#f0f921"
             ]
            ],
            "type": "heatmap"
           }
          ],
          "heatmapgl": [
           {
            "colorbar": {
             "outlinewidth": 0,
             "ticks": ""
            },
            "colorscale": [
             [
              0,
              "#0d0887"
             ],
             [
              0.1111111111111111,
              "#46039f"
             ],
             [
              0.2222222222222222,
              "#7201a8"
             ],
             [
              0.3333333333333333,
              "#9c179e"
             ],
             [
              0.4444444444444444,
              "#bd3786"
             ],
             [
              0.5555555555555556,
              "#d8576b"
             ],
             [
              0.6666666666666666,
              "#ed7953"
             ],
             [
              0.7777777777777778,
              "#fb9f3a"
             ],
             [
              0.8888888888888888,
              "#fdca26"
             ],
             [
              1,
              "#f0f921"
             ]
            ],
            "type": "heatmapgl"
           }
          ],
          "histogram": [
           {
            "marker": {
             "colorbar": {
              "outlinewidth": 0,
              "ticks": ""
             }
            },
            "type": "histogram"
           }
          ],
          "histogram2d": [
           {
            "colorbar": {
             "outlinewidth": 0,
             "ticks": ""
            },
            "colorscale": [
             [
              0,
              "#0d0887"
             ],
             [
              0.1111111111111111,
              "#46039f"
             ],
             [
              0.2222222222222222,
              "#7201a8"
             ],
             [
              0.3333333333333333,
              "#9c179e"
             ],
             [
              0.4444444444444444,
              "#bd3786"
             ],
             [
              0.5555555555555556,
              "#d8576b"
             ],
             [
              0.6666666666666666,
              "#ed7953"
             ],
             [
              0.7777777777777778,
              "#fb9f3a"
             ],
             [
              0.8888888888888888,
              "#fdca26"
             ],
             [
              1,
              "#f0f921"
             ]
            ],
            "type": "histogram2d"
           }
          ],
          "histogram2dcontour": [
           {
            "colorbar": {
             "outlinewidth": 0,
             "ticks": ""
            },
            "colorscale": [
             [
              0,
              "#0d0887"
             ],
             [
              0.1111111111111111,
              "#46039f"
             ],
             [
              0.2222222222222222,
              "#7201a8"
             ],
             [
              0.3333333333333333,
              "#9c179e"
             ],
             [
              0.4444444444444444,
              "#bd3786"
             ],
             [
              0.5555555555555556,
              "#d8576b"
             ],
             [
              0.6666666666666666,
              "#ed7953"
             ],
             [
              0.7777777777777778,
              "#fb9f3a"
             ],
             [
              0.8888888888888888,
              "#fdca26"
             ],
             [
              1,
              "#f0f921"
             ]
            ],
            "type": "histogram2dcontour"
           }
          ],
          "mesh3d": [
           {
            "colorbar": {
             "outlinewidth": 0,
             "ticks": ""
            },
            "type": "mesh3d"
           }
          ],
          "parcoords": [
           {
            "line": {
             "colorbar": {
              "outlinewidth": 0,
              "ticks": ""
             }
            },
            "type": "parcoords"
           }
          ],
          "pie": [
           {
            "automargin": true,
            "type": "pie"
           }
          ],
          "scatter": [
           {
            "marker": {
             "colorbar": {
              "outlinewidth": 0,
              "ticks": ""
             }
            },
            "type": "scatter"
           }
          ],
          "scatter3d": [
           {
            "line": {
             "colorbar": {
              "outlinewidth": 0,
              "ticks": ""
             }
            },
            "marker": {
             "colorbar": {
              "outlinewidth": 0,
              "ticks": ""
             }
            },
            "type": "scatter3d"
           }
          ],
          "scattercarpet": [
           {
            "marker": {
             "colorbar": {
              "outlinewidth": 0,
              "ticks": ""
             }
            },
            "type": "scattercarpet"
           }
          ],
          "scattergeo": [
           {
            "marker": {
             "colorbar": {
              "outlinewidth": 0,
              "ticks": ""
             }
            },
            "type": "scattergeo"
           }
          ],
          "scattergl": [
           {
            "marker": {
             "colorbar": {
              "outlinewidth": 0,
              "ticks": ""
             }
            },
            "type": "scattergl"
           }
          ],
          "scattermapbox": [
           {
            "marker": {
             "colorbar": {
              "outlinewidth": 0,
              "ticks": ""
             }
            },
            "type": "scattermapbox"
           }
          ],
          "scatterpolar": [
           {
            "marker": {
             "colorbar": {
              "outlinewidth": 0,
              "ticks": ""
             }
            },
            "type": "scatterpolar"
           }
          ],
          "scatterpolargl": [
           {
            "marker": {
             "colorbar": {
              "outlinewidth": 0,
              "ticks": ""
             }
            },
            "type": "scatterpolargl"
           }
          ],
          "scatterternary": [
           {
            "marker": {
             "colorbar": {
              "outlinewidth": 0,
              "ticks": ""
             }
            },
            "type": "scatterternary"
           }
          ],
          "surface": [
           {
            "colorbar": {
             "outlinewidth": 0,
             "ticks": ""
            },
            "colorscale": [
             [
              0,
              "#0d0887"
             ],
             [
              0.1111111111111111,
              "#46039f"
             ],
             [
              0.2222222222222222,
              "#7201a8"
             ],
             [
              0.3333333333333333,
              "#9c179e"
             ],
             [
              0.4444444444444444,
              "#bd3786"
             ],
             [
              0.5555555555555556,
              "#d8576b"
             ],
             [
              0.6666666666666666,
              "#ed7953"
             ],
             [
              0.7777777777777778,
              "#fb9f3a"
             ],
             [
              0.8888888888888888,
              "#fdca26"
             ],
             [
              1,
              "#f0f921"
             ]
            ],
            "type": "surface"
           }
          ],
          "table": [
           {
            "cells": {
             "fill": {
              "color": "#EBF0F8"
             },
             "line": {
              "color": "white"
             }
            },
            "header": {
             "fill": {
              "color": "#C8D4E3"
             },
             "line": {
              "color": "white"
             }
            },
            "type": "table"
           }
          ]
         },
         "layout": {
          "annotationdefaults": {
           "arrowcolor": "#2a3f5f",
           "arrowhead": 0,
           "arrowwidth": 1
          },
          "coloraxis": {
           "colorbar": {
            "outlinewidth": 0,
            "ticks": ""
           }
          },
          "colorscale": {
           "diverging": [
            [
             0,
             "#8e0152"
            ],
            [
             0.1,
             "#c51b7d"
            ],
            [
             0.2,
             "#de77ae"
            ],
            [
             0.3,
             "#f1b6da"
            ],
            [
             0.4,
             "#fde0ef"
            ],
            [
             0.5,
             "#f7f7f7"
            ],
            [
             0.6,
             "#e6f5d0"
            ],
            [
             0.7,
             "#b8e186"
            ],
            [
             0.8,
             "#7fbc41"
            ],
            [
             0.9,
             "#4d9221"
            ],
            [
             1,
             "#276419"
            ]
           ],
           "sequential": [
            [
             0,
             "#0d0887"
            ],
            [
             0.1111111111111111,
             "#46039f"
            ],
            [
             0.2222222222222222,
             "#7201a8"
            ],
            [
             0.3333333333333333,
             "#9c179e"
            ],
            [
             0.4444444444444444,
             "#bd3786"
            ],
            [
             0.5555555555555556,
             "#d8576b"
            ],
            [
             0.6666666666666666,
             "#ed7953"
            ],
            [
             0.7777777777777778,
             "#fb9f3a"
            ],
            [
             0.8888888888888888,
             "#fdca26"
            ],
            [
             1,
             "#f0f921"
            ]
           ],
           "sequentialminus": [
            [
             0,
             "#0d0887"
            ],
            [
             0.1111111111111111,
             "#46039f"
            ],
            [
             0.2222222222222222,
             "#7201a8"
            ],
            [
             0.3333333333333333,
             "#9c179e"
            ],
            [
             0.4444444444444444,
             "#bd3786"
            ],
            [
             0.5555555555555556,
             "#d8576b"
            ],
            [
             0.6666666666666666,
             "#ed7953"
            ],
            [
             0.7777777777777778,
             "#fb9f3a"
            ],
            [
             0.8888888888888888,
             "#fdca26"
            ],
            [
             1,
             "#f0f921"
            ]
           ]
          },
          "colorway": [
           "#636efa",
           "#EF553B",
           "#00cc96",
           "#ab63fa",
           "#FFA15A",
           "#19d3f3",
           "#FF6692",
           "#B6E880",
           "#FF97FF",
           "#FECB52"
          ],
          "font": {
           "color": "#2a3f5f"
          },
          "geo": {
           "bgcolor": "white",
           "lakecolor": "white",
           "landcolor": "#E5ECF6",
           "showlakes": true,
           "showland": true,
           "subunitcolor": "white"
          },
          "hoverlabel": {
           "align": "left"
          },
          "hovermode": "closest",
          "mapbox": {
           "style": "light"
          },
          "paper_bgcolor": "white",
          "plot_bgcolor": "#E5ECF6",
          "polar": {
           "angularaxis": {
            "gridcolor": "white",
            "linecolor": "white",
            "ticks": ""
           },
           "bgcolor": "#E5ECF6",
           "radialaxis": {
            "gridcolor": "white",
            "linecolor": "white",
            "ticks": ""
           }
          },
          "scene": {
           "xaxis": {
            "backgroundcolor": "#E5ECF6",
            "gridcolor": "white",
            "gridwidth": 2,
            "linecolor": "white",
            "showbackground": true,
            "ticks": "",
            "zerolinecolor": "white"
           },
           "yaxis": {
            "backgroundcolor": "#E5ECF6",
            "gridcolor": "white",
            "gridwidth": 2,
            "linecolor": "white",
            "showbackground": true,
            "ticks": "",
            "zerolinecolor": "white"
           },
           "zaxis": {
            "backgroundcolor": "#E5ECF6",
            "gridcolor": "white",
            "gridwidth": 2,
            "linecolor": "white",
            "showbackground": true,
            "ticks": "",
            "zerolinecolor": "white"
           }
          },
          "shapedefaults": {
           "line": {
            "color": "#2a3f5f"
           }
          },
          "ternary": {
           "aaxis": {
            "gridcolor": "white",
            "linecolor": "white",
            "ticks": ""
           },
           "baxis": {
            "gridcolor": "white",
            "linecolor": "white",
            "ticks": ""
           },
           "bgcolor": "#E5ECF6",
           "caxis": {
            "gridcolor": "white",
            "linecolor": "white",
            "ticks": ""
           }
          },
          "title": {
           "x": 0.05
          },
          "xaxis": {
           "automargin": true,
           "gridcolor": "white",
           "linecolor": "white",
           "ticks": "",
           "title": {
            "standoff": 15
           },
           "zerolinecolor": "white",
           "zerolinewidth": 2
          },
          "yaxis": {
           "automargin": true,
           "gridcolor": "white",
           "linecolor": "white",
           "ticks": "",
           "title": {
            "standoff": 15
           },
           "zerolinecolor": "white",
           "zerolinewidth": 2
          }
         }
        },
        "title": {
         "font": {
          "color": "#4D5663"
         },
         "x": 0.5
        },
        "xaxis": {
         "gridcolor": "#E1E5ED",
         "showgrid": true,
         "tickfont": {
          "color": "#4D5663"
         },
         "title": {
          "font": {
           "color": "#4D5663"
          },
          "text": ""
         },
         "zerolinecolor": "#E1E5ED"
        },
        "yaxis": {
         "gridcolor": "#E1E5ED",
         "showgrid": true,
         "tickfont": {
          "color": "#4D5663"
         },
         "title": {
          "font": {
           "color": "#4D5663"
          },
          "text": ""
         },
         "zerolinecolor": "#E1E5ED"
        }
       }
      },
      "text/html": "<div>\n        \n        \n            <div id=\"f46ed9e1-725f-4e23-9f62-c59bf2fab9e7\" class=\"plotly-graph-div\" style=\"height:525px; width:100%;\"></div>\n            <script type=\"text/javascript\">\n                require([\"plotly\"], function(Plotly) {\n                    window.PLOTLYENV=window.PLOTLYENV || {};\n                    window.PLOTLYENV.BASE_URL='https://plot.ly';\n                    \n                if (document.getElementById(\"f46ed9e1-725f-4e23-9f62-c59bf2fab9e7\")) {\n                    Plotly.newPlot(\n                        'f46ed9e1-725f-4e23-9f62-c59bf2fab9e7',\n                        [{\"marker\": {\"color\": \"rgba(255, 153, 51, 0.6)\", \"line\": {\"color\": \"rgba(255, 153, 51, 1.0)\", \"width\": 1}}, \"name\": \"IBM\", \"orientation\": \"v\", \"text\": \"\", \"type\": \"bar\", \"x\": [\"2015-01-31\", \"2015-02-28\", \"2015-03-31\", \"2015-04-30\"], \"y\": [3.0690288787316544, 4.939590932633064, 0.5571208415464336, -1.6046787790903878]}, {\"marker\": {\"color\": \"rgba(55, 128, 191, 0.6)\", \"line\": {\"color\": \"rgba(55, 128, 191, 1.0)\", \"width\": 1}}, \"name\": \"MSFT\", \"orientation\": \"v\", \"text\": \"\", \"type\": \"bar\", \"x\": [\"2015-01-31\", \"2015-02-28\", \"2015-03-31\", \"2015-04-30\"], \"y\": [1.7905408850061204, 2.8130663537942895, 4.9761176195904335, 6.198040301788885]}, {\"marker\": {\"color\": \"rgba(50, 171, 96, 0.6)\", \"line\": {\"color\": \"rgba(50, 171, 96, 1.0)\", \"width\": 1}}, \"name\": \"GOOG\", \"orientation\": \"v\", \"text\": \"\", \"type\": \"bar\", \"x\": [\"2015-01-31\", \"2015-02-28\", \"2015-03-31\", \"2015-04-30\"], \"y\": [1.7275749097373376, -3.05364770617179, -0.08706693664890885, 1.2933748710683592]}, {\"marker\": {\"color\": \"rgba(128, 0, 128, 0.6)\", \"line\": {\"color\": \"rgba(128, 0, 128, 1.0)\", \"width\": 1}}, \"name\": \"VERZ\", \"orientation\": \"v\", \"text\": \"\", \"type\": \"bar\", \"x\": [\"2015-01-31\", \"2015-02-28\", \"2015-03-31\", \"2015-04-30\"], \"y\": [-0.413292956248444, 5.149932697215946, 5.378644936777981, 3.255602870972324]}, {\"marker\": {\"color\": \"rgba(219, 64, 82, 0.6)\", \"line\": {\"color\": \"rgba(219, 64, 82, 1.0)\", \"width\": 1}}, \"name\": \"APPL\", \"orientation\": \"v\", \"text\": \"\", \"type\": \"bar\", \"x\": [\"2015-01-31\", \"2015-02-28\", \"2015-03-31\", \"2015-04-30\"], \"y\": [-2.0143639315342683, -2.1635772295367444, 1.4203103239827723, 3.02682083412185]}],\n                        {\"barmode\": \"stack\", \"legend\": {\"bgcolor\": \"#F5F6F9\", \"font\": {\"color\": \"#4D5663\"}, \"traceorder\": \"normal\"}, \"paper_bgcolor\": \"#F5F6F9\", \"plot_bgcolor\": \"#F5F6F9\", \"template\": {\"data\": {\"bar\": [{\"error_x\": {\"color\": \"#2a3f5f\"}, \"error_y\": {\"color\": \"#2a3f5f\"}, \"marker\": {\"line\": {\"color\": \"#E5ECF6\", \"width\": 0.5}}, \"type\": \"bar\"}], \"barpolar\": [{\"marker\": {\"line\": {\"color\": \"#E5ECF6\", \"width\": 0.5}}, \"type\": \"barpolar\"}], \"carpet\": [{\"aaxis\": {\"endlinecolor\": \"#2a3f5f\", \"gridcolor\": \"white\", \"linecolor\": \"white\", \"minorgridcolor\": \"white\", \"startlinecolor\": \"#2a3f5f\"}, \"baxis\": {\"endlinecolor\": \"#2a3f5f\", \"gridcolor\": \"white\", \"linecolor\": \"white\", \"minorgridcolor\": \"white\", \"startlinecolor\": \"#2a3f5f\"}, \"type\": \"carpet\"}], \"choropleth\": [{\"colorbar\": {\"outlinewidth\": 0, \"ticks\": \"\"}, \"type\": \"choropleth\"}], \"contour\": [{\"colorbar\": {\"outlinewidth\": 0, \"ticks\": \"\"}, \"colorscale\": [[0.0, \"#0d0887\"], [0.1111111111111111, \"#46039f\"], [0.2222222222222222, \"#7201a8\"], [0.3333333333333333, \"#9c179e\"], [0.4444444444444444, \"#bd3786\"], [0.5555555555555556, \"#d8576b\"], [0.6666666666666666, \"#ed7953\"], [0.7777777777777778, \"#fb9f3a\"], [0.8888888888888888, \"#fdca26\"], [1.0, \"#f0f921\"]], \"type\": \"contour\"}], \"contourcarpet\": [{\"colorbar\": {\"outlinewidth\": 0, \"ticks\": \"\"}, \"type\": \"contourcarpet\"}], \"heatmap\": [{\"colorbar\": {\"outlinewidth\": 0, \"ticks\": \"\"}, \"colorscale\": [[0.0, \"#0d0887\"], [0.1111111111111111, \"#46039f\"], [0.2222222222222222, \"#7201a8\"], [0.3333333333333333, \"#9c179e\"], [0.4444444444444444, \"#bd3786\"], [0.5555555555555556, \"#d8576b\"], [0.6666666666666666, \"#ed7953\"], [0.7777777777777778, \"#fb9f3a\"], [0.8888888888888888, \"#fdca26\"], [1.0, \"#f0f921\"]], \"type\": \"heatmap\"}], \"heatmapgl\": [{\"colorbar\": {\"outlinewidth\": 0, \"ticks\": \"\"}, \"colorscale\": [[0.0, \"#0d0887\"], [0.1111111111111111, \"#46039f\"], [0.2222222222222222, \"#7201a8\"], [0.3333333333333333, \"#9c179e\"], [0.4444444444444444, \"#bd3786\"], [0.5555555555555556, \"#d8576b\"], [0.6666666666666666, \"#ed7953\"], [0.7777777777777778, \"#fb9f3a\"], [0.8888888888888888, \"#fdca26\"], [1.0, \"#f0f921\"]], \"type\": \"heatmapgl\"}], \"histogram\": [{\"marker\": {\"colorbar\": {\"outlinewidth\": 0, \"ticks\": \"\"}}, \"type\": \"histogram\"}], \"histogram2d\": [{\"colorbar\": {\"outlinewidth\": 0, \"ticks\": \"\"}, \"colorscale\": [[0.0, \"#0d0887\"], [0.1111111111111111, \"#46039f\"], [0.2222222222222222, \"#7201a8\"], [0.3333333333333333, \"#9c179e\"], [0.4444444444444444, \"#bd3786\"], [0.5555555555555556, \"#d8576b\"], [0.6666666666666666, \"#ed7953\"], [0.7777777777777778, \"#fb9f3a\"], [0.8888888888888888, \"#fdca26\"], [1.0, \"#f0f921\"]], \"type\": \"histogram2d\"}], \"histogram2dcontour\": [{\"colorbar\": {\"outlinewidth\": 0, \"ticks\": \"\"}, \"colorscale\": [[0.0, \"#0d0887\"], [0.1111111111111111, \"#46039f\"], [0.2222222222222222, \"#7201a8\"], [0.3333333333333333, \"#9c179e\"], [0.4444444444444444, \"#bd3786\"], [0.5555555555555556, \"#d8576b\"], [0.6666666666666666, \"#ed7953\"], [0.7777777777777778, \"#fb9f3a\"], [0.8888888888888888, \"#fdca26\"], [1.0, \"#f0f921\"]], \"type\": \"histogram2dcontour\"}], \"mesh3d\": [{\"colorbar\": {\"outlinewidth\": 0, \"ticks\": \"\"}, \"type\": \"mesh3d\"}], \"parcoords\": [{\"line\": {\"colorbar\": {\"outlinewidth\": 0, \"ticks\": \"\"}}, \"type\": \"parcoords\"}], \"pie\": [{\"automargin\": true, \"type\": \"pie\"}], \"scatter\": [{\"marker\": {\"colorbar\": {\"outlinewidth\": 0, \"ticks\": \"\"}}, \"type\": \"scatter\"}], \"scatter3d\": [{\"line\": {\"colorbar\": {\"outlinewidth\": 0, \"ticks\": \"\"}}, \"marker\": {\"colorbar\": {\"outlinewidth\": 0, \"ticks\": \"\"}}, \"type\": \"scatter3d\"}], \"scattercarpet\": [{\"marker\": {\"colorbar\": {\"outlinewidth\": 0, \"ticks\": \"\"}}, \"type\": \"scattercarpet\"}], \"scattergeo\": [{\"marker\": {\"colorbar\": {\"outlinewidth\": 0, \"ticks\": \"\"}}, \"type\": \"scattergeo\"}], \"scattergl\": [{\"marker\": {\"colorbar\": {\"outlinewidth\": 0, \"ticks\": \"\"}}, \"type\": \"scattergl\"}], \"scattermapbox\": [{\"marker\": {\"colorbar\": {\"outlinewidth\": 0, \"ticks\": \"\"}}, \"type\": \"scattermapbox\"}], \"scatterpolar\": [{\"marker\": {\"colorbar\": {\"outlinewidth\": 0, \"ticks\": \"\"}}, \"type\": \"scatterpolar\"}], \"scatterpolargl\": [{\"marker\": {\"colorbar\": {\"outlinewidth\": 0, \"ticks\": \"\"}}, \"type\": \"scatterpolargl\"}], \"scatterternary\": [{\"marker\": {\"colorbar\": {\"outlinewidth\": 0, \"ticks\": \"\"}}, \"type\": \"scatterternary\"}], \"surface\": [{\"colorbar\": {\"outlinewidth\": 0, \"ticks\": \"\"}, \"colorscale\": [[0.0, \"#0d0887\"], [0.1111111111111111, \"#46039f\"], [0.2222222222222222, \"#7201a8\"], [0.3333333333333333, \"#9c179e\"], [0.4444444444444444, \"#bd3786\"], [0.5555555555555556, \"#d8576b\"], [0.6666666666666666, \"#ed7953\"], [0.7777777777777778, \"#fb9f3a\"], [0.8888888888888888, \"#fdca26\"], [1.0, \"#f0f921\"]], \"type\": \"surface\"}], \"table\": [{\"cells\": {\"fill\": {\"color\": \"#EBF0F8\"}, \"line\": {\"color\": \"white\"}}, \"header\": {\"fill\": {\"color\": \"#C8D4E3\"}, \"line\": {\"color\": \"white\"}}, \"type\": \"table\"}]}, \"layout\": {\"annotationdefaults\": {\"arrowcolor\": \"#2a3f5f\", \"arrowhead\": 0, \"arrowwidth\": 1}, \"coloraxis\": {\"colorbar\": {\"outlinewidth\": 0, \"ticks\": \"\"}}, \"colorscale\": {\"diverging\": [[0, \"#8e0152\"], [0.1, \"#c51b7d\"], [0.2, \"#de77ae\"], [0.3, \"#f1b6da\"], [0.4, \"#fde0ef\"], [0.5, \"#f7f7f7\"], [0.6, \"#e6f5d0\"], [0.7, \"#b8e186\"], [0.8, \"#7fbc41\"], [0.9, \"#4d9221\"], [1, \"#276419\"]], \"sequential\": [[0.0, \"#0d0887\"], [0.1111111111111111, \"#46039f\"], [0.2222222222222222, \"#7201a8\"], [0.3333333333333333, \"#9c179e\"], [0.4444444444444444, \"#bd3786\"], [0.5555555555555556, \"#d8576b\"], [0.6666666666666666, \"#ed7953\"], [0.7777777777777778, \"#fb9f3a\"], [0.8888888888888888, \"#fdca26\"], [1.0, \"#f0f921\"]], \"sequentialminus\": [[0.0, \"#0d0887\"], [0.1111111111111111, \"#46039f\"], [0.2222222222222222, \"#7201a8\"], [0.3333333333333333, \"#9c179e\"], [0.4444444444444444, \"#bd3786\"], [0.5555555555555556, \"#d8576b\"], [0.6666666666666666, \"#ed7953\"], [0.7777777777777778, \"#fb9f3a\"], [0.8888888888888888, \"#fdca26\"], [1.0, \"#f0f921\"]]}, \"colorway\": [\"#636efa\", \"#EF553B\", \"#00cc96\", \"#ab63fa\", \"#FFA15A\", \"#19d3f3\", \"#FF6692\", \"#B6E880\", \"#FF97FF\", \"#FECB52\"], \"font\": {\"color\": \"#2a3f5f\"}, \"geo\": {\"bgcolor\": \"white\", \"lakecolor\": \"white\", \"landcolor\": \"#E5ECF6\", \"showlakes\": true, \"showland\": true, \"subunitcolor\": \"white\"}, \"hoverlabel\": {\"align\": \"left\"}, \"hovermode\": \"closest\", \"mapbox\": {\"style\": \"light\"}, \"paper_bgcolor\": \"white\", \"plot_bgcolor\": \"#E5ECF6\", \"polar\": {\"angularaxis\": {\"gridcolor\": \"white\", \"linecolor\": \"white\", \"ticks\": \"\"}, \"bgcolor\": \"#E5ECF6\", \"radialaxis\": {\"gridcolor\": \"white\", \"linecolor\": \"white\", \"ticks\": \"\"}}, \"scene\": {\"xaxis\": {\"backgroundcolor\": \"#E5ECF6\", \"gridcolor\": \"white\", \"gridwidth\": 2, \"linecolor\": \"white\", \"showbackground\": true, \"ticks\": \"\", \"zerolinecolor\": \"white\"}, \"yaxis\": {\"backgroundcolor\": \"#E5ECF6\", \"gridcolor\": \"white\", \"gridwidth\": 2, \"linecolor\": \"white\", \"showbackground\": true, \"ticks\": \"\", \"zerolinecolor\": \"white\"}, \"zaxis\": {\"backgroundcolor\": \"#E5ECF6\", \"gridcolor\": \"white\", \"gridwidth\": 2, \"linecolor\": \"white\", \"showbackground\": true, \"ticks\": \"\", \"zerolinecolor\": \"white\"}}, \"shapedefaults\": {\"line\": {\"color\": \"#2a3f5f\"}}, \"ternary\": {\"aaxis\": {\"gridcolor\": \"white\", \"linecolor\": \"white\", \"ticks\": \"\"}, \"baxis\": {\"gridcolor\": \"white\", \"linecolor\": \"white\", \"ticks\": \"\"}, \"bgcolor\": \"#E5ECF6\", \"caxis\": {\"gridcolor\": \"white\", \"linecolor\": \"white\", \"ticks\": \"\"}}, \"title\": {\"x\": 0.05}, \"xaxis\": {\"automargin\": true, \"gridcolor\": \"white\", \"linecolor\": \"white\", \"ticks\": \"\", \"title\": {\"standoff\": 15}, \"zerolinecolor\": \"white\", \"zerolinewidth\": 2}, \"yaxis\": {\"automargin\": true, \"gridcolor\": \"white\", \"linecolor\": \"white\", \"ticks\": \"\", \"title\": {\"standoff\": 15}, \"zerolinecolor\": \"white\", \"zerolinewidth\": 2}}}, \"title\": {\"font\": {\"color\": \"#4D5663\"}, \"x\": 0.5}, \"xaxis\": {\"gridcolor\": \"#E1E5ED\", \"showgrid\": true, \"tickfont\": {\"color\": \"#4D5663\"}, \"title\": {\"font\": {\"color\": \"#4D5663\"}, \"text\": \"\"}, \"zerolinecolor\": \"#E1E5ED\"}, \"yaxis\": {\"gridcolor\": \"#E1E5ED\", \"showgrid\": true, \"tickfont\": {\"color\": \"#4D5663\"}, \"title\": {\"font\": {\"color\": \"#4D5663\"}, \"text\": \"\"}, \"zerolinecolor\": \"#E1E5ED\"}},\n                        {\"showLink\": true, \"linkText\": \"Export to plot.ly\", \"plotlyServerURL\": \"https://plot.ly\", \"responsive\": true}\n                    ).then(function(){\n                            \nvar gd = document.getElementById('f46ed9e1-725f-4e23-9f62-c59bf2fab9e7');\nvar x = new MutationObserver(function (mutations, observer) {{\n        var display = window.getComputedStyle(gd).display;\n        if (!display || display === 'none') {{\n            console.log([gd, 'removed!']);\n            Plotly.purge(gd);\n            observer.disconnect();\n        }}\n}});\n\n// Listen for the removal of the full notebook cells\nvar notebookContainer = gd.closest('#notebook-container');\nif (notebookContainer) {{\n    x.observe(notebookContainer, {childList: true});\n}}\n\n// Listen for the clearing of the current output cell\nvar outputEl = gd.closest('.output');\nif (outputEl) {{\n    x.observe(outputEl, {childList: true});\n}}\n\n                        })\n                };\n                });\n            </script>\n        </div>"
     },
     "metadata": {}
    }
   ],
   "source": [
    "df.resample('M').mean().iplot(kind='bar',barmode='stack',filename='Tutorial Bar Stacked')"
   ]
  },
  {
   "cell_type": "markdown",
   "metadata": {},
   "source": [
    "### Spread and Ratio charts\n",
    "\n",
    "We can also create spread and ratio charts on the fly with **kind='spread'** and **kind='ratio'**"
   ]
  },
  {
   "cell_type": "code",
   "execution_count": 13,
   "metadata": {},
   "outputs": [
    {
     "output_type": "display_data",
     "data": {
      "application/vnd.plotly.v1+json": {
       "config": {
        "linkText": "Export to plot.ly",
        "plotlyServerURL": "https://plot.ly",
        "showLink": true
       },
       "data": [
        {
         "line": {
          "color": "rgba(255, 153, 51, 1.0)",
          "dash": "solid",
          "shape": "linear",
          "width": 1.3
         },
         "mode": "lines",
         "name": "VERZ",
         "text": "",
         "type": "scatter",
         "x": [
          "2015-01-01",
          "2015-01-02",
          "2015-01-03",
          "2015-01-04",
          "2015-01-05",
          "2015-01-06",
          "2015-01-07",
          "2015-01-08",
          "2015-01-09",
          "2015-01-10",
          "2015-01-11",
          "2015-01-12",
          "2015-01-13",
          "2015-01-14",
          "2015-01-15",
          "2015-01-16",
          "2015-01-17",
          "2015-01-18",
          "2015-01-19",
          "2015-01-20",
          "2015-01-21",
          "2015-01-22",
          "2015-01-23",
          "2015-01-24",
          "2015-01-25",
          "2015-01-26",
          "2015-01-27",
          "2015-01-28",
          "2015-01-29",
          "2015-01-30",
          "2015-01-31",
          "2015-02-01",
          "2015-02-02",
          "2015-02-03",
          "2015-02-04",
          "2015-02-05",
          "2015-02-06",
          "2015-02-07",
          "2015-02-08",
          "2015-02-09",
          "2015-02-10",
          "2015-02-11",
          "2015-02-12",
          "2015-02-13",
          "2015-02-14",
          "2015-02-15",
          "2015-02-16",
          "2015-02-17",
          "2015-02-18",
          "2015-02-19",
          "2015-02-20",
          "2015-02-21",
          "2015-02-22",
          "2015-02-23",
          "2015-02-24",
          "2015-02-25",
          "2015-02-26",
          "2015-02-27",
          "2015-02-28",
          "2015-03-01",
          "2015-03-02",
          "2015-03-03",
          "2015-03-04",
          "2015-03-05",
          "2015-03-06",
          "2015-03-07",
          "2015-03-08",
          "2015-03-09",
          "2015-03-10",
          "2015-03-11",
          "2015-03-12",
          "2015-03-13",
          "2015-03-14",
          "2015-03-15",
          "2015-03-16",
          "2015-03-17",
          "2015-03-18",
          "2015-03-19",
          "2015-03-20",
          "2015-03-21",
          "2015-03-22",
          "2015-03-23",
          "2015-03-24",
          "2015-03-25",
          "2015-03-26",
          "2015-03-27",
          "2015-03-28",
          "2015-03-29",
          "2015-03-30",
          "2015-03-31",
          "2015-04-01",
          "2015-04-02",
          "2015-04-03",
          "2015-04-04",
          "2015-04-05",
          "2015-04-06",
          "2015-04-07",
          "2015-04-08",
          "2015-04-09",
          "2015-04-10"
         ],
         "y": [
          -0.14798997143547915,
          -0.7425181638076277,
          -1.629112387980162,
          -1.1534696529044854,
          -1.6916336318363019,
          -2.1993395653892347,
          -2.5420785946771374,
          -3.249116056341389,
          -1.2596339737619773,
          -1.1431606521394526,
          -1.591803171812925,
          -0.2835944499728289,
          -0.7462854607485447,
          -0.21187646900463442,
          1.1332111485517466,
          -0.41140209681748763,
          -0.07764236418693948,
          0.3840523760865555,
          0.3806219878429994,
          0.4184229671916261,
          -0.9519937067082221,
          0.14408463639206925,
          0.26377743175971813,
          0.42678343645240235,
          -0.9424001163610074,
          -1.7604137942702862,
          -1.2907716439042218,
          1.0630981669304322,
          1.0902998744576748,
          2.524916666502402,
          3.384885588190943,
          5.036316160354567,
          4.767203934327283,
          4.858948011378686,
          4.510420682566213,
          5.792567762513112,
          4.703661698896927,
          3.823605711307492,
          3.8068604096761427,
          4.613704598588734,
          3.2228860410149407,
          3.1682138945339773,
          3.556497918312706,
          4.1563789470447485,
          6.178543778204498,
          6.193656777865214,
          4.516139346557444,
          5.6279628611295385,
          5.093092493583762,
          3.612856913279101,
          3.8702174842042387,
          5.39335992080307,
          6.439817670790796,
          7.533093530210259,
          6.582016553867401,
          4.921727440991564,
          5.568043760905853,
          8.285708786755254,
          8.364612432382978,
          7.883165005915357,
          6.672987596795707,
          6.590060655078807,
          8.56443044442024,
          8.452621619423141,
          8.231792039767997,
          8.06878543193988,
          6.650407145787599,
          6.322040091543126,
          7.3128934837617035,
          7.501145391479421,
          4.808823390778633,
          4.762035814722748,
          5.680327554796811,
          6.6410803503198474,
          6.173067765937346,
          5.714279697407312,
          7.173736382596482,
          5.262584850059834,
          6.354690181400844,
          5.424689717255171,
          3.348070717794639,
          4.194635627534584,
          3.7484208696640002,
          2.8974748414271505,
          3.2102163573648888,
          2.642360238692871,
          1.0223478845888063,
          0.5894718601443806,
          2.310612385325222,
          2.5287376463928646,
          3.982459441623575,
          3.742749447810474,
          3.0850362775278493,
          2.4032408097853932,
          1.897205058588498,
          4.650433498714276,
          3.4849138902296843,
          4.017518372219557,
          2.9204274054378057,
          2.3720445077861267
         ]
        },
        {
         "line": {
          "color": "rgba(55, 128, 191, 1.0)",
          "dash": "solid",
          "shape": "linear",
          "width": 1.3
         },
         "mode": "lines",
         "name": "IBM",
         "text": "",
         "type": "scatter",
         "x": [
          "2015-01-01",
          "2015-01-02",
          "2015-01-03",
          "2015-01-04",
          "2015-01-05",
          "2015-01-06",
          "2015-01-07",
          "2015-01-08",
          "2015-01-09",
          "2015-01-10",
          "2015-01-11",
          "2015-01-12",
          "2015-01-13",
          "2015-01-14",
          "2015-01-15",
          "2015-01-16",
          "2015-01-17",
          "2015-01-18",
          "2015-01-19",
          "2015-01-20",
          "2015-01-21",
          "2015-01-22",
          "2015-01-23",
          "2015-01-24",
          "2015-01-25",
          "2015-01-26",
          "2015-01-27",
          "2015-01-28",
          "2015-01-29",
          "2015-01-30",
          "2015-01-31",
          "2015-02-01",
          "2015-02-02",
          "2015-02-03",
          "2015-02-04",
          "2015-02-05",
          "2015-02-06",
          "2015-02-07",
          "2015-02-08",
          "2015-02-09",
          "2015-02-10",
          "2015-02-11",
          "2015-02-12",
          "2015-02-13",
          "2015-02-14",
          "2015-02-15",
          "2015-02-16",
          "2015-02-17",
          "2015-02-18",
          "2015-02-19",
          "2015-02-20",
          "2015-02-21",
          "2015-02-22",
          "2015-02-23",
          "2015-02-24",
          "2015-02-25",
          "2015-02-26",
          "2015-02-27",
          "2015-02-28",
          "2015-03-01",
          "2015-03-02",
          "2015-03-03",
          "2015-03-04",
          "2015-03-05",
          "2015-03-06",
          "2015-03-07",
          "2015-03-08",
          "2015-03-09",
          "2015-03-10",
          "2015-03-11",
          "2015-03-12",
          "2015-03-13",
          "2015-03-14",
          "2015-03-15",
          "2015-03-16",
          "2015-03-17",
          "2015-03-18",
          "2015-03-19",
          "2015-03-20",
          "2015-03-21",
          "2015-03-22",
          "2015-03-23",
          "2015-03-24",
          "2015-03-25",
          "2015-03-26",
          "2015-03-27",
          "2015-03-28",
          "2015-03-29",
          "2015-03-30",
          "2015-03-31",
          "2015-04-01",
          "2015-04-02",
          "2015-04-03",
          "2015-04-04",
          "2015-04-05",
          "2015-04-06",
          "2015-04-07",
          "2015-04-08",
          "2015-04-09",
          "2015-04-10"
         ],
         "y": [
          1.204634807161707,
          0.9145006657511832,
          1.218380555193714,
          1.6040010922114574,
          1.8507033314358179,
          4.066880405623611,
          3.9518239112895603,
          3.343657322630591,
          2.6993826172728155,
          1.7937813998056815,
          3.3904206501079903,
          3.345034922314204,
          2.8517905735877718,
          2.8932554343515426,
          2.6287434615650396,
          3.679479655990322,
          4.944291988023277,
          2.9551589923384833,
          1.970315548397061,
          4.133925997771108,
          3.573572250821949,
          2.2801057441736505,
          2.796887744081139,
          3.932794382724473,
          4.684296090776566,
          2.8116890200753795,
          4.384379914695954,
          4.971081521334814,
          4.186258478209225,
          3.761632047985512,
          2.3170347129796856,
          2.1401733562384115,
          3.196995662718602,
          3.5409634047460994,
          2.821265452008573,
          2.723780481480727,
          4.4033201312379155,
          4.7153130149928,
          4.997103372287718,
          3.9065268548223937,
          3.9687873891992123,
          3.4634482916119396,
          4.375837100021135,
          4.818047771512238,
          4.1993376531312485,
          4.645450687143723,
          3.599444565065083,
          4.643770490966302,
          5.750552089295493,
          7.627080128570817,
          7.862509075905664,
          7.567351742017961,
          6.617686040286462,
          7.0447515896015735,
          5.6656921950987265,
          5.5417453482215295,
          5.300541310566457,
          6.197160360699273,
          6.973910554277696,
          6.614186238837551,
          5.70209439422732,
          5.787684024812829,
          4.967521027775211,
          3.016285683828192,
          2.993551445823966,
          1.458684884800412,
          1.9699409510984167,
          3.9649806008166273,
          2.179191362941848,
          1.2441913085533476,
          -0.12680808196925897,
          -1.2212833718971874,
          -0.012870929969344802,
          -0.8054526521075539,
          0.2854382558167422,
          2.1718688636009036,
          1.619714167525475,
          1.5986208166867795,
          1.043527737653303,
          0.5643284317133457,
          0.7087707869791047,
          -0.32026411470649707,
          -2.423211570673105,
          -3.299175701949043,
          -3.050376069362347,
          -4.116508254409561,
          -4.621563417035203,
          -4.049924836831571,
          -3.4946903347242353,
          -3.077705559917039,
          -3.098470907212177,
          -1.6145923365328922,
          -1.1547366322244565,
          -2.1873182602382837,
          -1.887737928204876,
          -0.6839643367947077,
          -0.31528962727014875,
          -1.0087476245153408,
          -2.5148423931404507,
          -1.5810877447705447
         ]
        },
        {
         "connectgaps": false,
         "fill": "tozeroy",
         "line": {
          "color": "green",
          "dash": "solid",
          "shape": "linear",
          "width": 0.5
         },
         "mode": "lines",
         "name": "Spread",
         "showlegend": false,
         "type": "scatter",
         "x": [
          "2015-01-01",
          "2015-01-02",
          "2015-01-03",
          "2015-01-04",
          "2015-01-05",
          "2015-01-06",
          "2015-01-07",
          "2015-01-08",
          "2015-01-09",
          "2015-01-10",
          "2015-01-11",
          "2015-01-12",
          "2015-01-13",
          "2015-01-14",
          "2015-01-15",
          "2015-01-16",
          "2015-01-17",
          "2015-01-18",
          "2015-01-19",
          "2015-01-20",
          "2015-01-21",
          "2015-01-22",
          "2015-01-23",
          "2015-01-24",
          "2015-01-25",
          "2015-01-26",
          "2015-01-27",
          "2015-01-28",
          "2015-01-29",
          "2015-01-30",
          "2015-01-31",
          "2015-02-01",
          "2015-02-02",
          "2015-02-03",
          "2015-02-04",
          "2015-02-05",
          "2015-02-06",
          "2015-02-07",
          "2015-02-08",
          "2015-02-09",
          "2015-02-10",
          "2015-02-11",
          "2015-02-12",
          "2015-02-13",
          "2015-02-14",
          "2015-02-15",
          "2015-02-16",
          "2015-02-17",
          "2015-02-18",
          "2015-02-19",
          "2015-02-20",
          "2015-02-21",
          "2015-02-22",
          "2015-02-23",
          "2015-02-24",
          "2015-02-25",
          "2015-02-26",
          "2015-02-27",
          "2015-02-28",
          "2015-03-01",
          "2015-03-02",
          "2015-03-03",
          "2015-03-04",
          "2015-03-05",
          "2015-03-06",
          "2015-03-07",
          "2015-03-08",
          "2015-03-09",
          "2015-03-10",
          "2015-03-11",
          "2015-03-12",
          "2015-03-13",
          "2015-03-14",
          "2015-03-15",
          "2015-03-16",
          "2015-03-17",
          "2015-03-18",
          "2015-03-19",
          "2015-03-20",
          "2015-03-21",
          "2015-03-22",
          "2015-03-23",
          "2015-03-24",
          "2015-03-25",
          "2015-03-26",
          "2015-03-27",
          "2015-03-28",
          "2015-03-29",
          "2015-03-30",
          "2015-03-31",
          "2015-04-01",
          "2015-04-02",
          "2015-04-03",
          "2015-04-04",
          "2015-04-05",
          "2015-04-06",
          "2015-04-07",
          "2015-04-08",
          "2015-04-09",
          "2015-04-10"
         ],
         "xaxis": "x2",
         "y": [
          "",
          "",
          "",
          "",
          "",
          "",
          "",
          "",
          "",
          "",
          "",
          "",
          "",
          "",
          "",
          "",
          "",
          "",
          "",
          "",
          "",
          "",
          "",
          "",
          "",
          "",
          "",
          "",
          "",
          "",
          1.0678508752112577,
          2.8961428041161557,
          1.5702082716086814,
          1.3179846066325869,
          1.68915523055764,
          3.0687872810323853,
          0.30034156765901177,
          "",
          "",
          0.7071777437663407,
          "",
          "",
          "",
          "",
          1.9792061250732491,
          1.5482060907214912,
          0.9166947814923612,
          0.9841923701632362,
          "",
          "",
          "",
          "",
          "",
          0.4883419406086853,
          0.9163243587686747,
          "",
          0.26750245033939635,
          2.088548426055981,
          1.3907018781052827,
          1.2689787670778063,
          0.9708932025683872,
          0.8023766302659778,
          3.5969094166450297,
          5.436335935594949,
          5.238240593944031,
          6.610100547139467,
          4.680466194689183,
          2.357059490726499,
          5.133702120819855,
          6.2569540829260735,
          4.935631472747891,
          5.983319186619935,
          5.693198484766156,
          7.446533002427401,
          5.887629510120604,
          3.542410833806408,
          5.554022215071008,
          3.663964033373054,
          5.311162443747541,
          4.860361285541825,
          2.6392999308155343,
          4.514899742241081,
          6.171632440337105,
          6.196650543376194,
          6.260592426727236,
          6.758868493102431,
          5.6439113016240094,
          4.639396696975951,
          5.805302720049458,
          5.606443206309903,
          7.080930348835752,
          5.357341784343366,
          4.239772909752306,
          4.5905590700236765,
          3.784942986793374,
          5.334397835508984,
          3.800203517499833,
          5.026265996734898,
          5.435269798578256,
          3.9531322525566717
         ],
         "yaxis": "y2"
        },
        {
         "connectgaps": false,
         "fill": "tozeroy",
         "line": {
          "color": "red",
          "dash": "solid",
          "shape": "linear",
          "width": 0.5
         },
         "mode": "lines",
         "name": "Spread",
         "showlegend": false,
         "type": "scatter",
         "x": [
          "2015-01-01",
          "2015-01-02",
          "2015-01-03",
          "2015-01-04",
          "2015-01-05",
          "2015-01-06",
          "2015-01-07",
          "2015-01-08",
          "2015-01-09",
          "2015-01-10",
          "2015-01-11",
          "2015-01-12",
          "2015-01-13",
          "2015-01-14",
          "2015-01-15",
          "2015-01-16",
          "2015-01-17",
          "2015-01-18",
          "2015-01-19",
          "2015-01-20",
          "2015-01-21",
          "2015-01-22",
          "2015-01-23",
          "2015-01-24",
          "2015-01-25",
          "2015-01-26",
          "2015-01-27",
          "2015-01-28",
          "2015-01-29",
          "2015-01-30",
          "2015-01-31",
          "2015-02-01",
          "2015-02-02",
          "2015-02-03",
          "2015-02-04",
          "2015-02-05",
          "2015-02-06",
          "2015-02-07",
          "2015-02-08",
          "2015-02-09",
          "2015-02-10",
          "2015-02-11",
          "2015-02-12",
          "2015-02-13",
          "2015-02-14",
          "2015-02-15",
          "2015-02-16",
          "2015-02-17",
          "2015-02-18",
          "2015-02-19",
          "2015-02-20",
          "2015-02-21",
          "2015-02-22",
          "2015-02-23",
          "2015-02-24",
          "2015-02-25",
          "2015-02-26",
          "2015-02-27",
          "2015-02-28",
          "2015-03-01",
          "2015-03-02",
          "2015-03-03",
          "2015-03-04",
          "2015-03-05",
          "2015-03-06",
          "2015-03-07",
          "2015-03-08",
          "2015-03-09",
          "2015-03-10",
          "2015-03-11",
          "2015-03-12",
          "2015-03-13",
          "2015-03-14",
          "2015-03-15",
          "2015-03-16",
          "2015-03-17",
          "2015-03-18",
          "2015-03-19",
          "2015-03-20",
          "2015-03-21",
          "2015-03-22",
          "2015-03-23",
          "2015-03-24",
          "2015-03-25",
          "2015-03-26",
          "2015-03-27",
          "2015-03-28",
          "2015-03-29",
          "2015-03-30",
          "2015-03-31",
          "2015-04-01",
          "2015-04-02",
          "2015-04-03",
          "2015-04-04",
          "2015-04-05",
          "2015-04-06",
          "2015-04-07",
          "2015-04-08",
          "2015-04-09",
          "2015-04-10"
         ],
         "xaxis": "x2",
         "y": [
          -1.352624778597186,
          -1.6570188295588109,
          -2.847492943173876,
          -2.757470745115943,
          -3.5423369632721196,
          -6.266219971012847,
          -6.493902505966698,
          -6.59277337897198,
          -3.9590165910347928,
          -2.936942051945134,
          -4.982223821920916,
          -3.6286293722870333,
          -3.5980760343363167,
          -3.105131903356177,
          -1.495532313013293,
          -4.090881752807809,
          -5.0219343522102164,
          -2.571106616251928,
          -1.5896935605540614,
          -3.715503030579482,
          -4.525565957530171,
          -2.1360211077815814,
          -2.533110312321421,
          -3.5060109462720703,
          -5.626696207137573,
          -4.572102814345666,
          -5.6751515586001755,
          -3.907983354404382,
          -3.0959586037515496,
          -1.2367153814831102,
          "",
          "",
          "",
          "",
          "",
          "",
          "",
          -0.8917073036853078,
          -1.1902429626115754,
          "",
          -0.7459013481842716,
          -0.2952343970779623,
          -0.819339181708429,
          -0.6616688244674895,
          "",
          "",
          "",
          "",
          -0.6574595957117308,
          -4.014223215291716,
          -3.9922915917014254,
          -2.1739918212148917,
          -0.1778683694956662,
          "",
          "",
          -0.6200179072299656,
          "",
          "",
          "",
          "",
          "",
          "",
          "",
          "",
          "",
          "",
          "",
          "",
          "",
          "",
          "",
          "",
          "",
          "",
          "",
          "",
          "",
          "",
          "",
          "",
          "",
          "",
          "",
          "",
          "",
          "",
          "",
          "",
          "",
          "",
          "",
          "",
          "",
          "",
          "",
          "",
          "",
          "",
          "",
          ""
         ],
         "yaxis": "y2"
        }
       ],
       "layout": {
        "hovermode": "x",
        "legend": {
         "bgcolor": "#F5F6F9",
         "font": {
          "color": "#4D5663"
         }
        },
        "paper_bgcolor": "#F5F6F9",
        "plot_bgcolor": "#F5F6F9",
        "template": {
         "data": {
          "bar": [
           {
            "error_x": {
             "color": "#2a3f5f"
            },
            "error_y": {
             "color": "#2a3f5f"
            },
            "marker": {
             "line": {
              "color": "#E5ECF6",
              "width": 0.5
             }
            },
            "type": "bar"
           }
          ],
          "barpolar": [
           {
            "marker": {
             "line": {
              "color": "#E5ECF6",
              "width": 0.5
             }
            },
            "type": "barpolar"
           }
          ],
          "carpet": [
           {
            "aaxis": {
             "endlinecolor": "#2a3f5f",
             "gridcolor": "white",
             "linecolor": "white",
             "minorgridcolor": "white",
             "startlinecolor": "#2a3f5f"
            },
            "baxis": {
             "endlinecolor": "#2a3f5f",
             "gridcolor": "white",
             "linecolor": "white",
             "minorgridcolor": "white",
             "startlinecolor": "#2a3f5f"
            },
            "type": "carpet"
           }
          ],
          "choropleth": [
           {
            "colorbar": {
             "outlinewidth": 0,
             "ticks": ""
            },
            "type": "choropleth"
           }
          ],
          "contour": [
           {
            "colorbar": {
             "outlinewidth": 0,
             "ticks": ""
            },
            "colorscale": [
             [
              0,
              "#0d0887"
             ],
             [
              0.1111111111111111,
              "#46039f"
             ],
             [
              0.2222222222222222,
              "#7201a8"
             ],
             [
              0.3333333333333333,
              "#9c179e"
             ],
             [
              0.4444444444444444,
              "#bd3786"
             ],
             [
              0.5555555555555556,
              "#d8576b"
             ],
             [
              0.6666666666666666,
              "#ed7953"
             ],
             [
              0.7777777777777778,
              "#fb9f3a"
             ],
             [
              0.8888888888888888,
              "#fdca26"
             ],
             [
              1,
              "#f0f921"
             ]
            ],
            "type": "contour"
           }
          ],
          "contourcarpet": [
           {
            "colorbar": {
             "outlinewidth": 0,
             "ticks": ""
            },
            "type": "contourcarpet"
           }
          ],
          "heatmap": [
           {
            "colorbar": {
             "outlinewidth": 0,
             "ticks": ""
            },
            "colorscale": [
             [
              0,
              "#0d0887"
             ],
             [
              0.1111111111111111,
              "#46039f"
             ],
             [
              0.2222222222222222,
              "#7201a8"
             ],
             [
              0.3333333333333333,
              "#9c179e"
             ],
             [
              0.4444444444444444,
              "#bd3786"
             ],
             [
              0.5555555555555556,
              "#d8576b"
             ],
             [
              0.6666666666666666,
              "#ed7953"
             ],
             [
              0.7777777777777778,
              "#fb9f3a"
             ],
             [
              0.8888888888888888,
              "#fdca26"
             ],
             [
              1,
              "#f0f921"
             ]
            ],
            "type": "heatmap"
           }
          ],
          "heatmapgl": [
           {
            "colorbar": {
             "outlinewidth": 0,
             "ticks": ""
            },
            "colorscale": [
             [
              0,
              "#0d0887"
             ],
             [
              0.1111111111111111,
              "#46039f"
             ],
             [
              0.2222222222222222,
              "#7201a8"
             ],
             [
              0.3333333333333333,
              "#9c179e"
             ],
             [
              0.4444444444444444,
              "#bd3786"
             ],
             [
              0.5555555555555556,
              "#d8576b"
             ],
             [
              0.6666666666666666,
              "#ed7953"
             ],
             [
              0.7777777777777778,
              "#fb9f3a"
             ],
             [
              0.8888888888888888,
              "#fdca26"
             ],
             [
              1,
              "#f0f921"
             ]
            ],
            "type": "heatmapgl"
           }
          ],
          "histogram": [
           {
            "marker": {
             "colorbar": {
              "outlinewidth": 0,
              "ticks": ""
             }
            },
            "type": "histogram"
           }
          ],
          "histogram2d": [
           {
            "colorbar": {
             "outlinewidth": 0,
             "ticks": ""
            },
            "colorscale": [
             [
              0,
              "#0d0887"
             ],
             [
              0.1111111111111111,
              "#46039f"
             ],
             [
              0.2222222222222222,
              "#7201a8"
             ],
             [
              0.3333333333333333,
              "#9c179e"
             ],
             [
              0.4444444444444444,
              "#bd3786"
             ],
             [
              0.5555555555555556,
              "#d8576b"
             ],
             [
              0.6666666666666666,
              "#ed7953"
             ],
             [
              0.7777777777777778,
              "#fb9f3a"
             ],
             [
              0.8888888888888888,
              "#fdca26"
             ],
             [
              1,
              "#f0f921"
             ]
            ],
            "type": "histogram2d"
           }
          ],
          "histogram2dcontour": [
           {
            "colorbar": {
             "outlinewidth": 0,
             "ticks": ""
            },
            "colorscale": [
             [
              0,
              "#0d0887"
             ],
             [
              0.1111111111111111,
              "#46039f"
             ],
             [
              0.2222222222222222,
              "#7201a8"
             ],
             [
              0.3333333333333333,
              "#9c179e"
             ],
             [
              0.4444444444444444,
              "#bd3786"
             ],
             [
              0.5555555555555556,
              "#d8576b"
             ],
             [
              0.6666666666666666,
              "#ed7953"
             ],
             [
              0.7777777777777778,
              "#fb9f3a"
             ],
             [
              0.8888888888888888,
              "#fdca26"
             ],
             [
              1,
              "#f0f921"
             ]
            ],
            "type": "histogram2dcontour"
           }
          ],
          "mesh3d": [
           {
            "colorbar": {
             "outlinewidth": 0,
             "ticks": ""
            },
            "type": "mesh3d"
           }
          ],
          "parcoords": [
           {
            "line": {
             "colorbar": {
              "outlinewidth": 0,
              "ticks": ""
             }
            },
            "type": "parcoords"
           }
          ],
          "pie": [
           {
            "automargin": true,
            "type": "pie"
           }
          ],
          "scatter": [
           {
            "marker": {
             "colorbar": {
              "outlinewidth": 0,
              "ticks": ""
             }
            },
            "type": "scatter"
           }
          ],
          "scatter3d": [
           {
            "line": {
             "colorbar": {
              "outlinewidth": 0,
              "ticks": ""
             }
            },
            "marker": {
             "colorbar": {
              "outlinewidth": 0,
              "ticks": ""
             }
            },
            "type": "scatter3d"
           }
          ],
          "scattercarpet": [
           {
            "marker": {
             "colorbar": {
              "outlinewidth": 0,
              "ticks": ""
             }
            },
            "type": "scattercarpet"
           }
          ],
          "scattergeo": [
           {
            "marker": {
             "colorbar": {
              "outlinewidth": 0,
              "ticks": ""
             }
            },
            "type": "scattergeo"
           }
          ],
          "scattergl": [
           {
            "marker": {
             "colorbar": {
              "outlinewidth": 0,
              "ticks": ""
             }
            },
            "type": "scattergl"
           }
          ],
          "scattermapbox": [
           {
            "marker": {
             "colorbar": {
              "outlinewidth": 0,
              "ticks": ""
             }
            },
            "type": "scattermapbox"
           }
          ],
          "scatterpolar": [
           {
            "marker": {
             "colorbar": {
              "outlinewidth": 0,
              "ticks": ""
             }
            },
            "type": "scatterpolar"
           }
          ],
          "scatterpolargl": [
           {
            "marker": {
             "colorbar": {
              "outlinewidth": 0,
              "ticks": ""
             }
            },
            "type": "scatterpolargl"
           }
          ],
          "scatterternary": [
           {
            "marker": {
             "colorbar": {
              "outlinewidth": 0,
              "ticks": ""
             }
            },
            "type": "scatterternary"
           }
          ],
          "surface": [
           {
            "colorbar": {
             "outlinewidth": 0,
             "ticks": ""
            },
            "colorscale": [
             [
              0,
              "#0d0887"
             ],
             [
              0.1111111111111111,
              "#46039f"
             ],
             [
              0.2222222222222222,
              "#7201a8"
             ],
             [
              0.3333333333333333,
              "#9c179e"
             ],
             [
              0.4444444444444444,
              "#bd3786"
             ],
             [
              0.5555555555555556,
              "#d8576b"
             ],
             [
              0.6666666666666666,
              "#ed7953"
             ],
             [
              0.7777777777777778,
              "#fb9f3a"
             ],
             [
              0.8888888888888888,
              "#fdca26"
             ],
             [
              1,
              "#f0f921"
             ]
            ],
            "type": "surface"
           }
          ],
          "table": [
           {
            "cells": {
             "fill": {
              "color": "#EBF0F8"
             },
             "line": {
              "color": "white"
             }
            },
            "header": {
             "fill": {
              "color": "#C8D4E3"
             },
             "line": {
              "color": "white"
             }
            },
            "type": "table"
           }
          ]
         },
         "layout": {
          "annotationdefaults": {
           "arrowcolor": "#2a3f5f",
           "arrowhead": 0,
           "arrowwidth": 1
          },
          "coloraxis": {
           "colorbar": {
            "outlinewidth": 0,
            "ticks": ""
           }
          },
          "colorscale": {
           "diverging": [
            [
             0,
             "#8e0152"
            ],
            [
             0.1,
             "#c51b7d"
            ],
            [
             0.2,
             "#de77ae"
            ],
            [
             0.3,
             "#f1b6da"
            ],
            [
             0.4,
             "#fde0ef"
            ],
            [
             0.5,
             "#f7f7f7"
            ],
            [
             0.6,
             "#e6f5d0"
            ],
            [
             0.7,
             "#b8e186"
            ],
            [
             0.8,
             "#7fbc41"
            ],
            [
             0.9,
             "#4d9221"
            ],
            [
             1,
             "#276419"
            ]
           ],
           "sequential": [
            [
             0,
             "#0d0887"
            ],
            [
             0.1111111111111111,
             "#46039f"
            ],
            [
             0.2222222222222222,
             "#7201a8"
            ],
            [
             0.3333333333333333,
             "#9c179e"
            ],
            [
             0.4444444444444444,
             "#bd3786"
            ],
            [
             0.5555555555555556,
             "#d8576b"
            ],
            [
             0.6666666666666666,
             "#ed7953"
            ],
            [
             0.7777777777777778,
             "#fb9f3a"
            ],
            [
             0.8888888888888888,
             "#fdca26"
            ],
            [
             1,
             "#f0f921"
            ]
           ],
           "sequentialminus": [
            [
             0,
             "#0d0887"
            ],
            [
             0.1111111111111111,
             "#46039f"
            ],
            [
             0.2222222222222222,
             "#7201a8"
            ],
            [
             0.3333333333333333,
             "#9c179e"
            ],
            [
             0.4444444444444444,
             "#bd3786"
            ],
            [
             0.5555555555555556,
             "#d8576b"
            ],
            [
             0.6666666666666666,
             "#ed7953"
            ],
            [
             0.7777777777777778,
             "#fb9f3a"
            ],
            [
             0.8888888888888888,
             "#fdca26"
            ],
            [
             1,
             "#f0f921"
            ]
           ]
          },
          "colorway": [
           "#636efa",
           "#EF553B",
           "#00cc96",
           "#ab63fa",
           "#FFA15A",
           "#19d3f3",
           "#FF6692",
           "#B6E880",
           "#FF97FF",
           "#FECB52"
          ],
          "font": {
           "color": "#2a3f5f"
          },
          "geo": {
           "bgcolor": "white",
           "lakecolor": "white",
           "landcolor": "#E5ECF6",
           "showlakes": true,
           "showland": true,
           "subunitcolor": "white"
          },
          "hoverlabel": {
           "align": "left"
          },
          "hovermode": "closest",
          "mapbox": {
           "style": "light"
          },
          "paper_bgcolor": "white",
          "plot_bgcolor": "#E5ECF6",
          "polar": {
           "angularaxis": {
            "gridcolor": "white",
            "linecolor": "white",
            "ticks": ""
           },
           "bgcolor": "#E5ECF6",
           "radialaxis": {
            "gridcolor": "white",
            "linecolor": "white",
            "ticks": ""
           }
          },
          "scene": {
           "xaxis": {
            "backgroundcolor": "#E5ECF6",
            "gridcolor": "white",
            "gridwidth": 2,
            "linecolor": "white",
            "showbackground": true,
            "ticks": "",
            "zerolinecolor": "white"
           },
           "yaxis": {
            "backgroundcolor": "#E5ECF6",
            "gridcolor": "white",
            "gridwidth": 2,
            "linecolor": "white",
            "showbackground": true,
            "ticks": "",
            "zerolinecolor": "white"
           },
           "zaxis": {
            "backgroundcolor": "#E5ECF6",
            "gridcolor": "white",
            "gridwidth": 2,
            "linecolor": "white",
            "showbackground": true,
            "ticks": "",
            "zerolinecolor": "white"
           }
          },
          "shapedefaults": {
           "line": {
            "color": "#2a3f5f"
           }
          },
          "ternary": {
           "aaxis": {
            "gridcolor": "white",
            "linecolor": "white",
            "ticks": ""
           },
           "baxis": {
            "gridcolor": "white",
            "linecolor": "white",
            "ticks": ""
           },
           "bgcolor": "#E5ECF6",
           "caxis": {
            "gridcolor": "white",
            "linecolor": "white",
            "ticks": ""
           }
          },
          "title": {
           "x": 0.05
          },
          "xaxis": {
           "automargin": true,
           "gridcolor": "white",
           "linecolor": "white",
           "ticks": "",
           "title": {
            "standoff": 15
           },
           "zerolinecolor": "white",
           "zerolinewidth": 2
          },
          "yaxis": {
           "automargin": true,
           "gridcolor": "white",
           "linecolor": "white",
           "ticks": "",
           "title": {
            "standoff": 15
           },
           "zerolinecolor": "white",
           "zerolinewidth": 2
          }
         }
        },
        "title": {
         "font": {
          "color": "#4D5663"
         },
         "x": 0.5
        },
        "xaxis": {
         "gridcolor": "#E1E5ED",
         "showgrid": true,
         "tickfont": {
          "color": "#4D5663"
         },
         "title": {
          "font": {
           "color": "#4D5663"
          },
          "text": ""
         },
         "zerolinecolor": "#E1E5ED"
        },
        "xaxis2": {
         "anchor": "y2",
         "gridcolor": "#E1E5ED",
         "showgrid": true,
         "showticklabels": false,
         "tickfont": {
          "color": "#4D5663"
         },
         "title": {
          "font": {
           "color": "#4D5663"
          },
          "text": ""
         },
         "zerolinecolor": "#E1E5ED"
        },
        "yaxis": {
         "domain": [
          0.3,
          1
         ],
         "gridcolor": "#E1E5ED",
         "showgrid": true,
         "tickfont": {
          "color": "#4D5663"
         },
         "title": {
          "font": {
           "color": "#4D5663"
          },
          "text": ""
         },
         "zerolinecolor": "#E1E5ED"
        },
        "yaxis2": {
         "domain": [
          0,
          0.25
         ],
         "gridcolor": "#E1E5ED",
         "showgrid": true,
         "tickfont": {
          "color": "#4D5663"
         },
         "title": {
          "font": {
           "color": "#4D5663"
          },
          "text": "Spread"
         },
         "zerolinecolor": "#E1E5ED"
        }
       }
      },
      "text/html": "<div>\n        \n        \n            <div id=\"3ded7560-b91b-495a-999a-e89518bdbb2d\" class=\"plotly-graph-div\" style=\"height:525px; width:100%;\"></div>\n            <script type=\"text/javascript\">\n                require([\"plotly\"], function(Plotly) {\n                    window.PLOTLYENV=window.PLOTLYENV || {};\n                    window.PLOTLYENV.BASE_URL='https://plot.ly';\n                    \n                if (document.getElementById(\"3ded7560-b91b-495a-999a-e89518bdbb2d\")) {\n                    Plotly.newPlot(\n                        '3ded7560-b91b-495a-999a-e89518bdbb2d',\n                        [{\"line\": {\"color\": \"rgba(255, 153, 51, 1.0)\", \"dash\": \"solid\", \"shape\": \"linear\", \"width\": 1.3}, \"mode\": \"lines\", \"name\": \"VERZ\", \"text\": \"\", \"type\": \"scatter\", \"x\": [\"2015-01-01\", \"2015-01-02\", \"2015-01-03\", \"2015-01-04\", \"2015-01-05\", \"2015-01-06\", \"2015-01-07\", \"2015-01-08\", \"2015-01-09\", \"2015-01-10\", \"2015-01-11\", \"2015-01-12\", \"2015-01-13\", \"2015-01-14\", \"2015-01-15\", \"2015-01-16\", \"2015-01-17\", \"2015-01-18\", \"2015-01-19\", \"2015-01-20\", \"2015-01-21\", \"2015-01-22\", \"2015-01-23\", \"2015-01-24\", \"2015-01-25\", \"2015-01-26\", \"2015-01-27\", \"2015-01-28\", \"2015-01-29\", \"2015-01-30\", \"2015-01-31\", \"2015-02-01\", \"2015-02-02\", \"2015-02-03\", \"2015-02-04\", \"2015-02-05\", \"2015-02-06\", \"2015-02-07\", \"2015-02-08\", \"2015-02-09\", \"2015-02-10\", \"2015-02-11\", \"2015-02-12\", \"2015-02-13\", \"2015-02-14\", \"2015-02-15\", \"2015-02-16\", \"2015-02-17\", \"2015-02-18\", \"2015-02-19\", \"2015-02-20\", \"2015-02-21\", \"2015-02-22\", \"2015-02-23\", \"2015-02-24\", \"2015-02-25\", \"2015-02-26\", \"2015-02-27\", \"2015-02-28\", \"2015-03-01\", \"2015-03-02\", \"2015-03-03\", \"2015-03-04\", \"2015-03-05\", \"2015-03-06\", \"2015-03-07\", \"2015-03-08\", \"2015-03-09\", \"2015-03-10\", \"2015-03-11\", \"2015-03-12\", \"2015-03-13\", \"2015-03-14\", \"2015-03-15\", \"2015-03-16\", \"2015-03-17\", \"2015-03-18\", \"2015-03-19\", \"2015-03-20\", \"2015-03-21\", \"2015-03-22\", \"2015-03-23\", \"2015-03-24\", \"2015-03-25\", \"2015-03-26\", \"2015-03-27\", \"2015-03-28\", \"2015-03-29\", \"2015-03-30\", \"2015-03-31\", \"2015-04-01\", \"2015-04-02\", \"2015-04-03\", \"2015-04-04\", \"2015-04-05\", \"2015-04-06\", \"2015-04-07\", \"2015-04-08\", \"2015-04-09\", \"2015-04-10\"], \"y\": [-0.14798997143547915, -0.7425181638076277, -1.629112387980162, -1.1534696529044854, -1.6916336318363019, -2.1993395653892347, -2.5420785946771374, -3.249116056341389, -1.2596339737619773, -1.1431606521394526, -1.591803171812925, -0.2835944499728289, -0.7462854607485447, -0.21187646900463442, 1.1332111485517466, -0.41140209681748763, -0.07764236418693948, 0.3840523760865555, 0.3806219878429994, 0.4184229671916261, -0.9519937067082221, 0.14408463639206925, 0.26377743175971813, 0.42678343645240235, -0.9424001163610074, -1.7604137942702862, -1.2907716439042218, 1.0630981669304322, 1.0902998744576748, 2.524916666502402, 3.384885588190943, 5.036316160354567, 4.767203934327283, 4.858948011378686, 4.510420682566213, 5.792567762513112, 4.703661698896927, 3.823605711307492, 3.8068604096761427, 4.613704598588734, 3.2228860410149407, 3.1682138945339773, 3.556497918312706, 4.1563789470447485, 6.178543778204498, 6.193656777865214, 4.516139346557444, 5.6279628611295385, 5.093092493583762, 3.612856913279101, 3.8702174842042387, 5.39335992080307, 6.439817670790796, 7.533093530210259, 6.582016553867401, 4.921727440991564, 5.568043760905853, 8.285708786755254, 8.364612432382978, 7.883165005915357, 6.672987596795707, 6.590060655078807, 8.56443044442024, 8.452621619423141, 8.231792039767997, 8.06878543193988, 6.650407145787599, 6.322040091543126, 7.3128934837617035, 7.501145391479421, 4.808823390778633, 4.762035814722748, 5.680327554796811, 6.6410803503198474, 6.173067765937346, 5.714279697407312, 7.173736382596482, 5.262584850059834, 6.354690181400844, 5.424689717255171, 3.348070717794639, 4.194635627534584, 3.7484208696640002, 2.8974748414271505, 3.2102163573648888, 2.642360238692871, 1.0223478845888063, 0.5894718601443806, 2.310612385325222, 2.5287376463928646, 3.982459441623575, 3.742749447810474, 3.0850362775278493, 2.4032408097853932, 1.897205058588498, 4.650433498714276, 3.4849138902296843, 4.017518372219557, 2.9204274054378057, 2.3720445077861267]}, {\"line\": {\"color\": \"rgba(55, 128, 191, 1.0)\", \"dash\": \"solid\", \"shape\": \"linear\", \"width\": 1.3}, \"mode\": \"lines\", \"name\": \"IBM\", \"text\": \"\", \"type\": \"scatter\", \"x\": [\"2015-01-01\", \"2015-01-02\", \"2015-01-03\", \"2015-01-04\", \"2015-01-05\", \"2015-01-06\", \"2015-01-07\", \"2015-01-08\", \"2015-01-09\", \"2015-01-10\", \"2015-01-11\", \"2015-01-12\", \"2015-01-13\", \"2015-01-14\", \"2015-01-15\", \"2015-01-16\", \"2015-01-17\", \"2015-01-18\", \"2015-01-19\", \"2015-01-20\", \"2015-01-21\", \"2015-01-22\", \"2015-01-23\", \"2015-01-24\", \"2015-01-25\", \"2015-01-26\", \"2015-01-27\", \"2015-01-28\", \"2015-01-29\", \"2015-01-30\", \"2015-01-31\", \"2015-02-01\", \"2015-02-02\", \"2015-02-03\", \"2015-02-04\", \"2015-02-05\", \"2015-02-06\", \"2015-02-07\", \"2015-02-08\", \"2015-02-09\", \"2015-02-10\", \"2015-02-11\", \"2015-02-12\", \"2015-02-13\", \"2015-02-14\", \"2015-02-15\", \"2015-02-16\", \"2015-02-17\", \"2015-02-18\", \"2015-02-19\", \"2015-02-20\", \"2015-02-21\", \"2015-02-22\", \"2015-02-23\", \"2015-02-24\", \"2015-02-25\", \"2015-02-26\", \"2015-02-27\", \"2015-02-28\", \"2015-03-01\", \"2015-03-02\", \"2015-03-03\", \"2015-03-04\", \"2015-03-05\", \"2015-03-06\", \"2015-03-07\", \"2015-03-08\", \"2015-03-09\", \"2015-03-10\", \"2015-03-11\", \"2015-03-12\", \"2015-03-13\", \"2015-03-14\", \"2015-03-15\", \"2015-03-16\", \"2015-03-17\", \"2015-03-18\", \"2015-03-19\", \"2015-03-20\", \"2015-03-21\", \"2015-03-22\", \"2015-03-23\", \"2015-03-24\", \"2015-03-25\", \"2015-03-26\", \"2015-03-27\", \"2015-03-28\", \"2015-03-29\", \"2015-03-30\", \"2015-03-31\", \"2015-04-01\", \"2015-04-02\", \"2015-04-03\", \"2015-04-04\", \"2015-04-05\", \"2015-04-06\", \"2015-04-07\", \"2015-04-08\", \"2015-04-09\", \"2015-04-10\"], \"y\": [1.204634807161707, 0.9145006657511832, 1.218380555193714, 1.6040010922114574, 1.8507033314358179, 4.066880405623611, 3.9518239112895603, 3.343657322630591, 2.6993826172728155, 1.7937813998056815, 3.3904206501079903, 3.345034922314204, 2.8517905735877718, 2.8932554343515426, 2.6287434615650396, 3.679479655990322, 4.944291988023277, 2.9551589923384833, 1.970315548397061, 4.133925997771108, 3.573572250821949, 2.2801057441736505, 2.796887744081139, 3.932794382724473, 4.684296090776566, 2.8116890200753795, 4.384379914695954, 4.971081521334814, 4.186258478209225, 3.761632047985512, 2.3170347129796856, 2.1401733562384115, 3.196995662718602, 3.5409634047460994, 2.821265452008573, 2.723780481480727, 4.4033201312379155, 4.7153130149928, 4.997103372287718, 3.9065268548223937, 3.9687873891992123, 3.4634482916119396, 4.375837100021135, 4.818047771512238, 4.1993376531312485, 4.645450687143723, 3.599444565065083, 4.643770490966302, 5.750552089295493, 7.627080128570817, 7.862509075905664, 7.567351742017961, 6.617686040286462, 7.0447515896015735, 5.6656921950987265, 5.5417453482215295, 5.300541310566457, 6.197160360699273, 6.973910554277696, 6.614186238837551, 5.70209439422732, 5.787684024812829, 4.967521027775211, 3.016285683828192, 2.993551445823966, 1.458684884800412, 1.9699409510984167, 3.9649806008166273, 2.179191362941848, 1.2441913085533476, -0.12680808196925897, -1.2212833718971874, -0.012870929969344802, -0.8054526521075539, 0.2854382558167422, 2.1718688636009036, 1.619714167525475, 1.5986208166867795, 1.043527737653303, 0.5643284317133457, 0.7087707869791047, -0.32026411470649707, -2.423211570673105, -3.299175701949043, -3.050376069362347, -4.116508254409561, -4.621563417035203, -4.049924836831571, -3.4946903347242353, -3.077705559917039, -3.098470907212177, -1.6145923365328922, -1.1547366322244565, -2.1873182602382837, -1.887737928204876, -0.6839643367947077, -0.31528962727014875, -1.0087476245153408, -2.5148423931404507, -1.5810877447705447]}, {\"connectgaps\": false, \"fill\": \"tozeroy\", \"line\": {\"color\": \"green\", \"dash\": \"solid\", \"shape\": \"linear\", \"width\": 0.5}, \"mode\": \"lines\", \"name\": \"Spread\", \"showlegend\": false, \"type\": \"scatter\", \"x\": [\"2015-01-01\", \"2015-01-02\", \"2015-01-03\", \"2015-01-04\", \"2015-01-05\", \"2015-01-06\", \"2015-01-07\", \"2015-01-08\", \"2015-01-09\", \"2015-01-10\", \"2015-01-11\", \"2015-01-12\", \"2015-01-13\", \"2015-01-14\", \"2015-01-15\", \"2015-01-16\", \"2015-01-17\", \"2015-01-18\", \"2015-01-19\", \"2015-01-20\", \"2015-01-21\", \"2015-01-22\", \"2015-01-23\", \"2015-01-24\", \"2015-01-25\", \"2015-01-26\", \"2015-01-27\", \"2015-01-28\", \"2015-01-29\", \"2015-01-30\", \"2015-01-31\", \"2015-02-01\", \"2015-02-02\", \"2015-02-03\", \"2015-02-04\", \"2015-02-05\", \"2015-02-06\", \"2015-02-07\", \"2015-02-08\", \"2015-02-09\", \"2015-02-10\", \"2015-02-11\", \"2015-02-12\", \"2015-02-13\", \"2015-02-14\", \"2015-02-15\", \"2015-02-16\", \"2015-02-17\", \"2015-02-18\", \"2015-02-19\", \"2015-02-20\", \"2015-02-21\", \"2015-02-22\", \"2015-02-23\", \"2015-02-24\", \"2015-02-25\", \"2015-02-26\", \"2015-02-27\", \"2015-02-28\", \"2015-03-01\", \"2015-03-02\", \"2015-03-03\", \"2015-03-04\", \"2015-03-05\", \"2015-03-06\", \"2015-03-07\", \"2015-03-08\", \"2015-03-09\", \"2015-03-10\", \"2015-03-11\", \"2015-03-12\", \"2015-03-13\", \"2015-03-14\", \"2015-03-15\", \"2015-03-16\", \"2015-03-17\", \"2015-03-18\", \"2015-03-19\", \"2015-03-20\", \"2015-03-21\", \"2015-03-22\", \"2015-03-23\", \"2015-03-24\", \"2015-03-25\", \"2015-03-26\", \"2015-03-27\", \"2015-03-28\", \"2015-03-29\", \"2015-03-30\", \"2015-03-31\", \"2015-04-01\", \"2015-04-02\", \"2015-04-03\", \"2015-04-04\", \"2015-04-05\", \"2015-04-06\", \"2015-04-07\", \"2015-04-08\", \"2015-04-09\", \"2015-04-10\"], \"xaxis\": \"x2\", \"y\": [\"\", \"\", \"\", \"\", \"\", \"\", \"\", \"\", \"\", \"\", \"\", \"\", \"\", \"\", \"\", \"\", \"\", \"\", \"\", \"\", \"\", \"\", \"\", \"\", \"\", \"\", \"\", \"\", \"\", \"\", 1.0678508752112577, 2.8961428041161557, 1.5702082716086814, 1.3179846066325869, 1.68915523055764, 3.0687872810323853, 0.30034156765901177, \"\", \"\", 0.7071777437663407, \"\", \"\", \"\", \"\", 1.9792061250732491, 1.5482060907214912, 0.9166947814923612, 0.9841923701632362, \"\", \"\", \"\", \"\", \"\", 0.4883419406086853, 0.9163243587686747, \"\", 0.26750245033939635, 2.088548426055981, 1.3907018781052827, 1.2689787670778063, 0.9708932025683872, 0.8023766302659778, 3.5969094166450297, 5.436335935594949, 5.238240593944031, 6.610100547139467, 4.680466194689183, 2.357059490726499, 5.133702120819855, 6.2569540829260735, 4.935631472747891, 5.983319186619935, 5.693198484766156, 7.446533002427401, 5.887629510120604, 3.542410833806408, 5.554022215071008, 3.663964033373054, 5.311162443747541, 4.860361285541825, 2.6392999308155343, 4.514899742241081, 6.171632440337105, 6.196650543376194, 6.260592426727236, 6.758868493102431, 5.6439113016240094, 4.639396696975951, 5.805302720049458, 5.606443206309903, 7.080930348835752, 5.357341784343366, 4.239772909752306, 4.5905590700236765, 3.784942986793374, 5.334397835508984, 3.800203517499833, 5.026265996734898, 5.435269798578256, 3.9531322525566717], \"yaxis\": \"y2\"}, {\"connectgaps\": false, \"fill\": \"tozeroy\", \"line\": {\"color\": \"red\", \"dash\": \"solid\", \"shape\": \"linear\", \"width\": 0.5}, \"mode\": \"lines\", \"name\": \"Spread\", \"showlegend\": false, \"type\": \"scatter\", \"x\": [\"2015-01-01\", \"2015-01-02\", \"2015-01-03\", \"2015-01-04\", \"2015-01-05\", \"2015-01-06\", \"2015-01-07\", \"2015-01-08\", \"2015-01-09\", \"2015-01-10\", \"2015-01-11\", \"2015-01-12\", \"2015-01-13\", \"2015-01-14\", \"2015-01-15\", \"2015-01-16\", \"2015-01-17\", \"2015-01-18\", \"2015-01-19\", \"2015-01-20\", \"2015-01-21\", \"2015-01-22\", \"2015-01-23\", \"2015-01-24\", \"2015-01-25\", \"2015-01-26\", \"2015-01-27\", \"2015-01-28\", \"2015-01-29\", \"2015-01-30\", \"2015-01-31\", \"2015-02-01\", \"2015-02-02\", \"2015-02-03\", \"2015-02-04\", \"2015-02-05\", \"2015-02-06\", \"2015-02-07\", \"2015-02-08\", \"2015-02-09\", \"2015-02-10\", \"2015-02-11\", \"2015-02-12\", \"2015-02-13\", \"2015-02-14\", \"2015-02-15\", \"2015-02-16\", \"2015-02-17\", \"2015-02-18\", \"2015-02-19\", \"2015-02-20\", \"2015-02-21\", \"2015-02-22\", \"2015-02-23\", \"2015-02-24\", \"2015-02-25\", \"2015-02-26\", \"2015-02-27\", \"2015-02-28\", \"2015-03-01\", \"2015-03-02\", \"2015-03-03\", \"2015-03-04\", \"2015-03-05\", \"2015-03-06\", \"2015-03-07\", \"2015-03-08\", \"2015-03-09\", \"2015-03-10\", \"2015-03-11\", \"2015-03-12\", \"2015-03-13\", \"2015-03-14\", \"2015-03-15\", \"2015-03-16\", \"2015-03-17\", \"2015-03-18\", \"2015-03-19\", \"2015-03-20\", \"2015-03-21\", \"2015-03-22\", \"2015-03-23\", \"2015-03-24\", \"2015-03-25\", \"2015-03-26\", \"2015-03-27\", \"2015-03-28\", \"2015-03-29\", \"2015-03-30\", \"2015-03-31\", \"2015-04-01\", \"2015-04-02\", \"2015-04-03\", \"2015-04-04\", \"2015-04-05\", \"2015-04-06\", \"2015-04-07\", \"2015-04-08\", \"2015-04-09\", \"2015-04-10\"], \"xaxis\": \"x2\", \"y\": [-1.352624778597186, -1.6570188295588109, -2.847492943173876, -2.757470745115943, -3.5423369632721196, -6.266219971012847, -6.493902505966698, -6.59277337897198, -3.9590165910347928, -2.936942051945134, -4.982223821920916, -3.6286293722870333, -3.5980760343363167, -3.105131903356177, -1.495532313013293, -4.090881752807809, -5.0219343522102164, -2.571106616251928, -1.5896935605540614, -3.715503030579482, -4.525565957530171, -2.1360211077815814, -2.533110312321421, -3.5060109462720703, -5.626696207137573, -4.572102814345666, -5.6751515586001755, -3.907983354404382, -3.0959586037515496, -1.2367153814831102, \"\", \"\", \"\", \"\", \"\", \"\", \"\", -0.8917073036853078, -1.1902429626115754, \"\", -0.7459013481842716, -0.2952343970779623, -0.819339181708429, -0.6616688244674895, \"\", \"\", \"\", \"\", -0.6574595957117308, -4.014223215291716, -3.9922915917014254, -2.1739918212148917, -0.1778683694956662, \"\", \"\", -0.6200179072299656, \"\", \"\", \"\", \"\", \"\", \"\", \"\", \"\", \"\", \"\", \"\", \"\", \"\", \"\", \"\", \"\", \"\", \"\", \"\", \"\", \"\", \"\", \"\", \"\", \"\", \"\", \"\", \"\", \"\", \"\", \"\", \"\", \"\", \"\", \"\", \"\", \"\", \"\", \"\", \"\", \"\", \"\", \"\", \"\"], \"yaxis\": \"y2\"}],\n                        {\"hovermode\": \"x\", \"legend\": {\"bgcolor\": \"#F5F6F9\", \"font\": {\"color\": \"#4D5663\"}}, \"paper_bgcolor\": \"#F5F6F9\", \"plot_bgcolor\": \"#F5F6F9\", \"template\": {\"data\": {\"bar\": [{\"error_x\": {\"color\": \"#2a3f5f\"}, \"error_y\": {\"color\": \"#2a3f5f\"}, \"marker\": {\"line\": {\"color\": \"#E5ECF6\", \"width\": 0.5}}, \"type\": \"bar\"}], \"barpolar\": [{\"marker\": {\"line\": {\"color\": \"#E5ECF6\", \"width\": 0.5}}, \"type\": \"barpolar\"}], \"carpet\": [{\"aaxis\": {\"endlinecolor\": \"#2a3f5f\", \"gridcolor\": \"white\", \"linecolor\": \"white\", \"minorgridcolor\": \"white\", \"startlinecolor\": \"#2a3f5f\"}, \"baxis\": {\"endlinecolor\": \"#2a3f5f\", \"gridcolor\": \"white\", \"linecolor\": \"white\", \"minorgridcolor\": \"white\", \"startlinecolor\": \"#2a3f5f\"}, \"type\": \"carpet\"}], \"choropleth\": [{\"colorbar\": {\"outlinewidth\": 0, \"ticks\": \"\"}, \"type\": \"choropleth\"}], \"contour\": [{\"colorbar\": {\"outlinewidth\": 0, \"ticks\": \"\"}, \"colorscale\": [[0.0, \"#0d0887\"], [0.1111111111111111, \"#46039f\"], [0.2222222222222222, \"#7201a8\"], [0.3333333333333333, \"#9c179e\"], [0.4444444444444444, \"#bd3786\"], [0.5555555555555556, \"#d8576b\"], [0.6666666666666666, \"#ed7953\"], [0.7777777777777778, \"#fb9f3a\"], [0.8888888888888888, \"#fdca26\"], [1.0, \"#f0f921\"]], \"type\": \"contour\"}], \"contourcarpet\": [{\"colorbar\": {\"outlinewidth\": 0, \"ticks\": \"\"}, \"type\": \"contourcarpet\"}], \"heatmap\": [{\"colorbar\": {\"outlinewidth\": 0, \"ticks\": \"\"}, \"colorscale\": [[0.0, \"#0d0887\"], [0.1111111111111111, \"#46039f\"], [0.2222222222222222, \"#7201a8\"], [0.3333333333333333, \"#9c179e\"], [0.4444444444444444, \"#bd3786\"], [0.5555555555555556, \"#d8576b\"], [0.6666666666666666, \"#ed7953\"], [0.7777777777777778, \"#fb9f3a\"], [0.8888888888888888, \"#fdca26\"], [1.0, \"#f0f921\"]], \"type\": \"heatmap\"}], \"heatmapgl\": [{\"colorbar\": {\"outlinewidth\": 0, \"ticks\": \"\"}, \"colorscale\": [[0.0, \"#0d0887\"], [0.1111111111111111, \"#46039f\"], [0.2222222222222222, \"#7201a8\"], [0.3333333333333333, \"#9c179e\"], [0.4444444444444444, \"#bd3786\"], [0.5555555555555556, \"#d8576b\"], [0.6666666666666666, \"#ed7953\"], [0.7777777777777778, \"#fb9f3a\"], [0.8888888888888888, \"#fdca26\"], [1.0, \"#f0f921\"]], \"type\": \"heatmapgl\"}], \"histogram\": [{\"marker\": {\"colorbar\": {\"outlinewidth\": 0, \"ticks\": \"\"}}, \"type\": \"histogram\"}], \"histogram2d\": [{\"colorbar\": {\"outlinewidth\": 0, \"ticks\": \"\"}, \"colorscale\": [[0.0, \"#0d0887\"], [0.1111111111111111, \"#46039f\"], [0.2222222222222222, \"#7201a8\"], [0.3333333333333333, \"#9c179e\"], [0.4444444444444444, \"#bd3786\"], [0.5555555555555556, \"#d8576b\"], [0.6666666666666666, \"#ed7953\"], [0.7777777777777778, \"#fb9f3a\"], [0.8888888888888888, \"#fdca26\"], [1.0, \"#f0f921\"]], \"type\": \"histogram2d\"}], \"histogram2dcontour\": [{\"colorbar\": {\"outlinewidth\": 0, \"ticks\": \"\"}, \"colorscale\": [[0.0, \"#0d0887\"], [0.1111111111111111, \"#46039f\"], [0.2222222222222222, \"#7201a8\"], [0.3333333333333333, \"#9c179e\"], [0.4444444444444444, \"#bd3786\"], [0.5555555555555556, \"#d8576b\"], [0.6666666666666666, \"#ed7953\"], [0.7777777777777778, \"#fb9f3a\"], [0.8888888888888888, \"#fdca26\"], [1.0, \"#f0f921\"]], \"type\": \"histogram2dcontour\"}], \"mesh3d\": [{\"colorbar\": {\"outlinewidth\": 0, \"ticks\": \"\"}, \"type\": \"mesh3d\"}], \"parcoords\": [{\"line\": {\"colorbar\": {\"outlinewidth\": 0, \"ticks\": \"\"}}, \"type\": \"parcoords\"}], \"pie\": [{\"automargin\": true, \"type\": \"pie\"}], \"scatter\": [{\"marker\": {\"colorbar\": {\"outlinewidth\": 0, \"ticks\": \"\"}}, \"type\": \"scatter\"}], \"scatter3d\": [{\"line\": {\"colorbar\": {\"outlinewidth\": 0, \"ticks\": \"\"}}, \"marker\": {\"colorbar\": {\"outlinewidth\": 0, \"ticks\": \"\"}}, \"type\": \"scatter3d\"}], \"scattercarpet\": [{\"marker\": {\"colorbar\": {\"outlinewidth\": 0, \"ticks\": \"\"}}, \"type\": \"scattercarpet\"}], \"scattergeo\": [{\"marker\": {\"colorbar\": {\"outlinewidth\": 0, \"ticks\": \"\"}}, \"type\": \"scattergeo\"}], \"scattergl\": [{\"marker\": {\"colorbar\": {\"outlinewidth\": 0, \"ticks\": \"\"}}, \"type\": \"scattergl\"}], \"scattermapbox\": [{\"marker\": {\"colorbar\": {\"outlinewidth\": 0, \"ticks\": \"\"}}, \"type\": \"scattermapbox\"}], \"scatterpolar\": [{\"marker\": {\"colorbar\": {\"outlinewidth\": 0, \"ticks\": \"\"}}, \"type\": \"scatterpolar\"}], \"scatterpolargl\": [{\"marker\": {\"colorbar\": {\"outlinewidth\": 0, \"ticks\": \"\"}}, \"type\": \"scatterpolargl\"}], \"scatterternary\": [{\"marker\": {\"colorbar\": {\"outlinewidth\": 0, \"ticks\": \"\"}}, \"type\": \"scatterternary\"}], \"surface\": [{\"colorbar\": {\"outlinewidth\": 0, \"ticks\": \"\"}, \"colorscale\": [[0.0, \"#0d0887\"], [0.1111111111111111, \"#46039f\"], [0.2222222222222222, \"#7201a8\"], [0.3333333333333333, \"#9c179e\"], [0.4444444444444444, \"#bd3786\"], [0.5555555555555556, \"#d8576b\"], [0.6666666666666666, \"#ed7953\"], [0.7777777777777778, \"#fb9f3a\"], [0.8888888888888888, \"#fdca26\"], [1.0, \"#f0f921\"]], \"type\": \"surface\"}], \"table\": [{\"cells\": {\"fill\": {\"color\": \"#EBF0F8\"}, \"line\": {\"color\": \"white\"}}, \"header\": {\"fill\": {\"color\": \"#C8D4E3\"}, \"line\": {\"color\": \"white\"}}, \"type\": \"table\"}]}, \"layout\": {\"annotationdefaults\": {\"arrowcolor\": \"#2a3f5f\", \"arrowhead\": 0, \"arrowwidth\": 1}, \"coloraxis\": {\"colorbar\": {\"outlinewidth\": 0, \"ticks\": \"\"}}, \"colorscale\": {\"diverging\": [[0, \"#8e0152\"], [0.1, \"#c51b7d\"], [0.2, \"#de77ae\"], [0.3, \"#f1b6da\"], [0.4, \"#fde0ef\"], [0.5, \"#f7f7f7\"], [0.6, \"#e6f5d0\"], [0.7, \"#b8e186\"], [0.8, \"#7fbc41\"], [0.9, \"#4d9221\"], [1, \"#276419\"]], \"sequential\": [[0.0, \"#0d0887\"], [0.1111111111111111, \"#46039f\"], [0.2222222222222222, \"#7201a8\"], [0.3333333333333333, \"#9c179e\"], [0.4444444444444444, \"#bd3786\"], [0.5555555555555556, \"#d8576b\"], [0.6666666666666666, \"#ed7953\"], [0.7777777777777778, \"#fb9f3a\"], [0.8888888888888888, \"#fdca26\"], [1.0, \"#f0f921\"]], \"sequentialminus\": [[0.0, \"#0d0887\"], [0.1111111111111111, \"#46039f\"], [0.2222222222222222, \"#7201a8\"], [0.3333333333333333, \"#9c179e\"], [0.4444444444444444, \"#bd3786\"], [0.5555555555555556, \"#d8576b\"], [0.6666666666666666, \"#ed7953\"], [0.7777777777777778, \"#fb9f3a\"], [0.8888888888888888, \"#fdca26\"], [1.0, \"#f0f921\"]]}, \"colorway\": [\"#636efa\", \"#EF553B\", \"#00cc96\", \"#ab63fa\", \"#FFA15A\", \"#19d3f3\", \"#FF6692\", \"#B6E880\", \"#FF97FF\", \"#FECB52\"], \"font\": {\"color\": \"#2a3f5f\"}, \"geo\": {\"bgcolor\": \"white\", \"lakecolor\": \"white\", \"landcolor\": \"#E5ECF6\", \"showlakes\": true, \"showland\": true, \"subunitcolor\": \"white\"}, \"hoverlabel\": {\"align\": \"left\"}, \"hovermode\": \"closest\", \"mapbox\": {\"style\": \"light\"}, \"paper_bgcolor\": \"white\", \"plot_bgcolor\": \"#E5ECF6\", \"polar\": {\"angularaxis\": {\"gridcolor\": \"white\", \"linecolor\": \"white\", \"ticks\": \"\"}, \"bgcolor\": \"#E5ECF6\", \"radialaxis\": {\"gridcolor\": \"white\", \"linecolor\": \"white\", \"ticks\": \"\"}}, \"scene\": {\"xaxis\": {\"backgroundcolor\": \"#E5ECF6\", \"gridcolor\": \"white\", \"gridwidth\": 2, \"linecolor\": \"white\", \"showbackground\": true, \"ticks\": \"\", \"zerolinecolor\": \"white\"}, \"yaxis\": {\"backgroundcolor\": \"#E5ECF6\", \"gridcolor\": \"white\", \"gridwidth\": 2, \"linecolor\": \"white\", \"showbackground\": true, \"ticks\": \"\", \"zerolinecolor\": \"white\"}, \"zaxis\": {\"backgroundcolor\": \"#E5ECF6\", \"gridcolor\": \"white\", \"gridwidth\": 2, \"linecolor\": \"white\", \"showbackground\": true, \"ticks\": \"\", \"zerolinecolor\": \"white\"}}, \"shapedefaults\": {\"line\": {\"color\": \"#2a3f5f\"}}, \"ternary\": {\"aaxis\": {\"gridcolor\": \"white\", \"linecolor\": \"white\", \"ticks\": \"\"}, \"baxis\": {\"gridcolor\": \"white\", \"linecolor\": \"white\", \"ticks\": \"\"}, \"bgcolor\": \"#E5ECF6\", \"caxis\": {\"gridcolor\": \"white\", \"linecolor\": \"white\", \"ticks\": \"\"}}, \"title\": {\"x\": 0.05}, \"xaxis\": {\"automargin\": true, \"gridcolor\": \"white\", \"linecolor\": \"white\", \"ticks\": \"\", \"title\": {\"standoff\": 15}, \"zerolinecolor\": \"white\", \"zerolinewidth\": 2}, \"yaxis\": {\"automargin\": true, \"gridcolor\": \"white\", \"linecolor\": \"white\", \"ticks\": \"\", \"title\": {\"standoff\": 15}, \"zerolinecolor\": \"white\", \"zerolinewidth\": 2}}}, \"title\": {\"font\": {\"color\": \"#4D5663\"}, \"x\": 0.5}, \"xaxis\": {\"gridcolor\": \"#E1E5ED\", \"showgrid\": true, \"tickfont\": {\"color\": \"#4D5663\"}, \"title\": {\"font\": {\"color\": \"#4D5663\"}, \"text\": \"\"}, \"zerolinecolor\": \"#E1E5ED\"}, \"xaxis2\": {\"anchor\": \"y2\", \"gridcolor\": \"#E1E5ED\", \"showgrid\": true, \"showticklabels\": false, \"tickfont\": {\"color\": \"#4D5663\"}, \"title\": {\"font\": {\"color\": \"#4D5663\"}, \"text\": \"\"}, \"zerolinecolor\": \"#E1E5ED\"}, \"yaxis\": {\"domain\": [0.3, 1], \"gridcolor\": \"#E1E5ED\", \"showgrid\": true, \"tickfont\": {\"color\": \"#4D5663\"}, \"title\": {\"font\": {\"color\": \"#4D5663\"}, \"text\": \"\"}, \"zerolinecolor\": \"#E1E5ED\"}, \"yaxis2\": {\"domain\": [0, 0.25], \"gridcolor\": \"#E1E5ED\", \"showgrid\": true, \"tickfont\": {\"color\": \"#4D5663\"}, \"title\": {\"font\": {\"color\": \"#4D5663\"}, \"text\": \"Spread\"}, \"zerolinecolor\": \"#E1E5ED\"}},\n                        {\"showLink\": true, \"linkText\": \"Export to plot.ly\", \"plotlyServerURL\": \"https://plot.ly\", \"responsive\": true}\n                    ).then(function(){\n                            \nvar gd = document.getElementById('3ded7560-b91b-495a-999a-e89518bdbb2d');\nvar x = new MutationObserver(function (mutations, observer) {{\n        var display = window.getComputedStyle(gd).display;\n        if (!display || display === 'none') {{\n            console.log([gd, 'removed!']);\n            Plotly.purge(gd);\n            observer.disconnect();\n        }}\n}});\n\n// Listen for the removal of the full notebook cells\nvar notebookContainer = gd.closest('#notebook-container');\nif (notebookContainer) {{\n    x.observe(notebookContainer, {childList: true});\n}}\n\n// Listen for the clearing of the current output cell\nvar outputEl = gd.closest('.output');\nif (outputEl) {{\n    x.observe(outputEl, {childList: true});\n}}\n\n                        })\n                };\n                });\n            </script>\n        </div>"
     },
     "metadata": {}
    }
   ],
   "source": [
    "df[['VERZ','IBM']].iplot(filename='Tutorial Spread',kind='spread')"
   ]
  },
  {
   "cell_type": "code",
   "execution_count": 14,
   "metadata": {},
   "outputs": [
    {
     "output_type": "display_data",
     "data": {
      "application/vnd.plotly.v1+json": {
       "config": {
        "linkText": "Export to plot.ly",
        "plotlyServerURL": "https://plot.ly",
        "showLink": true
       },
       "data": [
        {
         "line": {
          "color": "rgba(0, 128, 0, 1.0)",
          "dash": "solid",
          "shape": "linear",
          "width": 1.3
         },
         "mode": "lines",
         "name": "GOOG",
         "text": "",
         "type": "scatter",
         "x": [
          "2015-01-01",
          "2015-01-02",
          "2015-01-03",
          "2015-01-04",
          "2015-01-05",
          "2015-01-06",
          "2015-01-07",
          "2015-01-08",
          "2015-01-09",
          "2015-01-10",
          "2015-01-11",
          "2015-01-12",
          "2015-01-13",
          "2015-01-14",
          "2015-01-15",
          "2015-01-16",
          "2015-01-17",
          "2015-01-18",
          "2015-01-19",
          "2015-01-20",
          "2015-01-21",
          "2015-01-22",
          "2015-01-23",
          "2015-01-24",
          "2015-01-25",
          "2015-01-26",
          "2015-01-27",
          "2015-01-28",
          "2015-01-29",
          "2015-01-30",
          "2015-01-31",
          "2015-02-01",
          "2015-02-02",
          "2015-02-03",
          "2015-02-04",
          "2015-02-05",
          "2015-02-06",
          "2015-02-07",
          "2015-02-08",
          "2015-02-09",
          "2015-02-10",
          "2015-02-11",
          "2015-02-12",
          "2015-02-13",
          "2015-02-14",
          "2015-02-15",
          "2015-02-16",
          "2015-02-17",
          "2015-02-18",
          "2015-02-19",
          "2015-02-20",
          "2015-02-21",
          "2015-02-22",
          "2015-02-23",
          "2015-02-24",
          "2015-02-25",
          "2015-02-26",
          "2015-02-27",
          "2015-02-28",
          "2015-03-01",
          "2015-03-02",
          "2015-03-03",
          "2015-03-04",
          "2015-03-05",
          "2015-03-06",
          "2015-03-07",
          "2015-03-08",
          "2015-03-09",
          "2015-03-10",
          "2015-03-11",
          "2015-03-12",
          "2015-03-13",
          "2015-03-14",
          "2015-03-15",
          "2015-03-16",
          "2015-03-17",
          "2015-03-18",
          "2015-03-19",
          "2015-03-20",
          "2015-03-21",
          "2015-03-22",
          "2015-03-23",
          "2015-03-24",
          "2015-03-25",
          "2015-03-26",
          "2015-03-27",
          "2015-03-28",
          "2015-03-29",
          "2015-03-30",
          "2015-03-31",
          "2015-04-01",
          "2015-04-02",
          "2015-04-03",
          "2015-04-04",
          "2015-04-05",
          "2015-04-06",
          "2015-04-07",
          "2015-04-08",
          "2015-04-09",
          "2015-04-10"
         ],
         "y": [
          19.876120754274893,
          20.79664987303694,
          21.093045358657665,
          20.8338763647746,
          22.162767373656788,
          23.606247950075456,
          23.20244863582971,
          22.567768542871832,
          22.680965496534377,
          23.077140666350537,
          23.181714299005158,
          23.474724196500524,
          21.786861595444297,
          21.283093309635408,
          20.814980808153024,
          21.6381135055522,
          21.31947922389977,
          20.92860205566272,
          21.074937696408583,
          20.7453726598778,
          20.535100439800793,
          21.72199803054148,
          23.288062906283162,
          22.265715410599547,
          22.878792291909427,
          22.365807848873562,
          21.542971706311583,
          21.713148909355194,
          20.875715371527868,
          19.949163492045876,
          20.273435428406692,
          19.896154383024054,
          20.61701797565266,
          17.85361582661555,
          17.981613142791147,
          17.181106118055503,
          17.98371563182635,
          19.164783296433438,
          19.869852273316006,
          19.12838412353475,
          19.416202560917334,
          17.029487610362704,
          16.802432128726263,
          15.497127205142924,
          15.47447116272956,
          14.89387730214911,
          13.76496304713016,
          13.637024267737672,
          14.550826083583836,
          14.578580025511268,
          14.943494193946156,
          17.063970002775832,
          18.361668979148515,
          17.063847114231358,
          16.227229402715835,
          16.49971322876224,
          15.850256271917345,
          16.54677837856108,
          16.619672489891226,
          17.560508774654934,
          15.983190726817039,
          17.303767692397656,
          18.74608489259767,
          21.55929287569274,
          20.959445197198775,
          20.210598461998732,
          19.250261389451506,
          18.969042729593607,
          17.826517714161223,
          18.072962831222082,
          18.752300731621485,
          17.615324343209878,
          19.35787949020824,
          20.44824301680512,
          20.66826549353798,
          21.695370736199372,
          22.38660346935656,
          21.834912270049063,
          21.018082254015013,
          20.848425561442394,
          20.179986391869207,
          21.80805743272138,
          21.394492013667033,
          21.71180249401557,
          21.875681467868052,
          20.177789125996735,
          20.435799317577636,
          19.735167061977577,
          19.23351951059194,
          19.681549495367626,
          19.55136822624398,
          21.716100328570594,
          22.25827400611388,
          21.365461998079645,
          21.349405633857785,
          20.53644218514992,
          22.318095072680386,
          21.120586427579383,
          21.215661999833014,
          21.502352832575003
         ]
        },
        {
         "line": {
          "color": "rgba(219, 64, 82, 1.0)",
          "dash": "solid",
          "shape": "linear",
          "width": 1.3
         },
         "mode": "lines",
         "name": "MSFT",
         "text": "",
         "type": "scatter",
         "x": [
          "2015-01-01",
          "2015-01-02",
          "2015-01-03",
          "2015-01-04",
          "2015-01-05",
          "2015-01-06",
          "2015-01-07",
          "2015-01-08",
          "2015-01-09",
          "2015-01-10",
          "2015-01-11",
          "2015-01-12",
          "2015-01-13",
          "2015-01-14",
          "2015-01-15",
          "2015-01-16",
          "2015-01-17",
          "2015-01-18",
          "2015-01-19",
          "2015-01-20",
          "2015-01-21",
          "2015-01-22",
          "2015-01-23",
          "2015-01-24",
          "2015-01-25",
          "2015-01-26",
          "2015-01-27",
          "2015-01-28",
          "2015-01-29",
          "2015-01-30",
          "2015-01-31",
          "2015-02-01",
          "2015-02-02",
          "2015-02-03",
          "2015-02-04",
          "2015-02-05",
          "2015-02-06",
          "2015-02-07",
          "2015-02-08",
          "2015-02-09",
          "2015-02-10",
          "2015-02-11",
          "2015-02-12",
          "2015-02-13",
          "2015-02-14",
          "2015-02-15",
          "2015-02-16",
          "2015-02-17",
          "2015-02-18",
          "2015-02-19",
          "2015-02-20",
          "2015-02-21",
          "2015-02-22",
          "2015-02-23",
          "2015-02-24",
          "2015-02-25",
          "2015-02-26",
          "2015-02-27",
          "2015-02-28",
          "2015-03-01",
          "2015-03-02",
          "2015-03-03",
          "2015-03-04",
          "2015-03-05",
          "2015-03-06",
          "2015-03-07",
          "2015-03-08",
          "2015-03-09",
          "2015-03-10",
          "2015-03-11",
          "2015-03-12",
          "2015-03-13",
          "2015-03-14",
          "2015-03-15",
          "2015-03-16",
          "2015-03-17",
          "2015-03-18",
          "2015-03-19",
          "2015-03-20",
          "2015-03-21",
          "2015-03-22",
          "2015-03-23",
          "2015-03-24",
          "2015-03-25",
          "2015-03-26",
          "2015-03-27",
          "2015-03-28",
          "2015-03-29",
          "2015-03-30",
          "2015-03-31",
          "2015-04-01",
          "2015-04-02",
          "2015-04-03",
          "2015-04-04",
          "2015-04-05",
          "2015-04-06",
          "2015-04-07",
          "2015-04-08",
          "2015-04-09",
          "2015-04-10"
         ],
         "y": [
          19.86514572257342,
          22.453388221202925,
          22.586618838889315,
          23.644842021265035,
          24.62795175175044,
          23.886226815958306,
          23.257869327939574,
          23.41365320561834,
          21.05624223056869,
          22.383772093367636,
          20.997549822676987,
          21.130433405186146,
          18.20530562955831,
          18.762563279859798,
          19.684579465965403,
          19.259876146240718,
          19.674740298596568,
          23.268365916281542,
          24.378433594261494,
          22.531779276471994,
          21.119864392849287,
          20.490614246278234,
          20.888334164130864,
          20.832740131979094,
          21.48707972060869,
          21.882086252757627,
          22.564024888343763,
          23.79494193889065,
          22.704319715120782,
          22.766795417392547,
          21.906629502605536,
          21.425690859362053,
          23.133785993361705,
          22.199820359915034,
          21.425900095163673,
          20.517897383215708,
          21.997998657504326,
          22.620234329360237,
          22.398489888928893,
          22.13307573351856,
          22.913516246676597,
          22.72934908219404,
          23.950333550757815,
          23.822345705439528,
          23.010770156987345,
          23.342467208071454,
          23.90897892304227,
          22.6628767837422,
          21.977050674987925,
          21.21351362513786,
          20.319256130986787,
          21.839086077169178,
          23.198929861150493,
          23.6639553618739,
          25.320020402521994,
          25.58819610862573,
          25.006802624869408,
          23.778319199389525,
          22.667196882285847,
          22.980514031084315,
          23.003815184847287,
          23.209109231484668,
          23.233344059356188,
          24.530676760329435,
          25.173117026576456,
          24.22515035579927,
          25.91273247016121,
          25.519541150290742,
          24.424751160327414,
          23.9867257005528,
          24.320141649814506,
          23.710089327148562,
          23.909944446473574,
          24.80105675296052,
          24.663878576396332,
          25.714925311423528,
          26.85191241905964,
          25.382228557465858,
          24.797772779950918,
          24.597735429334733,
          26.37207640486578,
          26.642296843309584,
          25.612657811361704,
          26.18231141544473,
          26.161297192872844,
          27.27102212309753,
          26.247142166968388,
          24.933677265419874,
          25.16099930399723,
          24.727003299127816,
          26.006718309763432,
          26.737144799901426,
          26.87213923629728,
          27.2701841548909,
          27.19214272616585,
          27.187389275287803,
          26.402789460500397,
          25.605540825725594,
          24.015676761225023,
          24.690677468131135
         ]
        },
        {
         "connectgaps": false,
         "fill": "tozeroy",
         "line": {
          "color": "rgba(0, 128, 0, 1.0)",
          "dash": "solid",
          "shape": "linear",
          "width": 1
         },
         "mode": "lines",
         "name": "Ratio",
         "showlegend": false,
         "type": "scatter",
         "x": [
          "2015-01-01",
          "2015-01-02",
          "2015-01-03",
          "2015-01-04",
          "2015-01-05",
          "2015-01-06",
          "2015-01-07",
          "2015-01-08",
          "2015-01-09",
          "2015-01-10",
          "2015-01-11",
          "2015-01-12",
          "2015-01-13",
          "2015-01-14",
          "2015-01-15",
          "2015-01-16",
          "2015-01-17",
          "2015-01-18",
          "2015-01-19",
          "2015-01-20",
          "2015-01-21",
          "2015-01-22",
          "2015-01-23",
          "2015-01-24",
          "2015-01-25",
          "2015-01-26",
          "2015-01-27",
          "2015-01-28",
          "2015-01-29",
          "2015-01-30",
          "2015-01-31",
          "2015-02-01",
          "2015-02-02",
          "2015-02-03",
          "2015-02-04",
          "2015-02-05",
          "2015-02-06",
          "2015-02-07",
          "2015-02-08",
          "2015-02-09",
          "2015-02-10",
          "2015-02-11",
          "2015-02-12",
          "2015-02-13",
          "2015-02-14",
          "2015-02-15",
          "2015-02-16",
          "2015-02-17",
          "2015-02-18",
          "2015-02-19",
          "2015-02-20",
          "2015-02-21",
          "2015-02-22",
          "2015-02-23",
          "2015-02-24",
          "2015-02-25",
          "2015-02-26",
          "2015-02-27",
          "2015-02-28",
          "2015-03-01",
          "2015-03-02",
          "2015-03-03",
          "2015-03-04",
          "2015-03-05",
          "2015-03-06",
          "2015-03-07",
          "2015-03-08",
          "2015-03-09",
          "2015-03-10",
          "2015-03-11",
          "2015-03-12",
          "2015-03-13",
          "2015-03-14",
          "2015-03-15",
          "2015-03-16",
          "2015-03-17",
          "2015-03-18",
          "2015-03-19",
          "2015-03-20",
          "2015-03-21",
          "2015-03-22",
          "2015-03-23",
          "2015-03-24",
          "2015-03-25",
          "2015-03-26",
          "2015-03-27",
          "2015-03-28",
          "2015-03-29",
          "2015-03-30",
          "2015-03-31",
          "2015-04-01",
          "2015-04-02",
          "2015-04-03",
          "2015-04-04",
          "2015-04-05",
          "2015-04-06",
          "2015-04-07",
          "2015-04-08",
          "2015-04-09",
          "2015-04-10"
         ],
         "xaxis": "x2",
         "y": [
          1.0005524767779077,
          0.926214327572998,
          0.9338735252546948,
          0.8811171732946075,
          0.8999029881598481,
          0.9882786482754239,
          0.9976171208407605,
          0.9638721623098301,
          1.0771611215417618,
          1.0309763953140119,
          1.1040199687474637,
          1.11094381011319,
          1.1967314385577212,
          1.1343382560356883,
          1.0574257298278626,
          1.123481446155389,
          1.083596474481573,
          0.8994444272951018,
          0.8644910516879751,
          0.9207161318831315,
          0.9723121350510905,
          1.0600950156722075,
          1.1148836821211467,
          1.068784771928335,
          1.064769740206526,
          1.022105826223721,
          0.9547486236571366,
          0.9125111111898553,
          0.9194600689852386,
          0.8762394147401984,
          0.9254474964300375,
          0.9286120346653998,
          0.8912081222489378,
          0.8042234368190122,
          0.8392465690087866,
          0.8373716759159832,
          0.8175159891507423,
          0.8472407057056102,
          0.8871067813878497,
          0.8642442809955476,
          0.8473689656310818,
          0.7492290055813101,
          0.7015531576258409,
          0.6505290199698661,
          0.6724881895372221,
          0.6380592578062633,
          0.5757235844925264,
          0.6017340339387339,
          0.6620918474808872,
          0.6872308040585863,
          0.7354351014433735,
          0.7813500044131744,
          0.7914877577994416,
          0.7210902342101151,
          0.6408853209731035,
          0.6448173665200345,
          0.6338377804507552,
          0.6958767034713662,
          0.7332036941400244,
          0.7641477797625381,
          0.6948060831815949,
          0.7455593198261986,
          0.8068612441112851,
          0.8788706926568792,
          0.8326122337202378,
          0.8342816521326775,
          0.7428881308298301,
          0.7433144121941822,
          0.7298546297215279,
          0.7534568517955567,
          0.7710605062106829,
          0.7429463508195202,
          0.8096162470617239,
          0.8244907957143478,
          0.8379973745620769,
          0.8436878767274304,
          0.8337061107597842,
          0.8602440964005347,
          0.8475794354809236,
          0.8475749981674738,
          0.765202788057519,
          0.8185502008697055,
          0.8353093291308681,
          0.8292546119976235,
          0.836184892002514,
          0.7398985280022529,
          0.7785914057834367,
          0.7915064774399712,
          0.7644179501064724,
          0.7959536890611344,
          0.7517814432935974,
          0.8122071556664741,
          0.828303017128191,
          0.7834733303129439,
          0.7851314200890154,
          0.7553664670486285,
          0.8452930742817583,
          0.8248443792430962,
          0.8834088754095479,
          0.8708692930896133
         ],
         "yaxis": "y2"
        }
       ],
       "layout": {
        "hovermode": "x",
        "legend": {
         "bgcolor": "#F5F6F9",
         "font": {
          "color": "#4D5663"
         }
        },
        "paper_bgcolor": "#F5F6F9",
        "plot_bgcolor": "#F5F6F9",
        "template": {
         "data": {
          "bar": [
           {
            "error_x": {
             "color": "#2a3f5f"
            },
            "error_y": {
             "color": "#2a3f5f"
            },
            "marker": {
             "line": {
              "color": "#E5ECF6",
              "width": 0.5
             }
            },
            "type": "bar"
           }
          ],
          "barpolar": [
           {
            "marker": {
             "line": {
              "color": "#E5ECF6",
              "width": 0.5
             }
            },
            "type": "barpolar"
           }
          ],
          "carpet": [
           {
            "aaxis": {
             "endlinecolor": "#2a3f5f",
             "gridcolor": "white",
             "linecolor": "white",
             "minorgridcolor": "white",
             "startlinecolor": "#2a3f5f"
            },
            "baxis": {
             "endlinecolor": "#2a3f5f",
             "gridcolor": "white",
             "linecolor": "white",
             "minorgridcolor": "white",
             "startlinecolor": "#2a3f5f"
            },
            "type": "carpet"
           }
          ],
          "choropleth": [
           {
            "colorbar": {
             "outlinewidth": 0,
             "ticks": ""
            },
            "type": "choropleth"
           }
          ],
          "contour": [
           {
            "colorbar": {
             "outlinewidth": 0,
             "ticks": ""
            },
            "colorscale": [
             [
              0,
              "#0d0887"
             ],
             [
              0.1111111111111111,
              "#46039f"
             ],
             [
              0.2222222222222222,
              "#7201a8"
             ],
             [
              0.3333333333333333,
              "#9c179e"
             ],
             [
              0.4444444444444444,
              "#bd3786"
             ],
             [
              0.5555555555555556,
              "#d8576b"
             ],
             [
              0.6666666666666666,
              "#ed7953"
             ],
             [
              0.7777777777777778,
              "#fb9f3a"
             ],
             [
              0.8888888888888888,
              "#fdca26"
             ],
             [
              1,
              "#f0f921"
             ]
            ],
            "type": "contour"
           }
          ],
          "contourcarpet": [
           {
            "colorbar": {
             "outlinewidth": 0,
             "ticks": ""
            },
            "type": "contourcarpet"
           }
          ],
          "heatmap": [
           {
            "colorbar": {
             "outlinewidth": 0,
             "ticks": ""
            },
            "colorscale": [
             [
              0,
              "#0d0887"
             ],
             [
              0.1111111111111111,
              "#46039f"
             ],
             [
              0.2222222222222222,
              "#7201a8"
             ],
             [
              0.3333333333333333,
              "#9c179e"
             ],
             [
              0.4444444444444444,
              "#bd3786"
             ],
             [
              0.5555555555555556,
              "#d8576b"
             ],
             [
              0.6666666666666666,
              "#ed7953"
             ],
             [
              0.7777777777777778,
              "#fb9f3a"
             ],
             [
              0.8888888888888888,
              "#fdca26"
             ],
             [
              1,
              "#f0f921"
             ]
            ],
            "type": "heatmap"
           }
          ],
          "heatmapgl": [
           {
            "colorbar": {
             "outlinewidth": 0,
             "ticks": ""
            },
            "colorscale": [
             [
              0,
              "#0d0887"
             ],
             [
              0.1111111111111111,
              "#46039f"
             ],
             [
              0.2222222222222222,
              "#7201a8"
             ],
             [
              0.3333333333333333,
              "#9c179e"
             ],
             [
              0.4444444444444444,
              "#bd3786"
             ],
             [
              0.5555555555555556,
              "#d8576b"
             ],
             [
              0.6666666666666666,
              "#ed7953"
             ],
             [
              0.7777777777777778,
              "#fb9f3a"
             ],
             [
              0.8888888888888888,
              "#fdca26"
             ],
             [
              1,
              "#f0f921"
             ]
            ],
            "type": "heatmapgl"
           }
          ],
          "histogram": [
           {
            "marker": {
             "colorbar": {
              "outlinewidth": 0,
              "ticks": ""
             }
            },
            "type": "histogram"
           }
          ],
          "histogram2d": [
           {
            "colorbar": {
             "outlinewidth": 0,
             "ticks": ""
            },
            "colorscale": [
             [
              0,
              "#0d0887"
             ],
             [
              0.1111111111111111,
              "#46039f"
             ],
             [
              0.2222222222222222,
              "#7201a8"
             ],
             [
              0.3333333333333333,
              "#9c179e"
             ],
             [
              0.4444444444444444,
              "#bd3786"
             ],
             [
              0.5555555555555556,
              "#d8576b"
             ],
             [
              0.6666666666666666,
              "#ed7953"
             ],
             [
              0.7777777777777778,
              "#fb9f3a"
             ],
             [
              0.8888888888888888,
              "#fdca26"
             ],
             [
              1,
              "#f0f921"
             ]
            ],
            "type": "histogram2d"
           }
          ],
          "histogram2dcontour": [
           {
            "colorbar": {
             "outlinewidth": 0,
             "ticks": ""
            },
            "colorscale": [
             [
              0,
              "#0d0887"
             ],
             [
              0.1111111111111111,
              "#46039f"
             ],
             [
              0.2222222222222222,
              "#7201a8"
             ],
             [
              0.3333333333333333,
              "#9c179e"
             ],
             [
              0.4444444444444444,
              "#bd3786"
             ],
             [
              0.5555555555555556,
              "#d8576b"
             ],
             [
              0.6666666666666666,
              "#ed7953"
             ],
             [
              0.7777777777777778,
              "#fb9f3a"
             ],
             [
              0.8888888888888888,
              "#fdca26"
             ],
             [
              1,
              "#f0f921"
             ]
            ],
            "type": "histogram2dcontour"
           }
          ],
          "mesh3d": [
           {
            "colorbar": {
             "outlinewidth": 0,
             "ticks": ""
            },
            "type": "mesh3d"
           }
          ],
          "parcoords": [
           {
            "line": {
             "colorbar": {
              "outlinewidth": 0,
              "ticks": ""
             }
            },
            "type": "parcoords"
           }
          ],
          "pie": [
           {
            "automargin": true,
            "type": "pie"
           }
          ],
          "scatter": [
           {
            "marker": {
             "colorbar": {
              "outlinewidth": 0,
              "ticks": ""
             }
            },
            "type": "scatter"
           }
          ],
          "scatter3d": [
           {
            "line": {
             "colorbar": {
              "outlinewidth": 0,
              "ticks": ""
             }
            },
            "marker": {
             "colorbar": {
              "outlinewidth": 0,
              "ticks": ""
             }
            },
            "type": "scatter3d"
           }
          ],
          "scattercarpet": [
           {
            "marker": {
             "colorbar": {
              "outlinewidth": 0,
              "ticks": ""
             }
            },
            "type": "scattercarpet"
           }
          ],
          "scattergeo": [
           {
            "marker": {
             "colorbar": {
              "outlinewidth": 0,
              "ticks": ""
             }
            },
            "type": "scattergeo"
           }
          ],
          "scattergl": [
           {
            "marker": {
             "colorbar": {
              "outlinewidth": 0,
              "ticks": ""
             }
            },
            "type": "scattergl"
           }
          ],
          "scattermapbox": [
           {
            "marker": {
             "colorbar": {
              "outlinewidth": 0,
              "ticks": ""
             }
            },
            "type": "scattermapbox"
           }
          ],
          "scatterpolar": [
           {
            "marker": {
             "colorbar": {
              "outlinewidth": 0,
              "ticks": ""
             }
            },
            "type": "scatterpolar"
           }
          ],
          "scatterpolargl": [
           {
            "marker": {
             "colorbar": {
              "outlinewidth": 0,
              "ticks": ""
             }
            },
            "type": "scatterpolargl"
           }
          ],
          "scatterternary": [
           {
            "marker": {
             "colorbar": {
              "outlinewidth": 0,
              "ticks": ""
             }
            },
            "type": "scatterternary"
           }
          ],
          "surface": [
           {
            "colorbar": {
             "outlinewidth": 0,
             "ticks": ""
            },
            "colorscale": [
             [
              0,
              "#0d0887"
             ],
             [
              0.1111111111111111,
              "#46039f"
             ],
             [
              0.2222222222222222,
              "#7201a8"
             ],
             [
              0.3333333333333333,
              "#9c179e"
             ],
             [
              0.4444444444444444,
              "#bd3786"
             ],
             [
              0.5555555555555556,
              "#d8576b"
             ],
             [
              0.6666666666666666,
              "#ed7953"
             ],
             [
              0.7777777777777778,
              "#fb9f3a"
             ],
             [
              0.8888888888888888,
              "#fdca26"
             ],
             [
              1,
              "#f0f921"
             ]
            ],
            "type": "surface"
           }
          ],
          "table": [
           {
            "cells": {
             "fill": {
              "color": "#EBF0F8"
             },
             "line": {
              "color": "white"
             }
            },
            "header": {
             "fill": {
              "color": "#C8D4E3"
             },
             "line": {
              "color": "white"
             }
            },
            "type": "table"
           }
          ]
         },
         "layout": {
          "annotationdefaults": {
           "arrowcolor": "#2a3f5f",
           "arrowhead": 0,
           "arrowwidth": 1
          },
          "coloraxis": {
           "colorbar": {
            "outlinewidth": 0,
            "ticks": ""
           }
          },
          "colorscale": {
           "diverging": [
            [
             0,
             "#8e0152"
            ],
            [
             0.1,
             "#c51b7d"
            ],
            [
             0.2,
             "#de77ae"
            ],
            [
             0.3,
             "#f1b6da"
            ],
            [
             0.4,
             "#fde0ef"
            ],
            [
             0.5,
             "#f7f7f7"
            ],
            [
             0.6,
             "#e6f5d0"
            ],
            [
             0.7,
             "#b8e186"
            ],
            [
             0.8,
             "#7fbc41"
            ],
            [
             0.9,
             "#4d9221"
            ],
            [
             1,
             "#276419"
            ]
           ],
           "sequential": [
            [
             0,
             "#0d0887"
            ],
            [
             0.1111111111111111,
             "#46039f"
            ],
            [
             0.2222222222222222,
             "#7201a8"
            ],
            [
             0.3333333333333333,
             "#9c179e"
            ],
            [
             0.4444444444444444,
             "#bd3786"
            ],
            [
             0.5555555555555556,
             "#d8576b"
            ],
            [
             0.6666666666666666,
             "#ed7953"
            ],
            [
             0.7777777777777778,
             "#fb9f3a"
            ],
            [
             0.8888888888888888,
             "#fdca26"
            ],
            [
             1,
             "#f0f921"
            ]
           ],
           "sequentialminus": [
            [
             0,
             "#0d0887"
            ],
            [
             0.1111111111111111,
             "#46039f"
            ],
            [
             0.2222222222222222,
             "#7201a8"
            ],
            [
             0.3333333333333333,
             "#9c179e"
            ],
            [
             0.4444444444444444,
             "#bd3786"
            ],
            [
             0.5555555555555556,
             "#d8576b"
            ],
            [
             0.6666666666666666,
             "#ed7953"
            ],
            [
             0.7777777777777778,
             "#fb9f3a"
            ],
            [
             0.8888888888888888,
             "#fdca26"
            ],
            [
             1,
             "#f0f921"
            ]
           ]
          },
          "colorway": [
           "#636efa",
           "#EF553B",
           "#00cc96",
           "#ab63fa",
           "#FFA15A",
           "#19d3f3",
           "#FF6692",
           "#B6E880",
           "#FF97FF",
           "#FECB52"
          ],
          "font": {
           "color": "#2a3f5f"
          },
          "geo": {
           "bgcolor": "white",
           "lakecolor": "white",
           "landcolor": "#E5ECF6",
           "showlakes": true,
           "showland": true,
           "subunitcolor": "white"
          },
          "hoverlabel": {
           "align": "left"
          },
          "hovermode": "closest",
          "mapbox": {
           "style": "light"
          },
          "paper_bgcolor": "white",
          "plot_bgcolor": "#E5ECF6",
          "polar": {
           "angularaxis": {
            "gridcolor": "white",
            "linecolor": "white",
            "ticks": ""
           },
           "bgcolor": "#E5ECF6",
           "radialaxis": {
            "gridcolor": "white",
            "linecolor": "white",
            "ticks": ""
           }
          },
          "scene": {
           "xaxis": {
            "backgroundcolor": "#E5ECF6",
            "gridcolor": "white",
            "gridwidth": 2,
            "linecolor": "white",
            "showbackground": true,
            "ticks": "",
            "zerolinecolor": "white"
           },
           "yaxis": {
            "backgroundcolor": "#E5ECF6",
            "gridcolor": "white",
            "gridwidth": 2,
            "linecolor": "white",
            "showbackground": true,
            "ticks": "",
            "zerolinecolor": "white"
           },
           "zaxis": {
            "backgroundcolor": "#E5ECF6",
            "gridcolor": "white",
            "gridwidth": 2,
            "linecolor": "white",
            "showbackground": true,
            "ticks": "",
            "zerolinecolor": "white"
           }
          },
          "shapedefaults": {
           "line": {
            "color": "#2a3f5f"
           }
          },
          "ternary": {
           "aaxis": {
            "gridcolor": "white",
            "linecolor": "white",
            "ticks": ""
           },
           "baxis": {
            "gridcolor": "white",
            "linecolor": "white",
            "ticks": ""
           },
           "bgcolor": "#E5ECF6",
           "caxis": {
            "gridcolor": "white",
            "linecolor": "white",
            "ticks": ""
           }
          },
          "title": {
           "x": 0.05
          },
          "xaxis": {
           "automargin": true,
           "gridcolor": "white",
           "linecolor": "white",
           "ticks": "",
           "title": {
            "standoff": 15
           },
           "zerolinecolor": "white",
           "zerolinewidth": 2
          },
          "yaxis": {
           "automargin": true,
           "gridcolor": "white",
           "linecolor": "white",
           "ticks": "",
           "title": {
            "standoff": 15
           },
           "zerolinecolor": "white",
           "zerolinewidth": 2
          }
         }
        },
        "title": {
         "font": {
          "color": "#4D5663"
         },
         "x": 0.5
        },
        "xaxis": {
         "gridcolor": "#E1E5ED",
         "showgrid": true,
         "tickfont": {
          "color": "#4D5663"
         },
         "title": {
          "font": {
           "color": "#4D5663"
          },
          "text": ""
         },
         "zerolinecolor": "#E1E5ED"
        },
        "xaxis2": {
         "anchor": "y2",
         "gridcolor": "#E1E5ED",
         "showgrid": true,
         "showticklabels": false,
         "tickfont": {
          "color": "#4D5663"
         },
         "title": {
          "font": {
           "color": "#4D5663"
          },
          "text": ""
         },
         "zerolinecolor": "#E1E5ED"
        },
        "yaxis": {
         "domain": [
          0.3,
          1
         ],
         "gridcolor": "#E1E5ED",
         "showgrid": true,
         "tickfont": {
          "color": "#4D5663"
         },
         "title": {
          "font": {
           "color": "#4D5663"
          },
          "text": ""
         },
         "zerolinecolor": "#E1E5ED"
        },
        "yaxis2": {
         "domain": [
          0,
          0.25
         ],
         "gridcolor": "#E1E5ED",
         "showgrid": true,
         "tickfont": {
          "color": "#4D5663"
         },
         "title": {
          "font": {
           "color": "#4D5663"
          },
          "text": "Ratio"
         },
         "zerolinecolor": "#E1E5ED"
        }
       }
      },
      "text/html": "<div>\n        \n        \n            <div id=\"b39b4c0a-3ad5-49e5-9e74-e3e34aac1bbd\" class=\"plotly-graph-div\" style=\"height:525px; width:100%;\"></div>\n            <script type=\"text/javascript\">\n                require([\"plotly\"], function(Plotly) {\n                    window.PLOTLYENV=window.PLOTLYENV || {};\n                    window.PLOTLYENV.BASE_URL='https://plot.ly';\n                    \n                if (document.getElementById(\"b39b4c0a-3ad5-49e5-9e74-e3e34aac1bbd\")) {\n                    Plotly.newPlot(\n                        'b39b4c0a-3ad5-49e5-9e74-e3e34aac1bbd',\n                        [{\"line\": {\"color\": \"rgba(0, 128, 0, 1.0)\", \"dash\": \"solid\", \"shape\": \"linear\", \"width\": 1.3}, \"mode\": \"lines\", \"name\": \"GOOG\", \"text\": \"\", \"type\": \"scatter\", \"x\": [\"2015-01-01\", \"2015-01-02\", \"2015-01-03\", \"2015-01-04\", \"2015-01-05\", \"2015-01-06\", \"2015-01-07\", \"2015-01-08\", \"2015-01-09\", \"2015-01-10\", \"2015-01-11\", \"2015-01-12\", \"2015-01-13\", \"2015-01-14\", \"2015-01-15\", \"2015-01-16\", \"2015-01-17\", \"2015-01-18\", \"2015-01-19\", \"2015-01-20\", \"2015-01-21\", \"2015-01-22\", \"2015-01-23\", \"2015-01-24\", \"2015-01-25\", \"2015-01-26\", \"2015-01-27\", \"2015-01-28\", \"2015-01-29\", \"2015-01-30\", \"2015-01-31\", \"2015-02-01\", \"2015-02-02\", \"2015-02-03\", \"2015-02-04\", \"2015-02-05\", \"2015-02-06\", \"2015-02-07\", \"2015-02-08\", \"2015-02-09\", \"2015-02-10\", \"2015-02-11\", \"2015-02-12\", \"2015-02-13\", \"2015-02-14\", \"2015-02-15\", \"2015-02-16\", \"2015-02-17\", \"2015-02-18\", \"2015-02-19\", \"2015-02-20\", \"2015-02-21\", \"2015-02-22\", \"2015-02-23\", \"2015-02-24\", \"2015-02-25\", \"2015-02-26\", \"2015-02-27\", \"2015-02-28\", \"2015-03-01\", \"2015-03-02\", \"2015-03-03\", \"2015-03-04\", \"2015-03-05\", \"2015-03-06\", \"2015-03-07\", \"2015-03-08\", \"2015-03-09\", \"2015-03-10\", \"2015-03-11\", \"2015-03-12\", \"2015-03-13\", \"2015-03-14\", \"2015-03-15\", \"2015-03-16\", \"2015-03-17\", \"2015-03-18\", \"2015-03-19\", \"2015-03-20\", \"2015-03-21\", \"2015-03-22\", \"2015-03-23\", \"2015-03-24\", \"2015-03-25\", \"2015-03-26\", \"2015-03-27\", \"2015-03-28\", \"2015-03-29\", \"2015-03-30\", \"2015-03-31\", \"2015-04-01\", \"2015-04-02\", \"2015-04-03\", \"2015-04-04\", \"2015-04-05\", \"2015-04-06\", \"2015-04-07\", \"2015-04-08\", \"2015-04-09\", \"2015-04-10\"], \"y\": [19.876120754274893, 20.79664987303694, 21.093045358657665, 20.8338763647746, 22.162767373656788, 23.606247950075456, 23.20244863582971, 22.567768542871832, 22.680965496534377, 23.077140666350537, 23.181714299005158, 23.474724196500524, 21.786861595444297, 21.283093309635408, 20.814980808153024, 21.6381135055522, 21.31947922389977, 20.92860205566272, 21.074937696408583, 20.7453726598778, 20.535100439800793, 21.72199803054148, 23.288062906283162, 22.265715410599547, 22.878792291909427, 22.365807848873562, 21.542971706311583, 21.713148909355194, 20.875715371527868, 19.949163492045876, 20.273435428406692, 19.896154383024054, 20.61701797565266, 17.85361582661555, 17.981613142791147, 17.181106118055503, 17.98371563182635, 19.164783296433438, 19.869852273316006, 19.12838412353475, 19.416202560917334, 17.029487610362704, 16.802432128726263, 15.497127205142924, 15.47447116272956, 14.89387730214911, 13.76496304713016, 13.637024267737672, 14.550826083583836, 14.578580025511268, 14.943494193946156, 17.063970002775832, 18.361668979148515, 17.063847114231358, 16.227229402715835, 16.49971322876224, 15.850256271917345, 16.54677837856108, 16.619672489891226, 17.560508774654934, 15.983190726817039, 17.303767692397656, 18.74608489259767, 21.55929287569274, 20.959445197198775, 20.210598461998732, 19.250261389451506, 18.969042729593607, 17.826517714161223, 18.072962831222082, 18.752300731621485, 17.615324343209878, 19.35787949020824, 20.44824301680512, 20.66826549353798, 21.695370736199372, 22.38660346935656, 21.834912270049063, 21.018082254015013, 20.848425561442394, 20.179986391869207, 21.80805743272138, 21.394492013667033, 21.71180249401557, 21.875681467868052, 20.177789125996735, 20.435799317577636, 19.735167061977577, 19.23351951059194, 19.681549495367626, 19.55136822624398, 21.716100328570594, 22.25827400611388, 21.365461998079645, 21.349405633857785, 20.53644218514992, 22.318095072680386, 21.120586427579383, 21.215661999833014, 21.502352832575003]}, {\"line\": {\"color\": \"rgba(219, 64, 82, 1.0)\", \"dash\": \"solid\", \"shape\": \"linear\", \"width\": 1.3}, \"mode\": \"lines\", \"name\": \"MSFT\", \"text\": \"\", \"type\": \"scatter\", \"x\": [\"2015-01-01\", \"2015-01-02\", \"2015-01-03\", \"2015-01-04\", \"2015-01-05\", \"2015-01-06\", \"2015-01-07\", \"2015-01-08\", \"2015-01-09\", \"2015-01-10\", \"2015-01-11\", \"2015-01-12\", \"2015-01-13\", \"2015-01-14\", \"2015-01-15\", \"2015-01-16\", \"2015-01-17\", \"2015-01-18\", \"2015-01-19\", \"2015-01-20\", \"2015-01-21\", \"2015-01-22\", \"2015-01-23\", \"2015-01-24\", \"2015-01-25\", \"2015-01-26\", \"2015-01-27\", \"2015-01-28\", \"2015-01-29\", \"2015-01-30\", \"2015-01-31\", \"2015-02-01\", \"2015-02-02\", \"2015-02-03\", \"2015-02-04\", \"2015-02-05\", \"2015-02-06\", \"2015-02-07\", \"2015-02-08\", \"2015-02-09\", \"2015-02-10\", \"2015-02-11\", \"2015-02-12\", \"2015-02-13\", \"2015-02-14\", \"2015-02-15\", \"2015-02-16\", \"2015-02-17\", \"2015-02-18\", \"2015-02-19\", \"2015-02-20\", \"2015-02-21\", \"2015-02-22\", \"2015-02-23\", \"2015-02-24\", \"2015-02-25\", \"2015-02-26\", \"2015-02-27\", \"2015-02-28\", \"2015-03-01\", \"2015-03-02\", \"2015-03-03\", \"2015-03-04\", \"2015-03-05\", \"2015-03-06\", \"2015-03-07\", \"2015-03-08\", \"2015-03-09\", \"2015-03-10\", \"2015-03-11\", \"2015-03-12\", \"2015-03-13\", \"2015-03-14\", \"2015-03-15\", \"2015-03-16\", \"2015-03-17\", \"2015-03-18\", \"2015-03-19\", \"2015-03-20\", \"2015-03-21\", \"2015-03-22\", \"2015-03-23\", \"2015-03-24\", \"2015-03-25\", \"2015-03-26\", \"2015-03-27\", \"2015-03-28\", \"2015-03-29\", \"2015-03-30\", \"2015-03-31\", \"2015-04-01\", \"2015-04-02\", \"2015-04-03\", \"2015-04-04\", \"2015-04-05\", \"2015-04-06\", \"2015-04-07\", \"2015-04-08\", \"2015-04-09\", \"2015-04-10\"], \"y\": [19.86514572257342, 22.453388221202925, 22.586618838889315, 23.644842021265035, 24.62795175175044, 23.886226815958306, 23.257869327939574, 23.41365320561834, 21.05624223056869, 22.383772093367636, 20.997549822676987, 21.130433405186146, 18.20530562955831, 18.762563279859798, 19.684579465965403, 19.259876146240718, 19.674740298596568, 23.268365916281542, 24.378433594261494, 22.531779276471994, 21.119864392849287, 20.490614246278234, 20.888334164130864, 20.832740131979094, 21.48707972060869, 21.882086252757627, 22.564024888343763, 23.79494193889065, 22.704319715120782, 22.766795417392547, 21.906629502605536, 21.425690859362053, 23.133785993361705, 22.199820359915034, 21.425900095163673, 20.517897383215708, 21.997998657504326, 22.620234329360237, 22.398489888928893, 22.13307573351856, 22.913516246676597, 22.72934908219404, 23.950333550757815, 23.822345705439528, 23.010770156987345, 23.342467208071454, 23.90897892304227, 22.6628767837422, 21.977050674987925, 21.21351362513786, 20.319256130986787, 21.839086077169178, 23.198929861150493, 23.6639553618739, 25.320020402521994, 25.58819610862573, 25.006802624869408, 23.778319199389525, 22.667196882285847, 22.980514031084315, 23.003815184847287, 23.209109231484668, 23.233344059356188, 24.530676760329435, 25.173117026576456, 24.22515035579927, 25.91273247016121, 25.519541150290742, 24.424751160327414, 23.9867257005528, 24.320141649814506, 23.710089327148562, 23.909944446473574, 24.80105675296052, 24.663878576396332, 25.714925311423528, 26.85191241905964, 25.382228557465858, 24.797772779950918, 24.597735429334733, 26.37207640486578, 26.642296843309584, 25.612657811361704, 26.18231141544473, 26.161297192872844, 27.27102212309753, 26.247142166968388, 24.933677265419874, 25.16099930399723, 24.727003299127816, 26.006718309763432, 26.737144799901426, 26.87213923629728, 27.2701841548909, 27.19214272616585, 27.187389275287803, 26.402789460500397, 25.605540825725594, 24.015676761225023, 24.690677468131135]}, {\"connectgaps\": false, \"fill\": \"tozeroy\", \"line\": {\"color\": \"rgba(0, 128, 0, 1.0)\", \"dash\": \"solid\", \"shape\": \"linear\", \"width\": 1}, \"mode\": \"lines\", \"name\": \"Ratio\", \"showlegend\": false, \"type\": \"scatter\", \"x\": [\"2015-01-01\", \"2015-01-02\", \"2015-01-03\", \"2015-01-04\", \"2015-01-05\", \"2015-01-06\", \"2015-01-07\", \"2015-01-08\", \"2015-01-09\", \"2015-01-10\", \"2015-01-11\", \"2015-01-12\", \"2015-01-13\", \"2015-01-14\", \"2015-01-15\", \"2015-01-16\", \"2015-01-17\", \"2015-01-18\", \"2015-01-19\", \"2015-01-20\", \"2015-01-21\", \"2015-01-22\", \"2015-01-23\", \"2015-01-24\", \"2015-01-25\", \"2015-01-26\", \"2015-01-27\", \"2015-01-28\", \"2015-01-29\", \"2015-01-30\", \"2015-01-31\", \"2015-02-01\", \"2015-02-02\", \"2015-02-03\", \"2015-02-04\", \"2015-02-05\", \"2015-02-06\", \"2015-02-07\", \"2015-02-08\", \"2015-02-09\", \"2015-02-10\", \"2015-02-11\", \"2015-02-12\", \"2015-02-13\", \"2015-02-14\", \"2015-02-15\", \"2015-02-16\", \"2015-02-17\", \"2015-02-18\", \"2015-02-19\", \"2015-02-20\", \"2015-02-21\", \"2015-02-22\", \"2015-02-23\", \"2015-02-24\", \"2015-02-25\", \"2015-02-26\", \"2015-02-27\", \"2015-02-28\", \"2015-03-01\", \"2015-03-02\", \"2015-03-03\", \"2015-03-04\", \"2015-03-05\", \"2015-03-06\", \"2015-03-07\", \"2015-03-08\", \"2015-03-09\", \"2015-03-10\", \"2015-03-11\", \"2015-03-12\", \"2015-03-13\", \"2015-03-14\", \"2015-03-15\", \"2015-03-16\", \"2015-03-17\", \"2015-03-18\", \"2015-03-19\", \"2015-03-20\", \"2015-03-21\", \"2015-03-22\", \"2015-03-23\", \"2015-03-24\", \"2015-03-25\", \"2015-03-26\", \"2015-03-27\", \"2015-03-28\", \"2015-03-29\", \"2015-03-30\", \"2015-03-31\", \"2015-04-01\", \"2015-04-02\", \"2015-04-03\", \"2015-04-04\", \"2015-04-05\", \"2015-04-06\", \"2015-04-07\", \"2015-04-08\", \"2015-04-09\", \"2015-04-10\"], \"xaxis\": \"x2\", \"y\": [1.0005524767779077, 0.926214327572998, 0.9338735252546948, 0.8811171732946075, 0.8999029881598481, 0.9882786482754239, 0.9976171208407605, 0.9638721623098301, 1.0771611215417618, 1.0309763953140119, 1.1040199687474637, 1.11094381011319, 1.1967314385577212, 1.1343382560356883, 1.0574257298278626, 1.123481446155389, 1.083596474481573, 0.8994444272951018, 0.8644910516879751, 0.9207161318831315, 0.9723121350510905, 1.0600950156722075, 1.1148836821211467, 1.068784771928335, 1.064769740206526, 1.022105826223721, 0.9547486236571366, 0.9125111111898553, 0.9194600689852386, 0.8762394147401984, 0.9254474964300375, 0.9286120346653998, 0.8912081222489378, 0.8042234368190122, 0.8392465690087866, 0.8373716759159832, 0.8175159891507423, 0.8472407057056102, 0.8871067813878497, 0.8642442809955476, 0.8473689656310818, 0.7492290055813101, 0.7015531576258409, 0.6505290199698661, 0.6724881895372221, 0.6380592578062633, 0.5757235844925264, 0.6017340339387339, 0.6620918474808872, 0.6872308040585863, 0.7354351014433735, 0.7813500044131744, 0.7914877577994416, 0.7210902342101151, 0.6408853209731035, 0.6448173665200345, 0.6338377804507552, 0.6958767034713662, 0.7332036941400244, 0.7641477797625381, 0.6948060831815949, 0.7455593198261986, 0.8068612441112851, 0.8788706926568792, 0.8326122337202378, 0.8342816521326775, 0.7428881308298301, 0.7433144121941822, 0.7298546297215279, 0.7534568517955567, 0.7710605062106829, 0.7429463508195202, 0.8096162470617239, 0.8244907957143478, 0.8379973745620769, 0.8436878767274304, 0.8337061107597842, 0.8602440964005347, 0.8475794354809236, 0.8475749981674738, 0.765202788057519, 0.8185502008697055, 0.8353093291308681, 0.8292546119976235, 0.836184892002514, 0.7398985280022529, 0.7785914057834367, 0.7915064774399712, 0.7644179501064724, 0.7959536890611344, 0.7517814432935974, 0.8122071556664741, 0.828303017128191, 0.7834733303129439, 0.7851314200890154, 0.7553664670486285, 0.8452930742817583, 0.8248443792430962, 0.8834088754095479, 0.8708692930896133], \"yaxis\": \"y2\"}],\n                        {\"hovermode\": \"x\", \"legend\": {\"bgcolor\": \"#F5F6F9\", \"font\": {\"color\": \"#4D5663\"}}, \"paper_bgcolor\": \"#F5F6F9\", \"plot_bgcolor\": \"#F5F6F9\", \"template\": {\"data\": {\"bar\": [{\"error_x\": {\"color\": \"#2a3f5f\"}, \"error_y\": {\"color\": \"#2a3f5f\"}, \"marker\": {\"line\": {\"color\": \"#E5ECF6\", \"width\": 0.5}}, \"type\": \"bar\"}], \"barpolar\": [{\"marker\": {\"line\": {\"color\": \"#E5ECF6\", \"width\": 0.5}}, \"type\": \"barpolar\"}], \"carpet\": [{\"aaxis\": {\"endlinecolor\": \"#2a3f5f\", \"gridcolor\": \"white\", \"linecolor\": \"white\", \"minorgridcolor\": \"white\", \"startlinecolor\": \"#2a3f5f\"}, \"baxis\": {\"endlinecolor\": \"#2a3f5f\", \"gridcolor\": \"white\", \"linecolor\": \"white\", \"minorgridcolor\": \"white\", \"startlinecolor\": \"#2a3f5f\"}, \"type\": \"carpet\"}], \"choropleth\": [{\"colorbar\": {\"outlinewidth\": 0, \"ticks\": \"\"}, \"type\": \"choropleth\"}], \"contour\": [{\"colorbar\": {\"outlinewidth\": 0, \"ticks\": \"\"}, \"colorscale\": [[0.0, \"#0d0887\"], [0.1111111111111111, \"#46039f\"], [0.2222222222222222, \"#7201a8\"], [0.3333333333333333, \"#9c179e\"], [0.4444444444444444, \"#bd3786\"], [0.5555555555555556, \"#d8576b\"], [0.6666666666666666, \"#ed7953\"], [0.7777777777777778, \"#fb9f3a\"], [0.8888888888888888, \"#fdca26\"], [1.0, \"#f0f921\"]], \"type\": \"contour\"}], \"contourcarpet\": [{\"colorbar\": {\"outlinewidth\": 0, \"ticks\": \"\"}, \"type\": \"contourcarpet\"}], \"heatmap\": [{\"colorbar\": {\"outlinewidth\": 0, \"ticks\": \"\"}, \"colorscale\": [[0.0, \"#0d0887\"], [0.1111111111111111, \"#46039f\"], [0.2222222222222222, \"#7201a8\"], [0.3333333333333333, \"#9c179e\"], [0.4444444444444444, \"#bd3786\"], [0.5555555555555556, \"#d8576b\"], [0.6666666666666666, \"#ed7953\"], [0.7777777777777778, \"#fb9f3a\"], [0.8888888888888888, \"#fdca26\"], [1.0, \"#f0f921\"]], \"type\": \"heatmap\"}], \"heatmapgl\": [{\"colorbar\": {\"outlinewidth\": 0, \"ticks\": \"\"}, \"colorscale\": [[0.0, \"#0d0887\"], [0.1111111111111111, \"#46039f\"], [0.2222222222222222, \"#7201a8\"], [0.3333333333333333, \"#9c179e\"], [0.4444444444444444, \"#bd3786\"], [0.5555555555555556, \"#d8576b\"], [0.6666666666666666, \"#ed7953\"], [0.7777777777777778, \"#fb9f3a\"], [0.8888888888888888, \"#fdca26\"], [1.0, \"#f0f921\"]], \"type\": \"heatmapgl\"}], \"histogram\": [{\"marker\": {\"colorbar\": {\"outlinewidth\": 0, \"ticks\": \"\"}}, \"type\": \"histogram\"}], \"histogram2d\": [{\"colorbar\": {\"outlinewidth\": 0, \"ticks\": \"\"}, \"colorscale\": [[0.0, \"#0d0887\"], [0.1111111111111111, \"#46039f\"], [0.2222222222222222, \"#7201a8\"], [0.3333333333333333, \"#9c179e\"], [0.4444444444444444, \"#bd3786\"], [0.5555555555555556, \"#d8576b\"], [0.6666666666666666, \"#ed7953\"], [0.7777777777777778, \"#fb9f3a\"], [0.8888888888888888, \"#fdca26\"], [1.0, \"#f0f921\"]], \"type\": \"histogram2d\"}], \"histogram2dcontour\": [{\"colorbar\": {\"outlinewidth\": 0, \"ticks\": \"\"}, \"colorscale\": [[0.0, \"#0d0887\"], [0.1111111111111111, \"#46039f\"], [0.2222222222222222, \"#7201a8\"], [0.3333333333333333, \"#9c179e\"], [0.4444444444444444, \"#bd3786\"], [0.5555555555555556, \"#d8576b\"], [0.6666666666666666, \"#ed7953\"], [0.7777777777777778, \"#fb9f3a\"], [0.8888888888888888, \"#fdca26\"], [1.0, \"#f0f921\"]], \"type\": \"histogram2dcontour\"}], \"mesh3d\": [{\"colorbar\": {\"outlinewidth\": 0, \"ticks\": \"\"}, \"type\": \"mesh3d\"}], \"parcoords\": [{\"line\": {\"colorbar\": {\"outlinewidth\": 0, \"ticks\": \"\"}}, \"type\": \"parcoords\"}], \"pie\": [{\"automargin\": true, \"type\": \"pie\"}], \"scatter\": [{\"marker\": {\"colorbar\": {\"outlinewidth\": 0, \"ticks\": \"\"}}, \"type\": \"scatter\"}], \"scatter3d\": [{\"line\": {\"colorbar\": {\"outlinewidth\": 0, \"ticks\": \"\"}}, \"marker\": {\"colorbar\": {\"outlinewidth\": 0, \"ticks\": \"\"}}, \"type\": \"scatter3d\"}], \"scattercarpet\": [{\"marker\": {\"colorbar\": {\"outlinewidth\": 0, \"ticks\": \"\"}}, \"type\": \"scattercarpet\"}], \"scattergeo\": [{\"marker\": {\"colorbar\": {\"outlinewidth\": 0, \"ticks\": \"\"}}, \"type\": \"scattergeo\"}], \"scattergl\": [{\"marker\": {\"colorbar\": {\"outlinewidth\": 0, \"ticks\": \"\"}}, \"type\": \"scattergl\"}], \"scattermapbox\": [{\"marker\": {\"colorbar\": {\"outlinewidth\": 0, \"ticks\": \"\"}}, \"type\": \"scattermapbox\"}], \"scatterpolar\": [{\"marker\": {\"colorbar\": {\"outlinewidth\": 0, \"ticks\": \"\"}}, \"type\": \"scatterpolar\"}], \"scatterpolargl\": [{\"marker\": {\"colorbar\": {\"outlinewidth\": 0, \"ticks\": \"\"}}, \"type\": \"scatterpolargl\"}], \"scatterternary\": [{\"marker\": {\"colorbar\": {\"outlinewidth\": 0, \"ticks\": \"\"}}, \"type\": \"scatterternary\"}], \"surface\": [{\"colorbar\": {\"outlinewidth\": 0, \"ticks\": \"\"}, \"colorscale\": [[0.0, \"#0d0887\"], [0.1111111111111111, \"#46039f\"], [0.2222222222222222, \"#7201a8\"], [0.3333333333333333, \"#9c179e\"], [0.4444444444444444, \"#bd3786\"], [0.5555555555555556, \"#d8576b\"], [0.6666666666666666, \"#ed7953\"], [0.7777777777777778, \"#fb9f3a\"], [0.8888888888888888, \"#fdca26\"], [1.0, \"#f0f921\"]], \"type\": \"surface\"}], \"table\": [{\"cells\": {\"fill\": {\"color\": \"#EBF0F8\"}, \"line\": {\"color\": \"white\"}}, \"header\": {\"fill\": {\"color\": \"#C8D4E3\"}, \"line\": {\"color\": \"white\"}}, \"type\": \"table\"}]}, \"layout\": {\"annotationdefaults\": {\"arrowcolor\": \"#2a3f5f\", \"arrowhead\": 0, \"arrowwidth\": 1}, \"coloraxis\": {\"colorbar\": {\"outlinewidth\": 0, \"ticks\": \"\"}}, \"colorscale\": {\"diverging\": [[0, \"#8e0152\"], [0.1, \"#c51b7d\"], [0.2, \"#de77ae\"], [0.3, \"#f1b6da\"], [0.4, \"#fde0ef\"], [0.5, \"#f7f7f7\"], [0.6, \"#e6f5d0\"], [0.7, \"#b8e186\"], [0.8, \"#7fbc41\"], [0.9, \"#4d9221\"], [1, \"#276419\"]], \"sequential\": [[0.0, \"#0d0887\"], [0.1111111111111111, \"#46039f\"], [0.2222222222222222, \"#7201a8\"], [0.3333333333333333, \"#9c179e\"], [0.4444444444444444, \"#bd3786\"], [0.5555555555555556, \"#d8576b\"], [0.6666666666666666, \"#ed7953\"], [0.7777777777777778, \"#fb9f3a\"], [0.8888888888888888, \"#fdca26\"], [1.0, \"#f0f921\"]], \"sequentialminus\": [[0.0, \"#0d0887\"], [0.1111111111111111, \"#46039f\"], [0.2222222222222222, \"#7201a8\"], [0.3333333333333333, \"#9c179e\"], [0.4444444444444444, \"#bd3786\"], [0.5555555555555556, \"#d8576b\"], [0.6666666666666666, \"#ed7953\"], [0.7777777777777778, \"#fb9f3a\"], [0.8888888888888888, \"#fdca26\"], [1.0, \"#f0f921\"]]}, \"colorway\": [\"#636efa\", \"#EF553B\", \"#00cc96\", \"#ab63fa\", \"#FFA15A\", \"#19d3f3\", \"#FF6692\", \"#B6E880\", \"#FF97FF\", \"#FECB52\"], \"font\": {\"color\": \"#2a3f5f\"}, \"geo\": {\"bgcolor\": \"white\", \"lakecolor\": \"white\", \"landcolor\": \"#E5ECF6\", \"showlakes\": true, \"showland\": true, \"subunitcolor\": \"white\"}, \"hoverlabel\": {\"align\": \"left\"}, \"hovermode\": \"closest\", \"mapbox\": {\"style\": \"light\"}, \"paper_bgcolor\": \"white\", \"plot_bgcolor\": \"#E5ECF6\", \"polar\": {\"angularaxis\": {\"gridcolor\": \"white\", \"linecolor\": \"white\", \"ticks\": \"\"}, \"bgcolor\": \"#E5ECF6\", \"radialaxis\": {\"gridcolor\": \"white\", \"linecolor\": \"white\", \"ticks\": \"\"}}, \"scene\": {\"xaxis\": {\"backgroundcolor\": \"#E5ECF6\", \"gridcolor\": \"white\", \"gridwidth\": 2, \"linecolor\": \"white\", \"showbackground\": true, \"ticks\": \"\", \"zerolinecolor\": \"white\"}, \"yaxis\": {\"backgroundcolor\": \"#E5ECF6\", \"gridcolor\": \"white\", \"gridwidth\": 2, \"linecolor\": \"white\", \"showbackground\": true, \"ticks\": \"\", \"zerolinecolor\": \"white\"}, \"zaxis\": {\"backgroundcolor\": \"#E5ECF6\", \"gridcolor\": \"white\", \"gridwidth\": 2, \"linecolor\": \"white\", \"showbackground\": true, \"ticks\": \"\", \"zerolinecolor\": \"white\"}}, \"shapedefaults\": {\"line\": {\"color\": \"#2a3f5f\"}}, \"ternary\": {\"aaxis\": {\"gridcolor\": \"white\", \"linecolor\": \"white\", \"ticks\": \"\"}, \"baxis\": {\"gridcolor\": \"white\", \"linecolor\": \"white\", \"ticks\": \"\"}, \"bgcolor\": \"#E5ECF6\", \"caxis\": {\"gridcolor\": \"white\", \"linecolor\": \"white\", \"ticks\": \"\"}}, \"title\": {\"x\": 0.05}, \"xaxis\": {\"automargin\": true, \"gridcolor\": \"white\", \"linecolor\": \"white\", \"ticks\": \"\", \"title\": {\"standoff\": 15}, \"zerolinecolor\": \"white\", \"zerolinewidth\": 2}, \"yaxis\": {\"automargin\": true, \"gridcolor\": \"white\", \"linecolor\": \"white\", \"ticks\": \"\", \"title\": {\"standoff\": 15}, \"zerolinecolor\": \"white\", \"zerolinewidth\": 2}}}, \"title\": {\"font\": {\"color\": \"#4D5663\"}, \"x\": 0.5}, \"xaxis\": {\"gridcolor\": \"#E1E5ED\", \"showgrid\": true, \"tickfont\": {\"color\": \"#4D5663\"}, \"title\": {\"font\": {\"color\": \"#4D5663\"}, \"text\": \"\"}, \"zerolinecolor\": \"#E1E5ED\"}, \"xaxis2\": {\"anchor\": \"y2\", \"gridcolor\": \"#E1E5ED\", \"showgrid\": true, \"showticklabels\": false, \"tickfont\": {\"color\": \"#4D5663\"}, \"title\": {\"font\": {\"color\": \"#4D5663\"}, \"text\": \"\"}, \"zerolinecolor\": \"#E1E5ED\"}, \"yaxis\": {\"domain\": [0.3, 1], \"gridcolor\": \"#E1E5ED\", \"showgrid\": true, \"tickfont\": {\"color\": \"#4D5663\"}, \"title\": {\"font\": {\"color\": \"#4D5663\"}, \"text\": \"\"}, \"zerolinecolor\": \"#E1E5ED\"}, \"yaxis2\": {\"domain\": [0, 0.25], \"gridcolor\": \"#E1E5ED\", \"showgrid\": true, \"tickfont\": {\"color\": \"#4D5663\"}, \"title\": {\"font\": {\"color\": \"#4D5663\"}, \"text\": \"Ratio\"}, \"zerolinecolor\": \"#E1E5ED\"}},\n                        {\"showLink\": true, \"linkText\": \"Export to plot.ly\", \"plotlyServerURL\": \"https://plot.ly\", \"responsive\": true}\n                    ).then(function(){\n                            \nvar gd = document.getElementById('b39b4c0a-3ad5-49e5-9e74-e3e34aac1bbd');\nvar x = new MutationObserver(function (mutations, observer) {{\n        var display = window.getComputedStyle(gd).display;\n        if (!display || display === 'none') {{\n            console.log([gd, 'removed!']);\n            Plotly.purge(gd);\n            observer.disconnect();\n        }}\n}});\n\n// Listen for the removal of the full notebook cells\nvar notebookContainer = gd.closest('#notebook-container');\nif (notebookContainer) {{\n    x.observe(notebookContainer, {childList: true});\n}}\n\n// Listen for the clearing of the current output cell\nvar outputEl = gd.closest('.output');\nif (outputEl) {{\n    x.observe(outputEl, {childList: true});\n}}\n\n                        })\n                };\n                });\n            </script>\n        </div>"
     },
     "metadata": {}
    }
   ],
   "source": [
    "(df[['GOOG','MSFT']]+20).iplot(filename='Tutorial Ratio',kind='ratio',colors=['green','red'])"
   ]
  },
  {
   "cell_type": "markdown",
   "metadata": {},
   "source": [
    "### Annotations\n",
    "\n",
    "Annotations can be added to the chart and these are automatically positioned correctly. \n",
    "\n",
    "**Annotations** should be specified in a dictionary form"
   ]
  },
  {
   "cell_type": "code",
   "execution_count": 21,
   "metadata": {},
   "outputs": [],
   "source": [
    "annotations={'2015-01-15':'Dividends','2015-03-31':'Split Announced'}\n",
    "fig = df['MSFT'].iplot(filename='Tutorial Annotations',annotations=annotations,asFigure=True)"
   ]
  },
  {
   "cell_type": "markdown",
   "metadata": {},
   "source": [
    "### Output as Image\n",
    "\n",
    "The output of a chart can be in an image mode as well. \n",
    "\n",
    "For this we can use **asImage=True**\n",
    "\n",
    "We can also set the dimensions (optional) with **dimensions=(width,height)**"
   ]
  },
  {
   "cell_type": "code",
   "execution_count": 16,
   "metadata": {
    "tags": []
   },
   "outputs": [
    {
     "output_type": "stream",
     "name": "stdout",
     "text": "Image saved : Tutorial Image.png\n"
    },
    {
     "output_type": "display_data",
     "data": {
      "image/png": "[encoded data removed]",
      "text/plain": "<IPython.core.display.Image object>"
     },
     "metadata": {}
    }
   ],
   "source": [
    "df[['VERZ','MSFT']].iplot(filename='Tutorial Image',theme='white',colors=['pink','blue'],asImage=True,dimensions=(800,500))"
   ]
  },
  {
   "cell_type": "markdown",
   "metadata": {},
   "source": [
    "### Advanced Use\n",
    "\n",
    "It is also possible to get the Plotly Figure as an output to tweak it manually\n",
    "\n",
    "We can achieve this with **df.figure()**"
   ]
  },
  {
   "cell_type": "code",
   "execution_count": 17,
   "metadata": {},
   "outputs": [
    {
     "output_type": "display_data",
     "data": {
      "application/vnd.plotly.v1+json": {
       "config": {
        "plotlyServerURL": "https://plot.ly"
       },
       "data": [
        {
         "line": {
          "color": "rgba(255, 153, 51, 1.0)",
          "dash": "solid",
          "shape": "linear",
          "width": 1.3
         },
         "mode": "lines",
         "name": "GOOG",
         "text": "",
         "type": "scatter",
         "x": [
          "2015-01-01",
          "2015-01-02",
          "2015-01-03",
          "2015-01-04",
          "2015-01-05",
          "2015-01-06",
          "2015-01-07",
          "2015-01-08",
          "2015-01-09",
          "2015-01-10",
          "2015-01-11",
          "2015-01-12",
          "2015-01-13",
          "2015-01-14",
          "2015-01-15",
          "2015-01-16",
          "2015-01-17",
          "2015-01-18",
          "2015-01-19",
          "2015-01-20",
          "2015-01-21",
          "2015-01-22",
          "2015-01-23",
          "2015-01-24",
          "2015-01-25",
          "2015-01-26",
          "2015-01-27",
          "2015-01-28",
          "2015-01-29",
          "2015-01-30",
          "2015-01-31",
          "2015-02-01",
          "2015-02-02",
          "2015-02-03",
          "2015-02-04",
          "2015-02-05",
          "2015-02-06",
          "2015-02-07",
          "2015-02-08",
          "2015-02-09",
          "2015-02-10",
          "2015-02-11",
          "2015-02-12",
          "2015-02-13",
          "2015-02-14",
          "2015-02-15",
          "2015-02-16",
          "2015-02-17",
          "2015-02-18",
          "2015-02-19",
          "2015-02-20",
          "2015-02-21",
          "2015-02-22",
          "2015-02-23",
          "2015-02-24",
          "2015-02-25",
          "2015-02-26",
          "2015-02-27",
          "2015-02-28",
          "2015-03-01",
          "2015-03-02",
          "2015-03-03",
          "2015-03-04",
          "2015-03-05",
          "2015-03-06",
          "2015-03-07",
          "2015-03-08",
          "2015-03-09",
          "2015-03-10",
          "2015-03-11",
          "2015-03-12",
          "2015-03-13",
          "2015-03-14",
          "2015-03-15",
          "2015-03-16",
          "2015-03-17",
          "2015-03-18",
          "2015-03-19",
          "2015-03-20",
          "2015-03-21",
          "2015-03-22",
          "2015-03-23",
          "2015-03-24",
          "2015-03-25",
          "2015-03-26",
          "2015-03-27",
          "2015-03-28",
          "2015-03-29",
          "2015-03-30",
          "2015-03-31",
          "2015-04-01",
          "2015-04-02",
          "2015-04-03",
          "2015-04-04",
          "2015-04-05",
          "2015-04-06",
          "2015-04-07",
          "2015-04-08",
          "2015-04-09",
          "2015-04-10"
         ],
         "y": [
          -0.12387924572510589,
          0.7966498730369406,
          1.0930453586576663,
          0.8338763647745995,
          2.162767373656787,
          3.6062479500754563,
          3.202448635829711,
          2.567768542871831,
          2.680965496534378,
          3.0771406663505374,
          3.1817142990051566,
          3.4747241965005253,
          1.786861595444297,
          1.2830933096354091,
          0.8149808081530232,
          1.638113505552203,
          1.319479223899768,
          0.9286020556627193,
          1.0749376964085826,
          0.7453726598777997,
          0.5351004398007938,
          1.7219980305414824,
          3.288062906283162,
          2.265715410599549,
          2.878792291909428,
          2.3658078488735605,
          1.5429717063115824,
          1.7131489093551935,
          0.8757153715278675,
          -0.050836507954122534,
          0.2734354284066933,
          -0.10384561697594463,
          0.6170179756526629,
          -2.146384173384452,
          -2.0183868572088537,
          -2.8188938819444975,
          -2.0162843681736495,
          -0.8352167035665634,
          -0.13014772668399532,
          -0.871615876465248,
          -0.5837974390826651,
          -2.9705123896372956,
          -3.197567871273736,
          -4.502872794857076,
          -4.525528837270438,
          -5.106122697850888,
          -6.23503695286984,
          -6.362975732262328,
          -5.449173916416164,
          -5.421419974488732,
          -5.056505806053844,
          -2.936029997224167,
          -1.6383310208514863,
          -2.936152885768644,
          -3.772770597284165,
          -3.5002867712377617,
          -4.1497437280826555,
          -3.45322162143892,
          -3.3803275101087755,
          -2.4394912253450647,
          -4.01680927318296,
          -2.696232307602342,
          -1.2539151074023323,
          1.5592928756927413,
          0.9594451971987746,
          0.2105984619987319,
          -0.7497386105484958,
          -1.030957270406392,
          -2.1734822858387766,
          -1.9270371687779182,
          -1.2476992683785164,
          -2.3846756567901206,
          -0.6421205097917579,
          0.44824301680512035,
          0.6682654935379814,
          1.695370736199374,
          2.3866034693565625,
          1.834912270049062,
          1.0180822540150134,
          0.8484255614423925,
          0.1799863918692055,
          1.8080574327213808,
          1.3944920136670351,
          1.7118024940155672,
          1.8756814678680513,
          0.1777891259967339,
          0.43579931757763607,
          -0.2648329380224224,
          -0.7664804894080612,
          -0.31845050463237334,
          -0.4486317737560189,
          1.7161003285705925,
          2.2582740061138797,
          1.3654619980796454,
          1.3494056338577864,
          0.5364421851499185,
          2.318095072680387,
          1.1205864275793826,
          1.2156619998330147,
          1.502352832575002
         ]
        }
       ],
       "layout": {
        "legend": {
         "bgcolor": "#F5F6F9",
         "font": {
          "color": "#4D5663"
         }
        },
        "paper_bgcolor": "#F5F6F9",
        "plot_bgcolor": "#F5F6F9",
        "template": {
         "data": {
          "bar": [
           {
            "error_x": {
             "color": "#2a3f5f"
            },
            "error_y": {
             "color": "#2a3f5f"
            },
            "marker": {
             "line": {
              "color": "#E5ECF6",
              "width": 0.5
             }
            },
            "type": "bar"
           }
          ],
          "barpolar": [
           {
            "marker": {
             "line": {
              "color": "#E5ECF6",
              "width": 0.5
             }
            },
            "type": "barpolar"
           }
          ],
          "carpet": [
           {
            "aaxis": {
             "endlinecolor": "#2a3f5f",
             "gridcolor": "white",
             "linecolor": "white",
             "minorgridcolor": "white",
             "startlinecolor": "#2a3f5f"
            },
            "baxis": {
             "endlinecolor": "#2a3f5f",
             "gridcolor": "white",
             "linecolor": "white",
             "minorgridcolor": "white",
             "startlinecolor": "#2a3f5f"
            },
            "type": "carpet"
           }
          ],
          "choropleth": [
           {
            "colorbar": {
             "outlinewidth": 0,
             "ticks": ""
            },
            "type": "choropleth"
           }
          ],
          "contour": [
           {
            "colorbar": {
             "outlinewidth": 0,
             "ticks": ""
            },
            "colorscale": [
             [
              0,
              "#0d0887"
             ],
             [
              0.1111111111111111,
              "#46039f"
             ],
             [
              0.2222222222222222,
              "#7201a8"
             ],
             [
              0.3333333333333333,
              "#9c179e"
             ],
             [
              0.4444444444444444,
              "#bd3786"
             ],
             [
              0.5555555555555556,
              "#d8576b"
             ],
             [
              0.6666666666666666,
              "#ed7953"
             ],
             [
              0.7777777777777778,
              "#fb9f3a"
             ],
             [
              0.8888888888888888,
              "#fdca26"
             ],
             [
              1,
              "#f0f921"
             ]
            ],
            "type": "contour"
           }
          ],
          "contourcarpet": [
           {
            "colorbar": {
             "outlinewidth": 0,
             "ticks": ""
            },
            "type": "contourcarpet"
           }
          ],
          "heatmap": [
           {
            "colorbar": {
             "outlinewidth": 0,
             "ticks": ""
            },
            "colorscale": [
             [
              0,
              "#0d0887"
             ],
             [
              0.1111111111111111,
              "#46039f"
             ],
             [
              0.2222222222222222,
              "#7201a8"
             ],
             [
              0.3333333333333333,
              "#9c179e"
             ],
             [
              0.4444444444444444,
              "#bd3786"
             ],
             [
              0.5555555555555556,
              "#d8576b"
             ],
             [
              0.6666666666666666,
              "#ed7953"
             ],
             [
              0.7777777777777778,
              "#fb9f3a"
             ],
             [
              0.8888888888888888,
              "#fdca26"
             ],
             [
              1,
              "#f0f921"
             ]
            ],
            "type": "heatmap"
           }
          ],
          "heatmapgl": [
           {
            "colorbar": {
             "outlinewidth": 0,
             "ticks": ""
            },
            "colorscale": [
             [
              0,
              "#0d0887"
             ],
             [
              0.1111111111111111,
              "#46039f"
             ],
             [
              0.2222222222222222,
              "#7201a8"
             ],
             [
              0.3333333333333333,
              "#9c179e"
             ],
             [
              0.4444444444444444,
              "#bd3786"
             ],
             [
              0.5555555555555556,
              "#d8576b"
             ],
             [
              0.6666666666666666,
              "#ed7953"
             ],
             [
              0.7777777777777778,
              "#fb9f3a"
             ],
             [
              0.8888888888888888,
              "#fdca26"
             ],
             [
              1,
              "#f0f921"
             ]
            ],
            "type": "heatmapgl"
           }
          ],
          "histogram": [
           {
            "marker": {
             "colorbar": {
              "outlinewidth": 0,
              "ticks": ""
             }
            },
            "type": "histogram"
           }
          ],
          "histogram2d": [
           {
            "colorbar": {
             "outlinewidth": 0,
             "ticks": ""
            },
            "colorscale": [
             [
              0,
              "#0d0887"
             ],
             [
              0.1111111111111111,
              "#46039f"
             ],
             [
              0.2222222222222222,
              "#7201a8"
             ],
             [
              0.3333333333333333,
              "#9c179e"
             ],
             [
              0.4444444444444444,
              "#bd3786"
             ],
             [
              0.5555555555555556,
              "#d8576b"
             ],
             [
              0.6666666666666666,
              "#ed7953"
             ],
             [
              0.7777777777777778,
              "#fb9f3a"
             ],
             [
              0.8888888888888888,
              "#fdca26"
             ],
             [
              1,
              "#f0f921"
             ]
            ],
            "type": "histogram2d"
           }
          ],
          "histogram2dcontour": [
           {
            "colorbar": {
             "outlinewidth": 0,
             "ticks": ""
            },
            "colorscale": [
             [
              0,
              "#0d0887"
             ],
             [
              0.1111111111111111,
              "#46039f"
             ],
             [
              0.2222222222222222,
              "#7201a8"
             ],
             [
              0.3333333333333333,
              "#9c179e"
             ],
             [
              0.4444444444444444,
              "#bd3786"
             ],
             [
              0.5555555555555556,
              "#d8576b"
             ],
             [
              0.6666666666666666,
              "#ed7953"
             ],
             [
              0.7777777777777778,
              "#fb9f3a"
             ],
             [
              0.8888888888888888,
              "#fdca26"
             ],
             [
              1,
              "#f0f921"
             ]
            ],
            "type": "histogram2dcontour"
           }
          ],
          "mesh3d": [
           {
            "colorbar": {
             "outlinewidth": 0,
             "ticks": ""
            },
            "type": "mesh3d"
           }
          ],
          "parcoords": [
           {
            "line": {
             "colorbar": {
              "outlinewidth": 0,
              "ticks": ""
             }
            },
            "type": "parcoords"
           }
          ],
          "pie": [
           {
            "automargin": true,
            "type": "pie"
           }
          ],
          "scatter": [
           {
            "marker": {
             "colorbar": {
              "outlinewidth": 0,
              "ticks": ""
             }
            },
            "type": "scatter"
           }
          ],
          "scatter3d": [
           {
            "line": {
             "colorbar": {
              "outlinewidth": 0,
              "ticks": ""
             }
            },
            "marker": {
             "colorbar": {
              "outlinewidth": 0,
              "ticks": ""
             }
            },
            "type": "scatter3d"
           }
          ],
          "scattercarpet": [
           {
            "marker": {
             "colorbar": {
              "outlinewidth": 0,
              "ticks": ""
             }
            },
            "type": "scattercarpet"
           }
          ],
          "scattergeo": [
           {
            "marker": {
             "colorbar": {
              "outlinewidth": 0,
              "ticks": ""
             }
            },
            "type": "scattergeo"
           }
          ],
          "scattergl": [
           {
            "marker": {
             "colorbar": {
              "outlinewidth": 0,
              "ticks": ""
             }
            },
            "type": "scattergl"
           }
          ],
          "scattermapbox": [
           {
            "marker": {
             "colorbar": {
              "outlinewidth": 0,
              "ticks": ""
             }
            },
            "type": "scattermapbox"
           }
          ],
          "scatterpolar": [
           {
            "marker": {
             "colorbar": {
              "outlinewidth": 0,
              "ticks": ""
             }
            },
            "type": "scatterpolar"
           }
          ],
          "scatterpolargl": [
           {
            "marker": {
             "colorbar": {
              "outlinewidth": 0,
              "ticks": ""
             }
            },
            "type": "scatterpolargl"
           }
          ],
          "scatterternary": [
           {
            "marker": {
             "colorbar": {
              "outlinewidth": 0,
              "ticks": ""
             }
            },
            "type": "scatterternary"
           }
          ],
          "surface": [
           {
            "colorbar": {
             "outlinewidth": 0,
             "ticks": ""
            },
            "colorscale": [
             [
              0,
              "#0d0887"
             ],
             [
              0.1111111111111111,
              "#46039f"
             ],
             [
              0.2222222222222222,
              "#7201a8"
             ],
             [
              0.3333333333333333,
              "#9c179e"
             ],
             [
              0.4444444444444444,
              "#bd3786"
             ],
             [
              0.5555555555555556,
              "#d8576b"
             ],
             [
              0.6666666666666666,
              "#ed7953"
             ],
             [
              0.7777777777777778,
              "#fb9f3a"
             ],
             [
              0.8888888888888888,
              "#fdca26"
             ],
             [
              1,
              "#f0f921"
             ]
            ],
            "type": "surface"
           }
          ],
          "table": [
           {
            "cells": {
             "fill": {
              "color": "#EBF0F8"
             },
             "line": {
              "color": "white"
             }
            },
            "header": {
             "fill": {
              "color": "#C8D4E3"
             },
             "line": {
              "color": "white"
             }
            },
            "type": "table"
           }
          ]
         },
         "layout": {
          "annotationdefaults": {
           "arrowcolor": "#2a3f5f",
           "arrowhead": 0,
           "arrowwidth": 1
          },
          "coloraxis": {
           "colorbar": {
            "outlinewidth": 0,
            "ticks": ""
           }
          },
          "colorscale": {
           "diverging": [
            [
             0,
             "#8e0152"
            ],
            [
             0.1,
             "#c51b7d"
            ],
            [
             0.2,
             "#de77ae"
            ],
            [
             0.3,
             "#f1b6da"
            ],
            [
             0.4,
             "#fde0ef"
            ],
            [
             0.5,
             "#f7f7f7"
            ],
            [
             0.6,
             "#e6f5d0"
            ],
            [
             0.7,
             "#b8e186"
            ],
            [
             0.8,
             "#7fbc41"
            ],
            [
             0.9,
             "#4d9221"
            ],
            [
             1,
             "#276419"
            ]
           ],
           "sequential": [
            [
             0,
             "#0d0887"
            ],
            [
             0.1111111111111111,
             "#46039f"
            ],
            [
             0.2222222222222222,
             "#7201a8"
            ],
            [
             0.3333333333333333,
             "#9c179e"
            ],
            [
             0.4444444444444444,
             "#bd3786"
            ],
            [
             0.5555555555555556,
             "#d8576b"
            ],
            [
             0.6666666666666666,
             "#ed7953"
            ],
            [
             0.7777777777777778,
             "#fb9f3a"
            ],
            [
             0.8888888888888888,
             "#fdca26"
            ],
            [
             1,
             "#f0f921"
            ]
           ],
           "sequentialminus": [
            [
             0,
             "#0d0887"
            ],
            [
             0.1111111111111111,
             "#46039f"
            ],
            [
             0.2222222222222222,
             "#7201a8"
            ],
            [
             0.3333333333333333,
             "#9c179e"
            ],
            [
             0.4444444444444444,
             "#bd3786"
            ],
            [
             0.5555555555555556,
             "#d8576b"
            ],
            [
             0.6666666666666666,
             "#ed7953"
            ],
            [
             0.7777777777777778,
             "#fb9f3a"
            ],
            [
             0.8888888888888888,
             "#fdca26"
            ],
            [
             1,
             "#f0f921"
            ]
           ]
          },
          "colorway": [
           "#636efa",
           "#EF553B",
           "#00cc96",
           "#ab63fa",
           "#FFA15A",
           "#19d3f3",
           "#FF6692",
           "#B6E880",
           "#FF97FF",
           "#FECB52"
          ],
          "font": {
           "color": "#2a3f5f"
          },
          "geo": {
           "bgcolor": "white",
           "lakecolor": "white",
           "landcolor": "#E5ECF6",
           "showlakes": true,
           "showland": true,
           "subunitcolor": "white"
          },
          "hoverlabel": {
           "align": "left"
          },
          "hovermode": "closest",
          "mapbox": {
           "style": "light"
          },
          "paper_bgcolor": "white",
          "plot_bgcolor": "#E5ECF6",
          "polar": {
           "angularaxis": {
            "gridcolor": "white",
            "linecolor": "white",
            "ticks": ""
           },
           "bgcolor": "#E5ECF6",
           "radialaxis": {
            "gridcolor": "white",
            "linecolor": "white",
            "ticks": ""
           }
          },
          "scene": {
           "xaxis": {
            "backgroundcolor": "#E5ECF6",
            "gridcolor": "white",
            "gridwidth": 2,
            "linecolor": "white",
            "showbackground": true,
            "ticks": "",
            "zerolinecolor": "white"
           },
           "yaxis": {
            "backgroundcolor": "#E5ECF6",
            "gridcolor": "white",
            "gridwidth": 2,
            "linecolor": "white",
            "showbackground": true,
            "ticks": "",
            "zerolinecolor": "white"
           },
           "zaxis": {
            "backgroundcolor": "#E5ECF6",
            "gridcolor": "white",
            "gridwidth": 2,
            "linecolor": "white",
            "showbackground": true,
            "ticks": "",
            "zerolinecolor": "white"
           }
          },
          "shapedefaults": {
           "line": {
            "color": "#2a3f5f"
           }
          },
          "ternary": {
           "aaxis": {
            "gridcolor": "white",
            "linecolor": "white",
            "ticks": ""
           },
           "baxis": {
            "gridcolor": "white",
            "linecolor": "white",
            "ticks": ""
           },
           "bgcolor": "#E5ECF6",
           "caxis": {
            "gridcolor": "white",
            "linecolor": "white",
            "ticks": ""
           }
          },
          "title": {
           "x": 0.05
          },
          "xaxis": {
           "automargin": true,
           "gridcolor": "white",
           "linecolor": "white",
           "ticks": "",
           "title": {
            "standoff": 15
           },
           "zerolinecolor": "white",
           "zerolinewidth": 2
          },
          "yaxis": {
           "automargin": true,
           "gridcolor": "white",
           "linecolor": "white",
           "ticks": "",
           "title": {
            "standoff": 15
           },
           "zerolinecolor": "white",
           "zerolinewidth": 2
          }
         }
        },
        "title": {
         "font": {
          "color": "#4D5663"
         },
         "x": 0.5
        },
        "xaxis": {
         "gridcolor": "#E1E5ED",
         "showgrid": true,
         "tickfont": {
          "color": "#4D5663"
         },
         "title": {
          "font": {
           "color": "#4D5663"
          },
          "text": ""
         },
         "zerolinecolor": "#E1E5ED"
        },
        "yaxis": {
         "gridcolor": "#E1E5ED",
         "showgrid": true,
         "tickfont": {
          "color": "#4D5663"
         },
         "title": {
          "font": {
           "color": "#4D5663"
          },
          "text": ""
         },
         "zerolinecolor": "#E1E5ED"
        }
       }
      },
      "text/html": "<div>\n        \n        \n            <div id=\"2ce64ef1-a5e2-4620-a42a-b8680bcad6ff\" class=\"plotly-graph-div\" style=\"height:525px; width:100%;\"></div>\n            <script type=\"text/javascript\">\n                require([\"plotly\"], function(Plotly) {\n                    window.PLOTLYENV=window.PLOTLYENV || {};\n                    \n                if (document.getElementById(\"2ce64ef1-a5e2-4620-a42a-b8680bcad6ff\")) {\n                    Plotly.newPlot(\n                        '2ce64ef1-a5e2-4620-a42a-b8680bcad6ff',\n                        [{\"line\": {\"color\": \"rgba(255, 153, 51, 1.0)\", \"dash\": \"solid\", \"shape\": \"linear\", \"width\": 1.3}, \"mode\": \"lines\", \"name\": \"GOOG\", \"text\": \"\", \"type\": \"scatter\", \"x\": [\"2015-01-01\", \"2015-01-02\", \"2015-01-03\", \"2015-01-04\", \"2015-01-05\", \"2015-01-06\", \"2015-01-07\", \"2015-01-08\", \"2015-01-09\", \"2015-01-10\", \"2015-01-11\", \"2015-01-12\", \"2015-01-13\", \"2015-01-14\", \"2015-01-15\", \"2015-01-16\", \"2015-01-17\", \"2015-01-18\", \"2015-01-19\", \"2015-01-20\", \"2015-01-21\", \"2015-01-22\", \"2015-01-23\", \"2015-01-24\", \"2015-01-25\", \"2015-01-26\", \"2015-01-27\", \"2015-01-28\", \"2015-01-29\", \"2015-01-30\", \"2015-01-31\", \"2015-02-01\", \"2015-02-02\", \"2015-02-03\", \"2015-02-04\", \"2015-02-05\", \"2015-02-06\", \"2015-02-07\", \"2015-02-08\", \"2015-02-09\", \"2015-02-10\", \"2015-02-11\", \"2015-02-12\", \"2015-02-13\", \"2015-02-14\", \"2015-02-15\", \"2015-02-16\", \"2015-02-17\", \"2015-02-18\", \"2015-02-19\", \"2015-02-20\", \"2015-02-21\", \"2015-02-22\", \"2015-02-23\", \"2015-02-24\", \"2015-02-25\", \"2015-02-26\", \"2015-02-27\", \"2015-02-28\", \"2015-03-01\", \"2015-03-02\", \"2015-03-03\", \"2015-03-04\", \"2015-03-05\", \"2015-03-06\", \"2015-03-07\", \"2015-03-08\", \"2015-03-09\", \"2015-03-10\", \"2015-03-11\", \"2015-03-12\", \"2015-03-13\", \"2015-03-14\", \"2015-03-15\", \"2015-03-16\", \"2015-03-17\", \"2015-03-18\", \"2015-03-19\", \"2015-03-20\", \"2015-03-21\", \"2015-03-22\", \"2015-03-23\", \"2015-03-24\", \"2015-03-25\", \"2015-03-26\", \"2015-03-27\", \"2015-03-28\", \"2015-03-29\", \"2015-03-30\", \"2015-03-31\", \"2015-04-01\", \"2015-04-02\", \"2015-04-03\", \"2015-04-04\", \"2015-04-05\", \"2015-04-06\", \"2015-04-07\", \"2015-04-08\", \"2015-04-09\", \"2015-04-10\"], \"y\": [-0.12387924572510589, 0.7966498730369406, 1.0930453586576663, 0.8338763647745995, 2.162767373656787, 3.6062479500754563, 3.202448635829711, 2.567768542871831, 2.680965496534378, 3.0771406663505374, 3.1817142990051566, 3.4747241965005253, 1.786861595444297, 1.2830933096354091, 0.8149808081530232, 1.638113505552203, 1.319479223899768, 0.9286020556627193, 1.0749376964085826, 0.7453726598777997, 0.5351004398007938, 1.7219980305414824, 3.288062906283162, 2.265715410599549, 2.878792291909428, 2.3658078488735605, 1.5429717063115824, 1.7131489093551935, 0.8757153715278675, -0.050836507954122534, 0.2734354284066933, -0.10384561697594463, 0.6170179756526629, -2.146384173384452, -2.0183868572088537, -2.8188938819444975, -2.0162843681736495, -0.8352167035665634, -0.13014772668399532, -0.871615876465248, -0.5837974390826651, -2.9705123896372956, -3.197567871273736, -4.502872794857076, -4.525528837270438, -5.106122697850888, -6.23503695286984, -6.362975732262328, -5.449173916416164, -5.421419974488732, -5.056505806053844, -2.936029997224167, -1.6383310208514863, -2.936152885768644, -3.772770597284165, -3.5002867712377617, -4.1497437280826555, -3.45322162143892, -3.3803275101087755, -2.4394912253450647, -4.01680927318296, -2.696232307602342, -1.2539151074023323, 1.5592928756927413, 0.9594451971987746, 0.2105984619987319, -0.7497386105484958, -1.030957270406392, -2.1734822858387766, -1.9270371687779182, -1.2476992683785164, -2.3846756567901206, -0.6421205097917579, 0.44824301680512035, 0.6682654935379814, 1.695370736199374, 2.3866034693565625, 1.834912270049062, 1.0180822540150134, 0.8484255614423925, 0.1799863918692055, 1.8080574327213808, 1.3944920136670351, 1.7118024940155672, 1.8756814678680513, 0.1777891259967339, 0.43579931757763607, -0.2648329380224224, -0.7664804894080612, -0.31845050463237334, -0.4486317737560189, 1.7161003285705925, 2.2582740061138797, 1.3654619980796454, 1.3494056338577864, 0.5364421851499185, 2.318095072680387, 1.1205864275793826, 1.2156619998330147, 1.502352832575002]}],\n                        {\"legend\": {\"bgcolor\": \"#F5F6F9\", \"font\": {\"color\": \"#4D5663\"}}, \"paper_bgcolor\": \"#F5F6F9\", \"plot_bgcolor\": \"#F5F6F9\", \"template\": {\"data\": {\"bar\": [{\"error_x\": {\"color\": \"#2a3f5f\"}, \"error_y\": {\"color\": \"#2a3f5f\"}, \"marker\": {\"line\": {\"color\": \"#E5ECF6\", \"width\": 0.5}}, \"type\": \"bar\"}], \"barpolar\": [{\"marker\": {\"line\": {\"color\": \"#E5ECF6\", \"width\": 0.5}}, \"type\": \"barpolar\"}], \"carpet\": [{\"aaxis\": {\"endlinecolor\": \"#2a3f5f\", \"gridcolor\": \"white\", \"linecolor\": \"white\", \"minorgridcolor\": \"white\", \"startlinecolor\": \"#2a3f5f\"}, \"baxis\": {\"endlinecolor\": \"#2a3f5f\", \"gridcolor\": \"white\", \"linecolor\": \"white\", \"minorgridcolor\": \"white\", \"startlinecolor\": \"#2a3f5f\"}, \"type\": \"carpet\"}], \"choropleth\": [{\"colorbar\": {\"outlinewidth\": 0, \"ticks\": \"\"}, \"type\": \"choropleth\"}], \"contour\": [{\"colorbar\": {\"outlinewidth\": 0, \"ticks\": \"\"}, \"colorscale\": [[0.0, \"#0d0887\"], [0.1111111111111111, \"#46039f\"], [0.2222222222222222, \"#7201a8\"], [0.3333333333333333, \"#9c179e\"], [0.4444444444444444, \"#bd3786\"], [0.5555555555555556, \"#d8576b\"], [0.6666666666666666, \"#ed7953\"], [0.7777777777777778, \"#fb9f3a\"], [0.8888888888888888, \"#fdca26\"], [1.0, \"#f0f921\"]], \"type\": \"contour\"}], \"contourcarpet\": [{\"colorbar\": {\"outlinewidth\": 0, \"ticks\": \"\"}, \"type\": \"contourcarpet\"}], \"heatmap\": [{\"colorbar\": {\"outlinewidth\": 0, \"ticks\": \"\"}, \"colorscale\": [[0.0, \"#0d0887\"], [0.1111111111111111, \"#46039f\"], [0.2222222222222222, \"#7201a8\"], [0.3333333333333333, \"#9c179e\"], [0.4444444444444444, \"#bd3786\"], [0.5555555555555556, \"#d8576b\"], [0.6666666666666666, \"#ed7953\"], [0.7777777777777778, \"#fb9f3a\"], [0.8888888888888888, \"#fdca26\"], [1.0, \"#f0f921\"]], \"type\": \"heatmap\"}], \"heatmapgl\": [{\"colorbar\": {\"outlinewidth\": 0, \"ticks\": \"\"}, \"colorscale\": [[0.0, \"#0d0887\"], [0.1111111111111111, \"#46039f\"], [0.2222222222222222, \"#7201a8\"], [0.3333333333333333, \"#9c179e\"], [0.4444444444444444, \"#bd3786\"], [0.5555555555555556, \"#d8576b\"], [0.6666666666666666, \"#ed7953\"], [0.7777777777777778, \"#fb9f3a\"], [0.8888888888888888, \"#fdca26\"], [1.0, \"#f0f921\"]], \"type\": \"heatmapgl\"}], \"histogram\": [{\"marker\": {\"colorbar\": {\"outlinewidth\": 0, \"ticks\": \"\"}}, \"type\": \"histogram\"}], \"histogram2d\": [{\"colorbar\": {\"outlinewidth\": 0, \"ticks\": \"\"}, \"colorscale\": [[0.0, \"#0d0887\"], [0.1111111111111111, \"#46039f\"], [0.2222222222222222, \"#7201a8\"], [0.3333333333333333, \"#9c179e\"], [0.4444444444444444, \"#bd3786\"], [0.5555555555555556, \"#d8576b\"], [0.6666666666666666, \"#ed7953\"], [0.7777777777777778, \"#fb9f3a\"], [0.8888888888888888, \"#fdca26\"], [1.0, \"#f0f921\"]], \"type\": \"histogram2d\"}], \"histogram2dcontour\": [{\"colorbar\": {\"outlinewidth\": 0, \"ticks\": \"\"}, \"colorscale\": [[0.0, \"#0d0887\"], [0.1111111111111111, \"#46039f\"], [0.2222222222222222, \"#7201a8\"], [0.3333333333333333, \"#9c179e\"], [0.4444444444444444, \"#bd3786\"], [0.5555555555555556, \"#d8576b\"], [0.6666666666666666, \"#ed7953\"], [0.7777777777777778, \"#fb9f3a\"], [0.8888888888888888, \"#fdca26\"], [1.0, \"#f0f921\"]], \"type\": \"histogram2dcontour\"}], \"mesh3d\": [{\"colorbar\": {\"outlinewidth\": 0, \"ticks\": \"\"}, \"type\": \"mesh3d\"}], \"parcoords\": [{\"line\": {\"colorbar\": {\"outlinewidth\": 0, \"ticks\": \"\"}}, \"type\": \"parcoords\"}], \"pie\": [{\"automargin\": true, \"type\": \"pie\"}], \"scatter\": [{\"marker\": {\"colorbar\": {\"outlinewidth\": 0, \"ticks\": \"\"}}, \"type\": \"scatter\"}], \"scatter3d\": [{\"line\": {\"colorbar\": {\"outlinewidth\": 0, \"ticks\": \"\"}}, \"marker\": {\"colorbar\": {\"outlinewidth\": 0, \"ticks\": \"\"}}, \"type\": \"scatter3d\"}], \"scattercarpet\": [{\"marker\": {\"colorbar\": {\"outlinewidth\": 0, \"ticks\": \"\"}}, \"type\": \"scattercarpet\"}], \"scattergeo\": [{\"marker\": {\"colorbar\": {\"outlinewidth\": 0, \"ticks\": \"\"}}, \"type\": \"scattergeo\"}], \"scattergl\": [{\"marker\": {\"colorbar\": {\"outlinewidth\": 0, \"ticks\": \"\"}}, \"type\": \"scattergl\"}], \"scattermapbox\": [{\"marker\": {\"colorbar\": {\"outlinewidth\": 0, \"ticks\": \"\"}}, \"type\": \"scattermapbox\"}], \"scatterpolar\": [{\"marker\": {\"colorbar\": {\"outlinewidth\": 0, \"ticks\": \"\"}}, \"type\": \"scatterpolar\"}], \"scatterpolargl\": [{\"marker\": {\"colorbar\": {\"outlinewidth\": 0, \"ticks\": \"\"}}, \"type\": \"scatterpolargl\"}], \"scatterternary\": [{\"marker\": {\"colorbar\": {\"outlinewidth\": 0, \"ticks\": \"\"}}, \"type\": \"scatterternary\"}], \"surface\": [{\"colorbar\": {\"outlinewidth\": 0, \"ticks\": \"\"}, \"colorscale\": [[0.0, \"#0d0887\"], [0.1111111111111111, \"#46039f\"], [0.2222222222222222, \"#7201a8\"], [0.3333333333333333, \"#9c179e\"], [0.4444444444444444, \"#bd3786\"], [0.5555555555555556, \"#d8576b\"], [0.6666666666666666, \"#ed7953\"], [0.7777777777777778, \"#fb9f3a\"], [0.8888888888888888, \"#fdca26\"], [1.0, \"#f0f921\"]], \"type\": \"surface\"}], \"table\": [{\"cells\": {\"fill\": {\"color\": \"#EBF0F8\"}, \"line\": {\"color\": \"white\"}}, \"header\": {\"fill\": {\"color\": \"#C8D4E3\"}, \"line\": {\"color\": \"white\"}}, \"type\": \"table\"}]}, \"layout\": {\"annotationdefaults\": {\"arrowcolor\": \"#2a3f5f\", \"arrowhead\": 0, \"arrowwidth\": 1}, \"coloraxis\": {\"colorbar\": {\"outlinewidth\": 0, \"ticks\": \"\"}}, \"colorscale\": {\"diverging\": [[0, \"#8e0152\"], [0.1, \"#c51b7d\"], [0.2, \"#de77ae\"], [0.3, \"#f1b6da\"], [0.4, \"#fde0ef\"], [0.5, \"#f7f7f7\"], [0.6, \"#e6f5d0\"], [0.7, \"#b8e186\"], [0.8, \"#7fbc41\"], [0.9, \"#4d9221\"], [1, \"#276419\"]], \"sequential\": [[0.0, \"#0d0887\"], [0.1111111111111111, \"#46039f\"], [0.2222222222222222, \"#7201a8\"], [0.3333333333333333, \"#9c179e\"], [0.4444444444444444, \"#bd3786\"], [0.5555555555555556, \"#d8576b\"], [0.6666666666666666, \"#ed7953\"], [0.7777777777777778, \"#fb9f3a\"], [0.8888888888888888, \"#fdca26\"], [1.0, \"#f0f921\"]], \"sequentialminus\": [[0.0, \"#0d0887\"], [0.1111111111111111, \"#46039f\"], [0.2222222222222222, \"#7201a8\"], [0.3333333333333333, \"#9c179e\"], [0.4444444444444444, \"#bd3786\"], [0.5555555555555556, \"#d8576b\"], [0.6666666666666666, \"#ed7953\"], [0.7777777777777778, \"#fb9f3a\"], [0.8888888888888888, \"#fdca26\"], [1.0, \"#f0f921\"]]}, \"colorway\": [\"#636efa\", \"#EF553B\", \"#00cc96\", \"#ab63fa\", \"#FFA15A\", \"#19d3f3\", \"#FF6692\", \"#B6E880\", \"#FF97FF\", \"#FECB52\"], \"font\": {\"color\": \"#2a3f5f\"}, \"geo\": {\"bgcolor\": \"white\", \"lakecolor\": \"white\", \"landcolor\": \"#E5ECF6\", \"showlakes\": true, \"showland\": true, \"subunitcolor\": \"white\"}, \"hoverlabel\": {\"align\": \"left\"}, \"hovermode\": \"closest\", \"mapbox\": {\"style\": \"light\"}, \"paper_bgcolor\": \"white\", \"plot_bgcolor\": \"#E5ECF6\", \"polar\": {\"angularaxis\": {\"gridcolor\": \"white\", \"linecolor\": \"white\", \"ticks\": \"\"}, \"bgcolor\": \"#E5ECF6\", \"radialaxis\": {\"gridcolor\": \"white\", \"linecolor\": \"white\", \"ticks\": \"\"}}, \"scene\": {\"xaxis\": {\"backgroundcolor\": \"#E5ECF6\", \"gridcolor\": \"white\", \"gridwidth\": 2, \"linecolor\": \"white\", \"showbackground\": true, \"ticks\": \"\", \"zerolinecolor\": \"white\"}, \"yaxis\": {\"backgroundcolor\": \"#E5ECF6\", \"gridcolor\": \"white\", \"gridwidth\": 2, \"linecolor\": \"white\", \"showbackground\": true, \"ticks\": \"\", \"zerolinecolor\": \"white\"}, \"zaxis\": {\"backgroundcolor\": \"#E5ECF6\", \"gridcolor\": \"white\", \"gridwidth\": 2, \"linecolor\": \"white\", \"showbackground\": true, \"ticks\": \"\", \"zerolinecolor\": \"white\"}}, \"shapedefaults\": {\"line\": {\"color\": \"#2a3f5f\"}}, \"ternary\": {\"aaxis\": {\"gridcolor\": \"white\", \"linecolor\": \"white\", \"ticks\": \"\"}, \"baxis\": {\"gridcolor\": \"white\", \"linecolor\": \"white\", \"ticks\": \"\"}, \"bgcolor\": \"#E5ECF6\", \"caxis\": {\"gridcolor\": \"white\", \"linecolor\": \"white\", \"ticks\": \"\"}}, \"title\": {\"x\": 0.05}, \"xaxis\": {\"automargin\": true, \"gridcolor\": \"white\", \"linecolor\": \"white\", \"ticks\": \"\", \"title\": {\"standoff\": 15}, \"zerolinecolor\": \"white\", \"zerolinewidth\": 2}, \"yaxis\": {\"automargin\": true, \"gridcolor\": \"white\", \"linecolor\": \"white\", \"ticks\": \"\", \"title\": {\"standoff\": 15}, \"zerolinecolor\": \"white\", \"zerolinewidth\": 2}}}, \"title\": {\"font\": {\"color\": \"#4D5663\"}, \"x\": 0.5}, \"xaxis\": {\"gridcolor\": \"#E1E5ED\", \"showgrid\": true, \"tickfont\": {\"color\": \"#4D5663\"}, \"title\": {\"font\": {\"color\": \"#4D5663\"}, \"text\": \"\"}, \"zerolinecolor\": \"#E1E5ED\"}, \"yaxis\": {\"gridcolor\": \"#E1E5ED\", \"showgrid\": true, \"tickfont\": {\"color\": \"#4D5663\"}, \"title\": {\"font\": {\"color\": \"#4D5663\"}, \"text\": \"\"}, \"zerolinecolor\": \"#E1E5ED\"}},\n                        {\"responsive\": true}\n                    ).then(function(){\n                            \nvar gd = document.getElementById('2ce64ef1-a5e2-4620-a42a-b8680bcad6ff');\nvar x = new MutationObserver(function (mutations, observer) {{\n        var display = window.getComputedStyle(gd).display;\n        if (!display || display === 'none') {{\n            console.log([gd, 'removed!']);\n            Plotly.purge(gd);\n            observer.disconnect();\n        }}\n}});\n\n// Listen for the removal of the full notebook cells\nvar notebookContainer = gd.closest('#notebook-container');\nif (notebookContainer) {{\n    x.observe(notebookContainer, {childList: true});\n}}\n\n// Listen for the clearing of the current output cell\nvar outputEl = gd.closest('.output');\nif (outputEl) {{\n    x.observe(outputEl, {childList: true});\n}}\n\n                        })\n                };\n                });\n            </script>\n        </div>"
     },
     "metadata": {}
    }
   ],
   "source": [
    "df['GOOG'].figure()"
   ]
  },
  {
   "cell_type": "markdown",
   "metadata": {},
   "source": [
    "We can also get the **Data** object directly"
   ]
  },
  {
   "cell_type": "code",
   "execution_count": 18,
   "metadata": {
    "collapsed": true
   },
   "outputs": [],
   "source": [
    "data=df.figure()['data']"
   ]
  },
  {
   "cell_type": "code",
   "execution_count": 19,
   "metadata": {
    "collapsed": true
   },
   "outputs": [],
   "source": [
    "data[0]['name']='My Custom Name'"
   ]
  },
  {
   "cell_type": "markdown",
   "metadata": {},
   "source": [
    "And pass this directly to **iplot**"
   ]
  },
  {
   "cell_type": "code",
   "execution_count": 20,
   "metadata": {},
   "outputs": [
    {
     "output_type": "display_data",
     "data": {
      "application/vnd.plotly.v1+json": {
       "config": {
        "linkText": "Export to plot.ly",
        "plotlyServerURL": "https://plot.ly",
        "showLink": true
       },
       "data": [
        {
         "line": {
          "color": "rgba(255, 153, 51, 1.0)",
          "dash": "solid",
          "shape": "linear",
          "width": 1.3
         },
         "mode": "lines",
         "name": "My Custom Name",
         "text": "",
         "type": "scatter",
         "x": [
          "2015-01-01",
          "2015-01-02",
          "2015-01-03",
          "2015-01-04",
          "2015-01-05",
          "2015-01-06",
          "2015-01-07",
          "2015-01-08",
          "2015-01-09",
          "2015-01-10",
          "2015-01-11",
          "2015-01-12",
          "2015-01-13",
          "2015-01-14",
          "2015-01-15",
          "2015-01-16",
          "2015-01-17",
          "2015-01-18",
          "2015-01-19",
          "2015-01-20",
          "2015-01-21",
          "2015-01-22",
          "2015-01-23",
          "2015-01-24",
          "2015-01-25",
          "2015-01-26",
          "2015-01-27",
          "2015-01-28",
          "2015-01-29",
          "2015-01-30",
          "2015-01-31",
          "2015-02-01",
          "2015-02-02",
          "2015-02-03",
          "2015-02-04",
          "2015-02-05",
          "2015-02-06",
          "2015-02-07",
          "2015-02-08",
          "2015-02-09",
          "2015-02-10",
          "2015-02-11",
          "2015-02-12",
          "2015-02-13",
          "2015-02-14",
          "2015-02-15",
          "2015-02-16",
          "2015-02-17",
          "2015-02-18",
          "2015-02-19",
          "2015-02-20",
          "2015-02-21",
          "2015-02-22",
          "2015-02-23",
          "2015-02-24",
          "2015-02-25",
          "2015-02-26",
          "2015-02-27",
          "2015-02-28",
          "2015-03-01",
          "2015-03-02",
          "2015-03-03",
          "2015-03-04",
          "2015-03-05",
          "2015-03-06",
          "2015-03-07",
          "2015-03-08",
          "2015-03-09",
          "2015-03-10",
          "2015-03-11",
          "2015-03-12",
          "2015-03-13",
          "2015-03-14",
          "2015-03-15",
          "2015-03-16",
          "2015-03-17",
          "2015-03-18",
          "2015-03-19",
          "2015-03-20",
          "2015-03-21",
          "2015-03-22",
          "2015-03-23",
          "2015-03-24",
          "2015-03-25",
          "2015-03-26",
          "2015-03-27",
          "2015-03-28",
          "2015-03-29",
          "2015-03-30",
          "2015-03-31",
          "2015-04-01",
          "2015-04-02",
          "2015-04-03",
          "2015-04-04",
          "2015-04-05",
          "2015-04-06",
          "2015-04-07",
          "2015-04-08",
          "2015-04-09",
          "2015-04-10"
         ],
         "y": [
          1.204634807161707,
          0.9145006657511832,
          1.218380555193714,
          1.6040010922114574,
          1.8507033314358179,
          4.066880405623611,
          3.9518239112895603,
          3.343657322630591,
          2.6993826172728155,
          1.7937813998056815,
          3.3904206501079903,
          3.345034922314204,
          2.8517905735877718,
          2.8932554343515426,
          2.6287434615650396,
          3.679479655990322,
          4.944291988023277,
          2.9551589923384833,
          1.970315548397061,
          4.133925997771108,
          3.573572250821949,
          2.2801057441736505,
          2.796887744081139,
          3.932794382724473,
          4.684296090776566,
          2.8116890200753795,
          4.384379914695954,
          4.971081521334814,
          4.186258478209225,
          3.761632047985512,
          2.3170347129796856,
          2.1401733562384115,
          3.196995662718602,
          3.5409634047460994,
          2.821265452008573,
          2.723780481480727,
          4.4033201312379155,
          4.7153130149928,
          4.997103372287718,
          3.9065268548223937,
          3.9687873891992123,
          3.4634482916119396,
          4.375837100021135,
          4.818047771512238,
          4.1993376531312485,
          4.645450687143723,
          3.599444565065083,
          4.643770490966302,
          5.750552089295493,
          7.627080128570817,
          7.862509075905664,
          7.567351742017961,
          6.617686040286462,
          7.0447515896015735,
          5.6656921950987265,
          5.5417453482215295,
          5.300541310566457,
          6.197160360699273,
          6.973910554277696,
          6.614186238837551,
          5.70209439422732,
          5.787684024812829,
          4.967521027775211,
          3.016285683828192,
          2.993551445823966,
          1.458684884800412,
          1.9699409510984167,
          3.9649806008166273,
          2.179191362941848,
          1.2441913085533476,
          -0.12680808196925897,
          -1.2212833718971874,
          -0.012870929969344802,
          -0.8054526521075539,
          0.2854382558167422,
          2.1718688636009036,
          1.619714167525475,
          1.5986208166867795,
          1.043527737653303,
          0.5643284317133457,
          0.7087707869791047,
          -0.32026411470649707,
          -2.423211570673105,
          -3.299175701949043,
          -3.050376069362347,
          -4.116508254409561,
          -4.621563417035203,
          -4.049924836831571,
          -3.4946903347242353,
          -3.077705559917039,
          -3.098470907212177,
          -1.6145923365328922,
          -1.1547366322244565,
          -2.1873182602382837,
          -1.887737928204876,
          -0.6839643367947077,
          -0.31528962727014875,
          -1.0087476245153408,
          -2.5148423931404507,
          -1.5810877447705447
         ]
        },
        {
         "line": {
          "color": "rgba(55, 128, 191, 1.0)",
          "dash": "solid",
          "shape": "linear",
          "width": 1.3
         },
         "mode": "lines",
         "name": "MSFT",
         "text": "",
         "type": "scatter",
         "x": [
          "2015-01-01",
          "2015-01-02",
          "2015-01-03",
          "2015-01-04",
          "2015-01-05",
          "2015-01-06",
          "2015-01-07",
          "2015-01-08",
          "2015-01-09",
          "2015-01-10",
          "2015-01-11",
          "2015-01-12",
          "2015-01-13",
          "2015-01-14",
          "2015-01-15",
          "2015-01-16",
          "2015-01-17",
          "2015-01-18",
          "2015-01-19",
          "2015-01-20",
          "2015-01-21",
          "2015-01-22",
          "2015-01-23",
          "2015-01-24",
          "2015-01-25",
          "2015-01-26",
          "2015-01-27",
          "2015-01-28",
          "2015-01-29",
          "2015-01-30",
          "2015-01-31",
          "2015-02-01",
          "2015-02-02",
          "2015-02-03",
          "2015-02-04",
          "2015-02-05",
          "2015-02-06",
          "2015-02-07",
          "2015-02-08",
          "2015-02-09",
          "2015-02-10",
          "2015-02-11",
          "2015-02-12",
          "2015-02-13",
          "2015-02-14",
          "2015-02-15",
          "2015-02-16",
          "2015-02-17",
          "2015-02-18",
          "2015-02-19",
          "2015-02-20",
          "2015-02-21",
          "2015-02-22",
          "2015-02-23",
          "2015-02-24",
          "2015-02-25",
          "2015-02-26",
          "2015-02-27",
          "2015-02-28",
          "2015-03-01",
          "2015-03-02",
          "2015-03-03",
          "2015-03-04",
          "2015-03-05",
          "2015-03-06",
          "2015-03-07",
          "2015-03-08",
          "2015-03-09",
          "2015-03-10",
          "2015-03-11",
          "2015-03-12",
          "2015-03-13",
          "2015-03-14",
          "2015-03-15",
          "2015-03-16",
          "2015-03-17",
          "2015-03-18",
          "2015-03-19",
          "2015-03-20",
          "2015-03-21",
          "2015-03-22",
          "2015-03-23",
          "2015-03-24",
          "2015-03-25",
          "2015-03-26",
          "2015-03-27",
          "2015-03-28",
          "2015-03-29",
          "2015-03-30",
          "2015-03-31",
          "2015-04-01",
          "2015-04-02",
          "2015-04-03",
          "2015-04-04",
          "2015-04-05",
          "2015-04-06",
          "2015-04-07",
          "2015-04-08",
          "2015-04-09",
          "2015-04-10"
         ],
         "y": [
          -0.13485427742658052,
          2.4533882212029257,
          2.5866188388893145,
          3.6448420212650343,
          4.627951751750441,
          3.886226815958306,
          3.2578693279395723,
          3.4136532056183397,
          1.0562422305686878,
          2.3837720933676367,
          0.9975498226769888,
          1.1304334051861475,
          -1.7946943704416911,
          -1.2374367201402034,
          -0.3154205340345986,
          -0.7401238537592838,
          -0.32525970140343174,
          3.2683659162815424,
          4.378433594261496,
          2.5317792764719944,
          1.1198643928492862,
          0.49061424627823513,
          0.8883341641308649,
          0.832740131979093,
          1.4870797206086905,
          1.8820862527576259,
          2.5640248883437633,
          3.7949419388906485,
          2.704319715120783,
          2.7667954173925478,
          1.9066295026055375,
          1.4256908593620523,
          3.1337859933617045,
          2.1998203599150346,
          1.4259000951636729,
          0.5178973832157078,
          1.9979986575043243,
          2.620234329360236,
          2.3984898889288915,
          2.133075733518558,
          2.9135162466765965,
          2.729349082194042,
          3.950333550757815,
          3.8223457054395262,
          3.010770156987346,
          3.3424672080714526,
          3.908978923042271,
          2.6628767837422007,
          1.9770506749879257,
          1.2135136251378615,
          0.3192561309867882,
          1.8390860771691768,
          3.1989298611504937,
          3.6639553618739007,
          5.320020402521994,
          5.588196108625732,
          5.00680262486941,
          3.778319199389525,
          2.667196882285848,
          2.9805140310843163,
          3.003815184847288,
          3.209109231484667,
          3.2333440593561877,
          4.530676760329434,
          5.173117026576456,
          4.2251503557992685,
          5.912732470161208,
          5.51954115029074,
          4.424751160327413,
          3.986725700552799,
          4.320141649814506,
          3.710089327148561,
          3.909944446473572,
          4.801056752960521,
          4.663878576396333,
          5.714925311423528,
          6.851912419059642,
          5.382228557465856,
          4.797772779950918,
          4.597735429334732,
          6.372076404865782,
          6.642296843309585,
          5.612657811361704,
          6.18231141544473,
          6.161297192872845,
          7.271022123097529,
          6.2471421669683895,
          4.933677265419876,
          5.160999303997231,
          4.727003299127816,
          6.006718309763433,
          6.737144799901425,
          6.872139236297279,
          7.2701841548909005,
          7.192142726165852,
          7.187389275287803,
          6.402789460500397,
          5.605540825725594,
          4.015676761225024,
          4.690677468131136
         ]
        },
        {
         "line": {
          "color": "rgba(50, 171, 96, 1.0)",
          "dash": "solid",
          "shape": "linear",
          "width": 1.3
         },
         "mode": "lines",
         "name": "GOOG",
         "text": "",
         "type": "scatter",
         "x": [
          "2015-01-01",
          "2015-01-02",
          "2015-01-03",
          "2015-01-04",
          "2015-01-05",
          "2015-01-06",
          "2015-01-07",
          "2015-01-08",
          "2015-01-09",
          "2015-01-10",
          "2015-01-11",
          "2015-01-12",
          "2015-01-13",
          "2015-01-14",
          "2015-01-15",
          "2015-01-16",
          "2015-01-17",
          "2015-01-18",
          "2015-01-19",
          "2015-01-20",
          "2015-01-21",
          "2015-01-22",
          "2015-01-23",
          "2015-01-24",
          "2015-01-25",
          "2015-01-26",
          "2015-01-27",
          "2015-01-28",
          "2015-01-29",
          "2015-01-30",
          "2015-01-31",
          "2015-02-01",
          "2015-02-02",
          "2015-02-03",
          "2015-02-04",
          "2015-02-05",
          "2015-02-06",
          "2015-02-07",
          "2015-02-08",
          "2015-02-09",
          "2015-02-10",
          "2015-02-11",
          "2015-02-12",
          "2015-02-13",
          "2015-02-14",
          "2015-02-15",
          "2015-02-16",
          "2015-02-17",
          "2015-02-18",
          "2015-02-19",
          "2015-02-20",
          "2015-02-21",
          "2015-02-22",
          "2015-02-23",
          "2015-02-24",
          "2015-02-25",
          "2015-02-26",
          "2015-02-27",
          "2015-02-28",
          "2015-03-01",
          "2015-03-02",
          "2015-03-03",
          "2015-03-04",
          "2015-03-05",
          "2015-03-06",
          "2015-03-07",
          "2015-03-08",
          "2015-03-09",
          "2015-03-10",
          "2015-03-11",
          "2015-03-12",
          "2015-03-13",
          "2015-03-14",
          "2015-03-15",
          "2015-03-16",
          "2015-03-17",
          "2015-03-18",
          "2015-03-19",
          "2015-03-20",
          "2015-03-21",
          "2015-03-22",
          "2015-03-23",
          "2015-03-24",
          "2015-03-25",
          "2015-03-26",
          "2015-03-27",
          "2015-03-28",
          "2015-03-29",
          "2015-03-30",
          "2015-03-31",
          "2015-04-01",
          "2015-04-02",
          "2015-04-03",
          "2015-04-04",
          "2015-04-05",
          "2015-04-06",
          "2015-04-07",
          "2015-04-08",
          "2015-04-09",
          "2015-04-10"
         ],
         "y": [
          -0.12387924572510589,
          0.7966498730369406,
          1.0930453586576663,
          0.8338763647745995,
          2.162767373656787,
          3.6062479500754563,
          3.202448635829711,
          2.567768542871831,
          2.680965496534378,
          3.0771406663505374,
          3.1817142990051566,
          3.4747241965005253,
          1.786861595444297,
          1.2830933096354091,
          0.8149808081530232,
          1.638113505552203,
          1.319479223899768,
          0.9286020556627193,
          1.0749376964085826,
          0.7453726598777997,
          0.5351004398007938,
          1.7219980305414824,
          3.288062906283162,
          2.265715410599549,
          2.878792291909428,
          2.3658078488735605,
          1.5429717063115824,
          1.7131489093551935,
          0.8757153715278675,
          -0.050836507954122534,
          0.2734354284066933,
          -0.10384561697594463,
          0.6170179756526629,
          -2.146384173384452,
          -2.0183868572088537,
          -2.8188938819444975,
          -2.0162843681736495,
          -0.8352167035665634,
          -0.13014772668399532,
          -0.871615876465248,
          -0.5837974390826651,
          -2.9705123896372956,
          -3.197567871273736,
          -4.502872794857076,
          -4.525528837270438,
          -5.106122697850888,
          -6.23503695286984,
          -6.362975732262328,
          -5.449173916416164,
          -5.421419974488732,
          -5.056505806053844,
          -2.936029997224167,
          -1.6383310208514863,
          -2.936152885768644,
          -3.772770597284165,
          -3.5002867712377617,
          -4.1497437280826555,
          -3.45322162143892,
          -3.3803275101087755,
          -2.4394912253450647,
          -4.01680927318296,
          -2.696232307602342,
          -1.2539151074023323,
          1.5592928756927413,
          0.9594451971987746,
          0.2105984619987319,
          -0.7497386105484958,
          -1.030957270406392,
          -2.1734822858387766,
          -1.9270371687779182,
          -1.2476992683785164,
          -2.3846756567901206,
          -0.6421205097917579,
          0.44824301680512035,
          0.6682654935379814,
          1.695370736199374,
          2.3866034693565625,
          1.834912270049062,
          1.0180822540150134,
          0.8484255614423925,
          0.1799863918692055,
          1.8080574327213808,
          1.3944920136670351,
          1.7118024940155672,
          1.8756814678680513,
          0.1777891259967339,
          0.43579931757763607,
          -0.2648329380224224,
          -0.7664804894080612,
          -0.31845050463237334,
          -0.4486317737560189,
          1.7161003285705925,
          2.2582740061138797,
          1.3654619980796454,
          1.3494056338577864,
          0.5364421851499185,
          2.318095072680387,
          1.1205864275793826,
          1.2156619998330147,
          1.502352832575002
         ]
        },
        {
         "line": {
          "color": "rgba(128, 0, 128, 1.0)",
          "dash": "solid",
          "shape": "linear",
          "width": 1.3
         },
         "mode": "lines",
         "name": "VERZ",
         "text": "",
         "type": "scatter",
         "x": [
          "2015-01-01",
          "2015-01-02",
          "2015-01-03",
          "2015-01-04",
          "2015-01-05",
          "2015-01-06",
          "2015-01-07",
          "2015-01-08",
          "2015-01-09",
          "2015-01-10",
          "2015-01-11",
          "2015-01-12",
          "2015-01-13",
          "2015-01-14",
          "2015-01-15",
          "2015-01-16",
          "2015-01-17",
          "2015-01-18",
          "2015-01-19",
          "2015-01-20",
          "2015-01-21",
          "2015-01-22",
          "2015-01-23",
          "2015-01-24",
          "2015-01-25",
          "2015-01-26",
          "2015-01-27",
          "2015-01-28",
          "2015-01-29",
          "2015-01-30",
          "2015-01-31",
          "2015-02-01",
          "2015-02-02",
          "2015-02-03",
          "2015-02-04",
          "2015-02-05",
          "2015-02-06",
          "2015-02-07",
          "2015-02-08",
          "2015-02-09",
          "2015-02-10",
          "2015-02-11",
          "2015-02-12",
          "2015-02-13",
          "2015-02-14",
          "2015-02-15",
          "2015-02-16",
          "2015-02-17",
          "2015-02-18",
          "2015-02-19",
          "2015-02-20",
          "2015-02-21",
          "2015-02-22",
          "2015-02-23",
          "2015-02-24",
          "2015-02-25",
          "2015-02-26",
          "2015-02-27",
          "2015-02-28",
          "2015-03-01",
          "2015-03-02",
          "2015-03-03",
          "2015-03-04",
          "2015-03-05",
          "2015-03-06",
          "2015-03-07",
          "2015-03-08",
          "2015-03-09",
          "2015-03-10",
          "2015-03-11",
          "2015-03-12",
          "2015-03-13",
          "2015-03-14",
          "2015-03-15",
          "2015-03-16",
          "2015-03-17",
          "2015-03-18",
          "2015-03-19",
          "2015-03-20",
          "2015-03-21",
          "2015-03-22",
          "2015-03-23",
          "2015-03-24",
          "2015-03-25",
          "2015-03-26",
          "2015-03-27",
          "2015-03-28",
          "2015-03-29",
          "2015-03-30",
          "2015-03-31",
          "2015-04-01",
          "2015-04-02",
          "2015-04-03",
          "2015-04-04",
          "2015-04-05",
          "2015-04-06",
          "2015-04-07",
          "2015-04-08",
          "2015-04-09",
          "2015-04-10"
         ],
         "y": [
          -0.14798997143547915,
          -0.7425181638076277,
          -1.629112387980162,
          -1.1534696529044854,
          -1.6916336318363019,
          -2.1993395653892347,
          -2.5420785946771374,
          -3.249116056341389,
          -1.2596339737619773,
          -1.1431606521394526,
          -1.591803171812925,
          -0.2835944499728289,
          -0.7462854607485447,
          -0.21187646900463442,
          1.1332111485517466,
          -0.41140209681748763,
          -0.07764236418693948,
          0.3840523760865555,
          0.3806219878429994,
          0.4184229671916261,
          -0.9519937067082221,
          0.14408463639206925,
          0.26377743175971813,
          0.42678343645240235,
          -0.9424001163610074,
          -1.7604137942702862,
          -1.2907716439042218,
          1.0630981669304322,
          1.0902998744576748,
          2.524916666502402,
          3.384885588190943,
          5.036316160354567,
          4.767203934327283,
          4.858948011378686,
          4.510420682566213,
          5.792567762513112,
          4.703661698896927,
          3.823605711307492,
          3.8068604096761427,
          4.613704598588734,
          3.2228860410149407,
          3.1682138945339773,
          3.556497918312706,
          4.1563789470447485,
          6.178543778204498,
          6.193656777865214,
          4.516139346557444,
          5.6279628611295385,
          5.093092493583762,
          3.612856913279101,
          3.8702174842042387,
          5.39335992080307,
          6.439817670790796,
          7.533093530210259,
          6.582016553867401,
          4.921727440991564,
          5.568043760905853,
          8.285708786755254,
          8.364612432382978,
          7.883165005915357,
          6.672987596795707,
          6.590060655078807,
          8.56443044442024,
          8.452621619423141,
          8.231792039767997,
          8.06878543193988,
          6.650407145787599,
          6.322040091543126,
          7.3128934837617035,
          7.501145391479421,
          4.808823390778633,
          4.762035814722748,
          5.680327554796811,
          6.6410803503198474,
          6.173067765937346,
          5.714279697407312,
          7.173736382596482,
          5.262584850059834,
          6.354690181400844,
          5.424689717255171,
          3.348070717794639,
          4.194635627534584,
          3.7484208696640002,
          2.8974748414271505,
          3.2102163573648888,
          2.642360238692871,
          1.0223478845888063,
          0.5894718601443806,
          2.310612385325222,
          2.5287376463928646,
          3.982459441623575,
          3.742749447810474,
          3.0850362775278493,
          2.4032408097853932,
          1.897205058588498,
          4.650433498714276,
          3.4849138902296843,
          4.017518372219557,
          2.9204274054378057,
          2.3720445077861267
         ]
        },
        {
         "line": {
          "color": "rgba(219, 64, 82, 1.0)",
          "dash": "solid",
          "shape": "linear",
          "width": 1.3
         },
         "mode": "lines",
         "name": "APPL",
         "text": "",
         "type": "scatter",
         "x": [
          "2015-01-01",
          "2015-01-02",
          "2015-01-03",
          "2015-01-04",
          "2015-01-05",
          "2015-01-06",
          "2015-01-07",
          "2015-01-08",
          "2015-01-09",
          "2015-01-10",
          "2015-01-11",
          "2015-01-12",
          "2015-01-13",
          "2015-01-14",
          "2015-01-15",
          "2015-01-16",
          "2015-01-17",
          "2015-01-18",
          "2015-01-19",
          "2015-01-20",
          "2015-01-21",
          "2015-01-22",
          "2015-01-23",
          "2015-01-24",
          "2015-01-25",
          "2015-01-26",
          "2015-01-27",
          "2015-01-28",
          "2015-01-29",
          "2015-01-30",
          "2015-01-31",
          "2015-02-01",
          "2015-02-02",
          "2015-02-03",
          "2015-02-04",
          "2015-02-05",
          "2015-02-06",
          "2015-02-07",
          "2015-02-08",
          "2015-02-09",
          "2015-02-10",
          "2015-02-11",
          "2015-02-12",
          "2015-02-13",
          "2015-02-14",
          "2015-02-15",
          "2015-02-16",
          "2015-02-17",
          "2015-02-18",
          "2015-02-19",
          "2015-02-20",
          "2015-02-21",
          "2015-02-22",
          "2015-02-23",
          "2015-02-24",
          "2015-02-25",
          "2015-02-26",
          "2015-02-27",
          "2015-02-28",
          "2015-03-01",
          "2015-03-02",
          "2015-03-03",
          "2015-03-04",
          "2015-03-05",
          "2015-03-06",
          "2015-03-07",
          "2015-03-08",
          "2015-03-09",
          "2015-03-10",
          "2015-03-11",
          "2015-03-12",
          "2015-03-13",
          "2015-03-14",
          "2015-03-15",
          "2015-03-16",
          "2015-03-17",
          "2015-03-18",
          "2015-03-19",
          "2015-03-20",
          "2015-03-21",
          "2015-03-22",
          "2015-03-23",
          "2015-03-24",
          "2015-03-25",
          "2015-03-26",
          "2015-03-27",
          "2015-03-28",
          "2015-03-29",
          "2015-03-30",
          "2015-03-31",
          "2015-04-01",
          "2015-04-02",
          "2015-04-03",
          "2015-04-04",
          "2015-04-05",
          "2015-04-06",
          "2015-04-07",
          "2015-04-08",
          "2015-04-09",
          "2015-04-10"
         ],
         "y": [
          -0.8091304123445491,
          -0.7329208464625815,
          -0.6575082144050455,
          1.3815571912376952,
          1.8805686830595687,
          1.5297260792999725,
          1.4100132350213395,
          1.482655244407929,
          1.8986271894839015,
          0.7551462280199512,
          -1.2635586383299646,
          -1.1617282471557315,
          -0.18016902817091962,
          -2.0870846482101717,
          -1.3472919376425105,
          -2.0892003539609885,
          -3.255863774094439,
          -3.4823489131295795,
          -2.58657821115114,
          -3.329971408688671,
          -4.396850652693731,
          -4.5572366955919845,
          -4.976248583915539,
          -5.137769364408434,
          -3.986759168523533,
          -5.114106026212177,
          -5.05454565008468,
          -5.209908155149506,
          -3.704764236748535,
          -3.8335699358564383,
          -3.8284626251618104,
          -4.138337739750897,
          -2.760382292999953,
          -2.003802334787866,
          -1.6745988874391742,
          -1.6549155931837969,
          -0.40615769074592745,
          -1.031799377058858,
          0.778163809949983,
          0.4460343111891075,
          1.2237443866233204,
          0.7430041870203119,
          0.08689711978355097,
          0.2856354496267597,
          -1.5307847228217704,
          -3.141760851521326,
          -3.874596537007455,
          -5.008113127120248,
          -5.22679662513061,
          -3.0707428615364605,
          -3.0834156484059285,
          -2.4195457502976803,
          -3.4921371663300342,
          -2.5063783349351354,
          -3.5666507281076694,
          -3.823251676980955,
          -4.430548756385592,
          -2.992139404769264,
          -2.3067855839052798,
          -1.7911056989276541,
          -1.3167765969291252,
          -1.9331634642455717,
          -1.4756353066338894,
          -0.5498784419240511,
          -0.458098236707881,
          -0.9104666571324511,
          0.20670065102356916,
          0.0830155408369381,
          -0.6887550473882589,
          -0.15356150177269845,
          0.1898445896319369,
          1.5570245821540418,
          -0.48490609458580614,
          0.18169569818173226,
          2.564620602836628,
          1.8903740876444102,
          1.2461723664406477,
          2.6524424846113215,
          3.6750915612925934,
          3.6022080982429157,
          3.8951727542540078,
          3.3100675780288045,
          2.876908560004731,
          4.650094709068069,
          4.378147193250875,
          3.0110676527393068,
          3.6228596956180574,
          3.3031963329745904,
          3.332477440954584,
          3.562784909923561,
          1.8094105218229626,
          1.5791666368932349,
          2.465853435267052,
          2.442728788110828,
          1.8125526305242834,
          2.712627078318079,
          4.448405687322178,
          4.6873042365330555,
          4.459220282151244,
          3.8509390442755844
         ]
        }
       ],
       "layout": {
        "legend": {
         "bgcolor": "#F5F6F9",
         "font": {
          "color": "#4D5663"
         }
        },
        "paper_bgcolor": "#F5F6F9",
        "plot_bgcolor": "#F5F6F9",
        "template": {
         "data": {
          "bar": [
           {
            "error_x": {
             "color": "#2a3f5f"
            },
            "error_y": {
             "color": "#2a3f5f"
            },
            "marker": {
             "line": {
              "color": "#E5ECF6",
              "width": 0.5
             }
            },
            "type": "bar"
           }
          ],
          "barpolar": [
           {
            "marker": {
             "line": {
              "color": "#E5ECF6",
              "width": 0.5
             }
            },
            "type": "barpolar"
           }
          ],
          "carpet": [
           {
            "aaxis": {
             "endlinecolor": "#2a3f5f",
             "gridcolor": "white",
             "linecolor": "white",
             "minorgridcolor": "white",
             "startlinecolor": "#2a3f5f"
            },
            "baxis": {
             "endlinecolor": "#2a3f5f",
             "gridcolor": "white",
             "linecolor": "white",
             "minorgridcolor": "white",
             "startlinecolor": "#2a3f5f"
            },
            "type": "carpet"
           }
          ],
          "choropleth": [
           {
            "colorbar": {
             "outlinewidth": 0,
             "ticks": ""
            },
            "type": "choropleth"
           }
          ],
          "contour": [
           {
            "colorbar": {
             "outlinewidth": 0,
             "ticks": ""
            },
            "colorscale": [
             [
              0,
              "#0d0887"
             ],
             [
              0.1111111111111111,
              "#46039f"
             ],
             [
              0.2222222222222222,
              "#7201a8"
             ],
             [
              0.3333333333333333,
              "#9c179e"
             ],
             [
              0.4444444444444444,
              "#bd3786"
             ],
             [
              0.5555555555555556,
              "#d8576b"
             ],
             [
              0.6666666666666666,
              "#ed7953"
             ],
             [
              0.7777777777777778,
              "#fb9f3a"
             ],
             [
              0.8888888888888888,
              "#fdca26"
             ],
             [
              1,
              "#f0f921"
             ]
            ],
            "type": "contour"
           }
          ],
          "contourcarpet": [
           {
            "colorbar": {
             "outlinewidth": 0,
             "ticks": ""
            },
            "type": "contourcarpet"
           }
          ],
          "heatmap": [
           {
            "colorbar": {
             "outlinewidth": 0,
             "ticks": ""
            },
            "colorscale": [
             [
              0,
              "#0d0887"
             ],
             [
              0.1111111111111111,
              "#46039f"
             ],
             [
              0.2222222222222222,
              "#7201a8"
             ],
             [
              0.3333333333333333,
              "#9c179e"
             ],
             [
              0.4444444444444444,
              "#bd3786"
             ],
             [
              0.5555555555555556,
              "#d8576b"
             ],
             [
              0.6666666666666666,
              "#ed7953"
             ],
             [
              0.7777777777777778,
              "#fb9f3a"
             ],
             [
              0.8888888888888888,
              "#fdca26"
             ],
             [
              1,
              "#f0f921"
             ]
            ],
            "type": "heatmap"
           }
          ],
          "heatmapgl": [
           {
            "colorbar": {
             "outlinewidth": 0,
             "ticks": ""
            },
            "colorscale": [
             [
              0,
              "#0d0887"
             ],
             [
              0.1111111111111111,
              "#46039f"
             ],
             [
              0.2222222222222222,
              "#7201a8"
             ],
             [
              0.3333333333333333,
              "#9c179e"
             ],
             [
              0.4444444444444444,
              "#bd3786"
             ],
             [
              0.5555555555555556,
              "#d8576b"
             ],
             [
              0.6666666666666666,
              "#ed7953"
             ],
             [
              0.7777777777777778,
              "#fb9f3a"
             ],
             [
              0.8888888888888888,
              "#fdca26"
             ],
             [
              1,
              "#f0f921"
             ]
            ],
            "type": "heatmapgl"
           }
          ],
          "histogram": [
           {
            "marker": {
             "colorbar": {
              "outlinewidth": 0,
              "ticks": ""
             }
            },
            "type": "histogram"
           }
          ],
          "histogram2d": [
           {
            "colorbar": {
             "outlinewidth": 0,
             "ticks": ""
            },
            "colorscale": [
             [
              0,
              "#0d0887"
             ],
             [
              0.1111111111111111,
              "#46039f"
             ],
             [
              0.2222222222222222,
              "#7201a8"
             ],
             [
              0.3333333333333333,
              "#9c179e"
             ],
             [
              0.4444444444444444,
              "#bd3786"
             ],
             [
              0.5555555555555556,
              "#d8576b"
             ],
             [
              0.6666666666666666,
              "#ed7953"
             ],
             [
              0.7777777777777778,
              "#fb9f3a"
             ],
             [
              0.8888888888888888,
              "#fdca26"
             ],
             [
              1,
              "#f0f921"
             ]
            ],
            "type": "histogram2d"
           }
          ],
          "histogram2dcontour": [
           {
            "colorbar": {
             "outlinewidth": 0,
             "ticks": ""
            },
            "colorscale": [
             [
              0,
              "#0d0887"
             ],
             [
              0.1111111111111111,
              "#46039f"
             ],
             [
              0.2222222222222222,
              "#7201a8"
             ],
             [
              0.3333333333333333,
              "#9c179e"
             ],
             [
              0.4444444444444444,
              "#bd3786"
             ],
             [
              0.5555555555555556,
              "#d8576b"
             ],
             [
              0.6666666666666666,
              "#ed7953"
             ],
             [
              0.7777777777777778,
              "#fb9f3a"
             ],
             [
              0.8888888888888888,
              "#fdca26"
             ],
             [
              1,
              "#f0f921"
             ]
            ],
            "type": "histogram2dcontour"
           }
          ],
          "mesh3d": [
           {
            "colorbar": {
             "outlinewidth": 0,
             "ticks": ""
            },
            "type": "mesh3d"
           }
          ],
          "parcoords": [
           {
            "line": {
             "colorbar": {
              "outlinewidth": 0,
              "ticks": ""
             }
            },
            "type": "parcoords"
           }
          ],
          "pie": [
           {
            "automargin": true,
            "type": "pie"
           }
          ],
          "scatter": [
           {
            "marker": {
             "colorbar": {
              "outlinewidth": 0,
              "ticks": ""
             }
            },
            "type": "scatter"
           }
          ],
          "scatter3d": [
           {
            "line": {
             "colorbar": {
              "outlinewidth": 0,
              "ticks": ""
             }
            },
            "marker": {
             "colorbar": {
              "outlinewidth": 0,
              "ticks": ""
             }
            },
            "type": "scatter3d"
           }
          ],
          "scattercarpet": [
           {
            "marker": {
             "colorbar": {
              "outlinewidth": 0,
              "ticks": ""
             }
            },
            "type": "scattercarpet"
           }
          ],
          "scattergeo": [
           {
            "marker": {
             "colorbar": {
              "outlinewidth": 0,
              "ticks": ""
             }
            },
            "type": "scattergeo"
           }
          ],
          "scattergl": [
           {
            "marker": {
             "colorbar": {
              "outlinewidth": 0,
              "ticks": ""
             }
            },
            "type": "scattergl"
           }
          ],
          "scattermapbox": [
           {
            "marker": {
             "colorbar": {
              "outlinewidth": 0,
              "ticks": ""
             }
            },
            "type": "scattermapbox"
           }
          ],
          "scatterpolar": [
           {
            "marker": {
             "colorbar": {
              "outlinewidth": 0,
              "ticks": ""
             }
            },
            "type": "scatterpolar"
           }
          ],
          "scatterpolargl": [
           {
            "marker": {
             "colorbar": {
              "outlinewidth": 0,
              "ticks": ""
             }
            },
            "type": "scatterpolargl"
           }
          ],
          "scatterternary": [
           {
            "marker": {
             "colorbar": {
              "outlinewidth": 0,
              "ticks": ""
             }
            },
            "type": "scatterternary"
           }
          ],
          "surface": [
           {
            "colorbar": {
             "outlinewidth": 0,
             "ticks": ""
            },
            "colorscale": [
             [
              0,
              "#0d0887"
             ],
             [
              0.1111111111111111,
              "#46039f"
             ],
             [
              0.2222222222222222,
              "#7201a8"
             ],
             [
              0.3333333333333333,
              "#9c179e"
             ],
             [
              0.4444444444444444,
              "#bd3786"
             ],
             [
              0.5555555555555556,
              "#d8576b"
             ],
             [
              0.6666666666666666,
              "#ed7953"
             ],
             [
              0.7777777777777778,
              "#fb9f3a"
             ],
             [
              0.8888888888888888,
              "#fdca26"
             ],
             [
              1,
              "#f0f921"
             ]
            ],
            "type": "surface"
           }
          ],
          "table": [
           {
            "cells": {
             "fill": {
              "color": "#EBF0F8"
             },
             "line": {
              "color": "white"
             }
            },
            "header": {
             "fill": {
              "color": "#C8D4E3"
             },
             "line": {
              "color": "white"
             }
            },
            "type": "table"
           }
          ]
         },
         "layout": {
          "annotationdefaults": {
           "arrowcolor": "#2a3f5f",
           "arrowhead": 0,
           "arrowwidth": 1
          },
          "coloraxis": {
           "colorbar": {
            "outlinewidth": 0,
            "ticks": ""
           }
          },
          "colorscale": {
           "diverging": [
            [
             0,
             "#8e0152"
            ],
            [
             0.1,
             "#c51b7d"
            ],
            [
             0.2,
             "#de77ae"
            ],
            [
             0.3,
             "#f1b6da"
            ],
            [
             0.4,
             "#fde0ef"
            ],
            [
             0.5,
             "#f7f7f7"
            ],
            [
             0.6,
             "#e6f5d0"
            ],
            [
             0.7,
             "#b8e186"
            ],
            [
             0.8,
             "#7fbc41"
            ],
            [
             0.9,
             "#4d9221"
            ],
            [
             1,
             "#276419"
            ]
           ],
           "sequential": [
            [
             0,
             "#0d0887"
            ],
            [
             0.1111111111111111,
             "#46039f"
            ],
            [
             0.2222222222222222,
             "#7201a8"
            ],
            [
             0.3333333333333333,
             "#9c179e"
            ],
            [
             0.4444444444444444,
             "#bd3786"
            ],
            [
             0.5555555555555556,
             "#d8576b"
            ],
            [
             0.6666666666666666,
             "#ed7953"
            ],
            [
             0.7777777777777778,
             "#fb9f3a"
            ],
            [
             0.8888888888888888,
             "#fdca26"
            ],
            [
             1,
             "#f0f921"
            ]
           ],
           "sequentialminus": [
            [
             0,
             "#0d0887"
            ],
            [
             0.1111111111111111,
             "#46039f"
            ],
            [
             0.2222222222222222,
             "#7201a8"
            ],
            [
             0.3333333333333333,
             "#9c179e"
            ],
            [
             0.4444444444444444,
             "#bd3786"
            ],
            [
             0.5555555555555556,
             "#d8576b"
            ],
            [
             0.6666666666666666,
             "#ed7953"
            ],
            [
             0.7777777777777778,
             "#fb9f3a"
            ],
            [
             0.8888888888888888,
             "#fdca26"
            ],
            [
             1,
             "#f0f921"
            ]
           ]
          },
          "colorway": [
           "#636efa",
           "#EF553B",
           "#00cc96",
           "#ab63fa",
           "#FFA15A",
           "#19d3f3",
           "#FF6692",
           "#B6E880",
           "#FF97FF",
           "#FECB52"
          ],
          "font": {
           "color": "#2a3f5f"
          },
          "geo": {
           "bgcolor": "white",
           "lakecolor": "white",
           "landcolor": "#E5ECF6",
           "showlakes": true,
           "showland": true,
           "subunitcolor": "white"
          },
          "hoverlabel": {
           "align": "left"
          },
          "hovermode": "closest",
          "mapbox": {
           "style": "light"
          },
          "paper_bgcolor": "white",
          "plot_bgcolor": "#E5ECF6",
          "polar": {
           "angularaxis": {
            "gridcolor": "white",
            "linecolor": "white",
            "ticks": ""
           },
           "bgcolor": "#E5ECF6",
           "radialaxis": {
            "gridcolor": "white",
            "linecolor": "white",
            "ticks": ""
           }
          },
          "scene": {
           "xaxis": {
            "backgroundcolor": "#E5ECF6",
            "gridcolor": "white",
            "gridwidth": 2,
            "linecolor": "white",
            "showbackground": true,
            "ticks": "",
            "zerolinecolor": "white"
           },
           "yaxis": {
            "backgroundcolor": "#E5ECF6",
            "gridcolor": "white",
            "gridwidth": 2,
            "linecolor": "white",
            "showbackground": true,
            "ticks": "",
            "zerolinecolor": "white"
           },
           "zaxis": {
            "backgroundcolor": "#E5ECF6",
            "gridcolor": "white",
            "gridwidth": 2,
            "linecolor": "white",
            "showbackground": true,
            "ticks": "",
            "zerolinecolor": "white"
           }
          },
          "shapedefaults": {
           "line": {
            "color": "#2a3f5f"
           }
          },
          "ternary": {
           "aaxis": {
            "gridcolor": "white",
            "linecolor": "white",
            "ticks": ""
           },
           "baxis": {
            "gridcolor": "white",
            "linecolor": "white",
            "ticks": ""
           },
           "bgcolor": "#E5ECF6",
           "caxis": {
            "gridcolor": "white",
            "linecolor": "white",
            "ticks": ""
           }
          },
          "title": {
           "x": 0.05
          },
          "xaxis": {
           "automargin": true,
           "gridcolor": "white",
           "linecolor": "white",
           "ticks": "",
           "title": {
            "standoff": 15
           },
           "zerolinecolor": "white",
           "zerolinewidth": 2
          },
          "yaxis": {
           "automargin": true,
           "gridcolor": "white",
           "linecolor": "white",
           "ticks": "",
           "title": {
            "standoff": 15
           },
           "zerolinecolor": "white",
           "zerolinewidth": 2
          }
         }
        },
        "title": {
         "font": {
          "color": "#4D5663"
         },
         "x": 0.5
        },
        "xaxis": {
         "gridcolor": "#E1E5ED",
         "showgrid": true,
         "tickfont": {
          "color": "#4D5663"
         },
         "title": {
          "font": {
           "color": "#4D5663"
          },
          "text": ""
         },
         "zerolinecolor": "#E1E5ED"
        },
        "yaxis": {
         "gridcolor": "#E1E5ED",
         "showgrid": true,
         "tickfont": {
          "color": "#4D5663"
         },
         "title": {
          "font": {
           "color": "#4D5663"
          },
          "text": ""
         },
         "zerolinecolor": "#E1E5ED"
        }
       }
      },
      "text/html": "<div>\n        \n        \n            <div id=\"65adb4dd-6bf1-42a6-8774-021a09ac0486\" class=\"plotly-graph-div\" style=\"height:525px; width:100%;\"></div>\n            <script type=\"text/javascript\">\n                require([\"plotly\"], function(Plotly) {\n                    window.PLOTLYENV=window.PLOTLYENV || {};\n                    window.PLOTLYENV.BASE_URL='https://plot.ly';\n                    \n                if (document.getElementById(\"65adb4dd-6bf1-42a6-8774-021a09ac0486\")) {\n                    Plotly.newPlot(\n                        '65adb4dd-6bf1-42a6-8774-021a09ac0486',\n                        [{\"line\": {\"color\": \"rgba(255, 153, 51, 1.0)\", \"dash\": \"solid\", \"shape\": \"linear\", \"width\": 1.3}, \"mode\": \"lines\", \"name\": \"My Custom Name\", \"text\": \"\", \"type\": \"scatter\", \"x\": [\"2015-01-01\", \"2015-01-02\", \"2015-01-03\", \"2015-01-04\", \"2015-01-05\", \"2015-01-06\", \"2015-01-07\", \"2015-01-08\", \"2015-01-09\", \"2015-01-10\", \"2015-01-11\", \"2015-01-12\", \"2015-01-13\", \"2015-01-14\", \"2015-01-15\", \"2015-01-16\", \"2015-01-17\", \"2015-01-18\", \"2015-01-19\", \"2015-01-20\", \"2015-01-21\", \"2015-01-22\", \"2015-01-23\", \"2015-01-24\", \"2015-01-25\", \"2015-01-26\", \"2015-01-27\", \"2015-01-28\", \"2015-01-29\", \"2015-01-30\", \"2015-01-31\", \"2015-02-01\", \"2015-02-02\", \"2015-02-03\", \"2015-02-04\", \"2015-02-05\", \"2015-02-06\", \"2015-02-07\", \"2015-02-08\", \"2015-02-09\", \"2015-02-10\", \"2015-02-11\", \"2015-02-12\", \"2015-02-13\", \"2015-02-14\", \"2015-02-15\", \"2015-02-16\", \"2015-02-17\", \"2015-02-18\", \"2015-02-19\", \"2015-02-20\", \"2015-02-21\", \"2015-02-22\", \"2015-02-23\", \"2015-02-24\", \"2015-02-25\", \"2015-02-26\", \"2015-02-27\", \"2015-02-28\", \"2015-03-01\", \"2015-03-02\", \"2015-03-03\", \"2015-03-04\", \"2015-03-05\", \"2015-03-06\", \"2015-03-07\", \"2015-03-08\", \"2015-03-09\", \"2015-03-10\", \"2015-03-11\", \"2015-03-12\", \"2015-03-13\", \"2015-03-14\", \"2015-03-15\", \"2015-03-16\", \"2015-03-17\", \"2015-03-18\", \"2015-03-19\", \"2015-03-20\", \"2015-03-21\", \"2015-03-22\", \"2015-03-23\", \"2015-03-24\", \"2015-03-25\", \"2015-03-26\", \"2015-03-27\", \"2015-03-28\", \"2015-03-29\", \"2015-03-30\", \"2015-03-31\", \"2015-04-01\", \"2015-04-02\", \"2015-04-03\", \"2015-04-04\", \"2015-04-05\", \"2015-04-06\", \"2015-04-07\", \"2015-04-08\", \"2015-04-09\", \"2015-04-10\"], \"y\": [1.204634807161707, 0.9145006657511832, 1.218380555193714, 1.6040010922114574, 1.8507033314358179, 4.066880405623611, 3.9518239112895603, 3.343657322630591, 2.6993826172728155, 1.7937813998056815, 3.3904206501079903, 3.345034922314204, 2.8517905735877718, 2.8932554343515426, 2.6287434615650396, 3.679479655990322, 4.944291988023277, 2.9551589923384833, 1.970315548397061, 4.133925997771108, 3.573572250821949, 2.2801057441736505, 2.796887744081139, 3.932794382724473, 4.684296090776566, 2.8116890200753795, 4.384379914695954, 4.971081521334814, 4.186258478209225, 3.761632047985512, 2.3170347129796856, 2.1401733562384115, 3.196995662718602, 3.5409634047460994, 2.821265452008573, 2.723780481480727, 4.4033201312379155, 4.7153130149928, 4.997103372287718, 3.9065268548223937, 3.9687873891992123, 3.4634482916119396, 4.375837100021135, 4.818047771512238, 4.1993376531312485, 4.645450687143723, 3.599444565065083, 4.643770490966302, 5.750552089295493, 7.627080128570817, 7.862509075905664, 7.567351742017961, 6.617686040286462, 7.0447515896015735, 5.6656921950987265, 5.5417453482215295, 5.300541310566457, 6.197160360699273, 6.973910554277696, 6.614186238837551, 5.70209439422732, 5.787684024812829, 4.967521027775211, 3.016285683828192, 2.993551445823966, 1.458684884800412, 1.9699409510984167, 3.9649806008166273, 2.179191362941848, 1.2441913085533476, -0.12680808196925897, -1.2212833718971874, -0.012870929969344802, -0.8054526521075539, 0.2854382558167422, 2.1718688636009036, 1.619714167525475, 1.5986208166867795, 1.043527737653303, 0.5643284317133457, 0.7087707869791047, -0.32026411470649707, -2.423211570673105, -3.299175701949043, -3.050376069362347, -4.116508254409561, -4.621563417035203, -4.049924836831571, -3.4946903347242353, -3.077705559917039, -3.098470907212177, -1.6145923365328922, -1.1547366322244565, -2.1873182602382837, -1.887737928204876, -0.6839643367947077, -0.31528962727014875, -1.0087476245153408, -2.5148423931404507, -1.5810877447705447]}, {\"line\": {\"color\": \"rgba(55, 128, 191, 1.0)\", \"dash\": \"solid\", \"shape\": \"linear\", \"width\": 1.3}, \"mode\": \"lines\", \"name\": \"MSFT\", \"text\": \"\", \"type\": \"scatter\", \"x\": [\"2015-01-01\", \"2015-01-02\", \"2015-01-03\", \"2015-01-04\", \"2015-01-05\", \"2015-01-06\", \"2015-01-07\", \"2015-01-08\", \"2015-01-09\", \"2015-01-10\", \"2015-01-11\", \"2015-01-12\", \"2015-01-13\", \"2015-01-14\", \"2015-01-15\", \"2015-01-16\", \"2015-01-17\", \"2015-01-18\", \"2015-01-19\", \"2015-01-20\", \"2015-01-21\", \"2015-01-22\", \"2015-01-23\", \"2015-01-24\", \"2015-01-25\", \"2015-01-26\", \"2015-01-27\", \"2015-01-28\", \"2015-01-29\", \"2015-01-30\", \"2015-01-31\", \"2015-02-01\", \"2015-02-02\", \"2015-02-03\", \"2015-02-04\", \"2015-02-05\", \"2015-02-06\", \"2015-02-07\", \"2015-02-08\", \"2015-02-09\", \"2015-02-10\", \"2015-02-11\", \"2015-02-12\", \"2015-02-13\", \"2015-02-14\", \"2015-02-15\", \"2015-02-16\", \"2015-02-17\", \"2015-02-18\", \"2015-02-19\", \"2015-02-20\", \"2015-02-21\", \"2015-02-22\", \"2015-02-23\", \"2015-02-24\", \"2015-02-25\", \"2015-02-26\", \"2015-02-27\", \"2015-02-28\", \"2015-03-01\", \"2015-03-02\", \"2015-03-03\", \"2015-03-04\", \"2015-03-05\", \"2015-03-06\", \"2015-03-07\", \"2015-03-08\", \"2015-03-09\", \"2015-03-10\", \"2015-03-11\", \"2015-03-12\", \"2015-03-13\", \"2015-03-14\", \"2015-03-15\", \"2015-03-16\", \"2015-03-17\", \"2015-03-18\", \"2015-03-19\", \"2015-03-20\", \"2015-03-21\", \"2015-03-22\", \"2015-03-23\", \"2015-03-24\", \"2015-03-25\", \"2015-03-26\", \"2015-03-27\", \"2015-03-28\", \"2015-03-29\", \"2015-03-30\", \"2015-03-31\", \"2015-04-01\", \"2015-04-02\", \"2015-04-03\", \"2015-04-04\", \"2015-04-05\", \"2015-04-06\", \"2015-04-07\", \"2015-04-08\", \"2015-04-09\", \"2015-04-10\"], \"y\": [-0.13485427742658052, 2.4533882212029257, 2.5866188388893145, 3.6448420212650343, 4.627951751750441, 3.886226815958306, 3.2578693279395723, 3.4136532056183397, 1.0562422305686878, 2.3837720933676367, 0.9975498226769888, 1.1304334051861475, -1.7946943704416911, -1.2374367201402034, -0.3154205340345986, -0.7401238537592838, -0.32525970140343174, 3.2683659162815424, 4.378433594261496, 2.5317792764719944, 1.1198643928492862, 0.49061424627823513, 0.8883341641308649, 0.832740131979093, 1.4870797206086905, 1.8820862527576259, 2.5640248883437633, 3.7949419388906485, 2.704319715120783, 2.7667954173925478, 1.9066295026055375, 1.4256908593620523, 3.1337859933617045, 2.1998203599150346, 1.4259000951636729, 0.5178973832157078, 1.9979986575043243, 2.620234329360236, 2.3984898889288915, 2.133075733518558, 2.9135162466765965, 2.729349082194042, 3.950333550757815, 3.8223457054395262, 3.010770156987346, 3.3424672080714526, 3.908978923042271, 2.6628767837422007, 1.9770506749879257, 1.2135136251378615, 0.3192561309867882, 1.8390860771691768, 3.1989298611504937, 3.6639553618739007, 5.320020402521994, 5.588196108625732, 5.00680262486941, 3.778319199389525, 2.667196882285848, 2.9805140310843163, 3.003815184847288, 3.209109231484667, 3.2333440593561877, 4.530676760329434, 5.173117026576456, 4.2251503557992685, 5.912732470161208, 5.51954115029074, 4.424751160327413, 3.986725700552799, 4.320141649814506, 3.710089327148561, 3.909944446473572, 4.801056752960521, 4.663878576396333, 5.714925311423528, 6.851912419059642, 5.382228557465856, 4.797772779950918, 4.597735429334732, 6.372076404865782, 6.642296843309585, 5.612657811361704, 6.18231141544473, 6.161297192872845, 7.271022123097529, 6.2471421669683895, 4.933677265419876, 5.160999303997231, 4.727003299127816, 6.006718309763433, 6.737144799901425, 6.872139236297279, 7.2701841548909005, 7.192142726165852, 7.187389275287803, 6.402789460500397, 5.605540825725594, 4.015676761225024, 4.690677468131136]}, {\"line\": {\"color\": \"rgba(50, 171, 96, 1.0)\", \"dash\": \"solid\", \"shape\": \"linear\", \"width\": 1.3}, \"mode\": \"lines\", \"name\": \"GOOG\", \"text\": \"\", \"type\": \"scatter\", \"x\": [\"2015-01-01\", \"2015-01-02\", \"2015-01-03\", \"2015-01-04\", \"2015-01-05\", \"2015-01-06\", \"2015-01-07\", \"2015-01-08\", \"2015-01-09\", \"2015-01-10\", \"2015-01-11\", \"2015-01-12\", \"2015-01-13\", \"2015-01-14\", \"2015-01-15\", \"2015-01-16\", \"2015-01-17\", \"2015-01-18\", \"2015-01-19\", \"2015-01-20\", \"2015-01-21\", \"2015-01-22\", \"2015-01-23\", \"2015-01-24\", \"2015-01-25\", \"2015-01-26\", \"2015-01-27\", \"2015-01-28\", \"2015-01-29\", \"2015-01-30\", \"2015-01-31\", \"2015-02-01\", \"2015-02-02\", \"2015-02-03\", \"2015-02-04\", \"2015-02-05\", \"2015-02-06\", \"2015-02-07\", \"2015-02-08\", \"2015-02-09\", \"2015-02-10\", \"2015-02-11\", \"2015-02-12\", \"2015-02-13\", \"2015-02-14\", \"2015-02-15\", \"2015-02-16\", \"2015-02-17\", \"2015-02-18\", \"2015-02-19\", \"2015-02-20\", \"2015-02-21\", \"2015-02-22\", \"2015-02-23\", \"2015-02-24\", \"2015-02-25\", \"2015-02-26\", \"2015-02-27\", \"2015-02-28\", \"2015-03-01\", \"2015-03-02\", \"2015-03-03\", \"2015-03-04\", \"2015-03-05\", \"2015-03-06\", \"2015-03-07\", \"2015-03-08\", \"2015-03-09\", \"2015-03-10\", \"2015-03-11\", \"2015-03-12\", \"2015-03-13\", \"2015-03-14\", \"2015-03-15\", \"2015-03-16\", \"2015-03-17\", \"2015-03-18\", \"2015-03-19\", \"2015-03-20\", \"2015-03-21\", \"2015-03-22\", \"2015-03-23\", \"2015-03-24\", \"2015-03-25\", \"2015-03-26\", \"2015-03-27\", \"2015-03-28\", \"2015-03-29\", \"2015-03-30\", \"2015-03-31\", \"2015-04-01\", \"2015-04-02\", \"2015-04-03\", \"2015-04-04\", \"2015-04-05\", \"2015-04-06\", \"2015-04-07\", \"2015-04-08\", \"2015-04-09\", \"2015-04-10\"], \"y\": [-0.12387924572510589, 0.7966498730369406, 1.0930453586576663, 0.8338763647745995, 2.162767373656787, 3.6062479500754563, 3.202448635829711, 2.567768542871831, 2.680965496534378, 3.0771406663505374, 3.1817142990051566, 3.4747241965005253, 1.786861595444297, 1.2830933096354091, 0.8149808081530232, 1.638113505552203, 1.319479223899768, 0.9286020556627193, 1.0749376964085826, 0.7453726598777997, 0.5351004398007938, 1.7219980305414824, 3.288062906283162, 2.265715410599549, 2.878792291909428, 2.3658078488735605, 1.5429717063115824, 1.7131489093551935, 0.8757153715278675, -0.050836507954122534, 0.2734354284066933, -0.10384561697594463, 0.6170179756526629, -2.146384173384452, -2.0183868572088537, -2.8188938819444975, -2.0162843681736495, -0.8352167035665634, -0.13014772668399532, -0.871615876465248, -0.5837974390826651, -2.9705123896372956, -3.197567871273736, -4.502872794857076, -4.525528837270438, -5.106122697850888, -6.23503695286984, -6.362975732262328, -5.449173916416164, -5.421419974488732, -5.056505806053844, -2.936029997224167, -1.6383310208514863, -2.936152885768644, -3.772770597284165, -3.5002867712377617, -4.1497437280826555, -3.45322162143892, -3.3803275101087755, -2.4394912253450647, -4.01680927318296, -2.696232307602342, -1.2539151074023323, 1.5592928756927413, 0.9594451971987746, 0.2105984619987319, -0.7497386105484958, -1.030957270406392, -2.1734822858387766, -1.9270371687779182, -1.2476992683785164, -2.3846756567901206, -0.6421205097917579, 0.44824301680512035, 0.6682654935379814, 1.695370736199374, 2.3866034693565625, 1.834912270049062, 1.0180822540150134, 0.8484255614423925, 0.1799863918692055, 1.8080574327213808, 1.3944920136670351, 1.7118024940155672, 1.8756814678680513, 0.1777891259967339, 0.43579931757763607, -0.2648329380224224, -0.7664804894080612, -0.31845050463237334, -0.4486317737560189, 1.7161003285705925, 2.2582740061138797, 1.3654619980796454, 1.3494056338577864, 0.5364421851499185, 2.318095072680387, 1.1205864275793826, 1.2156619998330147, 1.502352832575002]}, {\"line\": {\"color\": \"rgba(128, 0, 128, 1.0)\", \"dash\": \"solid\", \"shape\": \"linear\", \"width\": 1.3}, \"mode\": \"lines\", \"name\": \"VERZ\", \"text\": \"\", \"type\": \"scatter\", \"x\": [\"2015-01-01\", \"2015-01-02\", \"2015-01-03\", \"2015-01-04\", \"2015-01-05\", \"2015-01-06\", \"2015-01-07\", \"2015-01-08\", \"2015-01-09\", \"2015-01-10\", \"2015-01-11\", \"2015-01-12\", \"2015-01-13\", \"2015-01-14\", \"2015-01-15\", \"2015-01-16\", \"2015-01-17\", \"2015-01-18\", \"2015-01-19\", \"2015-01-20\", \"2015-01-21\", \"2015-01-22\", \"2015-01-23\", \"2015-01-24\", \"2015-01-25\", \"2015-01-26\", \"2015-01-27\", \"2015-01-28\", \"2015-01-29\", \"2015-01-30\", \"2015-01-31\", \"2015-02-01\", \"2015-02-02\", \"2015-02-03\", \"2015-02-04\", \"2015-02-05\", \"2015-02-06\", \"2015-02-07\", \"2015-02-08\", \"2015-02-09\", \"2015-02-10\", \"2015-02-11\", \"2015-02-12\", \"2015-02-13\", \"2015-02-14\", \"2015-02-15\", \"2015-02-16\", \"2015-02-17\", \"2015-02-18\", \"2015-02-19\", \"2015-02-20\", \"2015-02-21\", \"2015-02-22\", \"2015-02-23\", \"2015-02-24\", \"2015-02-25\", \"2015-02-26\", \"2015-02-27\", \"2015-02-28\", \"2015-03-01\", \"2015-03-02\", \"2015-03-03\", \"2015-03-04\", \"2015-03-05\", \"2015-03-06\", \"2015-03-07\", \"2015-03-08\", \"2015-03-09\", \"2015-03-10\", \"2015-03-11\", \"2015-03-12\", \"2015-03-13\", \"2015-03-14\", \"2015-03-15\", \"2015-03-16\", \"2015-03-17\", \"2015-03-18\", \"2015-03-19\", \"2015-03-20\", \"2015-03-21\", \"2015-03-22\", \"2015-03-23\", \"2015-03-24\", \"2015-03-25\", \"2015-03-26\", \"2015-03-27\", \"2015-03-28\", \"2015-03-29\", \"2015-03-30\", \"2015-03-31\", \"2015-04-01\", \"2015-04-02\", \"2015-04-03\", \"2015-04-04\", \"2015-04-05\", \"2015-04-06\", \"2015-04-07\", \"2015-04-08\", \"2015-04-09\", \"2015-04-10\"], \"y\": [-0.14798997143547915, -0.7425181638076277, -1.629112387980162, -1.1534696529044854, -1.6916336318363019, -2.1993395653892347, -2.5420785946771374, -3.249116056341389, -1.2596339737619773, -1.1431606521394526, -1.591803171812925, -0.2835944499728289, -0.7462854607485447, -0.21187646900463442, 1.1332111485517466, -0.41140209681748763, -0.07764236418693948, 0.3840523760865555, 0.3806219878429994, 0.4184229671916261, -0.9519937067082221, 0.14408463639206925, 0.26377743175971813, 0.42678343645240235, -0.9424001163610074, -1.7604137942702862, -1.2907716439042218, 1.0630981669304322, 1.0902998744576748, 2.524916666502402, 3.384885588190943, 5.036316160354567, 4.767203934327283, 4.858948011378686, 4.510420682566213, 5.792567762513112, 4.703661698896927, 3.823605711307492, 3.8068604096761427, 4.613704598588734, 3.2228860410149407, 3.1682138945339773, 3.556497918312706, 4.1563789470447485, 6.178543778204498, 6.193656777865214, 4.516139346557444, 5.6279628611295385, 5.093092493583762, 3.612856913279101, 3.8702174842042387, 5.39335992080307, 6.439817670790796, 7.533093530210259, 6.582016553867401, 4.921727440991564, 5.568043760905853, 8.285708786755254, 8.364612432382978, 7.883165005915357, 6.672987596795707, 6.590060655078807, 8.56443044442024, 8.452621619423141, 8.231792039767997, 8.06878543193988, 6.650407145787599, 6.322040091543126, 7.3128934837617035, 7.501145391479421, 4.808823390778633, 4.762035814722748, 5.680327554796811, 6.6410803503198474, 6.173067765937346, 5.714279697407312, 7.173736382596482, 5.262584850059834, 6.354690181400844, 5.424689717255171, 3.348070717794639, 4.194635627534584, 3.7484208696640002, 2.8974748414271505, 3.2102163573648888, 2.642360238692871, 1.0223478845888063, 0.5894718601443806, 2.310612385325222, 2.5287376463928646, 3.982459441623575, 3.742749447810474, 3.0850362775278493, 2.4032408097853932, 1.897205058588498, 4.650433498714276, 3.4849138902296843, 4.017518372219557, 2.9204274054378057, 2.3720445077861267]}, {\"line\": {\"color\": \"rgba(219, 64, 82, 1.0)\", \"dash\": \"solid\", \"shape\": \"linear\", \"width\": 1.3}, \"mode\": \"lines\", \"name\": \"APPL\", \"text\": \"\", \"type\": \"scatter\", \"x\": [\"2015-01-01\", \"2015-01-02\", \"2015-01-03\", \"2015-01-04\", \"2015-01-05\", \"2015-01-06\", \"2015-01-07\", \"2015-01-08\", \"2015-01-09\", \"2015-01-10\", \"2015-01-11\", \"2015-01-12\", \"2015-01-13\", \"2015-01-14\", \"2015-01-15\", \"2015-01-16\", \"2015-01-17\", \"2015-01-18\", \"2015-01-19\", \"2015-01-20\", \"2015-01-21\", \"2015-01-22\", \"2015-01-23\", \"2015-01-24\", \"2015-01-25\", \"2015-01-26\", \"2015-01-27\", \"2015-01-28\", \"2015-01-29\", \"2015-01-30\", \"2015-01-31\", \"2015-02-01\", \"2015-02-02\", \"2015-02-03\", \"2015-02-04\", \"2015-02-05\", \"2015-02-06\", \"2015-02-07\", \"2015-02-08\", \"2015-02-09\", \"2015-02-10\", \"2015-02-11\", \"2015-02-12\", \"2015-02-13\", \"2015-02-14\", \"2015-02-15\", \"2015-02-16\", \"2015-02-17\", \"2015-02-18\", \"2015-02-19\", \"2015-02-20\", \"2015-02-21\", \"2015-02-22\", \"2015-02-23\", \"2015-02-24\", \"2015-02-25\", \"2015-02-26\", \"2015-02-27\", \"2015-02-28\", \"2015-03-01\", \"2015-03-02\", \"2015-03-03\", \"2015-03-04\", \"2015-03-05\", \"2015-03-06\", \"2015-03-07\", \"2015-03-08\", \"2015-03-09\", \"2015-03-10\", \"2015-03-11\", \"2015-03-12\", \"2015-03-13\", \"2015-03-14\", \"2015-03-15\", \"2015-03-16\", \"2015-03-17\", \"2015-03-18\", \"2015-03-19\", \"2015-03-20\", \"2015-03-21\", \"2015-03-22\", \"2015-03-23\", \"2015-03-24\", \"2015-03-25\", \"2015-03-26\", \"2015-03-27\", \"2015-03-28\", \"2015-03-29\", \"2015-03-30\", \"2015-03-31\", \"2015-04-01\", \"2015-04-02\", \"2015-04-03\", \"2015-04-04\", \"2015-04-05\", \"2015-04-06\", \"2015-04-07\", \"2015-04-08\", \"2015-04-09\", \"2015-04-10\"], \"y\": [-0.8091304123445491, -0.7329208464625815, -0.6575082144050455, 1.3815571912376952, 1.8805686830595687, 1.5297260792999725, 1.4100132350213395, 1.482655244407929, 1.8986271894839015, 0.7551462280199512, -1.2635586383299646, -1.1617282471557315, -0.18016902817091962, -2.0870846482101717, -1.3472919376425105, -2.0892003539609885, -3.255863774094439, -3.4823489131295795, -2.58657821115114, -3.329971408688671, -4.396850652693731, -4.5572366955919845, -4.976248583915539, -5.137769364408434, -3.986759168523533, -5.114106026212177, -5.05454565008468, -5.209908155149506, -3.704764236748535, -3.8335699358564383, -3.8284626251618104, -4.138337739750897, -2.760382292999953, -2.003802334787866, -1.6745988874391742, -1.6549155931837969, -0.40615769074592745, -1.031799377058858, 0.778163809949983, 0.4460343111891075, 1.2237443866233204, 0.7430041870203119, 0.08689711978355097, 0.2856354496267597, -1.5307847228217704, -3.141760851521326, -3.874596537007455, -5.008113127120248, -5.22679662513061, -3.0707428615364605, -3.0834156484059285, -2.4195457502976803, -3.4921371663300342, -2.5063783349351354, -3.5666507281076694, -3.823251676980955, -4.430548756385592, -2.992139404769264, -2.3067855839052798, -1.7911056989276541, -1.3167765969291252, -1.9331634642455717, -1.4756353066338894, -0.5498784419240511, -0.458098236707881, -0.9104666571324511, 0.20670065102356916, 0.0830155408369381, -0.6887550473882589, -0.15356150177269845, 0.1898445896319369, 1.5570245821540418, -0.48490609458580614, 0.18169569818173226, 2.564620602836628, 1.8903740876444102, 1.2461723664406477, 2.6524424846113215, 3.6750915612925934, 3.6022080982429157, 3.8951727542540078, 3.3100675780288045, 2.876908560004731, 4.650094709068069, 4.378147193250875, 3.0110676527393068, 3.6228596956180574, 3.3031963329745904, 3.332477440954584, 3.562784909923561, 1.8094105218229626, 1.5791666368932349, 2.465853435267052, 2.442728788110828, 1.8125526305242834, 2.712627078318079, 4.448405687322178, 4.6873042365330555, 4.459220282151244, 3.8509390442755844]}],\n                        {\"legend\": {\"bgcolor\": \"#F5F6F9\", \"font\": {\"color\": \"#4D5663\"}}, \"paper_bgcolor\": \"#F5F6F9\", \"plot_bgcolor\": \"#F5F6F9\", \"template\": {\"data\": {\"bar\": [{\"error_x\": {\"color\": \"#2a3f5f\"}, \"error_y\": {\"color\": \"#2a3f5f\"}, \"marker\": {\"line\": {\"color\": \"#E5ECF6\", \"width\": 0.5}}, \"type\": \"bar\"}], \"barpolar\": [{\"marker\": {\"line\": {\"color\": \"#E5ECF6\", \"width\": 0.5}}, \"type\": \"barpolar\"}], \"carpet\": [{\"aaxis\": {\"endlinecolor\": \"#2a3f5f\", \"gridcolor\": \"white\", \"linecolor\": \"white\", \"minorgridcolor\": \"white\", \"startlinecolor\": \"#2a3f5f\"}, \"baxis\": {\"endlinecolor\": \"#2a3f5f\", \"gridcolor\": \"white\", \"linecolor\": \"white\", \"minorgridcolor\": \"white\", \"startlinecolor\": \"#2a3f5f\"}, \"type\": \"carpet\"}], \"choropleth\": [{\"colorbar\": {\"outlinewidth\": 0, \"ticks\": \"\"}, \"type\": \"choropleth\"}], \"contour\": [{\"colorbar\": {\"outlinewidth\": 0, \"ticks\": \"\"}, \"colorscale\": [[0.0, \"#0d0887\"], [0.1111111111111111, \"#46039f\"], [0.2222222222222222, \"#7201a8\"], [0.3333333333333333, \"#9c179e\"], [0.4444444444444444, \"#bd3786\"], [0.5555555555555556, \"#d8576b\"], [0.6666666666666666, \"#ed7953\"], [0.7777777777777778, \"#fb9f3a\"], [0.8888888888888888, \"#fdca26\"], [1.0, \"#f0f921\"]], \"type\": \"contour\"}], \"contourcarpet\": [{\"colorbar\": {\"outlinewidth\": 0, \"ticks\": \"\"}, \"type\": \"contourcarpet\"}], \"heatmap\": [{\"colorbar\": {\"outlinewidth\": 0, \"ticks\": \"\"}, \"colorscale\": [[0.0, \"#0d0887\"], [0.1111111111111111, \"#46039f\"], [0.2222222222222222, \"#7201a8\"], [0.3333333333333333, \"#9c179e\"], [0.4444444444444444, \"#bd3786\"], [0.5555555555555556, \"#d8576b\"], [0.6666666666666666, \"#ed7953\"], [0.7777777777777778, \"#fb9f3a\"], [0.8888888888888888, \"#fdca26\"], [1.0, \"#f0f921\"]], \"type\": \"heatmap\"}], \"heatmapgl\": [{\"colorbar\": {\"outlinewidth\": 0, \"ticks\": \"\"}, \"colorscale\": [[0.0, \"#0d0887\"], [0.1111111111111111, \"#46039f\"], [0.2222222222222222, \"#7201a8\"], [0.3333333333333333, \"#9c179e\"], [0.4444444444444444, \"#bd3786\"], [0.5555555555555556, \"#d8576b\"], [0.6666666666666666, \"#ed7953\"], [0.7777777777777778, \"#fb9f3a\"], [0.8888888888888888, \"#fdca26\"], [1.0, \"#f0f921\"]], \"type\": \"heatmapgl\"}], \"histogram\": [{\"marker\": {\"colorbar\": {\"outlinewidth\": 0, \"ticks\": \"\"}}, \"type\": \"histogram\"}], \"histogram2d\": [{\"colorbar\": {\"outlinewidth\": 0, \"ticks\": \"\"}, \"colorscale\": [[0.0, \"#0d0887\"], [0.1111111111111111, \"#46039f\"], [0.2222222222222222, \"#7201a8\"], [0.3333333333333333, \"#9c179e\"], [0.4444444444444444, \"#bd3786\"], [0.5555555555555556, \"#d8576b\"], [0.6666666666666666, \"#ed7953\"], [0.7777777777777778, \"#fb9f3a\"], [0.8888888888888888, \"#fdca26\"], [1.0, \"#f0f921\"]], \"type\": \"histogram2d\"}], \"histogram2dcontour\": [{\"colorbar\": {\"outlinewidth\": 0, \"ticks\": \"\"}, \"colorscale\": [[0.0, \"#0d0887\"], [0.1111111111111111, \"#46039f\"], [0.2222222222222222, \"#7201a8\"], [0.3333333333333333, \"#9c179e\"], [0.4444444444444444, \"#bd3786\"], [0.5555555555555556, \"#d8576b\"], [0.6666666666666666, \"#ed7953\"], [0.7777777777777778, \"#fb9f3a\"], [0.8888888888888888, \"#fdca26\"], [1.0, \"#f0f921\"]], \"type\": \"histogram2dcontour\"}], \"mesh3d\": [{\"colorbar\": {\"outlinewidth\": 0, \"ticks\": \"\"}, \"type\": \"mesh3d\"}], \"parcoords\": [{\"line\": {\"colorbar\": {\"outlinewidth\": 0, \"ticks\": \"\"}}, \"type\": \"parcoords\"}], \"pie\": [{\"automargin\": true, \"type\": \"pie\"}], \"scatter\": [{\"marker\": {\"colorbar\": {\"outlinewidth\": 0, \"ticks\": \"\"}}, \"type\": \"scatter\"}], \"scatter3d\": [{\"line\": {\"colorbar\": {\"outlinewidth\": 0, \"ticks\": \"\"}}, \"marker\": {\"colorbar\": {\"outlinewidth\": 0, \"ticks\": \"\"}}, \"type\": \"scatter3d\"}], \"scattercarpet\": [{\"marker\": {\"colorbar\": {\"outlinewidth\": 0, \"ticks\": \"\"}}, \"type\": \"scattercarpet\"}], \"scattergeo\": [{\"marker\": {\"colorbar\": {\"outlinewidth\": 0, \"ticks\": \"\"}}, \"type\": \"scattergeo\"}], \"scattergl\": [{\"marker\": {\"colorbar\": {\"outlinewidth\": 0, \"ticks\": \"\"}}, \"type\": \"scattergl\"}], \"scattermapbox\": [{\"marker\": {\"colorbar\": {\"outlinewidth\": 0, \"ticks\": \"\"}}, \"type\": \"scattermapbox\"}], \"scatterpolar\": [{\"marker\": {\"colorbar\": {\"outlinewidth\": 0, \"ticks\": \"\"}}, \"type\": \"scatterpolar\"}], \"scatterpolargl\": [{\"marker\": {\"colorbar\": {\"outlinewidth\": 0, \"ticks\": \"\"}}, \"type\": \"scatterpolargl\"}], \"scatterternary\": [{\"marker\": {\"colorbar\": {\"outlinewidth\": 0, \"ticks\": \"\"}}, \"type\": \"scatterternary\"}], \"surface\": [{\"colorbar\": {\"outlinewidth\": 0, \"ticks\": \"\"}, \"colorscale\": [[0.0, \"#0d0887\"], [0.1111111111111111, \"#46039f\"], [0.2222222222222222, \"#7201a8\"], [0.3333333333333333, \"#9c179e\"], [0.4444444444444444, \"#bd3786\"], [0.5555555555555556, \"#d8576b\"], [0.6666666666666666, \"#ed7953\"], [0.7777777777777778, \"#fb9f3a\"], [0.8888888888888888, \"#fdca26\"], [1.0, \"#f0f921\"]], \"type\": \"surface\"}], \"table\": [{\"cells\": {\"fill\": {\"color\": \"#EBF0F8\"}, \"line\": {\"color\": \"white\"}}, \"header\": {\"fill\": {\"color\": \"#C8D4E3\"}, \"line\": {\"color\": \"white\"}}, \"type\": \"table\"}]}, \"layout\": {\"annotationdefaults\": {\"arrowcolor\": \"#2a3f5f\", \"arrowhead\": 0, \"arrowwidth\": 1}, \"coloraxis\": {\"colorbar\": {\"outlinewidth\": 0, \"ticks\": \"\"}}, \"colorscale\": {\"diverging\": [[0, \"#8e0152\"], [0.1, \"#c51b7d\"], [0.2, \"#de77ae\"], [0.3, \"#f1b6da\"], [0.4, \"#fde0ef\"], [0.5, \"#f7f7f7\"], [0.6, \"#e6f5d0\"], [0.7, \"#b8e186\"], [0.8, \"#7fbc41\"], [0.9, \"#4d9221\"], [1, \"#276419\"]], \"sequential\": [[0.0, \"#0d0887\"], [0.1111111111111111, \"#46039f\"], [0.2222222222222222, \"#7201a8\"], [0.3333333333333333, \"#9c179e\"], [0.4444444444444444, \"#bd3786\"], [0.5555555555555556, \"#d8576b\"], [0.6666666666666666, \"#ed7953\"], [0.7777777777777778, \"#fb9f3a\"], [0.8888888888888888, \"#fdca26\"], [1.0, \"#f0f921\"]], \"sequentialminus\": [[0.0, \"#0d0887\"], [0.1111111111111111, \"#46039f\"], [0.2222222222222222, \"#7201a8\"], [0.3333333333333333, \"#9c179e\"], [0.4444444444444444, \"#bd3786\"], [0.5555555555555556, \"#d8576b\"], [0.6666666666666666, \"#ed7953\"], [0.7777777777777778, \"#fb9f3a\"], [0.8888888888888888, \"#fdca26\"], [1.0, \"#f0f921\"]]}, \"colorway\": [\"#636efa\", \"#EF553B\", \"#00cc96\", \"#ab63fa\", \"#FFA15A\", \"#19d3f3\", \"#FF6692\", \"#B6E880\", \"#FF97FF\", \"#FECB52\"], \"font\": {\"color\": \"#2a3f5f\"}, \"geo\": {\"bgcolor\": \"white\", \"lakecolor\": \"white\", \"landcolor\": \"#E5ECF6\", \"showlakes\": true, \"showland\": true, \"subunitcolor\": \"white\"}, \"hoverlabel\": {\"align\": \"left\"}, \"hovermode\": \"closest\", \"mapbox\": {\"style\": \"light\"}, \"paper_bgcolor\": \"white\", \"plot_bgcolor\": \"#E5ECF6\", \"polar\": {\"angularaxis\": {\"gridcolor\": \"white\", \"linecolor\": \"white\", \"ticks\": \"\"}, \"bgcolor\": \"#E5ECF6\", \"radialaxis\": {\"gridcolor\": \"white\", \"linecolor\": \"white\", \"ticks\": \"\"}}, \"scene\": {\"xaxis\": {\"backgroundcolor\": \"#E5ECF6\", \"gridcolor\": \"white\", \"gridwidth\": 2, \"linecolor\": \"white\", \"showbackground\": true, \"ticks\": \"\", \"zerolinecolor\": \"white\"}, \"yaxis\": {\"backgroundcolor\": \"#E5ECF6\", \"gridcolor\": \"white\", \"gridwidth\": 2, \"linecolor\": \"white\", \"showbackground\": true, \"ticks\": \"\", \"zerolinecolor\": \"white\"}, \"zaxis\": {\"backgroundcolor\": \"#E5ECF6\", \"gridcolor\": \"white\", \"gridwidth\": 2, \"linecolor\": \"white\", \"showbackground\": true, \"ticks\": \"\", \"zerolinecolor\": \"white\"}}, \"shapedefaults\": {\"line\": {\"color\": \"#2a3f5f\"}}, \"ternary\": {\"aaxis\": {\"gridcolor\": \"white\", \"linecolor\": \"white\", \"ticks\": \"\"}, \"baxis\": {\"gridcolor\": \"white\", \"linecolor\": \"white\", \"ticks\": \"\"}, \"bgcolor\": \"#E5ECF6\", \"caxis\": {\"gridcolor\": \"white\", \"linecolor\": \"white\", \"ticks\": \"\"}}, \"title\": {\"x\": 0.05}, \"xaxis\": {\"automargin\": true, \"gridcolor\": \"white\", \"linecolor\": \"white\", \"ticks\": \"\", \"title\": {\"standoff\": 15}, \"zerolinecolor\": \"white\", \"zerolinewidth\": 2}, \"yaxis\": {\"automargin\": true, \"gridcolor\": \"white\", \"linecolor\": \"white\", \"ticks\": \"\", \"title\": {\"standoff\": 15}, \"zerolinecolor\": \"white\", \"zerolinewidth\": 2}}}, \"title\": {\"font\": {\"color\": \"#4D5663\"}, \"x\": 0.5}, \"xaxis\": {\"gridcolor\": \"#E1E5ED\", \"showgrid\": true, \"tickfont\": {\"color\": \"#4D5663\"}, \"title\": {\"font\": {\"color\": \"#4D5663\"}, \"text\": \"\"}, \"zerolinecolor\": \"#E1E5ED\"}, \"yaxis\": {\"gridcolor\": \"#E1E5ED\", \"showgrid\": true, \"tickfont\": {\"color\": \"#4D5663\"}, \"title\": {\"font\": {\"color\": \"#4D5663\"}, \"text\": \"\"}, \"zerolinecolor\": \"#E1E5ED\"}},\n                        {\"showLink\": true, \"linkText\": \"Export to plot.ly\", \"plotlyServerURL\": \"https://plot.ly\", \"responsive\": true}\n                    ).then(function(){\n                            \nvar gd = document.getElementById('65adb4dd-6bf1-42a6-8774-021a09ac0486');\nvar x = new MutationObserver(function (mutations, observer) {{\n        var display = window.getComputedStyle(gd).display;\n        if (!display || display === 'none') {{\n            console.log([gd, 'removed!']);\n            Plotly.purge(gd);\n            observer.disconnect();\n        }}\n}});\n\n// Listen for the removal of the full notebook cells\nvar notebookContainer = gd.closest('#notebook-container');\nif (notebookContainer) {{\n    x.observe(notebookContainer, {childList: true});\n}}\n\n// Listen for the clearing of the current output cell\nvar outputEl = gd.closest('.output');\nif (outputEl) {{\n    x.observe(outputEl, {childList: true});\n}}\n\n                        })\n                };\n                });\n            </script>\n        </div>"
     },
     "metadata": {}
    }
   ],
   "source": [
    "df.iplot(data=data,filename='Tutorial Custom Name')"
   ]
  },
  {
   "cell_type": "code",
   "execution_count": null,
   "metadata": {
    "collapsed": true
   },
   "outputs": [],
   "source": []
  }
 ],
 "metadata": {
  "kernelspec": {
   "display_name": "zipline",
   "language": "python",
   "name": "zipline"
  },
  "language_info": {
   "codemirror_mode": {
    "name": "ipython",
    "version": 3
   },
   "file_extension": ".py",
   "mimetype": "text/x-python",
   "name": "python",
   "nbconvert_exporter": "python",
   "pygments_lexer": "ipython3",
   "version": "3.7.7-final"
  }
 },
 "nbformat": 4,
 "nbformat_minor": 2
}